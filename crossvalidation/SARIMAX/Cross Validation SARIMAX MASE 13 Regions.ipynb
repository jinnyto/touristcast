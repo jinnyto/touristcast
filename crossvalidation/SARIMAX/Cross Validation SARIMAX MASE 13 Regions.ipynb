{
 "cells": [
  {
   "cell_type": "code",
   "execution_count": 3,
   "metadata": {},
   "outputs": [
    {
     "name": "stdout",
     "output_type": "stream",
     "text": [
      "0.8.1\n",
      "None\n"
     ]
    }
   ],
   "source": [
    "import pandas as pd\n",
    "import numpy as np\n",
    "import datetime \n",
    "import matplotlib.pyplot as plt\n",
    "%matplotlib inline\n",
    "from statsmodels.tsa.seasonal import seasonal_decompose\n",
    "from sklearn.metrics import mean_absolute_error\n",
    "from sklearn.metrics import mean_squared_error\n",
    "from math import sqrt\n",
    "import pyramid as pm\n",
    "from sklearn.externals import joblib\n",
    "from collections import defaultdict\n",
    "print(print(pm.__version__))\n",
    "def seasonal_MASE(last_season, this_season, forecast):\n",
    "    '''\n",
    "    Parameters\n",
    "    ----------\n",
    "    last_season: array containing data for last season (size S)\n",
    "    \n",
    "    current_truth: array containing data for current season (size S)\n",
    "    \n",
    "    forecast: array containing data predictiing current season (size S)\n",
    "    '''\n",
    "    forecast_errors = np.abs(this_season - forecast)\n",
    "    #print(forecast_errors)\n",
    "    mean_absolute_forecast_error = np.average(forecast_errors)\n",
    "    #print('forecast MAE', mean_absolute_forecast_error)\n",
    "    \n",
    "    naive = last_season\n",
    "    naive.index = this_season.index\n",
    "    naive_errors = np.abs(this_season - naive)\n",
    "    #print(naive_errors)\n",
    "    mean_absolute_naive_error = np.average(naive_errors)\n",
    "    #print('naive MAE', mean_absolute_naive_error)\n",
    "    \n",
    "    return mean_absolute_forecast_error / mean_absolute_naive_error"
   ]
  },
  {
   "cell_type": "code",
   "execution_count": 4,
   "metadata": {},
   "outputs": [],
   "source": [
    "ll = pd.read_csv('../datasets/tc.csv')\n",
    "dn = pd.read_csv('../datasets/nights_2010-2017.csv',parse_dates=['date'], index_col='date',usecols=[*range(1, 15)])\n",
    "dm = pd.read_csv('../datasets/avgtemp_2010-2017.csv',parse_dates=['date'],index_col='date',usecols=[*range(1, 15)])\n",
    "dh = pd.read_csv('../datasets/daysoff_2010-2017.csv',parse_dates=['date'],index_col='date',usecols=['date','daysoff'])\n",
    "dg = pd.read_csv('../datasets/regionalGDP_2010-2015.csv',parse_dates=['date'],index_col='date',usecols=[*range(1, 15)])\n",
    "ll = pd.read_csv('../datasets/tc.csv')\n",
    "dr = pd.concat([dn,dm,dh,dg], axis=1)\n",
    "regions = ll.Region\n",
    "train_data_2010_2015 = dr.dropna()"
   ]
  },
  {
   "cell_type": "code",
   "execution_count": 5,
   "metadata": {},
   "outputs": [
    {
     "name": "stdout",
     "output_type": "stream",
     "text": [
      "Cross Validation SARIMAX Region: ARA Prediction year: 2016\n",
      "Cross Validation SARIMAX Region: BFC Prediction year: 2016\n",
      "Cross Validation SARIMAX Region: BRE Prediction year: 2016\n",
      "Cross Validation SARIMAX Region: CVL Prediction year: 2016\n",
      "Cross Validation SARIMAX Region: COR Prediction year: 2016\n",
      "Cross Validation SARIMAX Region: IDF Prediction year: 2016\n",
      "Cross Validation SARIMAX Region: NAQ Prediction year: 2016\n",
      "Cross Validation SARIMAX Region: NOR Prediction year: 2016\n",
      "Cross Validation SARIMAX Region: GES Prediction year: 2016\n",
      "Cross Validation SARIMAX Region: HDF Prediction year: 2016\n",
      "Cross Validation SARIMAX Region: OCC Prediction year: 2016\n",
      "Cross Validation SARIMAX Region: PAC Prediction year: 2016\n",
      "Cross Validation SARIMAX Region: PDL Prediction year: 2016\n"
     ]
    }
   ],
   "source": [
    "predict_year=2016\n",
    "train_start='2010-01-01'\n",
    "for region in regions:\n",
    "    print(\"Cross Validation SARIMAX Region:\",region,\"Prediction year:\",predict_year)\n",
    "    train_end = str(predict_year-1)+'-12-01'\n",
    "    predict_start = str(predict_year)+'-01-01'\n",
    "    predict_end = str(predict_year)+'-12-01'\n",
    "    dfr = dr.loc[train_start:predict_end,dr.columns.str.contains(\"\"+region+\"|daysoff\")]\n",
    "    df_train = dfr.loc[train_start:train_end,dfr.columns.str.startswith('nights')]\n",
    "    df_test = dfr.loc[predict_start:predict_end ,dfr.columns.str.startswith('nights')]\n",
    "    df_train_exogenous = dfr.loc[train_start:train_end,~dfr.columns.str.startswith('nights')]\n",
    "    df_test_exogenous =  dfr.loc[predict_start:predict_end,~dfr.columns.str.startswith('nights')]\n",
    "    train = np.array(df_train)\n",
    "    train_exogenous= np.array(df_train_exogenous)\n",
    "    test = np.array(df_test)\n",
    "    test_exogenous=np.array(df_test_exogenous)\n",
    "    model = pm.auto_arima(y=train,exogenous=train_exogenous,start_p=1, start_q=1, max_p=3, max_q=3, m=12,\n",
    "                     start_P=1, seasonal=True, d=1, D=1, trace=False,\n",
    "                     error_action='ignore',  # don't want to know if an order does not work\n",
    "                     suppress_warnings=True,  # don't want convergence warnings\n",
    "                     stepwise=True)\n",
    "    joblib_file = region+\".pkl\"  \n",
    "    joblib.dump(model, joblib_file)"
   ]
  },
  {
   "cell_type": "code",
   "execution_count": 6,
   "metadata": {},
   "outputs": [
    {
     "name": "stderr",
     "output_type": "stream",
     "text": [
      "/home/aa/anaconda3/lib/python3.6/site-packages/scipy/signal/signaltools.py:1341: FutureWarning: Using a non-tuple sequence for multidimensional indexing is deprecated; use `arr[tuple(seq)]` instead of `arr[seq]`. In the future this will be interpreted as an array index, `arr[np.array(seq)]`, which will result either in an error or a different result.\n",
      "  out_full[ind] += zi\n",
      "/home/aa/anaconda3/lib/python3.6/site-packages/scipy/signal/signaltools.py:1344: FutureWarning: Using a non-tuple sequence for multidimensional indexing is deprecated; use `arr[tuple(seq)]` instead of `arr[seq]`. In the future this will be interpreted as an array index, `arr[np.array(seq)]`, which will result either in an error or a different result.\n",
      "  out = out_full[ind]\n",
      "/home/aa/anaconda3/lib/python3.6/site-packages/scipy/signal/signaltools.py:1350: FutureWarning: Using a non-tuple sequence for multidimensional indexing is deprecated; use `arr[tuple(seq)]` instead of `arr[seq]`. In the future this will be interpreted as an array index, `arr[np.array(seq)]`, which will result either in an error or a different result.\n",
      "  zf = out_full[ind]\n",
      "/home/aa/anaconda3/lib/python3.6/site-packages/scipy/signal/signaltools.py:1341: FutureWarning: Using a non-tuple sequence for multidimensional indexing is deprecated; use `arr[tuple(seq)]` instead of `arr[seq]`. In the future this will be interpreted as an array index, `arr[np.array(seq)]`, which will result either in an error or a different result.\n",
      "  out_full[ind] += zi\n",
      "/home/aa/anaconda3/lib/python3.6/site-packages/scipy/signal/signaltools.py:1344: FutureWarning: Using a non-tuple sequence for multidimensional indexing is deprecated; use `arr[tuple(seq)]` instead of `arr[seq]`. In the future this will be interpreted as an array index, `arr[np.array(seq)]`, which will result either in an error or a different result.\n",
      "  out = out_full[ind]\n",
      "/home/aa/anaconda3/lib/python3.6/site-packages/scipy/signal/signaltools.py:1350: FutureWarning: Using a non-tuple sequence for multidimensional indexing is deprecated; use `arr[tuple(seq)]` instead of `arr[seq]`. In the future this will be interpreted as an array index, `arr[np.array(seq)]`, which will result either in an error or a different result.\n",
      "  zf = out_full[ind]\n",
      "/home/aa/anaconda3/lib/python3.6/site-packages/scipy/signal/signaltools.py:1341: FutureWarning: Using a non-tuple sequence for multidimensional indexing is deprecated; use `arr[tuple(seq)]` instead of `arr[seq]`. In the future this will be interpreted as an array index, `arr[np.array(seq)]`, which will result either in an error or a different result.\n",
      "  out_full[ind] += zi\n",
      "/home/aa/anaconda3/lib/python3.6/site-packages/scipy/signal/signaltools.py:1344: FutureWarning: Using a non-tuple sequence for multidimensional indexing is deprecated; use `arr[tuple(seq)]` instead of `arr[seq]`. In the future this will be interpreted as an array index, `arr[np.array(seq)]`, which will result either in an error or a different result.\n",
      "  out = out_full[ind]\n",
      "/home/aa/anaconda3/lib/python3.6/site-packages/scipy/signal/signaltools.py:1350: FutureWarning: Using a non-tuple sequence for multidimensional indexing is deprecated; use `arr[tuple(seq)]` instead of `arr[seq]`. In the future this will be interpreted as an array index, `arr[np.array(seq)]`, which will result either in an error or a different result.\n",
      "  zf = out_full[ind]\n",
      "/home/aa/anaconda3/lib/python3.6/site-packages/scipy/signal/signaltools.py:1341: FutureWarning: Using a non-tuple sequence for multidimensional indexing is deprecated; use `arr[tuple(seq)]` instead of `arr[seq]`. In the future this will be interpreted as an array index, `arr[np.array(seq)]`, which will result either in an error or a different result.\n",
      "  out_full[ind] += zi\n",
      "/home/aa/anaconda3/lib/python3.6/site-packages/scipy/signal/signaltools.py:1344: FutureWarning: Using a non-tuple sequence for multidimensional indexing is deprecated; use `arr[tuple(seq)]` instead of `arr[seq]`. In the future this will be interpreted as an array index, `arr[np.array(seq)]`, which will result either in an error or a different result.\n",
      "  out = out_full[ind]\n",
      "/home/aa/anaconda3/lib/python3.6/site-packages/scipy/signal/signaltools.py:1350: FutureWarning: Using a non-tuple sequence for multidimensional indexing is deprecated; use `arr[tuple(seq)]` instead of `arr[seq]`. In the future this will be interpreted as an array index, `arr[np.array(seq)]`, which will result either in an error or a different result.\n",
      "  zf = out_full[ind]\n",
      "/home/aa/anaconda3/lib/python3.6/site-packages/scipy/signal/signaltools.py:1341: FutureWarning: Using a non-tuple sequence for multidimensional indexing is deprecated; use `arr[tuple(seq)]` instead of `arr[seq]`. In the future this will be interpreted as an array index, `arr[np.array(seq)]`, which will result either in an error or a different result.\n",
      "  out_full[ind] += zi\n",
      "/home/aa/anaconda3/lib/python3.6/site-packages/scipy/signal/signaltools.py:1344: FutureWarning: Using a non-tuple sequence for multidimensional indexing is deprecated; use `arr[tuple(seq)]` instead of `arr[seq]`. In the future this will be interpreted as an array index, `arr[np.array(seq)]`, which will result either in an error or a different result.\n",
      "  out = out_full[ind]\n",
      "/home/aa/anaconda3/lib/python3.6/site-packages/scipy/signal/signaltools.py:1350: FutureWarning: Using a non-tuple sequence for multidimensional indexing is deprecated; use `arr[tuple(seq)]` instead of `arr[seq]`. In the future this will be interpreted as an array index, `arr[np.array(seq)]`, which will result either in an error or a different result.\n",
      "  zf = out_full[ind]\n",
      "/home/aa/anaconda3/lib/python3.6/site-packages/scipy/signal/signaltools.py:1341: FutureWarning: Using a non-tuple sequence for multidimensional indexing is deprecated; use `arr[tuple(seq)]` instead of `arr[seq]`. In the future this will be interpreted as an array index, `arr[np.array(seq)]`, which will result either in an error or a different result.\n",
      "  out_full[ind] += zi\n",
      "/home/aa/anaconda3/lib/python3.6/site-packages/scipy/signal/signaltools.py:1344: FutureWarning: Using a non-tuple sequence for multidimensional indexing is deprecated; use `arr[tuple(seq)]` instead of `arr[seq]`. In the future this will be interpreted as an array index, `arr[np.array(seq)]`, which will result either in an error or a different result.\n",
      "  out = out_full[ind]\n",
      "/home/aa/anaconda3/lib/python3.6/site-packages/scipy/signal/signaltools.py:1350: FutureWarning: Using a non-tuple sequence for multidimensional indexing is deprecated; use `arr[tuple(seq)]` instead of `arr[seq]`. In the future this will be interpreted as an array index, `arr[np.array(seq)]`, which will result either in an error or a different result.\n",
      "  zf = out_full[ind]\n",
      "/home/aa/anaconda3/lib/python3.6/site-packages/scipy/signal/signaltools.py:1341: FutureWarning: Using a non-tuple sequence for multidimensional indexing is deprecated; use `arr[tuple(seq)]` instead of `arr[seq]`. In the future this will be interpreted as an array index, `arr[np.array(seq)]`, which will result either in an error or a different result.\n",
      "  out_full[ind] += zi\n",
      "/home/aa/anaconda3/lib/python3.6/site-packages/scipy/signal/signaltools.py:1344: FutureWarning: Using a non-tuple sequence for multidimensional indexing is deprecated; use `arr[tuple(seq)]` instead of `arr[seq]`. In the future this will be interpreted as an array index, `arr[np.array(seq)]`, which will result either in an error or a different result.\n",
      "  out = out_full[ind]\n",
      "/home/aa/anaconda3/lib/python3.6/site-packages/scipy/signal/signaltools.py:1350: FutureWarning: Using a non-tuple sequence for multidimensional indexing is deprecated; use `arr[tuple(seq)]` instead of `arr[seq]`. In the future this will be interpreted as an array index, `arr[np.array(seq)]`, which will result either in an error or a different result.\n",
      "  zf = out_full[ind]\n",
      "/home/aa/anaconda3/lib/python3.6/site-packages/scipy/signal/signaltools.py:1341: FutureWarning: Using a non-tuple sequence for multidimensional indexing is deprecated; use `arr[tuple(seq)]` instead of `arr[seq]`. In the future this will be interpreted as an array index, `arr[np.array(seq)]`, which will result either in an error or a different result.\n",
      "  out_full[ind] += zi\n",
      "/home/aa/anaconda3/lib/python3.6/site-packages/scipy/signal/signaltools.py:1344: FutureWarning: Using a non-tuple sequence for multidimensional indexing is deprecated; use `arr[tuple(seq)]` instead of `arr[seq]`. In the future this will be interpreted as an array index, `arr[np.array(seq)]`, which will result either in an error or a different result.\n",
      "  out = out_full[ind]\n",
      "/home/aa/anaconda3/lib/python3.6/site-packages/scipy/signal/signaltools.py:1350: FutureWarning: Using a non-tuple sequence for multidimensional indexing is deprecated; use `arr[tuple(seq)]` instead of `arr[seq]`. In the future this will be interpreted as an array index, `arr[np.array(seq)]`, which will result either in an error or a different result.\n",
      "  zf = out_full[ind]\n",
      "/home/aa/anaconda3/lib/python3.6/site-packages/scipy/signal/signaltools.py:1341: FutureWarning: Using a non-tuple sequence for multidimensional indexing is deprecated; use `arr[tuple(seq)]` instead of `arr[seq]`. In the future this will be interpreted as an array index, `arr[np.array(seq)]`, which will result either in an error or a different result.\n",
      "  out_full[ind] += zi\n",
      "/home/aa/anaconda3/lib/python3.6/site-packages/scipy/signal/signaltools.py:1344: FutureWarning: Using a non-tuple sequence for multidimensional indexing is deprecated; use `arr[tuple(seq)]` instead of `arr[seq]`. In the future this will be interpreted as an array index, `arr[np.array(seq)]`, which will result either in an error or a different result.\n",
      "  out = out_full[ind]\n",
      "/home/aa/anaconda3/lib/python3.6/site-packages/scipy/signal/signaltools.py:1350: FutureWarning: Using a non-tuple sequence for multidimensional indexing is deprecated; use `arr[tuple(seq)]` instead of `arr[seq]`. In the future this will be interpreted as an array index, `arr[np.array(seq)]`, which will result either in an error or a different result.\n",
      "  zf = out_full[ind]\n",
      "/home/aa/anaconda3/lib/python3.6/site-packages/scipy/signal/signaltools.py:1341: FutureWarning: Using a non-tuple sequence for multidimensional indexing is deprecated; use `arr[tuple(seq)]` instead of `arr[seq]`. In the future this will be interpreted as an array index, `arr[np.array(seq)]`, which will result either in an error or a different result.\n",
      "  out_full[ind] += zi\n",
      "/home/aa/anaconda3/lib/python3.6/site-packages/scipy/signal/signaltools.py:1344: FutureWarning: Using a non-tuple sequence for multidimensional indexing is deprecated; use `arr[tuple(seq)]` instead of `arr[seq]`. In the future this will be interpreted as an array index, `arr[np.array(seq)]`, which will result either in an error or a different result.\n",
      "  out = out_full[ind]\n",
      "/home/aa/anaconda3/lib/python3.6/site-packages/scipy/signal/signaltools.py:1350: FutureWarning: Using a non-tuple sequence for multidimensional indexing is deprecated; use `arr[tuple(seq)]` instead of `arr[seq]`. In the future this will be interpreted as an array index, `arr[np.array(seq)]`, which will result either in an error or a different result.\n",
      "  zf = out_full[ind]\n"
     ]
    },
    {
     "name": "stderr",
     "output_type": "stream",
     "text": [
      "/home/aa/anaconda3/lib/python3.6/site-packages/scipy/signal/signaltools.py:1341: FutureWarning: Using a non-tuple sequence for multidimensional indexing is deprecated; use `arr[tuple(seq)]` instead of `arr[seq]`. In the future this will be interpreted as an array index, `arr[np.array(seq)]`, which will result either in an error or a different result.\n",
      "  out_full[ind] += zi\n",
      "/home/aa/anaconda3/lib/python3.6/site-packages/scipy/signal/signaltools.py:1344: FutureWarning: Using a non-tuple sequence for multidimensional indexing is deprecated; use `arr[tuple(seq)]` instead of `arr[seq]`. In the future this will be interpreted as an array index, `arr[np.array(seq)]`, which will result either in an error or a different result.\n",
      "  out = out_full[ind]\n",
      "/home/aa/anaconda3/lib/python3.6/site-packages/scipy/signal/signaltools.py:1350: FutureWarning: Using a non-tuple sequence for multidimensional indexing is deprecated; use `arr[tuple(seq)]` instead of `arr[seq]`. In the future this will be interpreted as an array index, `arr[np.array(seq)]`, which will result either in an error or a different result.\n",
      "  zf = out_full[ind]\n",
      "/home/aa/anaconda3/lib/python3.6/site-packages/scipy/signal/signaltools.py:1341: FutureWarning: Using a non-tuple sequence for multidimensional indexing is deprecated; use `arr[tuple(seq)]` instead of `arr[seq]`. In the future this will be interpreted as an array index, `arr[np.array(seq)]`, which will result either in an error or a different result.\n",
      "  out_full[ind] += zi\n",
      "/home/aa/anaconda3/lib/python3.6/site-packages/scipy/signal/signaltools.py:1344: FutureWarning: Using a non-tuple sequence for multidimensional indexing is deprecated; use `arr[tuple(seq)]` instead of `arr[seq]`. In the future this will be interpreted as an array index, `arr[np.array(seq)]`, which will result either in an error or a different result.\n",
      "  out = out_full[ind]\n",
      "/home/aa/anaconda3/lib/python3.6/site-packages/scipy/signal/signaltools.py:1350: FutureWarning: Using a non-tuple sequence for multidimensional indexing is deprecated; use `arr[tuple(seq)]` instead of `arr[seq]`. In the future this will be interpreted as an array index, `arr[np.array(seq)]`, which will result either in an error or a different result.\n",
      "  zf = out_full[ind]\n",
      "/home/aa/anaconda3/lib/python3.6/site-packages/scipy/signal/signaltools.py:1341: FutureWarning: Using a non-tuple sequence for multidimensional indexing is deprecated; use `arr[tuple(seq)]` instead of `arr[seq]`. In the future this will be interpreted as an array index, `arr[np.array(seq)]`, which will result either in an error or a different result.\n",
      "  out_full[ind] += zi\n",
      "/home/aa/anaconda3/lib/python3.6/site-packages/scipy/signal/signaltools.py:1344: FutureWarning: Using a non-tuple sequence for multidimensional indexing is deprecated; use `arr[tuple(seq)]` instead of `arr[seq]`. In the future this will be interpreted as an array index, `arr[np.array(seq)]`, which will result either in an error or a different result.\n",
      "  out = out_full[ind]\n",
      "/home/aa/anaconda3/lib/python3.6/site-packages/scipy/signal/signaltools.py:1350: FutureWarning: Using a non-tuple sequence for multidimensional indexing is deprecated; use `arr[tuple(seq)]` instead of `arr[seq]`. In the future this will be interpreted as an array index, `arr[np.array(seq)]`, which will result either in an error or a different result.\n",
      "  zf = out_full[ind]\n",
      "/home/aa/anaconda3/lib/python3.6/site-packages/scipy/signal/signaltools.py:1341: FutureWarning: Using a non-tuple sequence for multidimensional indexing is deprecated; use `arr[tuple(seq)]` instead of `arr[seq]`. In the future this will be interpreted as an array index, `arr[np.array(seq)]`, which will result either in an error or a different result.\n",
      "  out_full[ind] += zi\n",
      "/home/aa/anaconda3/lib/python3.6/site-packages/scipy/signal/signaltools.py:1344: FutureWarning: Using a non-tuple sequence for multidimensional indexing is deprecated; use `arr[tuple(seq)]` instead of `arr[seq]`. In the future this will be interpreted as an array index, `arr[np.array(seq)]`, which will result either in an error or a different result.\n",
      "  out = out_full[ind]\n",
      "/home/aa/anaconda3/lib/python3.6/site-packages/scipy/signal/signaltools.py:1350: FutureWarning: Using a non-tuple sequence for multidimensional indexing is deprecated; use `arr[tuple(seq)]` instead of `arr[seq]`. In the future this will be interpreted as an array index, `arr[np.array(seq)]`, which will result either in an error or a different result.\n",
      "  zf = out_full[ind]\n",
      "/home/aa/anaconda3/lib/python3.6/site-packages/scipy/signal/signaltools.py:1341: FutureWarning: Using a non-tuple sequence for multidimensional indexing is deprecated; use `arr[tuple(seq)]` instead of `arr[seq]`. In the future this will be interpreted as an array index, `arr[np.array(seq)]`, which will result either in an error or a different result.\n",
      "  out_full[ind] += zi\n",
      "/home/aa/anaconda3/lib/python3.6/site-packages/scipy/signal/signaltools.py:1344: FutureWarning: Using a non-tuple sequence for multidimensional indexing is deprecated; use `arr[tuple(seq)]` instead of `arr[seq]`. In the future this will be interpreted as an array index, `arr[np.array(seq)]`, which will result either in an error or a different result.\n",
      "  out = out_full[ind]\n",
      "/home/aa/anaconda3/lib/python3.6/site-packages/scipy/signal/signaltools.py:1350: FutureWarning: Using a non-tuple sequence for multidimensional indexing is deprecated; use `arr[tuple(seq)]` instead of `arr[seq]`. In the future this will be interpreted as an array index, `arr[np.array(seq)]`, which will result either in an error or a different result.\n",
      "  zf = out_full[ind]\n",
      "/home/aa/anaconda3/lib/python3.6/site-packages/scipy/signal/signaltools.py:1341: FutureWarning: Using a non-tuple sequence for multidimensional indexing is deprecated; use `arr[tuple(seq)]` instead of `arr[seq]`. In the future this will be interpreted as an array index, `arr[np.array(seq)]`, which will result either in an error or a different result.\n",
      "  out_full[ind] += zi\n",
      "/home/aa/anaconda3/lib/python3.6/site-packages/scipy/signal/signaltools.py:1344: FutureWarning: Using a non-tuple sequence for multidimensional indexing is deprecated; use `arr[tuple(seq)]` instead of `arr[seq]`. In the future this will be interpreted as an array index, `arr[np.array(seq)]`, which will result either in an error or a different result.\n",
      "  out = out_full[ind]\n",
      "/home/aa/anaconda3/lib/python3.6/site-packages/scipy/signal/signaltools.py:1350: FutureWarning: Using a non-tuple sequence for multidimensional indexing is deprecated; use `arr[tuple(seq)]` instead of `arr[seq]`. In the future this will be interpreted as an array index, `arr[np.array(seq)]`, which will result either in an error or a different result.\n",
      "  zf = out_full[ind]\n",
      "/home/aa/anaconda3/lib/python3.6/site-packages/scipy/signal/signaltools.py:1341: FutureWarning: Using a non-tuple sequence for multidimensional indexing is deprecated; use `arr[tuple(seq)]` instead of `arr[seq]`. In the future this will be interpreted as an array index, `arr[np.array(seq)]`, which will result either in an error or a different result.\n",
      "  out_full[ind] += zi\n",
      "/home/aa/anaconda3/lib/python3.6/site-packages/scipy/signal/signaltools.py:1344: FutureWarning: Using a non-tuple sequence for multidimensional indexing is deprecated; use `arr[tuple(seq)]` instead of `arr[seq]`. In the future this will be interpreted as an array index, `arr[np.array(seq)]`, which will result either in an error or a different result.\n",
      "  out = out_full[ind]\n",
      "/home/aa/anaconda3/lib/python3.6/site-packages/scipy/signal/signaltools.py:1350: FutureWarning: Using a non-tuple sequence for multidimensional indexing is deprecated; use `arr[tuple(seq)]` instead of `arr[seq]`. In the future this will be interpreted as an array index, `arr[np.array(seq)]`, which will result either in an error or a different result.\n",
      "  zf = out_full[ind]\n",
      "/home/aa/anaconda3/lib/python3.6/site-packages/scipy/signal/signaltools.py:1341: FutureWarning: Using a non-tuple sequence for multidimensional indexing is deprecated; use `arr[tuple(seq)]` instead of `arr[seq]`. In the future this will be interpreted as an array index, `arr[np.array(seq)]`, which will result either in an error or a different result.\n",
      "  out_full[ind] += zi\n",
      "/home/aa/anaconda3/lib/python3.6/site-packages/scipy/signal/signaltools.py:1344: FutureWarning: Using a non-tuple sequence for multidimensional indexing is deprecated; use `arr[tuple(seq)]` instead of `arr[seq]`. In the future this will be interpreted as an array index, `arr[np.array(seq)]`, which will result either in an error or a different result.\n",
      "  out = out_full[ind]\n",
      "/home/aa/anaconda3/lib/python3.6/site-packages/scipy/signal/signaltools.py:1350: FutureWarning: Using a non-tuple sequence for multidimensional indexing is deprecated; use `arr[tuple(seq)]` instead of `arr[seq]`. In the future this will be interpreted as an array index, `arr[np.array(seq)]`, which will result either in an error or a different result.\n",
      "  zf = out_full[ind]\n",
      "/home/aa/anaconda3/lib/python3.6/site-packages/scipy/signal/signaltools.py:1341: FutureWarning: Using a non-tuple sequence for multidimensional indexing is deprecated; use `arr[tuple(seq)]` instead of `arr[seq]`. In the future this will be interpreted as an array index, `arr[np.array(seq)]`, which will result either in an error or a different result.\n",
      "  out_full[ind] += zi\n",
      "/home/aa/anaconda3/lib/python3.6/site-packages/scipy/signal/signaltools.py:1344: FutureWarning: Using a non-tuple sequence for multidimensional indexing is deprecated; use `arr[tuple(seq)]` instead of `arr[seq]`. In the future this will be interpreted as an array index, `arr[np.array(seq)]`, which will result either in an error or a different result.\n",
      "  out = out_full[ind]\n",
      "/home/aa/anaconda3/lib/python3.6/site-packages/scipy/signal/signaltools.py:1350: FutureWarning: Using a non-tuple sequence for multidimensional indexing is deprecated; use `arr[tuple(seq)]` instead of `arr[seq]`. In the future this will be interpreted as an array index, `arr[np.array(seq)]`, which will result either in an error or a different result.\n",
      "  zf = out_full[ind]\n"
     ]
    },
    {
     "name": "stderr",
     "output_type": "stream",
     "text": [
      "/home/aa/anaconda3/lib/python3.6/site-packages/scipy/signal/signaltools.py:1341: FutureWarning: Using a non-tuple sequence for multidimensional indexing is deprecated; use `arr[tuple(seq)]` instead of `arr[seq]`. In the future this will be interpreted as an array index, `arr[np.array(seq)]`, which will result either in an error or a different result.\n",
      "  out_full[ind] += zi\n",
      "/home/aa/anaconda3/lib/python3.6/site-packages/scipy/signal/signaltools.py:1344: FutureWarning: Using a non-tuple sequence for multidimensional indexing is deprecated; use `arr[tuple(seq)]` instead of `arr[seq]`. In the future this will be interpreted as an array index, `arr[np.array(seq)]`, which will result either in an error or a different result.\n",
      "  out = out_full[ind]\n",
      "/home/aa/anaconda3/lib/python3.6/site-packages/scipy/signal/signaltools.py:1350: FutureWarning: Using a non-tuple sequence for multidimensional indexing is deprecated; use `arr[tuple(seq)]` instead of `arr[seq]`. In the future this will be interpreted as an array index, `arr[np.array(seq)]`, which will result either in an error or a different result.\n",
      "  zf = out_full[ind]\n",
      "/home/aa/anaconda3/lib/python3.6/site-packages/scipy/signal/signaltools.py:1341: FutureWarning: Using a non-tuple sequence for multidimensional indexing is deprecated; use `arr[tuple(seq)]` instead of `arr[seq]`. In the future this will be interpreted as an array index, `arr[np.array(seq)]`, which will result either in an error or a different result.\n",
      "  out_full[ind] += zi\n",
      "/home/aa/anaconda3/lib/python3.6/site-packages/scipy/signal/signaltools.py:1344: FutureWarning: Using a non-tuple sequence for multidimensional indexing is deprecated; use `arr[tuple(seq)]` instead of `arr[seq]`. In the future this will be interpreted as an array index, `arr[np.array(seq)]`, which will result either in an error or a different result.\n",
      "  out = out_full[ind]\n",
      "/home/aa/anaconda3/lib/python3.6/site-packages/scipy/signal/signaltools.py:1350: FutureWarning: Using a non-tuple sequence for multidimensional indexing is deprecated; use `arr[tuple(seq)]` instead of `arr[seq]`. In the future this will be interpreted as an array index, `arr[np.array(seq)]`, which will result either in an error or a different result.\n",
      "  zf = out_full[ind]\n",
      "/home/aa/anaconda3/lib/python3.6/site-packages/scipy/signal/signaltools.py:1341: FutureWarning: Using a non-tuple sequence for multidimensional indexing is deprecated; use `arr[tuple(seq)]` instead of `arr[seq]`. In the future this will be interpreted as an array index, `arr[np.array(seq)]`, which will result either in an error or a different result.\n",
      "  out_full[ind] += zi\n",
      "/home/aa/anaconda3/lib/python3.6/site-packages/scipy/signal/signaltools.py:1344: FutureWarning: Using a non-tuple sequence for multidimensional indexing is deprecated; use `arr[tuple(seq)]` instead of `arr[seq]`. In the future this will be interpreted as an array index, `arr[np.array(seq)]`, which will result either in an error or a different result.\n",
      "  out = out_full[ind]\n",
      "/home/aa/anaconda3/lib/python3.6/site-packages/scipy/signal/signaltools.py:1350: FutureWarning: Using a non-tuple sequence for multidimensional indexing is deprecated; use `arr[tuple(seq)]` instead of `arr[seq]`. In the future this will be interpreted as an array index, `arr[np.array(seq)]`, which will result either in an error or a different result.\n",
      "  zf = out_full[ind]\n",
      "/home/aa/anaconda3/lib/python3.6/site-packages/scipy/signal/signaltools.py:1341: FutureWarning: Using a non-tuple sequence for multidimensional indexing is deprecated; use `arr[tuple(seq)]` instead of `arr[seq]`. In the future this will be interpreted as an array index, `arr[np.array(seq)]`, which will result either in an error or a different result.\n",
      "  out_full[ind] += zi\n",
      "/home/aa/anaconda3/lib/python3.6/site-packages/scipy/signal/signaltools.py:1344: FutureWarning: Using a non-tuple sequence for multidimensional indexing is deprecated; use `arr[tuple(seq)]` instead of `arr[seq]`. In the future this will be interpreted as an array index, `arr[np.array(seq)]`, which will result either in an error or a different result.\n",
      "  out = out_full[ind]\n",
      "/home/aa/anaconda3/lib/python3.6/site-packages/scipy/signal/signaltools.py:1350: FutureWarning: Using a non-tuple sequence for multidimensional indexing is deprecated; use `arr[tuple(seq)]` instead of `arr[seq]`. In the future this will be interpreted as an array index, `arr[np.array(seq)]`, which will result either in an error or a different result.\n",
      "  zf = out_full[ind]\n",
      "/home/aa/anaconda3/lib/python3.6/site-packages/scipy/signal/signaltools.py:1341: FutureWarning: Using a non-tuple sequence for multidimensional indexing is deprecated; use `arr[tuple(seq)]` instead of `arr[seq]`. In the future this will be interpreted as an array index, `arr[np.array(seq)]`, which will result either in an error or a different result.\n",
      "  out_full[ind] += zi\n",
      "/home/aa/anaconda3/lib/python3.6/site-packages/scipy/signal/signaltools.py:1344: FutureWarning: Using a non-tuple sequence for multidimensional indexing is deprecated; use `arr[tuple(seq)]` instead of `arr[seq]`. In the future this will be interpreted as an array index, `arr[np.array(seq)]`, which will result either in an error or a different result.\n",
      "  out = out_full[ind]\n",
      "/home/aa/anaconda3/lib/python3.6/site-packages/scipy/signal/signaltools.py:1350: FutureWarning: Using a non-tuple sequence for multidimensional indexing is deprecated; use `arr[tuple(seq)]` instead of `arr[seq]`. In the future this will be interpreted as an array index, `arr[np.array(seq)]`, which will result either in an error or a different result.\n",
      "  zf = out_full[ind]\n",
      "/home/aa/anaconda3/lib/python3.6/site-packages/scipy/signal/signaltools.py:1341: FutureWarning: Using a non-tuple sequence for multidimensional indexing is deprecated; use `arr[tuple(seq)]` instead of `arr[seq]`. In the future this will be interpreted as an array index, `arr[np.array(seq)]`, which will result either in an error or a different result.\n",
      "  out_full[ind] += zi\n",
      "/home/aa/anaconda3/lib/python3.6/site-packages/scipy/signal/signaltools.py:1344: FutureWarning: Using a non-tuple sequence for multidimensional indexing is deprecated; use `arr[tuple(seq)]` instead of `arr[seq]`. In the future this will be interpreted as an array index, `arr[np.array(seq)]`, which will result either in an error or a different result.\n",
      "  out = out_full[ind]\n",
      "/home/aa/anaconda3/lib/python3.6/site-packages/scipy/signal/signaltools.py:1350: FutureWarning: Using a non-tuple sequence for multidimensional indexing is deprecated; use `arr[tuple(seq)]` instead of `arr[seq]`. In the future this will be interpreted as an array index, `arr[np.array(seq)]`, which will result either in an error or a different result.\n",
      "  zf = out_full[ind]\n",
      "/home/aa/anaconda3/lib/python3.6/site-packages/scipy/signal/signaltools.py:1341: FutureWarning: Using a non-tuple sequence for multidimensional indexing is deprecated; use `arr[tuple(seq)]` instead of `arr[seq]`. In the future this will be interpreted as an array index, `arr[np.array(seq)]`, which will result either in an error or a different result.\n",
      "  out_full[ind] += zi\n",
      "/home/aa/anaconda3/lib/python3.6/site-packages/scipy/signal/signaltools.py:1344: FutureWarning: Using a non-tuple sequence for multidimensional indexing is deprecated; use `arr[tuple(seq)]` instead of `arr[seq]`. In the future this will be interpreted as an array index, `arr[np.array(seq)]`, which will result either in an error or a different result.\n",
      "  out = out_full[ind]\n",
      "/home/aa/anaconda3/lib/python3.6/site-packages/scipy/signal/signaltools.py:1350: FutureWarning: Using a non-tuple sequence for multidimensional indexing is deprecated; use `arr[tuple(seq)]` instead of `arr[seq]`. In the future this will be interpreted as an array index, `arr[np.array(seq)]`, which will result either in an error or a different result.\n",
      "  zf = out_full[ind]\n"
     ]
    }
   ],
   "source": [
    "for region in regions:\n",
    "    mc_fit = pm.auto_arima(y=np.array(train_data_2010_2015['gdp_'+region]),start_p=0, start_q=0, max_p=3, max_q=3, m=12,\n",
    "                    start_P=1, seasonal=False, d=1, D=1, trace=False,\n",
    "                    error_action='ignore',  # don't want to know if an order does not work\n",
    "                    suppress_warnings=True,  # don't want convergence warnings\n",
    "                    stepwise=True)\n",
    "    next_24 = mc_fit.predict(n_periods=24)\n",
    "    dr.loc['2016-01-01':'2017-12-01','gdp_'+region] = next_24"
   ]
  },
  {
   "cell_type": "code",
   "execution_count": 11,
   "metadata": {},
   "outputs": [
    {
     "name": "stdout",
     "output_type": "stream",
     "text": [
      "Cross Validation SARIMAX Region: ARA Prediction year: 2011\n",
      "Cross Validation SARIMAX Region: ARA Prediction year: 2012\n"
     ]
    },
    {
     "name": "stderr",
     "output_type": "stream",
     "text": [
      "/home/aa/anaconda3/lib/python3.6/site-packages/statsmodels/base/model.py:508: ConvergenceWarning: Maximum Likelihood optimization failed to converge. Check mle_retvals\n",
      "  \"Check mle_retvals\", ConvergenceWarning)\n"
     ]
    },
    {
     "name": "stdout",
     "output_type": "stream",
     "text": [
      "Cross Validation SARIMAX Region: ARA Prediction year: 2013\n"
     ]
    },
    {
     "name": "stderr",
     "output_type": "stream",
     "text": [
      "/home/aa/anaconda3/lib/python3.6/site-packages/statsmodels/base/model.py:508: ConvergenceWarning: Maximum Likelihood optimization failed to converge. Check mle_retvals\n",
      "  \"Check mle_retvals\", ConvergenceWarning)\n"
     ]
    },
    {
     "name": "stdout",
     "output_type": "stream",
     "text": [
      "Cross Validation SARIMAX Region: ARA Prediction year: 2014\n",
      "Cross Validation SARIMAX Region: ARA Prediction year: 2015\n"
     ]
    },
    {
     "name": "stderr",
     "output_type": "stream",
     "text": [
      "/home/aa/anaconda3/lib/python3.6/site-packages/statsmodels/base/model.py:508: ConvergenceWarning: Maximum Likelihood optimization failed to converge. Check mle_retvals\n",
      "  \"Check mle_retvals\", ConvergenceWarning)\n"
     ]
    },
    {
     "name": "stdout",
     "output_type": "stream",
     "text": [
      "Cross Validation SARIMAX Region: ARA Prediction year: 2016\n",
      "Cross Validation SARIMAX Region: ARA Prediction year: 2017\n",
      "Cross Validation SARIMAX Region: BFC Prediction year: 2011\n",
      "Cross Validation SARIMAX Region: BFC Prediction year: 2012\n"
     ]
    },
    {
     "name": "stderr",
     "output_type": "stream",
     "text": [
      "/home/aa/anaconda3/lib/python3.6/site-packages/statsmodels/base/model.py:508: ConvergenceWarning: Maximum Likelihood optimization failed to converge. Check mle_retvals\n",
      "  \"Check mle_retvals\", ConvergenceWarning)\n"
     ]
    },
    {
     "name": "stdout",
     "output_type": "stream",
     "text": [
      "Cross Validation SARIMAX Region: BFC Prediction year: 2013\n"
     ]
    },
    {
     "name": "stderr",
     "output_type": "stream",
     "text": [
      "/home/aa/anaconda3/lib/python3.6/site-packages/statsmodels/base/model.py:508: ConvergenceWarning: Maximum Likelihood optimization failed to converge. Check mle_retvals\n",
      "  \"Check mle_retvals\", ConvergenceWarning)\n"
     ]
    },
    {
     "name": "stdout",
     "output_type": "stream",
     "text": [
      "Cross Validation SARIMAX Region: BFC Prediction year: 2014\n"
     ]
    },
    {
     "name": "stderr",
     "output_type": "stream",
     "text": [
      "/home/aa/anaconda3/lib/python3.6/site-packages/statsmodels/base/model.py:508: ConvergenceWarning: Maximum Likelihood optimization failed to converge. Check mle_retvals\n",
      "  \"Check mle_retvals\", ConvergenceWarning)\n"
     ]
    },
    {
     "name": "stdout",
     "output_type": "stream",
     "text": [
      "Cross Validation SARIMAX Region: BFC Prediction year: 2015\n",
      "Cross Validation SARIMAX Region: BFC Prediction year: 2016\n",
      "Cross Validation SARIMAX Region: BFC Prediction year: 2017\n",
      "Cross Validation SARIMAX Region: BRE Prediction year: 2011\n",
      "Cross Validation SARIMAX Region: BRE Prediction year: 2012\n"
     ]
    },
    {
     "name": "stderr",
     "output_type": "stream",
     "text": [
      "/home/aa/anaconda3/lib/python3.6/site-packages/statsmodels/tsa/statespace/representation.py:375: FutureWarning: Using a non-tuple sequence for multidimensional indexing is deprecated; use `arr[tuple(seq)]` instead of `arr[seq]`. In the future this will be interpreted as an array index, `arr[np.array(seq)]`, which will result either in an error or a different result.\n",
      "  return matrix[[slice(None)]*(matrix.ndim-1) + [0]]\n"
     ]
    },
    {
     "name": "stdout",
     "output_type": "stream",
     "text": [
      "Cross Validation SARIMAX Region: BRE Prediction year: 2013\n",
      "Cross Validation SARIMAX Region: BRE Prediction year: 2014\n"
     ]
    },
    {
     "name": "stderr",
     "output_type": "stream",
     "text": [
      "/home/aa/anaconda3/lib/python3.6/site-packages/statsmodels/base/model.py:508: ConvergenceWarning: Maximum Likelihood optimization failed to converge. Check mle_retvals\n",
      "  \"Check mle_retvals\", ConvergenceWarning)\n"
     ]
    },
    {
     "name": "stdout",
     "output_type": "stream",
     "text": [
      "Cross Validation SARIMAX Region: BRE Prediction year: 2015\n"
     ]
    },
    {
     "name": "stderr",
     "output_type": "stream",
     "text": [
      "/home/aa/anaconda3/lib/python3.6/site-packages/statsmodels/base/model.py:508: ConvergenceWarning: Maximum Likelihood optimization failed to converge. Check mle_retvals\n",
      "  \"Check mle_retvals\", ConvergenceWarning)\n"
     ]
    },
    {
     "name": "stdout",
     "output_type": "stream",
     "text": [
      "Cross Validation SARIMAX Region: BRE Prediction year: 2016\n",
      "Cross Validation SARIMAX Region: BRE Prediction year: 2017\n",
      "Cross Validation SARIMAX Region: CVL Prediction year: 2011\n",
      "Cross Validation SARIMAX Region: CVL Prediction year: 2012\n",
      "Cross Validation SARIMAX Region: CVL Prediction year: 2013\n"
     ]
    },
    {
     "name": "stderr",
     "output_type": "stream",
     "text": [
      "/home/aa/anaconda3/lib/python3.6/site-packages/statsmodels/base/model.py:508: ConvergenceWarning: Maximum Likelihood optimization failed to converge. Check mle_retvals\n",
      "  \"Check mle_retvals\", ConvergenceWarning)\n"
     ]
    },
    {
     "name": "stdout",
     "output_type": "stream",
     "text": [
      "Cross Validation SARIMAX Region: CVL Prediction year: 2014\n",
      "Cross Validation SARIMAX Region: CVL Prediction year: 2015\n",
      "Cross Validation SARIMAX Region: CVL Prediction year: 2016\n",
      "Cross Validation SARIMAX Region: CVL Prediction year: 2017\n",
      "Cross Validation SARIMAX Region: COR Prediction year: 2011\n",
      "Cross Validation SARIMAX Region: COR Prediction year: 2012\n",
      "Cross Validation SARIMAX Region: COR Prediction year: 2013\n"
     ]
    },
    {
     "name": "stderr",
     "output_type": "stream",
     "text": [
      "/home/aa/anaconda3/lib/python3.6/site-packages/statsmodels/base/model.py:508: ConvergenceWarning: Maximum Likelihood optimization failed to converge. Check mle_retvals\n",
      "  \"Check mle_retvals\", ConvergenceWarning)\n"
     ]
    },
    {
     "name": "stdout",
     "output_type": "stream",
     "text": [
      "Cross Validation SARIMAX Region: COR Prediction year: 2014\n",
      "Cross Validation SARIMAX Region: COR Prediction year: 2015\n",
      "Cross Validation SARIMAX Region: COR Prediction year: 2016\n",
      "Cross Validation SARIMAX Region: COR Prediction year: 2017\n",
      "Cross Validation SARIMAX Region: IDF Prediction year: 2011\n",
      "Cross Validation SARIMAX Region: IDF Prediction year: 2012\n"
     ]
    },
    {
     "name": "stderr",
     "output_type": "stream",
     "text": [
      "/home/aa/anaconda3/lib/python3.6/site-packages/statsmodels/base/model.py:508: ConvergenceWarning: Maximum Likelihood optimization failed to converge. Check mle_retvals\n",
      "  \"Check mle_retvals\", ConvergenceWarning)\n"
     ]
    },
    {
     "name": "stdout",
     "output_type": "stream",
     "text": [
      "Cross Validation SARIMAX Region: IDF Prediction year: 2013\n"
     ]
    },
    {
     "name": "stderr",
     "output_type": "stream",
     "text": [
      "/home/aa/anaconda3/lib/python3.6/site-packages/statsmodels/base/model.py:508: ConvergenceWarning: Maximum Likelihood optimization failed to converge. Check mle_retvals\n",
      "  \"Check mle_retvals\", ConvergenceWarning)\n"
     ]
    },
    {
     "name": "stdout",
     "output_type": "stream",
     "text": [
      "Cross Validation SARIMAX Region: IDF Prediction year: 2014\n"
     ]
    },
    {
     "name": "stderr",
     "output_type": "stream",
     "text": [
      "/home/aa/anaconda3/lib/python3.6/site-packages/statsmodels/base/model.py:508: ConvergenceWarning: Maximum Likelihood optimization failed to converge. Check mle_retvals\n",
      "  \"Check mle_retvals\", ConvergenceWarning)\n"
     ]
    },
    {
     "name": "stdout",
     "output_type": "stream",
     "text": [
      "Cross Validation SARIMAX Region: IDF Prediction year: 2015\n"
     ]
    },
    {
     "name": "stderr",
     "output_type": "stream",
     "text": [
      "/home/aa/anaconda3/lib/python3.6/site-packages/statsmodels/base/model.py:508: ConvergenceWarning: Maximum Likelihood optimization failed to converge. Check mle_retvals\n",
      "  \"Check mle_retvals\", ConvergenceWarning)\n"
     ]
    },
    {
     "name": "stdout",
     "output_type": "stream",
     "text": [
      "Cross Validation SARIMAX Region: IDF Prediction year: 2016\n",
      "Cross Validation SARIMAX Region: IDF Prediction year: 2017\n"
     ]
    },
    {
     "name": "stderr",
     "output_type": "stream",
     "text": [
      "/home/aa/anaconda3/lib/python3.6/site-packages/statsmodels/base/model.py:508: ConvergenceWarning: Maximum Likelihood optimization failed to converge. Check mle_retvals\n",
      "  \"Check mle_retvals\", ConvergenceWarning)\n"
     ]
    },
    {
     "name": "stdout",
     "output_type": "stream",
     "text": [
      "Cross Validation SARIMAX Region: NAQ Prediction year: 2011\n",
      "Cross Validation SARIMAX Region: NAQ Prediction year: 2012\n"
     ]
    },
    {
     "name": "stderr",
     "output_type": "stream",
     "text": [
      "/home/aa/anaconda3/lib/python3.6/site-packages/statsmodels/base/model.py:508: ConvergenceWarning: Maximum Likelihood optimization failed to converge. Check mle_retvals\n",
      "  \"Check mle_retvals\", ConvergenceWarning)\n"
     ]
    },
    {
     "name": "stdout",
     "output_type": "stream",
     "text": [
      "Cross Validation SARIMAX Region: NAQ Prediction year: 2013\n"
     ]
    },
    {
     "name": "stderr",
     "output_type": "stream",
     "text": [
      "/home/aa/anaconda3/lib/python3.6/site-packages/statsmodels/base/model.py:508: ConvergenceWarning: Maximum Likelihood optimization failed to converge. Check mle_retvals\n",
      "  \"Check mle_retvals\", ConvergenceWarning)\n"
     ]
    },
    {
     "name": "stdout",
     "output_type": "stream",
     "text": [
      "Cross Validation SARIMAX Region: NAQ Prediction year: 2014\n"
     ]
    },
    {
     "name": "stderr",
     "output_type": "stream",
     "text": [
      "/home/aa/anaconda3/lib/python3.6/site-packages/statsmodels/base/model.py:508: ConvergenceWarning: Maximum Likelihood optimization failed to converge. Check mle_retvals\n",
      "  \"Check mle_retvals\", ConvergenceWarning)\n"
     ]
    },
    {
     "name": "stdout",
     "output_type": "stream",
     "text": [
      "Cross Validation SARIMAX Region: NAQ Prediction year: 2015\n"
     ]
    },
    {
     "name": "stderr",
     "output_type": "stream",
     "text": [
      "/home/aa/anaconda3/lib/python3.6/site-packages/statsmodels/base/model.py:508: ConvergenceWarning: Maximum Likelihood optimization failed to converge. Check mle_retvals\n",
      "  \"Check mle_retvals\", ConvergenceWarning)\n"
     ]
    },
    {
     "name": "stdout",
     "output_type": "stream",
     "text": [
      "Cross Validation SARIMAX Region: NAQ Prediction year: 2016\n",
      "Cross Validation SARIMAX Region: NAQ Prediction year: 2017\n"
     ]
    },
    {
     "name": "stderr",
     "output_type": "stream",
     "text": [
      "/home/aa/anaconda3/lib/python3.6/site-packages/statsmodels/base/model.py:508: ConvergenceWarning: Maximum Likelihood optimization failed to converge. Check mle_retvals\n",
      "  \"Check mle_retvals\", ConvergenceWarning)\n"
     ]
    },
    {
     "name": "stdout",
     "output_type": "stream",
     "text": [
      "Cross Validation SARIMAX Region: NOR Prediction year: 2011\n",
      "Cross Validation SARIMAX Region: NOR Prediction year: 2012\n",
      "Cross Validation SARIMAX Region: NOR Prediction year: 2013\n",
      "Cross Validation SARIMAX Region: NOR Prediction year: 2014\n",
      "Cross Validation SARIMAX Region: NOR Prediction year: 2015\n",
      "Cross Validation SARIMAX Region: NOR Prediction year: 2016\n",
      "Cross Validation SARIMAX Region: NOR Prediction year: 2017\n"
     ]
    },
    {
     "name": "stderr",
     "output_type": "stream",
     "text": [
      "/home/aa/anaconda3/lib/python3.6/site-packages/statsmodels/base/model.py:508: ConvergenceWarning: Maximum Likelihood optimization failed to converge. Check mle_retvals\n",
      "  \"Check mle_retvals\", ConvergenceWarning)\n"
     ]
    },
    {
     "name": "stdout",
     "output_type": "stream",
     "text": [
      "Cross Validation SARIMAX Region: GES Prediction year: 2011\n",
      "Cross Validation SARIMAX Region: GES Prediction year: 2012\n"
     ]
    },
    {
     "name": "stderr",
     "output_type": "stream",
     "text": [
      "/home/aa/anaconda3/lib/python3.6/site-packages/statsmodels/base/model.py:508: ConvergenceWarning: Maximum Likelihood optimization failed to converge. Check mle_retvals\n",
      "  \"Check mle_retvals\", ConvergenceWarning)\n"
     ]
    },
    {
     "name": "stdout",
     "output_type": "stream",
     "text": [
      "Cross Validation SARIMAX Region: GES Prediction year: 2013\n",
      "Cross Validation SARIMAX Region: GES Prediction year: 2014\n"
     ]
    },
    {
     "name": "stderr",
     "output_type": "stream",
     "text": [
      "/home/aa/anaconda3/lib/python3.6/site-packages/statsmodels/base/model.py:508: ConvergenceWarning: Maximum Likelihood optimization failed to converge. Check mle_retvals\n",
      "  \"Check mle_retvals\", ConvergenceWarning)\n"
     ]
    },
    {
     "name": "stdout",
     "output_type": "stream",
     "text": [
      "Cross Validation SARIMAX Region: GES Prediction year: 2015\n"
     ]
    },
    {
     "name": "stderr",
     "output_type": "stream",
     "text": [
      "/home/aa/anaconda3/lib/python3.6/site-packages/statsmodels/base/model.py:508: ConvergenceWarning: Maximum Likelihood optimization failed to converge. Check mle_retvals\n",
      "  \"Check mle_retvals\", ConvergenceWarning)\n"
     ]
    },
    {
     "name": "stdout",
     "output_type": "stream",
     "text": [
      "Cross Validation SARIMAX Region: GES Prediction year: 2016\n",
      "Cross Validation SARIMAX Region: GES Prediction year: 2017\n"
     ]
    },
    {
     "name": "stderr",
     "output_type": "stream",
     "text": [
      "/home/aa/anaconda3/lib/python3.6/site-packages/statsmodels/base/model.py:508: ConvergenceWarning: Maximum Likelihood optimization failed to converge. Check mle_retvals\n",
      "  \"Check mle_retvals\", ConvergenceWarning)\n"
     ]
    },
    {
     "name": "stdout",
     "output_type": "stream",
     "text": [
      "Cross Validation SARIMAX Region: HDF Prediction year: 2011\n",
      "Cross Validation SARIMAX Region: HDF Prediction year: 2012\n",
      "Cross Validation SARIMAX Region: HDF Prediction year: 2013\n"
     ]
    },
    {
     "name": "stderr",
     "output_type": "stream",
     "text": [
      "/home/aa/anaconda3/lib/python3.6/site-packages/statsmodels/base/model.py:508: ConvergenceWarning: Maximum Likelihood optimization failed to converge. Check mle_retvals\n",
      "  \"Check mle_retvals\", ConvergenceWarning)\n"
     ]
    },
    {
     "name": "stdout",
     "output_type": "stream",
     "text": [
      "Cross Validation SARIMAX Region: HDF Prediction year: 2014\n",
      "Cross Validation SARIMAX Region: HDF Prediction year: 2015\n"
     ]
    },
    {
     "name": "stderr",
     "output_type": "stream",
     "text": [
      "/home/aa/anaconda3/lib/python3.6/site-packages/statsmodels/base/model.py:508: ConvergenceWarning: Maximum Likelihood optimization failed to converge. Check mle_retvals\n",
      "  \"Check mle_retvals\", ConvergenceWarning)\n"
     ]
    },
    {
     "name": "stdout",
     "output_type": "stream",
     "text": [
      "Cross Validation SARIMAX Region: HDF Prediction year: 2016\n",
      "Cross Validation SARIMAX Region: HDF Prediction year: 2017\n"
     ]
    },
    {
     "name": "stderr",
     "output_type": "stream",
     "text": [
      "/home/aa/anaconda3/lib/python3.6/site-packages/statsmodels/base/model.py:508: ConvergenceWarning: Maximum Likelihood optimization failed to converge. Check mle_retvals\n",
      "  \"Check mle_retvals\", ConvergenceWarning)\n"
     ]
    },
    {
     "name": "stdout",
     "output_type": "stream",
     "text": [
      "Cross Validation SARIMAX Region: OCC Prediction year: 2011\n",
      "Cross Validation SARIMAX Region: OCC Prediction year: 2012\n"
     ]
    },
    {
     "name": "stderr",
     "output_type": "stream",
     "text": [
      "/home/aa/anaconda3/lib/python3.6/site-packages/statsmodels/base/model.py:508: ConvergenceWarning: Maximum Likelihood optimization failed to converge. Check mle_retvals\n",
      "  \"Check mle_retvals\", ConvergenceWarning)\n"
     ]
    },
    {
     "name": "stdout",
     "output_type": "stream",
     "text": [
      "Cross Validation SARIMAX Region: OCC Prediction year: 2013\n"
     ]
    },
    {
     "name": "stderr",
     "output_type": "stream",
     "text": [
      "/home/aa/anaconda3/lib/python3.6/site-packages/statsmodels/base/model.py:508: ConvergenceWarning: Maximum Likelihood optimization failed to converge. Check mle_retvals\n",
      "  \"Check mle_retvals\", ConvergenceWarning)\n"
     ]
    },
    {
     "name": "stdout",
     "output_type": "stream",
     "text": [
      "Cross Validation SARIMAX Region: OCC Prediction year: 2014\n"
     ]
    },
    {
     "name": "stderr",
     "output_type": "stream",
     "text": [
      "/home/aa/anaconda3/lib/python3.6/site-packages/statsmodels/base/model.py:508: ConvergenceWarning: Maximum Likelihood optimization failed to converge. Check mle_retvals\n",
      "  \"Check mle_retvals\", ConvergenceWarning)\n"
     ]
    },
    {
     "name": "stdout",
     "output_type": "stream",
     "text": [
      "Cross Validation SARIMAX Region: OCC Prediction year: 2015\n"
     ]
    },
    {
     "name": "stderr",
     "output_type": "stream",
     "text": [
      "/home/aa/anaconda3/lib/python3.6/site-packages/statsmodels/base/model.py:508: ConvergenceWarning: Maximum Likelihood optimization failed to converge. Check mle_retvals\n",
      "  \"Check mle_retvals\", ConvergenceWarning)\n"
     ]
    },
    {
     "name": "stdout",
     "output_type": "stream",
     "text": [
      "Cross Validation SARIMAX Region: OCC Prediction year: 2016\n",
      "Cross Validation SARIMAX Region: OCC Prediction year: 2017\n"
     ]
    },
    {
     "name": "stderr",
     "output_type": "stream",
     "text": [
      "/home/aa/anaconda3/lib/python3.6/site-packages/statsmodels/base/model.py:508: ConvergenceWarning: Maximum Likelihood optimization failed to converge. Check mle_retvals\n",
      "  \"Check mle_retvals\", ConvergenceWarning)\n"
     ]
    },
    {
     "name": "stdout",
     "output_type": "stream",
     "text": [
      "Cross Validation SARIMAX Region: PAC Prediction year: 2011\n",
      "Cross Validation SARIMAX Region: PAC Prediction year: 2012\n"
     ]
    },
    {
     "name": "stderr",
     "output_type": "stream",
     "text": [
      "/home/aa/anaconda3/lib/python3.6/site-packages/statsmodels/base/model.py:508: ConvergenceWarning: Maximum Likelihood optimization failed to converge. Check mle_retvals\n",
      "  \"Check mle_retvals\", ConvergenceWarning)\n"
     ]
    },
    {
     "name": "stdout",
     "output_type": "stream",
     "text": [
      "Cross Validation SARIMAX Region: PAC Prediction year: 2013\n"
     ]
    },
    {
     "name": "stderr",
     "output_type": "stream",
     "text": [
      "/home/aa/anaconda3/lib/python3.6/site-packages/statsmodels/base/model.py:508: ConvergenceWarning: Maximum Likelihood optimization failed to converge. Check mle_retvals\n",
      "  \"Check mle_retvals\", ConvergenceWarning)\n"
     ]
    },
    {
     "name": "stdout",
     "output_type": "stream",
     "text": [
      "Cross Validation SARIMAX Region: PAC Prediction year: 2014\n",
      "Cross Validation SARIMAX Region: PAC Prediction year: 2015\n"
     ]
    },
    {
     "name": "stderr",
     "output_type": "stream",
     "text": [
      "/home/aa/anaconda3/lib/python3.6/site-packages/statsmodels/base/model.py:508: ConvergenceWarning: Maximum Likelihood optimization failed to converge. Check mle_retvals\n",
      "  \"Check mle_retvals\", ConvergenceWarning)\n"
     ]
    },
    {
     "name": "stdout",
     "output_type": "stream",
     "text": [
      "Cross Validation SARIMAX Region: PAC Prediction year: 2016\n",
      "Cross Validation SARIMAX Region: PAC Prediction year: 2017\n",
      "Cross Validation SARIMAX Region: PDL Prediction year: 2011\n",
      "Cross Validation SARIMAX Region: PDL Prediction year: 2012\n"
     ]
    },
    {
     "name": "stderr",
     "output_type": "stream",
     "text": [
      "/home/aa/anaconda3/lib/python3.6/site-packages/statsmodels/base/model.py:508: ConvergenceWarning: Maximum Likelihood optimization failed to converge. Check mle_retvals\n",
      "  \"Check mle_retvals\", ConvergenceWarning)\n"
     ]
    },
    {
     "name": "stdout",
     "output_type": "stream",
     "text": [
      "Cross Validation SARIMAX Region: PDL Prediction year: 2013\n"
     ]
    },
    {
     "name": "stderr",
     "output_type": "stream",
     "text": [
      "/home/aa/anaconda3/lib/python3.6/site-packages/statsmodels/base/model.py:508: ConvergenceWarning: Maximum Likelihood optimization failed to converge. Check mle_retvals\n",
      "  \"Check mle_retvals\", ConvergenceWarning)\n"
     ]
    },
    {
     "name": "stdout",
     "output_type": "stream",
     "text": [
      "Cross Validation SARIMAX Region: PDL Prediction year: 2014\n",
      "Cross Validation SARIMAX Region: PDL Prediction year: 2015\n"
     ]
    },
    {
     "name": "stderr",
     "output_type": "stream",
     "text": [
      "/home/aa/anaconda3/lib/python3.6/site-packages/statsmodels/base/model.py:508: ConvergenceWarning: Maximum Likelihood optimization failed to converge. Check mle_retvals\n",
      "  \"Check mle_retvals\", ConvergenceWarning)\n"
     ]
    },
    {
     "name": "stdout",
     "output_type": "stream",
     "text": [
      "Cross Validation SARIMAX Region: PDL Prediction year: 2016\n",
      "Cross Validation SARIMAX Region: PDL Prediction year: 2017\n"
     ]
    }
   ],
   "source": [
    "train_start = '2010-01-01'\n",
    "all_smase = defaultdict(dict)\n",
    "years_data = defaultdict(dict)\n",
    "predicted_data = defaultdict(list)\n",
    "for region in regions:\n",
    "    for predict_year in range(2011,2018):\n",
    "        print(\"Cross Validation SARIMAX Region:\",region,\"Prediction year:\",predict_year)\n",
    "        train_end = str(predict_year-1)+'-12-01'\n",
    "        predict_start = str(predict_year)+'-01-01'\n",
    "        predict_end = str(predict_year)+'-12-01'\n",
    "        dfr = dr.loc[train_start:predict_end,dr.columns.str.contains(\"\"+region+\"|daysoff\")]\n",
    "        df_train = dfr.loc[train_start:train_end,dfr.columns.str.startswith('nights')]\n",
    "        df_test = dfr.loc[predict_start:predict_end ,dfr.columns.str.startswith('nights')]\n",
    "        df_train_exogenous = dfr.loc[train_start:train_end,~dfr.columns.str.startswith('nights')]\n",
    "        df_test_exogenous =  dfr.loc[predict_start:predict_end,~dfr.columns.str.startswith('nights')]\n",
    "        train = np.array(df_train)\n",
    "        train_exogenous= np.array(df_train_exogenous)\n",
    "        test = np.array(df_test)\n",
    "        test_exogenous=np.array(df_test_exogenous)\n",
    "        joblib_file = region+\".pkl\"\n",
    "        joblib_model = joblib.load(joblib_file)\n",
    "        if predict_year != 2016: \n",
    "            tc_fit = pm.arima.ARIMA (order=joblib_model.order,seasonal_order=joblib_model.seasonal_order,start_params=joblib_model.params())\n",
    "            tc_fit.fit(train,train_exogenous)\n",
    "            future_forecast = tc_fit.predict(n_periods=12,exogenous = test_exogenous)\n",
    "        else:\n",
    "            future_forecast = joblib_model.predict(n_periods=12,exogenous = test_exogenous)\n",
    "        # --------Calculated error measures for each CV step----------\n",
    "        years_data[region][predict_year] = df_train.index.strftime('%Y').unique().tolist()\n",
    "        predicted_data[region].append(predict_year)\n",
    "        lastyear_start = str(predict_year-1)+'-01-01'\n",
    "        lastyear_end = str(predict_year-1)+'-12-01'\n",
    "        forecast = pd.DataFrame(future_forecast,columns=['nights_'+region], index=df_test.index)\n",
    "        all_smase[region][predict_year] = seasonal_MASE(dfr.loc[lastyear_start:lastyear_end,dfr.columns.str.contains('nights_'+region)], df_test, forecast )\n",
    "\n"
   ]
  },
  {
   "cell_type": "code",
   "execution_count": 12,
   "metadata": {},
   "outputs": [
    {
     "name": "stdout",
     "output_type": "stream",
     "text": [
      "Region ARA\n",
      "Years of training data: ['2010']\n",
      "Predicted year: 2011\n",
      "MASE: 0.649662\n",
      "Years of training data: ['2010', '2011']\n",
      "Predicted year: 2012\n",
      "MASE: 69.459655\n",
      "Years of training data: ['2010', '2011', '2012']\n",
      "Predicted year: 2013\n",
      "MASE: 0.878276\n",
      "Years of training data: ['2010', '2011', '2012', '2013']\n",
      "Predicted year: 2014\n",
      "MASE: 0.746792\n",
      "Years of training data: ['2010', '2011', '2012', '2013', '2014']\n",
      "Predicted year: 2015\n",
      "MASE: 0.751928\n",
      "Years of training data: ['2010', '2011', '2012', '2013', '2014', '2015']\n",
      "Predicted year: 2016\n",
      "MASE: 1.890835\n",
      "Years of training data: ['2010', '2011', '2012', '2013', '2014', '2015', '2016']\n",
      "Predicted year: 2017\n",
      "MASE: 0.783764\n",
      "Region BFC\n",
      "Years of training data: ['2010']\n",
      "Predicted year: 2011\n",
      "MASE: 1.132671\n",
      "Years of training data: ['2010', '2011']\n",
      "Predicted year: 2012\n",
      "MASE: 1176.743408\n",
      "Years of training data: ['2010', '2011', '2012']\n",
      "Predicted year: 2013\n",
      "MASE: 2.134182\n",
      "Years of training data: ['2010', '2011', '2012', '2013']\n",
      "Predicted year: 2014\n",
      "MASE: 1.053897\n",
      "Years of training data: ['2010', '2011', '2012', '2013', '2014']\n",
      "Predicted year: 2015\n",
      "MASE: 0.971302\n",
      "Years of training data: ['2010', '2011', '2012', '2013', '2014', '2015']\n",
      "Predicted year: 2016\n",
      "MASE: 1.442945\n",
      "Years of training data: ['2010', '2011', '2012', '2013', '2014', '2015', '2016']\n",
      "Predicted year: 2017\n",
      "MASE: 0.494635\n",
      "Region BRE\n",
      "Years of training data: ['2010']\n",
      "Predicted year: 2011\n",
      "MASE: 10.353677\n",
      "Years of training data: ['2010', '2011']\n",
      "Predicted year: 2012\n",
      "MASE: 24.886147\n",
      "Years of training data: ['2010', '2011', '2012']\n",
      "Predicted year: 2013\n",
      "MASE: 0.889376\n",
      "Years of training data: ['2010', '2011', '2012', '2013']\n",
      "Predicted year: 2014\n",
      "MASE: 0.871239\n",
      "Years of training data: ['2010', '2011', '2012', '2013', '2014']\n",
      "Predicted year: 2015\n",
      "MASE: 1.199776\n",
      "Years of training data: ['2010', '2011', '2012', '2013', '2014', '2015']\n",
      "Predicted year: 2016\n",
      "MASE: 1.231776\n",
      "Years of training data: ['2010', '2011', '2012', '2013', '2014', '2015', '2016']\n",
      "Predicted year: 2017\n",
      "MASE: 0.729115\n",
      "Region CVL\n",
      "Years of training data: ['2010']\n",
      "Predicted year: 2011\n",
      "MASE: 15.447352\n",
      "Years of training data: ['2010', '2011']\n",
      "Predicted year: 2012\n",
      "MASE: 517.179405\n",
      "Years of training data: ['2010', '2011', '2012']\n",
      "Predicted year: 2013\n",
      "MASE: 1.040987\n",
      "Years of training data: ['2010', '2011', '2012', '2013']\n",
      "Predicted year: 2014\n",
      "MASE: 0.823724\n",
      "Years of training data: ['2010', '2011', '2012', '2013', '2014']\n",
      "Predicted year: 2015\n",
      "MASE: 1.189154\n",
      "Years of training data: ['2010', '2011', '2012', '2013', '2014', '2015']\n",
      "Predicted year: 2016\n",
      "MASE: 0.884257\n",
      "Years of training data: ['2010', '2011', '2012', '2013', '2014', '2015', '2016']\n",
      "Predicted year: 2017\n",
      "MASE: 0.528188\n",
      "Region COR\n",
      "Years of training data: ['2010']\n",
      "Predicted year: 2011\n",
      "MASE: 1.365908\n",
      "Years of training data: ['2010', '2011']\n",
      "Predicted year: 2012\n",
      "MASE: 1714.991856\n",
      "Years of training data: ['2010', '2011', '2012']\n",
      "Predicted year: 2013\n",
      "MASE: 1.048097\n",
      "Years of training data: ['2010', '2011', '2012', '2013']\n",
      "Predicted year: 2014\n",
      "MASE: 1.175072\n",
      "Years of training data: ['2010', '2011', '2012', '2013', '2014']\n",
      "Predicted year: 2015\n",
      "MASE: 2.113378\n",
      "Years of training data: ['2010', '2011', '2012', '2013', '2014', '2015']\n",
      "Predicted year: 2016\n",
      "MASE: 1.199288\n",
      "Years of training data: ['2010', '2011', '2012', '2013', '2014', '2015', '2016']\n",
      "Predicted year: 2017\n",
      "MASE: 1.092577\n",
      "Region IDF\n",
      "Years of training data: ['2010']\n",
      "Predicted year: 2011\n",
      "MASE: 14.012965\n",
      "Years of training data: ['2010', '2011']\n",
      "Predicted year: 2012\n",
      "MASE: 7.269605\n",
      "Years of training data: ['2010', '2011', '2012']\n",
      "Predicted year: 2013\n",
      "MASE: 1.640303\n",
      "Years of training data: ['2010', '2011', '2012', '2013']\n",
      "Predicted year: 2014\n",
      "MASE: 0.985436\n",
      "Years of training data: ['2010', '2011', '2012', '2013', '2014']\n",
      "Predicted year: 2015\n",
      "MASE: 1.248596\n",
      "Years of training data: ['2010', '2011', '2012', '2013', '2014', '2015']\n",
      "Predicted year: 2016\n",
      "MASE: 0.667479\n",
      "Years of training data: ['2010', '2011', '2012', '2013', '2014', '2015', '2016']\n",
      "Predicted year: 2017\n",
      "MASE: 1.431990\n",
      "Region NAQ\n",
      "Years of training data: ['2010']\n",
      "Predicted year: 2011\n",
      "MASE: 6.559226\n",
      "Years of training data: ['2010', '2011']\n",
      "Predicted year: 2012\n",
      "MASE: 22.845263\n",
      "Years of training data: ['2010', '2011', '2012']\n",
      "Predicted year: 2013\n",
      "MASE: 1.463855\n",
      "Years of training data: ['2010', '2011', '2012', '2013']\n",
      "Predicted year: 2014\n",
      "MASE: 1.797484\n",
      "Years of training data: ['2010', '2011', '2012', '2013', '2014']\n",
      "Predicted year: 2015\n",
      "MASE: 1.018114\n",
      "Years of training data: ['2010', '2011', '2012', '2013', '2014', '2015']\n",
      "Predicted year: 2016\n",
      "MASE: 0.669032\n",
      "Years of training data: ['2010', '2011', '2012', '2013', '2014', '2015', '2016']\n",
      "Predicted year: 2017\n",
      "MASE: 1.329573\n",
      "Region NOR\n",
      "Years of training data: ['2010']\n",
      "Predicted year: 2011\n",
      "MASE: 0.795568\n",
      "Years of training data: ['2010', '2011']\n",
      "Predicted year: 2012\n",
      "MASE: 22.450757\n",
      "Years of training data: ['2010', '2011', '2012']\n",
      "Predicted year: 2013\n",
      "MASE: 0.807167\n",
      "Years of training data: ['2010', '2011', '2012', '2013']\n",
      "Predicted year: 2014\n",
      "MASE: 0.771915\n",
      "Years of training data: ['2010', '2011', '2012', '2013', '2014']\n",
      "Predicted year: 2015\n",
      "MASE: 0.476678\n",
      "Years of training data: ['2010', '2011', '2012', '2013', '2014', '2015']\n",
      "Predicted year: 2016\n",
      "MASE: 1.026035\n",
      "Years of training data: ['2010', '2011', '2012', '2013', '2014', '2015', '2016']\n",
      "Predicted year: 2017\n",
      "MASE: 0.731633\n",
      "Region GES\n",
      "Years of training data: ['2010']\n",
      "Predicted year: 2011\n",
      "MASE: 3.309091\n",
      "Years of training data: ['2010', '2011']\n",
      "Predicted year: 2012\n",
      "MASE: 193.859049\n",
      "Years of training data: ['2010', '2011', '2012']\n",
      "Predicted year: 2013\n",
      "MASE: 0.816854\n",
      "Years of training data: ['2010', '2011', '2012', '2013']\n",
      "Predicted year: 2014\n",
      "MASE: 1.123195\n",
      "Years of training data: ['2010', '2011', '2012', '2013', '2014']\n",
      "Predicted year: 2015\n",
      "MASE: 1.154012\n",
      "Years of training data: ['2010', '2011', '2012', '2013', '2014', '2015']\n",
      "Predicted year: 2016\n",
      "MASE: 0.951778\n",
      "Years of training data: ['2010', '2011', '2012', '2013', '2014', '2015', '2016']\n",
      "Predicted year: 2017\n",
      "MASE: 0.790791\n",
      "Region HDF\n",
      "Years of training data: ['2010']\n",
      "Predicted year: 2011\n",
      "MASE: 4.092905\n",
      "Years of training data: ['2010', '2011']\n",
      "Predicted year: 2012\n",
      "MASE: 449.985367\n",
      "Years of training data: ['2010', '2011', '2012']\n",
      "Predicted year: 2013\n",
      "MASE: 1.986806\n",
      "Years of training data: ['2010', '2011', '2012', '2013']\n",
      "Predicted year: 2014\n",
      "MASE: 0.678680\n",
      "Years of training data: ['2010', '2011', '2012', '2013', '2014']\n",
      "Predicted year: 2015\n",
      "MASE: 0.618874\n",
      "Years of training data: ['2010', '2011', '2012', '2013', '2014', '2015']\n",
      "Predicted year: 2016\n",
      "MASE: 0.993285\n",
      "Years of training data: ['2010', '2011', '2012', '2013', '2014', '2015', '2016']\n",
      "Predicted year: 2017\n",
      "MASE: 0.954562\n",
      "Region OCC\n",
      "Years of training data: ['2010']\n",
      "Predicted year: 2011\n",
      "MASE: 9.132003\n",
      "Years of training data: ['2010', '2011']\n",
      "Predicted year: 2012\n",
      "MASE: 46.689029\n",
      "Years of training data: ['2010', '2011', '2012']\n",
      "Predicted year: 2013\n",
      "MASE: 1.168702\n",
      "Years of training data: ['2010', '2011', '2012', '2013']\n",
      "Predicted year: 2014\n",
      "MASE: 1.131296\n",
      "Years of training data: ['2010', '2011', '2012', '2013', '2014']\n",
      "Predicted year: 2015\n",
      "MASE: 1.881450\n",
      "Years of training data: ['2010', '2011', '2012', '2013', '2014', '2015']\n",
      "Predicted year: 2016\n",
      "MASE: 0.695953\n",
      "Years of training data: ['2010', '2011', '2012', '2013', '2014', '2015', '2016']\n",
      "Predicted year: 2017\n",
      "MASE: 0.870273\n",
      "Region PAC\n",
      "Years of training data: ['2010']\n",
      "Predicted year: 2011\n",
      "MASE: 12.294263\n",
      "Years of training data: ['2010', '2011']\n",
      "Predicted year: 2012\n",
      "MASE: 4.191118\n",
      "Years of training data: ['2010', '2011', '2012']\n",
      "Predicted year: 2013\n",
      "MASE: 12.314043\n",
      "Years of training data: ['2010', '2011', '2012', '2013']\n",
      "Predicted year: 2014\n",
      "MASE: 0.898265\n",
      "Years of training data: ['2010', '2011', '2012', '2013', '2014']\n",
      "Predicted year: 2015\n",
      "MASE: 1.534439\n",
      "Years of training data: ['2010', '2011', '2012', '2013', '2014', '2015']\n",
      "Predicted year: 2016\n",
      "MASE: 0.862654\n",
      "Years of training data: ['2010', '2011', '2012', '2013', '2014', '2015', '2016']\n",
      "Predicted year: 2017\n",
      "MASE: 0.953667\n",
      "Region PDL\n",
      "Years of training data: ['2010']\n",
      "Predicted year: 2011\n",
      "MASE: 11.896474\n",
      "Years of training data: ['2010', '2011']\n",
      "Predicted year: 2012\n",
      "MASE: 40.182536\n",
      "Years of training data: ['2010', '2011', '2012']\n",
      "Predicted year: 2013\n",
      "MASE: 0.842888\n",
      "Years of training data: ['2010', '2011', '2012', '2013']\n",
      "Predicted year: 2014\n",
      "MASE: 0.774144\n",
      "Years of training data: ['2010', '2011', '2012', '2013', '2014']\n",
      "Predicted year: 2015\n",
      "MASE: 1.047980\n",
      "Years of training data: ['2010', '2011', '2012', '2013', '2014', '2015']\n",
      "Predicted year: 2016\n",
      "MASE: 0.919148\n",
      "Years of training data: ['2010', '2011', '2012', '2013', '2014', '2015', '2016']\n",
      "Predicted year: 2017\n",
      "MASE: 1.307810\n"
     ]
    },
    {
     "data": {
      "image/png": "[encoded data removed]",
      "text/plain": [
       "<Figure size 360x360 with 1 Axes>"
      ]
     },
     "metadata": {},
     "output_type": "display_data"
    },
    {
     "data": {
      "image/png": "[encoded data removed]",
      "text/plain": [
       "<Figure size 360x360 with 1 Axes>"
      ]
     },
     "metadata": {},
     "output_type": "display_data"
    },
    {
     "data": {
      "image/png": "[encoded data removed]",
      "text/plain": [
       "<Figure size 360x360 with 1 Axes>"
      ]
     },
     "metadata": {},
     "output_type": "display_data"
    },
    {
     "data": {
      "image/png": "[encoded data removed]",
      "text/plain": [
       "<Figure size 360x360 with 1 Axes>"
      ]
     },
     "metadata": {},
     "output_type": "display_data"
    },
    {
     "data": {
      "image/png": "[encoded data removed]",
      "text/plain": [
       "<Figure size 360x360 with 1 Axes>"
      ]
     },
     "metadata": {},
     "output_type": "display_data"
    },
    {
     "data": {
      "image/png": "[encoded data removed]",
      "text/plain": [
       "<Figure size 360x360 with 1 Axes>"
      ]
     },
     "metadata": {},
     "output_type": "display_data"
    },
    {
     "data": {
      "image/png": "[encoded data removed]",
      "text/plain": [
       "<Figure size 360x360 with 1 Axes>"
      ]
     },
     "metadata": {},
     "output_type": "display_data"
    },
    {
     "data": {
      "image/png": "[encoded data removed]",
      "text/plain": [
       "<Figure size 360x360 with 1 Axes>"
      ]
     },
     "metadata": {},
     "output_type": "display_data"
    },
    {
     "data": {
      "image/png": "[encoded data removed]",
      "text/plain": [
       "<Figure size 360x360 with 1 Axes>"
      ]
     },
     "metadata": {},
     "output_type": "display_data"
    },
    {
     "data": {
      "image/png": "[encoded data removed]",
      "text/plain": [
       "<Figure size 360x360 with 1 Axes>"
      ]
     },
     "metadata": {},
     "output_type": "display_data"
    },
    {
     "data": {
      "image/png": "[encoded data removed]",
      "text/plain": [
       "<Figure size 360x360 with 1 Axes>"
      ]
     },
     "metadata": {},
     "output_type": "display_data"
    },
    {
     "data": {
      "image/png": "[encoded data removed]",
      "text/plain": [
       "<Figure size 360x360 with 1 Axes>"
      ]
     },
     "metadata": {},
     "output_type": "display_data"
    },
    {
     "data": {
      "image/png": "[encoded data removed]",
      "text/plain": [
       "<Figure size 360x360 with 1 Axes>"
      ]
     },
     "metadata": {},
     "output_type": "display_data"
    }
   ],
   "source": [
    "for region in regions:\n",
    "        print(\"Region\",region)\n",
    "        for year in predicted_data[region]:\n",
    "            print('Years of training data:', years_data[region][year])\n",
    "            print('Predicted year:', year)\n",
    "            print('MASE: %f' % all_smase[region][year])\n",
    "\n",
    "        years = predicted_data[region]    \n",
    "        fig, ax = plt.subplots(figsize=(5,5))\n",
    "        x = [len(v) for k,v in years_data[region].items()]\n",
    "        ax.plot(x, np.array([all_smase[region][index] for index in years]), label='MASE', color='green')\n",
    "        ax.set_xticks(x)\n",
    "        ax.set_xticklabels(x)\n",
    "        ax.set_title('MASE per Years of Training Data' + '\\n' + f'({region})')\n",
    "        ax.legend()\n",
    "\n",
    "        plt.savefig('CrossValidation_SARIMAX_MASE'+region+'.png')"
   ]
  }
 ],
 "metadata": {
  "kernelspec": {
   "display_name": "Python 3",
   "language": "python",
   "name": "python3"
  },
  "language_info": {
   "codemirror_mode": {
    "name": "ipython",
    "version": 3
   },
   "file_extension": ".py",
   "mimetype": "text/x-python",
   "name": "python",
   "nbconvert_exporter": "python",
   "pygments_lexer": "ipython3",
   "version": "3.6.5"
  }
 },
 "nbformat": 4,
 "nbformat_minor": 2
}
