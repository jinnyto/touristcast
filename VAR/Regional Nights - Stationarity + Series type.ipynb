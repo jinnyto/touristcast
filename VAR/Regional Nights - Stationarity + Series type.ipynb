{
 "cells": [
  {
   "cell_type": "markdown",
   "metadata": {},
   "source": [
    "## Stationarity type for each series "
   ]
  },
  {
   "cell_type": "markdown",
   "metadata": {},
   "source": [
    "### *Very* small difference in ACF score between additive score and multiplicative score\n",
    "- Except for OCC which has a strong preference for multiplicative\n",
    "- To make it simple we can do ALL regions in multiplicative\n",
    "\n",
    "### Multiplicative\n",
    "- nights_IDF: Jinny\n",
    "- nights_NAQ: Jinny\n",
    "- nights_ARA: Jinny\n",
    "- nights_PAC: Jinny\n",
    "- nights_CVL: Jinny\n",
    "\n",
    "\n",
    "- nights_BFC: Sekou\n",
    "- nights_NOR: Sekou\n",
    "- nights_HDF: Sekou\n",
    "- nights_GES: Sekou\n",
    "\n",
    "\n",
    "- nights_PDL: Franck\n",
    "- nights_BRE: Franck\n",
    "- nights_OCC: Franck\n",
    "- nights_COR: Franck"
   ]
  },
  {
   "cell_type": "markdown",
   "metadata": {},
   "source": [
    "#### See calculations below if needed"
   ]
  },
  {
   "cell_type": "code",
   "execution_count": 1,
   "metadata": {},
   "outputs": [],
   "source": [
    "import pandas as pd\n",
    "import numpy as np\n",
    "import datetime \n",
    "import matplotlib.pyplot as plt\n",
    "%matplotlib inline"
   ]
  },
  {
   "cell_type": "code",
   "execution_count": 9,
   "metadata": {},
   "outputs": [
    {
     "data": {
      "text/plain": [
       "Index(['nights_IDF', 'nights_CVL', 'nights_BFC', 'nights_NOR', 'nights_HDF',\n",
       "       'nights_GES', 'nights_PDL', 'nights_BRE', 'nights_NAQ', 'nights_OCC',\n",
       "       'nights_ARA', 'nights_PAC', 'nights_COR'],\n",
       "      dtype='object')"
      ]
     },
     "execution_count": 9,
     "metadata": {},
     "output_type": "execute_result"
    }
   ],
   "source": [
    "data_nights = pd.read_csv('/Users/jinny/Documents/touristcast/datasets/nights_2010-2017.csv', index_col='date')\n",
    "data_nights = data_nights.drop('Unnamed: 0', axis=1)\n",
    "data_nights.index = pd.to_datetime(data_nights.index)\n",
    "data_nights.columns"
   ]
  },
  {
   "cell_type": "markdown",
   "metadata": {},
   "source": [
    "### NONE of the nights are stationary so we will need to decompose each time"
   ]
  },
  {
   "cell_type": "code",
   "execution_count": 3,
   "metadata": {},
   "outputs": [],
   "source": [
    "from statsmodels.tsa.stattools import adfuller\n",
    "\n",
    "for column in data_nights.columns:\n",
    "    result = adfuller(data_nights[column])\n",
    "#     print(f'Stationarity test for variable {column}')\n",
    "#     print('ADF Statistic: %f' % result[0])\n",
    "#     print('p-value: %f' % result[1])\n",
    "#     print('Critical Values:')\n",
    "\n",
    "#     for key, value in result[4].items():\n",
    "#         print('\\t%s: %.3f' % (key, value))\n",
    "    \n",
    "    if result[1] < 0.05:\n",
    "        print(f'{column}')\n",
    "        print('Stationary')\n",
    "        print('-------')"
   ]
  },
  {
   "cell_type": "markdown",
   "metadata": {},
   "source": [
    "### Stationarity type for each Nights series"
   ]
  },
  {
   "cell_type": "code",
   "execution_count": 4,
   "metadata": {},
   "outputs": [],
   "source": [
    "from statsmodels.tsa.seasonal import seasonal_decompose\n",
    "\n",
    "# ----- Additive Model below -----\n",
    "\n",
    "add_data = seasonal_decompose(data_nights, model='additive')  \n",
    "\n",
    "add_trend = add_data.trend.dropna()\n",
    "add_seasonal = add_data.seasonal.dropna()\n",
    "add_residual = add_data.resid.dropna()\n",
    "\n",
    "# stationarity_test(add_residual)\n",
    "\n",
    "# ----- Multiplicative Model below -----\n",
    "\n",
    "mult_data = seasonal_decompose(data_nights, model='multiplicative')  \n",
    "\n",
    "mult_trend = mult_data.trend.dropna()\n",
    "mult_seasonal = mult_data.seasonal.dropna()\n",
    "mult_residual = mult_data.resid.dropna()\n",
    "\n",
    "# stationarity_test(mult_residual)"
   ]
  },
  {
   "cell_type": "code",
   "execution_count": 18,
   "metadata": {},
   "outputs": [
    {
     "name": "stdout",
     "output_type": "stream",
     "text": [
      "Additive: ['nights_IDF', 'nights_NAQ', 'nights_ARA', 'nights_PAC']\n",
      "Multiplicative: ['nights_CVL', 'nights_BFC', 'nights_NOR', 'nights_HDF', 'nights_GES', 'nights_PDL', 'nights_BRE', 'nights_OCC', 'nights_COR']\n",
      "------\n",
      "Positive = Multiplicative, Negative = Additive \n",
      " nights_IDF   -0.034117\n",
      "nights_CVL    0.007227\n",
      "nights_BFC    0.187358\n",
      "nights_NOR    0.114303\n",
      "nights_HDF    0.000648\n",
      "nights_GES    0.063095\n",
      "nights_PDL    0.073486\n",
      "nights_BRE    0.035301\n",
      "nights_NAQ   -0.058864\n",
      "nights_OCC    0.424805\n",
      "nights_ARA   -0.049186\n",
      "nights_PAC   -0.000010\n",
      "nights_COR    0.107867\n",
      "dtype: float64\n"
     ]
    }
   ],
   "source": [
    "from statsmodels.tsa.stattools import acf\n",
    "\n",
    "add_acfs = add_residual.apply(acf, axis=0, fft=False).apply(np.square, axis=0).apply(np.sum)\n",
    "\n",
    "mult_acfs = mult_residual.apply(acf, axis=0, fft=False).apply(np.square, axis=0).apply(np.sum)\n",
    "\n",
    "additive = add_acfs < mult_acfs\n",
    "add_cols = additive.index[additive].tolist()\n",
    "mult_cols = additive.index[~additive].tolist()\n",
    "print('Additive:', add_cols)\n",
    "print('Multiplicative:', mult_cols)\n",
    "print('------')\n",
    "print('Positive = Multiplicative, Negative = Additive', '\\n', add_acfs - mult_acfs)"
   ]
  }
 ],
 "metadata": {
  "kernelspec": {
   "display_name": "Python 3",
   "language": "python",
   "name": "python3"
  },
  "language_info": {
   "codemirror_mode": {
    "name": "ipython",
    "version": 3
   },
   "file_extension": ".py",
   "mimetype": "text/x-python",
   "name": "python",
   "nbconvert_exporter": "python",
   "pygments_lexer": "ipython3",
   "version": "3.6.5"
  }
 },
 "nbformat": 4,
 "nbformat_minor": 2
}
