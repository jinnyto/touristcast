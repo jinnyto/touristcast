{
 "cells": [
  {
   "cell_type": "markdown",
   "metadata": {},
   "source": [
    "### Importing libraries"
   ]
  },
  {
   "cell_type": "code",
   "execution_count": 1,
   "metadata": {},
   "outputs": [],
   "source": [
    "import pandas as pd\n",
    "import numpy as np\n",
    "import datetime \n",
    "import matplotlib.pyplot as plt\n",
    "%matplotlib inline"
   ]
  },
  {
   "cell_type": "markdown",
   "metadata": {},
   "source": [
    "### Dataset"
   ]
  },
  {
   "cell_type": "code",
   "execution_count": 2,
   "metadata": {},
   "outputs": [
    {
     "data": {
      "text/html": [
       "<div>\n",
       "<style scoped>\n",
       "    .dataframe tbody tr th:only-of-type {\n",
       "        vertical-align: middle;\n",
       "    }\n",
       "\n",
       "    .dataframe tbody tr th {\n",
       "        vertical-align: top;\n",
       "    }\n",
       "\n",
       "    .dataframe thead th {\n",
       "        text-align: right;\n",
       "    }\n",
       "</style>\n",
       "<table border=\"1\" class=\"dataframe\">\n",
       "  <thead>\n",
       "    <tr style=\"text-align: right;\">\n",
       "      <th></th>\n",
       "      <th>nights_PAC</th>\n",
       "    </tr>\n",
       "    <tr>\n",
       "      <th>date</th>\n",
       "      <th></th>\n",
       "    </tr>\n",
       "  </thead>\n",
       "  <tbody>\n",
       "    <tr>\n",
       "      <th>2010-01-01</th>\n",
       "      <td>956.88</td>\n",
       "    </tr>\n",
       "    <tr>\n",
       "      <th>2010-02-01</th>\n",
       "      <td>1114.93</td>\n",
       "    </tr>\n",
       "    <tr>\n",
       "      <th>2010-03-01</th>\n",
       "      <td>1327.84</td>\n",
       "    </tr>\n",
       "    <tr>\n",
       "      <th>2010-04-01</th>\n",
       "      <td>1727.31</td>\n",
       "    </tr>\n",
       "    <tr>\n",
       "      <th>2010-05-01</th>\n",
       "      <td>2066.52</td>\n",
       "    </tr>\n",
       "  </tbody>\n",
       "</table>\n",
       "</div>"
      ],
      "text/plain": [
       "            nights_PAC\n",
       "date                  \n",
       "2010-01-01      956.88\n",
       "2010-02-01     1114.93\n",
       "2010-03-01     1327.84\n",
       "2010-04-01     1727.31\n",
       "2010-05-01     2066.52"
      ]
     },
     "execution_count": 2,
     "metadata": {},
     "output_type": "execute_result"
    }
   ],
   "source": [
    "data_nights = pd.read_csv('/Users/jinny/Documents/touristcast/datasets/nights_2010-2017.csv', index_col='date')\n",
    "data_nights = data_nights.drop('Unnamed: 0', axis=1)\n",
    "data_nights\n",
    "nights_PAC = data_nights[['nights_PAC']]\n",
    "nights_PAC.head()"
   ]
  },
  {
   "cell_type": "code",
   "execution_count": 3,
   "metadata": {},
   "outputs": [
    {
     "data": {
      "text/html": [
       "<div>\n",
       "<style scoped>\n",
       "    .dataframe tbody tr th:only-of-type {\n",
       "        vertical-align: middle;\n",
       "    }\n",
       "\n",
       "    .dataframe tbody tr th {\n",
       "        vertical-align: top;\n",
       "    }\n",
       "\n",
       "    .dataframe thead th {\n",
       "        text-align: right;\n",
       "    }\n",
       "</style>\n",
       "<table border=\"1\" class=\"dataframe\">\n",
       "  <thead>\n",
       "    <tr style=\"text-align: right;\">\n",
       "      <th></th>\n",
       "      <th>avgtemp_PAC</th>\n",
       "    </tr>\n",
       "    <tr>\n",
       "      <th>date</th>\n",
       "      <th></th>\n",
       "    </tr>\n",
       "  </thead>\n",
       "  <tbody>\n",
       "    <tr>\n",
       "      <th>2010-01-01</th>\n",
       "      <td>5.0</td>\n",
       "    </tr>\n",
       "    <tr>\n",
       "      <th>2010-02-01</th>\n",
       "      <td>7.0</td>\n",
       "    </tr>\n",
       "    <tr>\n",
       "      <th>2010-03-01</th>\n",
       "      <td>9.0</td>\n",
       "    </tr>\n",
       "    <tr>\n",
       "      <th>2010-04-01</th>\n",
       "      <td>14.0</td>\n",
       "    </tr>\n",
       "    <tr>\n",
       "      <th>2010-05-01</th>\n",
       "      <td>17.0</td>\n",
       "    </tr>\n",
       "  </tbody>\n",
       "</table>\n",
       "</div>"
      ],
      "text/plain": [
       "            avgtemp_PAC\n",
       "date                   \n",
       "2010-01-01          5.0\n",
       "2010-02-01          7.0\n",
       "2010-03-01          9.0\n",
       "2010-04-01         14.0\n",
       "2010-05-01         17.0"
      ]
     },
     "execution_count": 3,
     "metadata": {},
     "output_type": "execute_result"
    }
   ],
   "source": [
    "data_temp = pd.read_csv('/Users/jinny/Documents/touristcast/datasets/avgtemp_2010-2017.csv', index_col='date')\n",
    "data_temp = data_temp.drop('Unnamed: 0', axis=1)\n",
    "data_temp\n",
    "avgtemp_PAC = data_temp[['avgtemp_PAC']]\n",
    "avgtemp_PAC.head()"
   ]
  },
  {
   "cell_type": "code",
   "execution_count": 4,
   "metadata": {},
   "outputs": [
    {
     "data": {
      "text/html": [
       "<div>\n",
       "<style scoped>\n",
       "    .dataframe tbody tr th:only-of-type {\n",
       "        vertical-align: middle;\n",
       "    }\n",
       "\n",
       "    .dataframe tbody tr th {\n",
       "        vertical-align: top;\n",
       "    }\n",
       "\n",
       "    .dataframe thead th {\n",
       "        text-align: right;\n",
       "    }\n",
       "</style>\n",
       "<table border=\"1\" class=\"dataframe\">\n",
       "  <thead>\n",
       "    <tr style=\"text-align: right;\">\n",
       "      <th></th>\n",
       "      <th>daysoff</th>\n",
       "    </tr>\n",
       "    <tr>\n",
       "      <th>date</th>\n",
       "      <th></th>\n",
       "    </tr>\n",
       "  </thead>\n",
       "  <tbody>\n",
       "    <tr>\n",
       "      <th>2010-01-01</th>\n",
       "      <td>11</td>\n",
       "    </tr>\n",
       "    <tr>\n",
       "      <th>2010-02-01</th>\n",
       "      <td>9</td>\n",
       "    </tr>\n",
       "    <tr>\n",
       "      <th>2010-03-01</th>\n",
       "      <td>9</td>\n",
       "    </tr>\n",
       "    <tr>\n",
       "      <th>2010-04-01</th>\n",
       "      <td>10</td>\n",
       "    </tr>\n",
       "    <tr>\n",
       "      <th>2010-05-01</th>\n",
       "      <td>12</td>\n",
       "    </tr>\n",
       "  </tbody>\n",
       "</table>\n",
       "</div>"
      ],
      "text/plain": [
       "            daysoff\n",
       "date               \n",
       "2010-01-01       11\n",
       "2010-02-01        9\n",
       "2010-03-01        9\n",
       "2010-04-01       10\n",
       "2010-05-01       12"
      ]
     },
     "execution_count": 4,
     "metadata": {},
     "output_type": "execute_result"
    }
   ],
   "source": [
    "data_daysoff = pd.read_csv('/Users/jinny/Documents/touristcast/datasets/daysoff_2010-2017.csv', index_col='date')\n",
    "data_daysoff = data_daysoff.drop('Unnamed: 0', axis=1)\n",
    "data_daysoff.head()"
   ]
  },
  {
   "cell_type": "code",
   "execution_count": 5,
   "metadata": {},
   "outputs": [
    {
     "data": {
      "text/html": [
       "<div>\n",
       "<style scoped>\n",
       "    .dataframe tbody tr th:only-of-type {\n",
       "        vertical-align: middle;\n",
       "    }\n",
       "\n",
       "    .dataframe tbody tr th {\n",
       "        vertical-align: top;\n",
       "    }\n",
       "\n",
       "    .dataframe thead th {\n",
       "        text-align: right;\n",
       "    }\n",
       "</style>\n",
       "<table border=\"1\" class=\"dataframe\">\n",
       "  <thead>\n",
       "    <tr style=\"text-align: right;\">\n",
       "      <th></th>\n",
       "      <th>gdp_PAC</th>\n",
       "    </tr>\n",
       "    <tr>\n",
       "      <th>date</th>\n",
       "      <th></th>\n",
       "    </tr>\n",
       "  </thead>\n",
       "  <tbody>\n",
       "    <tr>\n",
       "      <th>2010-01-01</th>\n",
       "      <td>143112.575866</td>\n",
       "    </tr>\n",
       "    <tr>\n",
       "      <th>2010-02-01</th>\n",
       "      <td>143112.575866</td>\n",
       "    </tr>\n",
       "    <tr>\n",
       "      <th>2010-03-01</th>\n",
       "      <td>143112.575866</td>\n",
       "    </tr>\n",
       "    <tr>\n",
       "      <th>2010-04-01</th>\n",
       "      <td>143112.575866</td>\n",
       "    </tr>\n",
       "    <tr>\n",
       "      <th>2010-05-01</th>\n",
       "      <td>143112.575866</td>\n",
       "    </tr>\n",
       "  </tbody>\n",
       "</table>\n",
       "</div>"
      ],
      "text/plain": [
       "                  gdp_PAC\n",
       "date                     \n",
       "2010-01-01  143112.575866\n",
       "2010-02-01  143112.575866\n",
       "2010-03-01  143112.575866\n",
       "2010-04-01  143112.575866\n",
       "2010-05-01  143112.575866"
      ]
     },
     "execution_count": 5,
     "metadata": {},
     "output_type": "execute_result"
    }
   ],
   "source": [
    "data_gdp = pd.read_csv('/Users/jinny/Documents/touristcast/datasets/regionalGDP_2010-2015.csv', index_col='date')\n",
    "data_gdp = data_gdp.drop('Unnamed: 0', axis=1)\n",
    "data_gdp\n",
    "gdp_PAC = data_gdp[['gdp_PAC']]\n",
    "gdp_PAC.head()"
   ]
  },
  {
   "cell_type": "code",
   "execution_count": 6,
   "metadata": {},
   "outputs": [
    {
     "name": "stdout",
     "output_type": "stream",
     "text": [
      "<class 'pandas.core.frame.DataFrame'>\n",
      "DatetimeIndex: 72 entries, 2010-01-01 to 2015-12-01\n",
      "Data columns (total 4 columns):\n",
      "nights_PAC     72 non-null float64\n",
      "avgtemp_PAC    72 non-null float64\n",
      "daysoff        72 non-null int64\n",
      "gdp_PAC        72 non-null float64\n",
      "dtypes: float64(3), int64(1)\n",
      "memory usage: 2.8 KB\n",
      "None\n"
     ]
    }
   ],
   "source": [
    "data_PAC = pd.concat([nights_PAC, avgtemp_PAC, data_daysoff, gdp_PAC], axis=1, sort=False)\n",
    "data_PAC.index = pd.to_datetime(data_PAC.index)\n",
    "data_PAC_train = data_PAC.dropna(axis=0, how='any')\n",
    "print(data_PAC_train.info())"
   ]
  },
  {
   "cell_type": "markdown",
   "metadata": {},
   "source": [
    "### Stationarity check"
   ]
  },
  {
   "cell_type": "code",
   "execution_count": 7,
   "metadata": {},
   "outputs": [
    {
     "name": "stdout",
     "output_type": "stream",
     "text": [
      "Stationarity test for variable nights_PAC\n",
      "ADF Statistic: -2.225807\n",
      "p-value: 0.197013\n",
      "Critical Values:\n",
      "\t1%: -3.546\n",
      "\t5%: -2.912\n",
      "\t10%: -2.594\n",
      "NON-STATIONARY\n",
      "nights_PAC\n",
      "-------\n",
      "Stationarity test for variable avgtemp_PAC\n",
      "ADF Statistic: -0.294483\n",
      "p-value: 0.926282\n",
      "Critical Values:\n",
      "\t1%: -3.544\n",
      "\t5%: -2.911\n",
      "\t10%: -2.593\n",
      "NON-STATIONARY\n",
      "avgtemp_PAC\n",
      "-------\n",
      "Stationarity test for variable daysoff\n",
      "ADF Statistic: -3.149484\n",
      "p-value: 0.023101\n",
      "Critical Values:\n",
      "\t1%: -3.544\n",
      "\t5%: -2.911\n",
      "\t10%: -2.593\n",
      "STATIONARY\n",
      "daysoff\n",
      "-------\n",
      "Stationarity test for variable gdp_PAC\n",
      "ADF Statistic: -1.015064\n",
      "p-value: 0.747730\n",
      "Critical Values:\n",
      "\t1%: -3.526\n",
      "\t5%: -2.903\n",
      "\t10%: -2.589\n",
      "NON-STATIONARY\n",
      "gdp_PAC\n",
      "-------\n"
     ]
    }
   ],
   "source": [
    "from statsmodels.tsa.stattools import adfuller\n",
    "\n",
    "for column in data_PAC_train.columns:\n",
    "    result = adfuller(data_PAC_train[column])\n",
    "    print(f'Stationarity test for variable {column}')\n",
    "    print('ADF Statistic: %f' % result[0])\n",
    "    print('p-value: %f' % result[1])\n",
    "    print('Critical Values:')\n",
    "\n",
    "    for key, value in result[4].items():\n",
    "        print('\\t%s: %.3f' % (key, value))\n",
    "    \n",
    "    if result[1] < 0.05:\n",
    "        print('STATIONARY')\n",
    "        print(f'{column}')\n",
    "        print('-------')\n",
    "    else:\n",
    "        print('NON-STATIONARY')\n",
    "        print(f'{column}')\n",
    "        print('-------')"
   ]
  },
  {
   "cell_type": "markdown",
   "metadata": {},
   "source": [
    "Result:\n",
    "- Nights, AvgTemp, GDP are all non-stationary\n",
    "- Daysoff is stationary (also doesn't require forecasting as we already have the answers)"
   ]
  },
  {
   "cell_type": "markdown",
   "metadata": {},
   "source": [
    "#### Figure out which series' seasonality is additive or multiplicative"
   ]
  },
  {
   "cell_type": "code",
   "execution_count": 8,
   "metadata": {},
   "outputs": [],
   "source": [
    "from statsmodels.tsa.seasonal import seasonal_decompose\n",
    "\n",
    "# ----- Additive Model below -----\n",
    "\n",
    "add_data = seasonal_decompose(data_PAC_train, model='additive')  \n",
    "\n",
    "add_trend = add_data.trend.dropna()\n",
    "add_seasonal = add_data.seasonal.dropna()\n",
    "add_residual = add_data.resid.dropna()\n",
    "\n",
    "# stationarity_test(add_residual)\n",
    "\n",
    "# ----- Multiplicative Model below -----\n",
    "\n",
    "mult_data = seasonal_decompose(data_PAC_train, model='multiplicative')  \n",
    "\n",
    "mult_trend = mult_data.trend.dropna()\n",
    "mult_seasonal = mult_data.seasonal.dropna()\n",
    "mult_residual = mult_data.resid.dropna()\n",
    "\n",
    "# stationarity_test(mult_residual)"
   ]
  },
  {
   "cell_type": "code",
   "execution_count": 9,
   "metadata": {},
   "outputs": [
    {
     "name": "stdout",
     "output_type": "stream",
     "text": [
      "['daysoff']\n",
      "['nights_PAC', 'avgtemp_PAC', 'gdp_PAC']\n"
     ]
    }
   ],
   "source": [
    "from statsmodels.tsa.stattools import acf\n",
    "\n",
    "add_acfs = add_residual.apply(acf, axis=0).apply(np.square, axis=0).apply(np.sum)\n",
    "\n",
    "mult_acfs = mult_residual.apply(acf, axis=0).apply(np.square, axis=0).apply(np.sum)\n",
    "\n",
    "additive = add_acfs < mult_acfs\n",
    "add_cols = additive.index[additive].tolist()\n",
    "mult_cols = additive.index[~additive].tolist()\n",
    "print(add_cols)\n",
    "print(mult_cols)"
   ]
  },
  {
   "cell_type": "markdown",
   "metadata": {},
   "source": [
    "> Nights, AvgTemp, and GDP are all multiplicative series"
   ]
  },
  {
   "cell_type": "code",
   "execution_count": 10,
   "metadata": {},
   "outputs": [
    {
     "data": {
      "text/plain": [
       "<matplotlib.legend.Legend at 0x1c1c4f1c50>"
      ]
     },
     "execution_count": 10,
     "metadata": {},
     "output_type": "execute_result"
    },
    {
     "data": {
      "text/plain": [
       "<Figure size 432x288 with 0 Axes>"
      ]
     },
     "metadata": {},
     "output_type": "display_data"
    },
    {
     "data": {
      "image/png": "[encoded data removed]",
      "text/plain": [
       "<Figure size 1080x576 with 4 Axes>"
      ]
     },
     "metadata": {},
     "output_type": "display_data"
    }
   ],
   "source": [
    "fig = plt.figure()  \n",
    "fig = mult_data.plot()  \n",
    "fig.set_size_inches(15, 8)\n",
    "plt.legend()"
   ]
  },
  {
   "cell_type": "markdown",
   "metadata": {},
   "source": [
    "### Forecasting the 3 parts: Seasonal, Trend, and Residuals"
   ]
  },
  {
   "cell_type": "markdown",
   "metadata": {},
   "source": [
    "#### Seasonal forecasts for 2016 (nights only)\n",
    "- Seasonal naive forecast method: Taking the same seasonal data as 2015"
   ]
  },
  {
   "cell_type": "code",
   "execution_count": 11,
   "metadata": {},
   "outputs": [
    {
     "data": {
      "text/html": [
       "<div>\n",
       "<style scoped>\n",
       "    .dataframe tbody tr th:only-of-type {\n",
       "        vertical-align: middle;\n",
       "    }\n",
       "\n",
       "    .dataframe tbody tr th {\n",
       "        vertical-align: top;\n",
       "    }\n",
       "\n",
       "    .dataframe thead th {\n",
       "        text-align: right;\n",
       "    }\n",
       "</style>\n",
       "<table border=\"1\" class=\"dataframe\">\n",
       "  <thead>\n",
       "    <tr style=\"text-align: right;\">\n",
       "      <th></th>\n",
       "      <th>nights_PAC</th>\n",
       "      <th>avgtemp_PAC</th>\n",
       "      <th>daysoff</th>\n",
       "      <th>gdp_PAC</th>\n",
       "    </tr>\n",
       "  </thead>\n",
       "  <tbody>\n",
       "    <tr>\n",
       "      <th>2015-08-01</th>\n",
       "      <td>1.828675</td>\n",
       "      <td>1.560910</td>\n",
       "      <td>1.047527</td>\n",
       "      <td>0.998023</td>\n",
       "    </tr>\n",
       "    <tr>\n",
       "      <th>2015-09-01</th>\n",
       "      <td>1.279591</td>\n",
       "      <td>1.331053</td>\n",
       "      <td>0.928182</td>\n",
       "      <td>0.996701</td>\n",
       "    </tr>\n",
       "    <tr>\n",
       "      <th>2015-10-01</th>\n",
       "      <td>0.903177</td>\n",
       "      <td>1.090279</td>\n",
       "      <td>0.968439</td>\n",
       "      <td>0.995384</td>\n",
       "    </tr>\n",
       "    <tr>\n",
       "      <th>2015-11-01</th>\n",
       "      <td>0.529655</td>\n",
       "      <td>0.794319</td>\n",
       "      <td>1.027018</td>\n",
       "      <td>0.994073</td>\n",
       "    </tr>\n",
       "    <tr>\n",
       "      <th>2015-12-01</th>\n",
       "      <td>0.510644</td>\n",
       "      <td>0.520340</td>\n",
       "      <td>1.005456</td>\n",
       "      <td>0.992765</td>\n",
       "    </tr>\n",
       "  </tbody>\n",
       "</table>\n",
       "</div>"
      ],
      "text/plain": [
       "            nights_PAC  avgtemp_PAC   daysoff   gdp_PAC\n",
       "2015-08-01    1.828675     1.560910  1.047527  0.998023\n",
       "2015-09-01    1.279591     1.331053  0.928182  0.996701\n",
       "2015-10-01    0.903177     1.090279  0.968439  0.995384\n",
       "2015-11-01    0.529655     0.794319  1.027018  0.994073\n",
       "2015-12-01    0.510644     0.520340  1.005456  0.992765"
      ]
     },
     "execution_count": 11,
     "metadata": {},
     "output_type": "execute_result"
    }
   ],
   "source": [
    "mult_seasonal.tail()"
   ]
  },
  {
   "cell_type": "code",
   "execution_count": 12,
   "metadata": {},
   "outputs": [
    {
     "data": {
      "text/html": [
       "<div>\n",
       "<style scoped>\n",
       "    .dataframe tbody tr th:only-of-type {\n",
       "        vertical-align: middle;\n",
       "    }\n",
       "\n",
       "    .dataframe tbody tr th {\n",
       "        vertical-align: top;\n",
       "    }\n",
       "\n",
       "    .dataframe thead th {\n",
       "        text-align: right;\n",
       "    }\n",
       "</style>\n",
       "<table border=\"1\" class=\"dataframe\">\n",
       "  <thead>\n",
       "    <tr style=\"text-align: right;\">\n",
       "      <th></th>\n",
       "      <th>nights_PAC</th>\n",
       "      <th>avgtemp_PAC</th>\n",
       "      <th>daysoff</th>\n",
       "      <th>gdp_PAC</th>\n",
       "    </tr>\n",
       "  </thead>\n",
       "  <tbody>\n",
       "    <tr>\n",
       "      <th>2015-01-01</th>\n",
       "      <td>0.504709</td>\n",
       "      <td>0.494060</td>\n",
       "      <td>0.945701</td>\n",
       "      <td>1.007251</td>\n",
       "    </tr>\n",
       "    <tr>\n",
       "      <th>2015-02-01</th>\n",
       "      <td>0.585774</td>\n",
       "      <td>0.468400</td>\n",
       "      <td>0.865598</td>\n",
       "      <td>1.005924</td>\n",
       "    </tr>\n",
       "    <tr>\n",
       "      <th>2015-03-01</th>\n",
       "      <td>0.753537</td>\n",
       "      <td>0.719867</td>\n",
       "      <td>0.985516</td>\n",
       "      <td>1.004603</td>\n",
       "    </tr>\n",
       "    <tr>\n",
       "      <th>2015-04-01</th>\n",
       "      <td>0.952641</td>\n",
       "      <td>0.933739</td>\n",
       "      <td>1.005999</td>\n",
       "      <td>1.003286</td>\n",
       "    </tr>\n",
       "    <tr>\n",
       "      <th>2015-05-01</th>\n",
       "      <td>1.167660</td>\n",
       "      <td>1.132058</td>\n",
       "      <td>1.188224</td>\n",
       "      <td>1.001974</td>\n",
       "    </tr>\n",
       "    <tr>\n",
       "      <th>2015-06-01</th>\n",
       "      <td>1.327215</td>\n",
       "      <td>1.397917</td>\n",
       "      <td>1.006184</td>\n",
       "      <td>1.000667</td>\n",
       "    </tr>\n",
       "    <tr>\n",
       "      <th>2015-07-01</th>\n",
       "      <td>1.656722</td>\n",
       "      <td>1.557059</td>\n",
       "      <td>1.026155</td>\n",
       "      <td>0.999350</td>\n",
       "    </tr>\n",
       "    <tr>\n",
       "      <th>2015-08-01</th>\n",
       "      <td>1.828675</td>\n",
       "      <td>1.560910</td>\n",
       "      <td>1.047527</td>\n",
       "      <td>0.998023</td>\n",
       "    </tr>\n",
       "    <tr>\n",
       "      <th>2015-09-01</th>\n",
       "      <td>1.279591</td>\n",
       "      <td>1.331053</td>\n",
       "      <td>0.928182</td>\n",
       "      <td>0.996701</td>\n",
       "    </tr>\n",
       "    <tr>\n",
       "      <th>2015-10-01</th>\n",
       "      <td>0.903177</td>\n",
       "      <td>1.090279</td>\n",
       "      <td>0.968439</td>\n",
       "      <td>0.995384</td>\n",
       "    </tr>\n",
       "    <tr>\n",
       "      <th>2015-11-01</th>\n",
       "      <td>0.529655</td>\n",
       "      <td>0.794319</td>\n",
       "      <td>1.027018</td>\n",
       "      <td>0.994073</td>\n",
       "    </tr>\n",
       "    <tr>\n",
       "      <th>2015-12-01</th>\n",
       "      <td>0.510644</td>\n",
       "      <td>0.520340</td>\n",
       "      <td>1.005456</td>\n",
       "      <td>0.992765</td>\n",
       "    </tr>\n",
       "  </tbody>\n",
       "</table>\n",
       "</div>"
      ],
      "text/plain": [
       "            nights_PAC  avgtemp_PAC   daysoff   gdp_PAC\n",
       "2015-01-01    0.504709     0.494060  0.945701  1.007251\n",
       "2015-02-01    0.585774     0.468400  0.865598  1.005924\n",
       "2015-03-01    0.753537     0.719867  0.985516  1.004603\n",
       "2015-04-01    0.952641     0.933739  1.005999  1.003286\n",
       "2015-05-01    1.167660     1.132058  1.188224  1.001974\n",
       "2015-06-01    1.327215     1.397917  1.006184  1.000667\n",
       "2015-07-01    1.656722     1.557059  1.026155  0.999350\n",
       "2015-08-01    1.828675     1.560910  1.047527  0.998023\n",
       "2015-09-01    1.279591     1.331053  0.928182  0.996701\n",
       "2015-10-01    0.903177     1.090279  0.968439  0.995384\n",
       "2015-11-01    0.529655     0.794319  1.027018  0.994073\n",
       "2015-12-01    0.510644     0.520340  1.005456  0.992765"
      ]
     },
     "execution_count": 12,
     "metadata": {},
     "output_type": "execute_result"
    }
   ],
   "source": [
    "mult_seasonal_2016 = mult_seasonal[(mult_seasonal.index>='2015-01-01')&(mult_seasonal.index<'2016-01-01')]\n",
    "mult_seasonal_2016"
   ]
  },
  {
   "cell_type": "markdown",
   "metadata": {},
   "source": [
    "#### Trend forecasts for 2016 (nights only)\n",
    "- non-seasonal forecasting methods ex. ARIMA or Holt's"
   ]
  },
  {
   "cell_type": "code",
   "execution_count": 13,
   "metadata": {},
   "outputs": [
    {
     "data": {
      "text/html": [
       "<div>\n",
       "<style scoped>\n",
       "    .dataframe tbody tr th:only-of-type {\n",
       "        vertical-align: middle;\n",
       "    }\n",
       "\n",
       "    .dataframe tbody tr th {\n",
       "        vertical-align: top;\n",
       "    }\n",
       "\n",
       "    .dataframe thead th {\n",
       "        text-align: right;\n",
       "    }\n",
       "</style>\n",
       "<table border=\"1\" class=\"dataframe\">\n",
       "  <thead>\n",
       "    <tr style=\"text-align: right;\">\n",
       "      <th></th>\n",
       "      <th>nights_PAC</th>\n",
       "      <th>avgtemp_PAC</th>\n",
       "      <th>daysoff</th>\n",
       "      <th>gdp_PAC</th>\n",
       "    </tr>\n",
       "  </thead>\n",
       "  <tbody>\n",
       "    <tr>\n",
       "      <th>2010-07-01</th>\n",
       "      <td>1769.145833</td>\n",
       "      <td>14.666667</td>\n",
       "      <td>9.875000</td>\n",
       "      <td>143242.681530</td>\n",
       "    </tr>\n",
       "    <tr>\n",
       "      <th>2010-08-01</th>\n",
       "      <td>1765.466667</td>\n",
       "      <td>14.833333</td>\n",
       "      <td>9.833333</td>\n",
       "      <td>143502.892859</td>\n",
       "    </tr>\n",
       "    <tr>\n",
       "      <th>2010-09-01</th>\n",
       "      <td>1764.709167</td>\n",
       "      <td>15.000000</td>\n",
       "      <td>9.833333</td>\n",
       "      <td>143763.104187</td>\n",
       "    </tr>\n",
       "    <tr>\n",
       "      <th>2010-10-01</th>\n",
       "      <td>1767.228333</td>\n",
       "      <td>15.166667</td>\n",
       "      <td>9.875000</td>\n",
       "      <td>144023.315516</td>\n",
       "    </tr>\n",
       "    <tr>\n",
       "      <th>2010-11-01</th>\n",
       "      <td>1766.691667</td>\n",
       "      <td>15.375000</td>\n",
       "      <td>9.791667</td>\n",
       "      <td>144283.526845</td>\n",
       "    </tr>\n",
       "  </tbody>\n",
       "</table>\n",
       "</div>"
      ],
      "text/plain": [
       "             nights_PAC  avgtemp_PAC   daysoff        gdp_PAC\n",
       "2010-07-01  1769.145833    14.666667  9.875000  143242.681530\n",
       "2010-08-01  1765.466667    14.833333  9.833333  143502.892859\n",
       "2010-09-01  1764.709167    15.000000  9.833333  143763.104187\n",
       "2010-10-01  1767.228333    15.166667  9.875000  144023.315516\n",
       "2010-11-01  1766.691667    15.375000  9.791667  144283.526845"
      ]
     },
     "execution_count": 13,
     "metadata": {},
     "output_type": "execute_result"
    }
   ],
   "source": [
    "mult_trend.head()"
   ]
  },
  {
   "cell_type": "code",
   "execution_count": 14,
   "metadata": {},
   "outputs": [
    {
     "name": "stdout",
     "output_type": "stream",
     "text": [
      "Fit ARIMA: order=(6, 1, 3); AIC=nan, BIC=nan, Fit time=nan seconds\n",
      "Fit ARIMA: order=(8, 1, 2); AIC=nan, BIC=nan, Fit time=nan seconds\n",
      "Fit ARIMA: order=(0, 1, 0); AIC=386.432, BIC=390.587, Fit time=0.007 seconds\n",
      "Fit ARIMA: order=(5, 1, 0); AIC=333.072, BIC=347.615, Fit time=0.205 seconds\n",
      "Fit ARIMA: order=(0, 1, 5); AIC=nan, BIC=nan, Fit time=nan seconds\n",
      "Fit ARIMA: order=(9, 1, 0); AIC=337.305, BIC=360.158, Fit time=1.099 seconds\n",
      "Fit ARIMA: order=(1, 1, 5); AIC=nan, BIC=nan, Fit time=nan seconds\n",
      "Fit ARIMA: order=(1, 1, 1); AIC=327.398, BIC=335.708, Fit time=0.141 seconds\n",
      "Fit ARIMA: order=(10, 1, 0); AIC=nan, BIC=nan, Fit time=nan seconds\n",
      "Fit ARIMA: order=(3, 1, 0); AIC=338.841, BIC=349.229, Fit time=0.132 seconds\n",
      "Total fit time: 1.654 seconds\n"
     ]
    },
    {
     "data": {
      "text/html": [
       "<table class=\"simpletable\">\n",
       "<caption>ARIMA Model Results</caption>\n",
       "<tr>\n",
       "  <th>Dep. Variable:</th>        <td>D.y</td>       <th>  No. Observations:  </th>    <td>59</td>   \n",
       "</tr>\n",
       "<tr>\n",
       "  <th>Model:</th>          <td>ARIMA(1, 1, 1)</td>  <th>  Log Likelihood     </th> <td>-159.699</td>\n",
       "</tr>\n",
       "<tr>\n",
       "  <th>Method:</th>             <td>css-mle</td>     <th>  S.D. of innovations</th>   <td>3.480</td> \n",
       "</tr>\n",
       "<tr>\n",
       "  <th>Date:</th>          <td>Sun, 19 Aug 2018</td> <th>  AIC                </th>  <td>327.398</td>\n",
       "</tr>\n",
       "<tr>\n",
       "  <th>Time:</th>              <td>21:00:49</td>     <th>  BIC                </th>  <td>335.708</td>\n",
       "</tr>\n",
       "<tr>\n",
       "  <th>Sample:</th>                <td>1</td>        <th>  HQIC               </th>  <td>330.642</td>\n",
       "</tr>\n",
       "<tr>\n",
       "  <th></th>                       <td> </td>        <th>                     </th>     <td> </td>   \n",
       "</tr>\n",
       "</table>\n",
       "<table class=\"simpletable\">\n",
       "<tr>\n",
       "      <td></td>         <th>coef</th>     <th>std err</th>      <th>z</th>      <th>P>|z|</th>  <th>[0.025</th>    <th>0.975]</th>  \n",
       "</tr>\n",
       "<tr>\n",
       "  <th>const</th>     <td>    1.1898</td> <td>    1.382</td> <td>    0.861</td> <td> 0.393</td> <td>   -1.518</td> <td>    3.898</td>\n",
       "</tr>\n",
       "<tr>\n",
       "  <th>ar.L1.D.y</th> <td>    0.3554</td> <td>    0.121</td> <td>    2.943</td> <td> 0.005</td> <td>    0.119</td> <td>    0.592</td>\n",
       "</tr>\n",
       "<tr>\n",
       "  <th>ma.L1.D.y</th> <td>    0.9999</td> <td>    0.067</td> <td>   14.886</td> <td> 0.000</td> <td>    0.868</td> <td>    1.132</td>\n",
       "</tr>\n",
       "</table>\n",
       "<table class=\"simpletable\">\n",
       "<caption>Roots</caption>\n",
       "<tr>\n",
       "    <td></td>   <th>            Real</th>  <th>         Imaginary</th> <th>         Modulus</th>  <th>        Frequency</th>\n",
       "</tr>\n",
       "<tr>\n",
       "  <th>AR.1</th> <td>           2.8134</td> <td>          +0.0000j</td> <td>           2.8134</td> <td>           0.0000</td>\n",
       "</tr>\n",
       "<tr>\n",
       "  <th>MA.1</th> <td>          -1.0001</td> <td>          +0.0000j</td> <td>           1.0001</td> <td>           0.5000</td>\n",
       "</tr>\n",
       "</table>"
      ],
      "text/plain": [
       "<class 'statsmodels.iolib.summary.Summary'>\n",
       "\"\"\"\n",
       "                             ARIMA Model Results                              \n",
       "==============================================================================\n",
       "Dep. Variable:                    D.y   No. Observations:                   59\n",
       "Model:                 ARIMA(1, 1, 1)   Log Likelihood                -159.699\n",
       "Method:                       css-mle   S.D. of innovations              3.480\n",
       "Date:                Sun, 19 Aug 2018   AIC                            327.398\n",
       "Time:                        21:00:49   BIC                            335.708\n",
       "Sample:                             1   HQIC                           330.642\n",
       "                                                                              \n",
       "==============================================================================\n",
       "                 coef    std err          z      P>|z|      [0.025      0.975]\n",
       "------------------------------------------------------------------------------\n",
       "const          1.1898      1.382      0.861      0.393      -1.518       3.898\n",
       "ar.L1.D.y      0.3554      0.121      2.943      0.005       0.119       0.592\n",
       "ma.L1.D.y      0.9999      0.067     14.886      0.000       0.868       1.132\n",
       "                                    Roots                                    \n",
       "=============================================================================\n",
       "                  Real          Imaginary           Modulus         Frequency\n",
       "-----------------------------------------------------------------------------\n",
       "AR.1            2.8134           +0.0000j            2.8134            0.0000\n",
       "MA.1           -1.0001           +0.0000j            1.0001            0.5000\n",
       "-----------------------------------------------------------------------------\n",
       "\"\"\""
      ]
     },
     "execution_count": 14,
     "metadata": {},
     "output_type": "execute_result"
    }
   ],
   "source": [
    "from pyramid.arima import auto_arima\n",
    "arima_trend = auto_arima(np.array(mult_trend.nights_PAC), start_p=0, start_q=0, max_p=20, max_q=20, m=12,\n",
    "                    start_P=0, max_P=20, seasonal=False, d=1, D=1, trace=True,\n",
    "                    error_action='ignore', suppress_warnings=True, stepwise=False, random=True, random_state=42) \n",
    "\n",
    "arima_trend.summary()\n"
   ]
  },
  {
   "cell_type": "code",
   "execution_count": 15,
   "metadata": {},
   "outputs": [
    {
     "data": {
      "text/plain": [
       "ARIMA(callback=None, disp=0, maxiter=50, method=None, order=(1, 1, 1),\n",
       "   out_of_sample_size=0, scoring='mse', scoring_args={},\n",
       "   seasonal_order=None, solver='lbfgs', start_params=None,\n",
       "   suppress_warnings=True, transparams=True, trend='c')"
      ]
     },
     "execution_count": 15,
     "metadata": {},
     "output_type": "execute_result"
    }
   ],
   "source": [
    "arima_trend.fit(mult_trend.nights_PAC)\n"
   ]
  },
  {
   "cell_type": "code",
   "execution_count": 16,
   "metadata": {},
   "outputs": [
    {
     "data": {
      "text/plain": [
       "array([1846.45350717, 1846.792287  , 1847.67958289, 1848.76184506,\n",
       "       1849.91340664, 1851.08960023, 1852.2745491 , 1853.46260997,\n",
       "       1854.65177698, 1855.84133717, 1857.0310371 , 1858.2207867 ])"
      ]
     },
     "execution_count": 16,
     "metadata": {},
     "output_type": "execute_result"
    }
   ],
   "source": [
    "arima_trend_forecast_2016 = arima_trend.predict(n_periods=12)\n",
    "arima_trend_forecast_2016"
   ]
  },
  {
   "cell_type": "code",
   "execution_count": 17,
   "metadata": {},
   "outputs": [
    {
     "data": {
      "text/plain": [
       "<matplotlib.axes._subplots.AxesSubplot at 0x1c20793b70>"
      ]
     },
     "execution_count": 17,
     "metadata": {},
     "output_type": "execute_result"
    },
    {
     "data": {
      "image/png": "[encoded data removed]",
      "text/plain": [
       "<Figure size 432x288 with 1 Axes>"
      ]
     },
     "metadata": {},
     "output_type": "display_data"
    }
   ],
   "source": [
    "arima_trend_forecast_2016_df = pd.DataFrame(arima_trend_forecast_2016)\n",
    "arima_trend_forecast_2016_df.plot()"
   ]
  },
  {
   "cell_type": "markdown",
   "metadata": {},
   "source": [
    "#### Residual forecasts for 2016 (produces forecasts for all but we will use nights forecast only)\n",
    "- VAR model\n",
    "- Takes all variables into account and gives predictions for all\n",
    "- We will be taking the VAR prediction for nights_PAC only"
   ]
  },
  {
   "cell_type": "code",
   "execution_count": 18,
   "metadata": {},
   "outputs": [
    {
     "data": {
      "text/html": [
       "<div>\n",
       "<style scoped>\n",
       "    .dataframe tbody tr th:only-of-type {\n",
       "        vertical-align: middle;\n",
       "    }\n",
       "\n",
       "    .dataframe tbody tr th {\n",
       "        vertical-align: top;\n",
       "    }\n",
       "\n",
       "    .dataframe thead th {\n",
       "        text-align: right;\n",
       "    }\n",
       "</style>\n",
       "<table border=\"1\" class=\"dataframe\">\n",
       "  <thead>\n",
       "    <tr style=\"text-align: right;\">\n",
       "      <th></th>\n",
       "      <th>nights_PAC</th>\n",
       "      <th>avgtemp_PAC</th>\n",
       "      <th>daysoff</th>\n",
       "      <th>gdp_PAC</th>\n",
       "    </tr>\n",
       "  </thead>\n",
       "  <tbody>\n",
       "    <tr>\n",
       "      <th>2010-07-01</th>\n",
       "      <td>1.008754</td>\n",
       "      <td>1.138510</td>\n",
       "      <td>1.085532</td>\n",
       "      <td>0.999742</td>\n",
       "    </tr>\n",
       "    <tr>\n",
       "      <th>2010-08-01</th>\n",
       "      <td>1.002161</td>\n",
       "      <td>1.036560</td>\n",
       "      <td>0.873729</td>\n",
       "      <td>0.999256</td>\n",
       "    </tr>\n",
       "    <tr>\n",
       "      <th>2010-09-01</th>\n",
       "      <td>0.999191</td>\n",
       "      <td>1.001714</td>\n",
       "      <td>0.986072</td>\n",
       "      <td>0.998770</td>\n",
       "    </tr>\n",
       "    <tr>\n",
       "      <th>2010-10-01</th>\n",
       "      <td>0.949383</td>\n",
       "      <td>0.907118</td>\n",
       "      <td>1.150226</td>\n",
       "      <td>0.998284</td>\n",
       "    </tr>\n",
       "    <tr>\n",
       "      <th>2010-11-01</th>\n",
       "      <td>0.973639</td>\n",
       "      <td>0.900706</td>\n",
       "      <td>0.994409</td>\n",
       "      <td>0.997799</td>\n",
       "    </tr>\n",
       "  </tbody>\n",
       "</table>\n",
       "</div>"
      ],
      "text/plain": [
       "            nights_PAC  avgtemp_PAC   daysoff   gdp_PAC\n",
       "2010-07-01    1.008754     1.138510  1.085532  0.999742\n",
       "2010-08-01    1.002161     1.036560  0.873729  0.999256\n",
       "2010-09-01    0.999191     1.001714  0.986072  0.998770\n",
       "2010-10-01    0.949383     0.907118  1.150226  0.998284\n",
       "2010-11-01    0.973639     0.900706  0.994409  0.997799"
      ]
     },
     "execution_count": 18,
     "metadata": {},
     "output_type": "execute_result"
    }
   ],
   "source": [
    "mult_residual.head()"
   ]
  },
  {
   "cell_type": "code",
   "execution_count": 39,
   "metadata": {
    "scrolled": true
   },
   "outputs": [
    {
     "name": "stdout",
     "output_type": "stream",
     "text": [
      "  Summary of Regression Results   \n",
      "==================================\n",
      "Model:                         VAR\n",
      "Method:                        OLS\n",
      "Date:           Sun, 19, Aug, 2018\n",
      "Time:                     21:01:45\n",
      "--------------------------------------------------------------------\n",
      "No. of Equations:         4.00000    BIC:                   -34.8682\n",
      "Nobs:                     49.0000    HQIC:                  -39.1811\n",
      "Log likelihood:           926.424    FPE:                1.35615e-16\n",
      "AIC:                     -41.8178    Det(Omega_mle):     1.00134e-17\n",
      "--------------------------------------------------------------------\n",
      "Results for equation nights_PAC\n",
      "==================================================================================\n",
      "                     coefficient       std. error           t-stat            prob\n",
      "----------------------------------------------------------------------------------\n",
      "const                 -13.477490         6.522741           -2.066           0.039\n",
      "L1.nights_PAC          -0.130783         0.341090           -0.383           0.701\n",
      "L1.avgtemp_PAC         -0.008648         0.058335           -0.148           0.882\n",
      "L1.daysoff              0.520409         0.243012            2.141           0.032\n",
      "L1.gdp_PAC             26.400337        10.020730            2.635           0.008\n",
      "L2.nights_PAC           1.713815         0.760310            2.254           0.024\n",
      "L2.avgtemp_PAC          0.019884         0.050216            0.396           0.692\n",
      "L2.daysoff              0.720771         0.322497            2.235           0.025\n",
      "L2.gdp_PAC            -20.170235         7.586466           -2.659           0.008\n",
      "L3.nights_PAC          -0.031599         0.205723           -0.154           0.878\n",
      "L3.avgtemp_PAC          0.015255         0.050172            0.304           0.761\n",
      "L3.daysoff              0.360315         0.186862            1.928           0.054\n",
      "L3.gdp_PAC              5.298901         4.008550            1.322           0.186\n",
      "L4.nights_PAC          -0.464270         0.204082           -2.275           0.023\n",
      "L4.avgtemp_PAC         -0.128042         0.074925           -1.709           0.087\n",
      "L4.daysoff              0.321645         0.204377            1.574           0.116\n",
      "L4.gdp_PAC             21.105960         8.403047            2.512           0.012\n",
      "L5.nights_PAC          -0.265031         0.167144           -1.586           0.113\n",
      "L5.avgtemp_PAC          0.085535         0.075294            1.136           0.256\n",
      "L5.daysoff              0.897031         0.308877            2.904           0.004\n",
      "L5.gdp_PAC            -15.893564         6.869292           -2.314           0.021\n",
      "L6.nights_PAC          -0.214758         0.165604           -1.297           0.195\n",
      "L6.avgtemp_PAC          0.187323         0.078126            2.398           0.016\n",
      "L6.daysoff              0.004912         0.195925            0.025           0.980\n",
      "L6.gdp_PAC              0.652587         2.064112            0.316           0.752\n",
      "L7.nights_PAC          -0.293985         0.267543           -1.099           0.272\n",
      "L7.avgtemp_PAC         -0.090129         0.070973           -1.270           0.204\n",
      "L7.daysoff             -0.766823         0.468278           -1.638           0.102\n",
      "L7.gdp_PAC              3.396425         2.077804            1.635           0.102\n",
      "L8.nights_PAC          -0.734010         0.446263           -1.645           0.100\n",
      "L8.avgtemp_PAC          0.052223         0.039094            1.336           0.182\n",
      "L8.daysoff             -0.608900         0.460189           -1.323           0.186\n",
      "L8.gdp_PAC             -6.349061         2.597298           -2.444           0.015\n",
      "L9.nights_PAC          -0.615411         0.296162           -2.078           0.038\n",
      "L9.avgtemp_PAC          0.039000         0.047569            0.820           0.412\n",
      "L9.daysoff             -0.737797         0.555209           -1.329           0.184\n",
      "L9.gdp_PAC             -1.221681         1.928860           -0.633           0.526\n",
      "L10.nights_PAC         -0.770877         0.276604           -2.787           0.005\n",
      "L10.avgtemp_PAC        -0.500779         0.180860           -2.769           0.006\n",
      "L10.daysoff            -1.542610         0.730895           -2.111           0.035\n",
      "L10.gdp_PAC            -0.726107         1.534887           -0.473           0.636\n",
      "L11.nights_PAC          0.302275         0.179438            1.685           0.092\n",
      "L11.avgtemp_PAC         0.158098         0.130665            1.210           0.226\n",
      "L11.daysoff            -1.099108         0.450281           -2.441           0.015\n",
      "L11.gdp_PAC             5.592424         2.663621            2.100           0.036\n",
      "==================================================================================\n",
      "\n",
      "Results for equation avgtemp_PAC\n",
      "==================================================================================\n",
      "                     coefficient       std. error           t-stat            prob\n",
      "----------------------------------------------------------------------------------\n",
      "const                   7.327326        46.289828            0.158           0.874\n",
      "L1.nights_PAC           2.003996         2.420608            0.828           0.408\n",
      "L1.avgtemp_PAC         -0.118614         0.413983           -0.287           0.774\n",
      "L1.daysoff              1.414046         1.724579            0.820           0.412\n",
      "L1.gdp_PAC             64.998698        71.113949            0.914           0.361\n",
      "L2.nights_PAC           6.722086         5.395679            1.246           0.213\n",
      "L2.avgtemp_PAC         -0.329428         0.356368           -0.924           0.355\n",
      "L2.daysoff              1.421325         2.288662            0.621           0.535\n",
      "L2.gdp_PAC            -41.573017        53.838743           -0.772           0.440\n",
      "L3.nights_PAC           0.181922         1.459949            0.125           0.901\n",
      "L3.avgtemp_PAC         -0.485270         0.356056           -1.363           0.173\n",
      "L3.daysoff              1.121323         1.326099            0.846           0.398\n",
      "L3.gdp_PAC              5.327910        28.447408            0.187           0.851\n",
      "L4.nights_PAC          -1.769628         1.448305           -1.222           0.222\n",
      "L4.avgtemp_PAC         -0.326301         0.531718           -0.614           0.539\n",
      "L4.daysoff              0.739507         1.450401            0.510           0.610\n",
      "L4.gdp_PAC             63.573711        59.633764            1.066           0.286\n",
      "L5.nights_PAC           0.505063         1.186170            0.426           0.670\n",
      "L5.avgtemp_PAC         -0.041828         0.534337           -0.078           0.938\n",
      "L5.daysoff              1.181826         2.192003            0.539           0.590\n",
      "L5.gdp_PAC            -44.019570        48.749190           -0.903           0.367\n",
      "L6.nights_PAC          -1.016772         1.175237           -0.865           0.387\n",
      "L6.avgtemp_PAC          0.450745         0.554435            0.813           0.416\n",
      "L6.daysoff             -1.388832         1.390416           -0.999           0.318\n",
      "L6.gdp_PAC            -15.128156        14.648349           -1.033           0.302\n",
      "L7.nights_PAC          -1.982432         1.898670           -1.044           0.296\n",
      "L7.avgtemp_PAC         -0.046460         0.503673           -0.092           0.927\n",
      "L7.daysoff             -4.111882         3.323224           -1.237           0.216\n",
      "L7.gdp_PAC             11.622259        14.745517            0.788           0.431\n",
      "L8.nights_PAC          -2.440890         3.166987           -0.771           0.441\n",
      "L8.avgtemp_PAC         -0.358507         0.277439           -1.292           0.196\n",
      "L8.daysoff             -3.952016         3.265818           -1.210           0.226\n",
      "L8.gdp_PAC            -28.131242        18.432203           -1.526           0.127\n",
      "L9.nights_PAC          -2.658038         2.101768           -1.265           0.206\n",
      "L9.avgtemp_PAC         -0.044121         0.337584           -0.131           0.896\n",
      "L9.daysoff             -3.884875         3.940140           -0.986           0.324\n",
      "L9.gdp_PAC             -7.568453        13.688511           -0.553           0.580\n",
      "L10.nights_PAC         -2.235861         1.962970           -1.139           0.255\n",
      "L10.avgtemp_PAC        -1.110722         1.283507           -0.865           0.387\n",
      "L10.daysoff            -5.507678         5.186930           -1.062           0.288\n",
      "L10.gdp_PAC            18.759878        10.892604            1.722           0.085\n",
      "L11.nights_PAC          0.736531         1.273417            0.578           0.563\n",
      "L11.avgtemp_PAC         0.819941         0.927289            0.884           0.377\n",
      "L11.daysoff            -3.233460         3.195504           -1.012           0.312\n",
      "L11.gdp_PAC           -14.427366        18.902873           -0.763           0.445\n",
      "==================================================================================\n",
      "\n",
      "Results for equation daysoff\n",
      "==================================================================================\n",
      "                     coefficient       std. error           t-stat            prob\n",
      "----------------------------------------------------------------------------------\n",
      "const                 -27.224402        12.198665           -2.232           0.026\n",
      "L1.nights_PAC          -0.607871         0.637898           -0.953           0.341\n",
      "L1.avgtemp_PAC         -0.296352         0.109096           -2.716           0.007\n",
      "L1.daysoff              0.340678         0.454475            0.750           0.453\n",
      "L1.gdp_PAC             41.097796        18.740516            2.193           0.028\n",
      "L2.nights_PAC           1.293748         1.421912            0.910           0.363\n",
      "L2.avgtemp_PAC          0.102273         0.093913            1.089           0.276\n",
      "L2.daysoff              0.776827         0.603126            1.288           0.198\n",
      "L2.gdp_PAC            -33.585836        14.188016           -2.367           0.018\n",
      "L3.nights_PAC           0.571908         0.384737            1.486           0.137\n",
      "L3.avgtemp_PAC          0.004697         0.093831            0.050           0.960\n",
      "L3.daysoff              0.100175         0.349464            0.287           0.774\n",
      "L3.gdp_PAC             11.220500         7.496688            1.497           0.134\n",
      "L4.nights_PAC          -0.975692         0.381669           -2.556           0.011\n",
      "L4.avgtemp_PAC         -0.234118         0.140122           -1.671           0.095\n",
      "L4.daysoff              0.323484         0.382221            0.846           0.397\n",
      "L4.gdp_PAC             35.567326        15.715166            2.263           0.024\n",
      "L5.nights_PAC          -0.676164         0.312589           -2.163           0.031\n",
      "L5.avgtemp_PAC          0.443500         0.140813            3.150           0.002\n",
      "L5.daysoff              1.253128         0.577654            2.169           0.030\n",
      "L5.gdp_PAC            -22.135913        12.846776           -1.723           0.085\n",
      "L6.nights_PAC          -0.674427         0.309708           -2.178           0.029\n",
      "L6.avgtemp_PAC          0.523381         0.146109            3.582           0.000\n",
      "L6.daysoff             -0.100919         0.366414           -0.275           0.783\n",
      "L6.gdp_PAC             -8.087074         3.860250           -2.095           0.036\n",
      "L7.nights_PAC          -0.205837         0.500353           -0.411           0.681\n",
      "L7.avgtemp_PAC         -0.370347         0.132732           -2.790           0.005\n",
      "L7.daysoff             -1.567686         0.875762           -1.790           0.073\n",
      "L7.gdp_PAC             10.835517         3.885857            2.788           0.005\n",
      "L8.nights_PAC          -1.877609         0.834590           -2.250           0.024\n",
      "L8.avgtemp_PAC          0.019386         0.073113            0.265           0.791\n",
      "L8.daysoff             -0.927182         0.860634           -1.077           0.281\n",
      "L8.gdp_PAC             -4.761904         4.857402           -0.980           0.327\n",
      "L9.nights_PAC          -0.593175         0.553875           -1.071           0.284\n",
      "L9.avgtemp_PAC          0.340303         0.088963            3.825           0.000\n",
      "L9.daysoff             -1.061457         1.038337           -1.022           0.307\n",
      "L9.gdp_PAC             -6.206989         3.607306           -1.721           0.085\n",
      "L10.nights_PAC         -0.792096         0.517298           -1.531           0.126\n",
      "L10.avgtemp_PAC        -0.691571         0.338240           -2.045           0.041\n",
      "L10.daysoff            -2.045168         1.366901           -1.496           0.135\n",
      "L10.gdp_PAC            -7.875880         2.870506           -2.744           0.006\n",
      "L11.nights_PAC         -1.127738         0.335581           -3.361           0.001\n",
      "L11.avgtemp_PAC         0.235261         0.244367            0.963           0.336\n",
      "L11.daysoff            -1.282631         0.842105           -1.523           0.128\n",
      "L11.gdp_PAC            21.940783         4.981436            4.405           0.000\n",
      "==================================================================================\n",
      "\n",
      "Results for equation gdp_PAC\n",
      "==================================================================================\n",
      "                     coefficient       std. error           t-stat            prob\n",
      "----------------------------------------------------------------------------------\n",
      "const                   1.374280         0.198541            6.922           0.000\n",
      "L1.nights_PAC          -0.038413         0.010382           -3.700           0.000\n",
      "L1.avgtemp_PAC          0.007589         0.001776            4.274           0.000\n",
      "L1.daysoff             -0.036197         0.007397           -4.894           0.000\n",
      "L1.gdp_PAC             -0.218733         0.305014           -0.717           0.473\n",
      "L2.nights_PAC          -0.026559         0.023143           -1.148           0.251\n",
      "L2.avgtemp_PAC         -0.002241         0.001528           -1.466           0.143\n",
      "L2.daysoff             -0.035267         0.009816           -3.593           0.000\n",
      "L2.gdp_PAC              0.487916         0.230919            2.113           0.035\n",
      "L3.nights_PAC           0.001856         0.006262            0.296           0.767\n",
      "L3.avgtemp_PAC          0.002744         0.001527            1.797           0.072\n",
      "L3.daysoff             -0.018634         0.005688           -3.276           0.001\n",
      "L3.gdp_PAC             -1.019446         0.122013           -8.355           0.000\n",
      "L4.nights_PAC           0.023113         0.006212            3.721           0.000\n",
      "L4.avgtemp_PAC         -0.002254         0.002281           -0.988           0.323\n",
      "L4.daysoff             -0.035356         0.006221           -5.683           0.000\n",
      "L4.gdp_PAC             -0.112302         0.255774           -0.439           0.661\n",
      "L5.nights_PAC           0.023096         0.005088            4.540           0.000\n",
      "L5.avgtemp_PAC         -0.017761         0.002292           -7.750           0.000\n",
      "L5.daysoff             -0.020708         0.009402           -2.203           0.028\n",
      "L5.gdp_PAC              0.479621         0.209089            2.294           0.022\n",
      "L6.nights_PAC           0.038532         0.005041            7.644           0.000\n",
      "L6.avgtemp_PAC         -0.006498         0.002378           -2.732           0.006\n",
      "L6.daysoff              0.034549         0.005964            5.793           0.000\n",
      "L6.gdp_PAC              0.029912         0.062828            0.476           0.634\n",
      "L7.nights_PAC           0.031691         0.008144            3.892           0.000\n",
      "L7.avgtemp_PAC          0.010373         0.002160            4.802           0.000\n",
      "L7.daysoff              0.065781         0.014254            4.615           0.000\n",
      "L7.gdp_PAC             -0.040484         0.063245           -0.640           0.522\n",
      "L8.nights_PAC           0.059482         0.013583            4.379           0.000\n",
      "L8.avgtemp_PAC         -0.001216         0.001190           -1.022           0.307\n",
      "L8.daysoff              0.057430         0.014007            4.100           0.000\n",
      "L8.gdp_PAC              0.111420         0.079057            1.409           0.159\n",
      "L9.nights_PAC           0.029578         0.009015            3.281           0.001\n",
      "L9.avgtemp_PAC          0.007953         0.001448            5.493           0.000\n",
      "L9.daysoff              0.077135         0.016900            4.564           0.000\n",
      "L9.gdp_PAC              0.128202         0.058711            2.184           0.029\n",
      "L10.nights_PAC          0.003980         0.008419            0.473           0.636\n",
      "L10.avgtemp_PAC         0.004863         0.005505            0.883           0.377\n",
      "L10.daysoff             0.077908         0.022247            3.502           0.000\n",
      "L10.gdp_PAC             0.078880         0.046719            1.688           0.091\n",
      "L11.nights_PAC          0.025760         0.005462            4.716           0.000\n",
      "L11.avgtemp_PAC         0.000174         0.003977            0.044           0.965\n",
      "L11.daysoff             0.025718         0.013706            1.876           0.061\n",
      "L11.gdp_PAC            -0.667630         0.081076           -8.235           0.000\n",
      "==================================================================================\n",
      "\n",
      "Correlation matrix of residuals\n",
      "               nights_PAC  avgtemp_PAC   daysoff   gdp_PAC\n",
      "nights_PAC       1.000000     0.302779 -0.677616  0.395089\n",
      "avgtemp_PAC      0.302779     1.000000 -0.688256  0.741175\n",
      "daysoff         -0.677616    -0.688256  1.000000 -0.777910\n",
      "gdp_PAC          0.395089     0.741175 -0.777910  1.000000\n",
      "\n",
      "\n",
      "\n"
     ]
    },
    {
     "name": "stderr",
     "output_type": "stream",
     "text": [
      "/Users/jinny/anaconda3/lib/python3.6/site-packages/statsmodels/tsa/base/tsa_model.py:171: ValueWarning: No frequency information was provided, so inferred frequency MS will be used.\n",
      "  % freq, ValueWarning)\n"
     ]
    }
   ],
   "source": [
    "from statsmodels.tsa.api import VAR, DynamicVAR\n",
    "\n",
    "model = VAR(mult_residual, dates=mult_residual.index)\n",
    "\n",
    "# lagorder_results = model.select_order(12)\n",
    "# print(lagorder_results.summary())\n",
    "\n",
    "results = model.fit(maxlags=11, ic='aic')\n",
    "print(results.summary())"
   ]
  },
  {
   "cell_type": "code",
   "execution_count": 20,
   "metadata": {},
   "outputs": [
    {
     "name": "stdout",
     "output_type": "stream",
     "text": [
      "11\n"
     ]
    },
    {
     "data": {
      "text/plain": [
       "array([[1.01779952, 0.99359299, 1.05942543, 1.00062402],\n",
       "       [0.99694245, 1.08346393, 0.94286745, 0.99962199],\n",
       "       [0.9954525 , 1.04726294, 0.94884353, 0.99882955],\n",
       "       [0.97867523, 0.991415  , 1.1102652 , 0.99859344],\n",
       "       [0.96637076, 0.92151182, 0.96162506, 1.00091983],\n",
       "       [1.0112017 , 0.77738818, 0.93841724, 1.00118098],\n",
       "       [1.03624578, 0.96127179, 1.04021945, 1.0042267 ],\n",
       "       [1.00986491, 1.06565244, 1.08542012, 1.0010574 ],\n",
       "       [0.9669747 , 1.03206409, 0.91446888, 1.00000298],\n",
       "       [1.01510209, 1.02696452, 1.06435238, 1.00045568],\n",
       "       [0.9730436 , 1.08405881, 0.83922206, 1.00259277],\n",
       "       [1.01633206, 1.01413695, 1.01681212, 0.9994195 ]])"
      ]
     },
     "execution_count": 20,
     "metadata": {},
     "output_type": "execute_result"
    }
   ],
   "source": [
    "lag_order = results.k_ar\n",
    "print(lag_order)\n",
    "\n",
    "mult_resid_forecast_2016 = results.forecast(mult_residual.values[-lag_order:], 12)\n",
    "mult_resid_forecast_2016"
   ]
  },
  {
   "cell_type": "code",
   "execution_count": 21,
   "metadata": {},
   "outputs": [
    {
     "data": {
      "text/html": [
       "<div>\n",
       "<style scoped>\n",
       "    .dataframe tbody tr th:only-of-type {\n",
       "        vertical-align: middle;\n",
       "    }\n",
       "\n",
       "    .dataframe tbody tr th {\n",
       "        vertical-align: top;\n",
       "    }\n",
       "\n",
       "    .dataframe thead th {\n",
       "        text-align: right;\n",
       "    }\n",
       "</style>\n",
       "<table border=\"1\" class=\"dataframe\">\n",
       "  <thead>\n",
       "    <tr style=\"text-align: right;\">\n",
       "      <th></th>\n",
       "      <th>0</th>\n",
       "      <th>1</th>\n",
       "      <th>2</th>\n",
       "      <th>3</th>\n",
       "    </tr>\n",
       "  </thead>\n",
       "  <tbody>\n",
       "    <tr>\n",
       "      <th>0</th>\n",
       "      <td>1.017800</td>\n",
       "      <td>0.993593</td>\n",
       "      <td>1.059425</td>\n",
       "      <td>1.000624</td>\n",
       "    </tr>\n",
       "    <tr>\n",
       "      <th>1</th>\n",
       "      <td>0.996942</td>\n",
       "      <td>1.083464</td>\n",
       "      <td>0.942867</td>\n",
       "      <td>0.999622</td>\n",
       "    </tr>\n",
       "    <tr>\n",
       "      <th>2</th>\n",
       "      <td>0.995452</td>\n",
       "      <td>1.047263</td>\n",
       "      <td>0.948844</td>\n",
       "      <td>0.998830</td>\n",
       "    </tr>\n",
       "    <tr>\n",
       "      <th>3</th>\n",
       "      <td>0.978675</td>\n",
       "      <td>0.991415</td>\n",
       "      <td>1.110265</td>\n",
       "      <td>0.998593</td>\n",
       "    </tr>\n",
       "    <tr>\n",
       "      <th>4</th>\n",
       "      <td>0.966371</td>\n",
       "      <td>0.921512</td>\n",
       "      <td>0.961625</td>\n",
       "      <td>1.000920</td>\n",
       "    </tr>\n",
       "    <tr>\n",
       "      <th>5</th>\n",
       "      <td>1.011202</td>\n",
       "      <td>0.777388</td>\n",
       "      <td>0.938417</td>\n",
       "      <td>1.001181</td>\n",
       "    </tr>\n",
       "    <tr>\n",
       "      <th>6</th>\n",
       "      <td>1.036246</td>\n",
       "      <td>0.961272</td>\n",
       "      <td>1.040219</td>\n",
       "      <td>1.004227</td>\n",
       "    </tr>\n",
       "    <tr>\n",
       "      <th>7</th>\n",
       "      <td>1.009865</td>\n",
       "      <td>1.065652</td>\n",
       "      <td>1.085420</td>\n",
       "      <td>1.001057</td>\n",
       "    </tr>\n",
       "    <tr>\n",
       "      <th>8</th>\n",
       "      <td>0.966975</td>\n",
       "      <td>1.032064</td>\n",
       "      <td>0.914469</td>\n",
       "      <td>1.000003</td>\n",
       "    </tr>\n",
       "    <tr>\n",
       "      <th>9</th>\n",
       "      <td>1.015102</td>\n",
       "      <td>1.026965</td>\n",
       "      <td>1.064352</td>\n",
       "      <td>1.000456</td>\n",
       "    </tr>\n",
       "    <tr>\n",
       "      <th>10</th>\n",
       "      <td>0.973044</td>\n",
       "      <td>1.084059</td>\n",
       "      <td>0.839222</td>\n",
       "      <td>1.002593</td>\n",
       "    </tr>\n",
       "    <tr>\n",
       "      <th>11</th>\n",
       "      <td>1.016332</td>\n",
       "      <td>1.014137</td>\n",
       "      <td>1.016812</td>\n",
       "      <td>0.999420</td>\n",
       "    </tr>\n",
       "  </tbody>\n",
       "</table>\n",
       "</div>"
      ],
      "text/plain": [
       "           0         1         2         3\n",
       "0   1.017800  0.993593  1.059425  1.000624\n",
       "1   0.996942  1.083464  0.942867  0.999622\n",
       "2   0.995452  1.047263  0.948844  0.998830\n",
       "3   0.978675  0.991415  1.110265  0.998593\n",
       "4   0.966371  0.921512  0.961625  1.000920\n",
       "5   1.011202  0.777388  0.938417  1.001181\n",
       "6   1.036246  0.961272  1.040219  1.004227\n",
       "7   1.009865  1.065652  1.085420  1.001057\n",
       "8   0.966975  1.032064  0.914469  1.000003\n",
       "9   1.015102  1.026965  1.064352  1.000456\n",
       "10  0.973044  1.084059  0.839222  1.002593\n",
       "11  1.016332  1.014137  1.016812  0.999420"
      ]
     },
     "execution_count": 21,
     "metadata": {},
     "output_type": "execute_result"
    }
   ],
   "source": [
    "mult_resid_forecast_2016_df = pd.DataFrame(mult_resid_forecast_2016)\n",
    "mult_resid_forecast_2016_df"
   ]
  },
  {
   "cell_type": "markdown",
   "metadata": {},
   "source": [
    "#### Putting the decomposed forecasts back together (multiplicative; nights only)"
   ]
  },
  {
   "cell_type": "code",
   "execution_count": 22,
   "metadata": {},
   "outputs": [
    {
     "data": {
      "text/html": [
       "<div>\n",
       "<style scoped>\n",
       "    .dataframe tbody tr th:only-of-type {\n",
       "        vertical-align: middle;\n",
       "    }\n",
       "\n",
       "    .dataframe tbody tr th {\n",
       "        vertical-align: top;\n",
       "    }\n",
       "\n",
       "    .dataframe thead th {\n",
       "        text-align: right;\n",
       "    }\n",
       "</style>\n",
       "<table border=\"1\" class=\"dataframe\">\n",
       "  <thead>\n",
       "    <tr style=\"text-align: right;\">\n",
       "      <th></th>\n",
       "      <th>0</th>\n",
       "    </tr>\n",
       "  </thead>\n",
       "  <tbody>\n",
       "    <tr>\n",
       "      <th>0</th>\n",
       "      <td>0.504709</td>\n",
       "    </tr>\n",
       "    <tr>\n",
       "      <th>1</th>\n",
       "      <td>0.585774</td>\n",
       "    </tr>\n",
       "  </tbody>\n",
       "</table>\n",
       "</div>"
      ],
      "text/plain": [
       "          0\n",
       "0  0.504709\n",
       "1  0.585774"
      ]
     },
     "execution_count": 22,
     "metadata": {},
     "output_type": "execute_result"
    }
   ],
   "source": [
    "mult_seasonal_2016_array = mult_seasonal_2016.nights_PAC.values\n",
    "mult_seasonal_2016_df = pd.DataFrame(mult_seasonal_2016_array)\n",
    "mult_seasonal_2016_df.head(2)\n"
   ]
  },
  {
   "cell_type": "markdown",
   "metadata": {},
   "source": [
    "### 2016 Nights forecast"
   ]
  },
  {
   "cell_type": "code",
   "execution_count": 23,
   "metadata": {},
   "outputs": [
    {
     "data": {
      "text/plain": [
       "0      948.508624\n",
       "1     1078.495795\n",
       "2     1385.964293\n",
       "3     1723.648234\n",
       "4     2087.428929\n",
       "5     2484.313688\n",
       "6     3179.931119\n",
       "7     3422.816415\n",
       "8     2294.820282\n",
       "9     1701.466886\n",
       "10     957.071912\n",
       "11     964.387052\n",
       "Name: 0, dtype: float64"
      ]
     },
     "execution_count": 23,
     "metadata": {},
     "output_type": "execute_result"
    }
   ],
   "source": [
    "forecast_2016 = mult_seasonal_2016_df[0] * arima_trend_forecast_2016_df[0] * mult_resid_forecast_2016_df[0]\n",
    "forecast_2016"
   ]
  },
  {
   "cell_type": "markdown",
   "metadata": {},
   "source": [
    "#### Actual values for 2016"
   ]
  },
  {
   "cell_type": "code",
   "execution_count": 24,
   "metadata": {},
   "outputs": [
    {
     "data": {
      "text/html": [
       "<div>\n",
       "<style scoped>\n",
       "    .dataframe tbody tr th:only-of-type {\n",
       "        vertical-align: middle;\n",
       "    }\n",
       "\n",
       "    .dataframe tbody tr th {\n",
       "        vertical-align: top;\n",
       "    }\n",
       "\n",
       "    .dataframe thead th {\n",
       "        text-align: right;\n",
       "    }\n",
       "</style>\n",
       "<table border=\"1\" class=\"dataframe\">\n",
       "  <thead>\n",
       "    <tr style=\"text-align: right;\">\n",
       "      <th></th>\n",
       "      <th>0</th>\n",
       "    </tr>\n",
       "  </thead>\n",
       "  <tbody>\n",
       "    <tr>\n",
       "      <th>0</th>\n",
       "      <td>956.28</td>\n",
       "    </tr>\n",
       "    <tr>\n",
       "      <th>1</th>\n",
       "      <td>1141.47</td>\n",
       "    </tr>\n",
       "  </tbody>\n",
       "</table>\n",
       "</div>"
      ],
      "text/plain": [
       "         0\n",
       "0   956.28\n",
       "1  1141.47"
      ]
     },
     "execution_count": 24,
     "metadata": {},
     "output_type": "execute_result"
    }
   ],
   "source": [
    "nights_PAC_2016 = data_PAC[(data_PAC.index>='2016-01-01')&(data_PAC.index<'2017-01-01')]\n",
    "nights_PAC_2016 = np.array(nights_PAC_2016.nights_PAC)\n",
    "nights_PAC_2016_df = pd.DataFrame(nights_PAC_2016)\n",
    "nights_PAC_2016_df.head(2)"
   ]
  },
  {
   "cell_type": "markdown",
   "metadata": {},
   "source": [
    "### Compare with real number of nights in 2016"
   ]
  },
  {
   "cell_type": "markdown",
   "metadata": {},
   "source": [
    "#### AIC for 2016 forecast"
   ]
  },
  {
   "cell_type": "code",
   "execution_count": 25,
   "metadata": {},
   "outputs": [
    {
     "data": {
      "text/plain": [
       "-41.817774481635546"
      ]
     },
     "execution_count": 25,
     "metadata": {},
     "output_type": "execute_result"
    }
   ],
   "source": [
    "results.aic"
   ]
  },
  {
   "cell_type": "markdown",
   "metadata": {},
   "source": [
    "#### MASE for 2016 forecast"
   ]
  },
  {
   "cell_type": "markdown",
   "metadata": {},
   "source": [
    "#### Function to calculate seasonal MASE\n",
    "- Doesn't work properly in this specific case as forecast includes only 12 months of data into the future"
   ]
  },
  {
   "cell_type": "code",
   "execution_count": 26,
   "metadata": {},
   "outputs": [],
   "source": [
    "# Define seasonality as 12 (monthly data) in argument when ground truth data includes at least 24 months\n",
    "\n",
    "def seasonal_MASE(truth, forecast, seasonality=1):    \n",
    "    period = truth.shape[0] # T\n",
    "    # print(period)\n",
    "    forecast_errors = np.abs(truth - forecast)\n",
    "    # print(forecast_errors)\n",
    "    mean_absolute_forecast_error = np.sum(forecast_errors) / period\n",
    "    # print(mean_absolute_forecast_error)\n",
    "\n",
    "    naive_period = truth.shape[0] - seasonality # T - m\n",
    "    # print(naive_period)\n",
    "    # print(truth[seasonality:])\n",
    "    # print(truth[:period - seasonality])\n",
    "    naive_errors = np.abs(truth[seasonality:] - truth[:period - seasonality])\n",
    "    mean_absolute_naive_error = np.sum(naive_errors) / naive_period\n",
    "    \n",
    "    return mean_absolute_forecast_error / mean_absolute_naive_error"
   ]
  },
  {
   "cell_type": "markdown",
   "metadata": {},
   "source": [
    "#### MASE for 2016 forecast\n",
    "\n",
    "$$\n",
    "\\text{MASE} = \\dfrac{\\text{MAE}(\\text{our method})}{\\text{MAE}(\\text{seasonal naive})}\n",
    "$$\n",
    "\n",
    "- How good our predictions are compared to the simplest model possible (seasonal naive)\n",
    "- MAE is compared between the two models (our model and seasonal naive model)\n",
    "- A seasonal naive model repeats the same value from the last period\n",
    "    - ex. Oct 2015 had 540 nights so seasonal naive thinks Oct 2016 will have 540 nights as well\n",
    "    - At MASE = 1, it means the predictions are just as good as a seasonal naive model\n",
    "    \n",
    "Goal: We want to have an MASE much less than 1\n",
    "\n",
    "**MASE for our 2016 forecast** tells us that the error of our model is 25% of the seasonal naive model's error\n",
    "> This means *4 times less error* than the seasonal naive model's error"
   ]
  },
  {
   "cell_type": "code",
   "execution_count": 27,
   "metadata": {},
   "outputs": [
    {
     "name": "stdout",
     "output_type": "stream",
     "text": [
      "MASE: 0.253320\n"
     ]
    }
   ],
   "source": [
    "MASE_2016 = seasonal_MASE(nights_PAC_2016, forecast_2016)\n",
    "print('MASE: %f' % MASE_2016)"
   ]
  },
  {
   "cell_type": "markdown",
   "metadata": {},
   "source": [
    "#### RMSE and MAE for 2016 forecast\n",
    "- RMSE: For a given month, our 2016 forecast is usually off by about 140 hotel nights (give or take)\n",
    "    - RMSE is sensitive to large errors because the error of each wrong prediction is squared\n",
    "\n",
    "\n",
    "- MAE: For a given month, out 2016 forecast is usually off by about 96 hotel nights (give or take)\n",
    "    - MAE doesn't penalize large errors (unlike RMSE), it gives equal weight to all kinds of errors"
   ]
  },
  {
   "cell_type": "code",
   "execution_count": 28,
   "metadata": {},
   "outputs": [
    {
     "data": {
      "text/plain": [
       "(140.63403519776654, 96.91500164983468)"
      ]
     },
     "execution_count": 28,
     "metadata": {},
     "output_type": "execute_result"
    }
   ],
   "source": [
    "from sklearn.metrics import mean_squared_error, mean_absolute_error\n",
    "\n",
    "rmse_2016 = np.sqrt(mean_squared_error(nights_PAC_2016, forecast_2016))\n",
    "mae_2016 = mean_absolute_error(nights_PAC_2016, forecast_2016)\n",
    "rmse_2016, mae_2016"
   ]
  },
  {
   "cell_type": "markdown",
   "metadata": {},
   "source": [
    "#### Predictions vs. Ground truth for Hotel nights PAC 2016"
   ]
  },
  {
   "cell_type": "code",
   "execution_count": 29,
   "metadata": {},
   "outputs": [
    {
     "data": {
      "text/plain": [
       "<matplotlib.legend.Legend at 0x10a836f60>"
      ]
     },
     "execution_count": 29,
     "metadata": {},
     "output_type": "execute_result"
    },
    {
     "data": {
      "image/png": "[encoded data removed]",
      "text/plain": [
       "<Figure size 432x288 with 1 Axes>"
      ]
     },
     "metadata": {},
     "output_type": "display_data"
    }
   ],
   "source": [
    "nights_PAC_2016_df.plot(label='Real')\n",
    "forecast_2016.plot(label='Forecast')\n",
    "plt.legend()"
   ]
  },
  {
   "cell_type": "markdown",
   "metadata": {},
   "source": [
    "### Extra - 2017 forecast comparison"
   ]
  },
  {
   "cell_type": "code",
   "execution_count": 30,
   "metadata": {},
   "outputs": [
    {
     "data": {
      "text/html": [
       "<div>\n",
       "<style scoped>\n",
       "    .dataframe tbody tr th:only-of-type {\n",
       "        vertical-align: middle;\n",
       "    }\n",
       "\n",
       "    .dataframe tbody tr th {\n",
       "        vertical-align: top;\n",
       "    }\n",
       "\n",
       "    .dataframe thead th {\n",
       "        text-align: right;\n",
       "    }\n",
       "</style>\n",
       "<table border=\"1\" class=\"dataframe\">\n",
       "  <thead>\n",
       "    <tr style=\"text-align: right;\">\n",
       "      <th></th>\n",
       "      <th>0</th>\n",
       "      <th>1</th>\n",
       "      <th>2</th>\n",
       "      <th>3</th>\n",
       "    </tr>\n",
       "  </thead>\n",
       "  <tbody>\n",
       "    <tr>\n",
       "      <th>0</th>\n",
       "      <td>1.017800</td>\n",
       "      <td>0.993593</td>\n",
       "      <td>1.059425</td>\n",
       "      <td>1.000624</td>\n",
       "    </tr>\n",
       "    <tr>\n",
       "      <th>1</th>\n",
       "      <td>0.996942</td>\n",
       "      <td>1.083464</td>\n",
       "      <td>0.942867</td>\n",
       "      <td>0.999622</td>\n",
       "    </tr>\n",
       "    <tr>\n",
       "      <th>2</th>\n",
       "      <td>0.995452</td>\n",
       "      <td>1.047263</td>\n",
       "      <td>0.948844</td>\n",
       "      <td>0.998830</td>\n",
       "    </tr>\n",
       "    <tr>\n",
       "      <th>3</th>\n",
       "      <td>0.978675</td>\n",
       "      <td>0.991415</td>\n",
       "      <td>1.110265</td>\n",
       "      <td>0.998593</td>\n",
       "    </tr>\n",
       "    <tr>\n",
       "      <th>4</th>\n",
       "      <td>0.966371</td>\n",
       "      <td>0.921512</td>\n",
       "      <td>0.961625</td>\n",
       "      <td>1.000920</td>\n",
       "    </tr>\n",
       "  </tbody>\n",
       "</table>\n",
       "</div>"
      ],
      "text/plain": [
       "          0         1         2         3\n",
       "0  1.017800  0.993593  1.059425  1.000624\n",
       "1  0.996942  1.083464  0.942867  0.999622\n",
       "2  0.995452  1.047263  0.948844  0.998830\n",
       "3  0.978675  0.991415  1.110265  0.998593\n",
       "4  0.966371  0.921512  0.961625  1.000920"
      ]
     },
     "execution_count": 30,
     "metadata": {},
     "output_type": "execute_result"
    }
   ],
   "source": [
    "mult_resid_forecast_2017 = results.forecast(mult_residual.values[-lag_order:], 24)\n",
    "mult_resid_forecast_2017_df = pd.DataFrame(mult_resid_forecast_2017)\n",
    "mult_resid_forecast_2017_df.head()"
   ]
  },
  {
   "cell_type": "code",
   "execution_count": 31,
   "metadata": {},
   "outputs": [
    {
     "data": {
      "text/html": [
       "<div>\n",
       "<style scoped>\n",
       "    .dataframe tbody tr th:only-of-type {\n",
       "        vertical-align: middle;\n",
       "    }\n",
       "\n",
       "    .dataframe tbody tr th {\n",
       "        vertical-align: top;\n",
       "    }\n",
       "\n",
       "    .dataframe thead th {\n",
       "        text-align: right;\n",
       "    }\n",
       "</style>\n",
       "<table border=\"1\" class=\"dataframe\">\n",
       "  <thead>\n",
       "    <tr style=\"text-align: right;\">\n",
       "      <th></th>\n",
       "      <th>0</th>\n",
       "    </tr>\n",
       "  </thead>\n",
       "  <tbody>\n",
       "    <tr>\n",
       "      <th>0</th>\n",
       "      <td>0.504709</td>\n",
       "    </tr>\n",
       "    <tr>\n",
       "      <th>1</th>\n",
       "      <td>0.585774</td>\n",
       "    </tr>\n",
       "    <tr>\n",
       "      <th>2</th>\n",
       "      <td>0.753537</td>\n",
       "    </tr>\n",
       "    <tr>\n",
       "      <th>3</th>\n",
       "      <td>0.952641</td>\n",
       "    </tr>\n",
       "    <tr>\n",
       "      <th>4</th>\n",
       "      <td>1.167660</td>\n",
       "    </tr>\n",
       "  </tbody>\n",
       "</table>\n",
       "</div>"
      ],
      "text/plain": [
       "          0\n",
       "0  0.504709\n",
       "1  0.585774\n",
       "2  0.753537\n",
       "3  0.952641\n",
       "4  1.167660"
      ]
     },
     "execution_count": 31,
     "metadata": {},
     "output_type": "execute_result"
    }
   ],
   "source": [
    "# Same seasonal values as 2015\n",
    "mult_seasonal_2016_df.head()"
   ]
  },
  {
   "cell_type": "code",
   "execution_count": 32,
   "metadata": {},
   "outputs": [
    {
     "data": {
      "text/html": [
       "<div>\n",
       "<style scoped>\n",
       "    .dataframe tbody tr th:only-of-type {\n",
       "        vertical-align: middle;\n",
       "    }\n",
       "\n",
       "    .dataframe tbody tr th {\n",
       "        vertical-align: top;\n",
       "    }\n",
       "\n",
       "    .dataframe thead th {\n",
       "        text-align: right;\n",
       "    }\n",
       "</style>\n",
       "<table border=\"1\" class=\"dataframe\">\n",
       "  <thead>\n",
       "    <tr style=\"text-align: right;\">\n",
       "      <th></th>\n",
       "      <th>0</th>\n",
       "    </tr>\n",
       "  </thead>\n",
       "  <tbody>\n",
       "    <tr>\n",
       "      <th>0</th>\n",
       "      <td>1846.453507</td>\n",
       "    </tr>\n",
       "    <tr>\n",
       "      <th>1</th>\n",
       "      <td>1846.792287</td>\n",
       "    </tr>\n",
       "    <tr>\n",
       "      <th>2</th>\n",
       "      <td>1847.679583</td>\n",
       "    </tr>\n",
       "    <tr>\n",
       "      <th>3</th>\n",
       "      <td>1848.761845</td>\n",
       "    </tr>\n",
       "    <tr>\n",
       "      <th>4</th>\n",
       "      <td>1849.913407</td>\n",
       "    </tr>\n",
       "  </tbody>\n",
       "</table>\n",
       "</div>"
      ],
      "text/plain": [
       "             0\n",
       "0  1846.453507\n",
       "1  1846.792287\n",
       "2  1847.679583\n",
       "3  1848.761845\n",
       "4  1849.913407"
      ]
     },
     "execution_count": 32,
     "metadata": {},
     "output_type": "execute_result"
    }
   ],
   "source": [
    "arima_trend_forecast_2017 = arima_trend.predict(n_periods=24)\n",
    "arima_trend_forecast_2017_df = pd.DataFrame(arima_trend_forecast_2017)\n",
    "arima_trend_forecast_2017_df.head()"
   ]
  },
  {
   "cell_type": "code",
   "execution_count": 33,
   "metadata": {},
   "outputs": [
    {
     "data": {
      "text/html": [
       "<div>\n",
       "<style scoped>\n",
       "    .dataframe tbody tr th:only-of-type {\n",
       "        vertical-align: middle;\n",
       "    }\n",
       "\n",
       "    .dataframe tbody tr th {\n",
       "        vertical-align: top;\n",
       "    }\n",
       "\n",
       "    .dataframe thead th {\n",
       "        text-align: right;\n",
       "    }\n",
       "</style>\n",
       "<table border=\"1\" class=\"dataframe\">\n",
       "  <thead>\n",
       "    <tr style=\"text-align: right;\">\n",
       "      <th></th>\n",
       "      <th>0</th>\n",
       "    </tr>\n",
       "  </thead>\n",
       "  <tbody>\n",
       "    <tr>\n",
       "      <th>0</th>\n",
       "      <td>1000.33</td>\n",
       "    </tr>\n",
       "    <tr>\n",
       "      <th>1</th>\n",
       "      <td>1148.06</td>\n",
       "    </tr>\n",
       "    <tr>\n",
       "      <th>2</th>\n",
       "      <td>1409.69</td>\n",
       "    </tr>\n",
       "    <tr>\n",
       "      <th>3</th>\n",
       "      <td>2011.76</td>\n",
       "    </tr>\n",
       "    <tr>\n",
       "      <th>4</th>\n",
       "      <td>2092.09</td>\n",
       "    </tr>\n",
       "  </tbody>\n",
       "</table>\n",
       "</div>"
      ],
      "text/plain": [
       "         0\n",
       "0  1000.33\n",
       "1  1148.06\n",
       "2  1409.69\n",
       "3  2011.76\n",
       "4  2092.09"
      ]
     },
     "execution_count": 33,
     "metadata": {},
     "output_type": "execute_result"
    }
   ],
   "source": [
    "nights_PAC_2017 = data_PAC[(data_PAC.index>='2017-01-01')&(data_PAC.index<'2017-12-02')]\n",
    "nights_PAC_2017 = np.array(nights_PAC_2017.nights_PAC)\n",
    "nights_PAC_2017_df = pd.DataFrame(nights_PAC_2017)\n",
    "nights_PAC_2017_df.head()"
   ]
  },
  {
   "cell_type": "code",
   "execution_count": 34,
   "metadata": {},
   "outputs": [
    {
     "data": {
      "text/plain": [
       "0      951.379573\n",
       "1     1081.717169\n",
       "2     1418.559845\n",
       "3     1809.919582\n",
       "4     2132.830487\n",
       "5     2410.677844\n",
       "6     3071.550715\n",
       "7     3347.361214\n",
       "8     2505.290423\n",
       "9     1702.957604\n",
       "10     968.919851\n",
       "11     970.173610\n",
       "dtype: float64"
      ]
     },
     "execution_count": 34,
     "metadata": {},
     "output_type": "execute_result"
    }
   ],
   "source": [
    "nights_resid_2017 = mult_resid_forecast_2017_df[0][12:24]\n",
    "forecast_2017 = mult_seasonal_2016_df[0].values * arima_trend_forecast_2017_df[12:24].values.transpose()[0] * nights_resid_2017.values.transpose()\n",
    "forecast_2017_df = pd.Series(forecast_2017.transpose())\n",
    "forecast_2017_df"
   ]
  },
  {
   "cell_type": "code",
   "execution_count": 35,
   "metadata": {},
   "outputs": [
    {
     "data": {
      "text/plain": [
       "<matplotlib.legend.Legend at 0x10a82acf8>"
      ]
     },
     "execution_count": 35,
     "metadata": {},
     "output_type": "execute_result"
    },
    {
     "data": {
      "image/png": "[encoded data removed]",
      "text/plain": [
       "<Figure size 432x288 with 1 Axes>"
      ]
     },
     "metadata": {},
     "output_type": "display_data"
    }
   ],
   "source": [
    "nights_PAC_2017_df.plot(label='Real')\n",
    "forecast_2017_df.plot(label='Forecast')\n",
    "plt.legend()"
   ]
  },
  {
   "cell_type": "code",
   "execution_count": 36,
   "metadata": {},
   "outputs": [
    {
     "name": "stdout",
     "output_type": "stream",
     "text": [
      "MASE: 0.175012\n"
     ]
    }
   ],
   "source": [
    "MASE_2017 = seasonal_MASE(nights_PAC_2017, forecast_2017)\n",
    "print('MASE: %f' % MASE_2017)"
   ]
  },
  {
   "cell_type": "code",
   "execution_count": 37,
   "metadata": {},
   "outputs": [
    {
     "data": {
      "text/plain": [
       "(96.98017186731838, 74.6550593840514)"
      ]
     },
     "execution_count": 37,
     "metadata": {},
     "output_type": "execute_result"
    }
   ],
   "source": [
    "rmse_2017 = np.sqrt(mean_squared_error(nights_PAC_2017, forecast_2017))\n",
    "mae_2017 = mean_absolute_error(nights_PAC_2017, forecast_2017)\n",
    "rmse_2017, mae_2017"
   ]
  }
 ],
 "metadata": {
  "kernelspec": {
   "display_name": "Python 3",
   "language": "python",
   "name": "python3"
  },
  "language_info": {
   "codemirror_mode": {
    "name": "ipython",
    "version": 3
   },
   "file_extension": ".py",
   "mimetype": "text/x-python",
   "name": "python",
   "nbconvert_exporter": "python",
   "pygments_lexer": "ipython3",
   "version": "3.6.5"
  }
 },
 "nbformat": 4,
 "nbformat_minor": 2
}
