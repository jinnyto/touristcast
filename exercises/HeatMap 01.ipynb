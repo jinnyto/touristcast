{
 "cells": [
  {
   "cell_type": "code",
   "execution_count": 1,
   "metadata": {},
   "outputs": [],
   "source": [
    "import gmaps\n",
    "import gmaps.datasets\n",
    "import gmaps.geojson_geometries\n",
    "import json\n",
    "import pandas as pd\n",
    "from sklearn.preprocessing import MinMaxScaler\n",
    "gmaps.configure(api_key=\"AI...\") # Your Google API key\n",
    "with open('region.json') as f:\n",
    "     geometry = json.load(f)"
   ]
  },
  {
   "cell_type": "code",
   "execution_count": 5,
   "metadata": {},
   "outputs": [
    {
     "data": {
      "application/vnd.jupyter.widget-view+json": {
       "model_id": "d2e74f37218647c99475428858ee1b15",
       "version_major": 2,
       "version_minor": 0
      },
      "text/plain": [
       "Figure(layout=FigureLayout(height='420px'))"
      ]
     },
     "metadata": {},
     "output_type": "display_data"
    }
   ],
   "source": [
    "latlong = pd.read_csv('tc.csv')\n",
    "latlong.sort_values(by=['Region'],inplace=True)\n",
    "dn = pd.read_csv('./datasets/nights_2010-2017.csv',parse_dates=['date'], index_col='date',usecols=[*range(1, 15)])\n",
    "select_month = dn[(dn.index>='2015-01-01')&(dn.index<'2015-02-01')]\n",
    "select_month = select_month.T\n",
    "select_month.sort_index(inplace=True)\n",
    "select_month.columns = ['Nights']\n",
    "select_month.index = latlong.Region\n",
    "select_month = select_month.reset_index()\n",
    "select_month.sort_values(by=['Region'],inplace=True)\n",
    "df = pd.merge(latlong, dftrain, on='Region', how='left')\n",
    "x = df['Nights'].values.reshape(-1, 1) #returns a numpy array\n",
    "min_max_scaler = MinMaxScaler(feature_range=(1, 13))\n",
    "x_scaled = min_max_scaler.fit_transform(x)\n",
    "df['Magnitude'] = x_scaled\n",
    "locations = df[['Latitude', 'Longitude']]\n",
    "weights = df['Magnitude']\n",
    "france_coordinates = (46.2276382, 2.2137489)\n",
    "fig = gmaps.figure(center=france_coordinates, zoom_level=5)\n",
    "geojson_layer = gmaps.geojson_layer(geometry)\n",
    "fig.add_layer(geojson_layer)\n",
    "heatmap_layer = gmaps.heatmap_layer(locations, weights=weights, point_radius=50, max_intensity=6, opacity=0.3)\n",
    "fig.add_layer(heatmap_layer)\n",
    "fig"
   ]
  }
 ],
 "metadata": {
  "kernelspec": {
   "display_name": "Python 3",
   "language": "python",
   "name": "python3"
  },
  "language_info": {
   "codemirror_mode": {
    "name": "ipython",
    "version": 3
   },
   "file_extension": ".py",
   "mimetype": "text/x-python",
   "name": "python",
   "nbconvert_exporter": "python",
   "pygments_lexer": "ipython3",
   "version": "3.6.5"
  }
 },
 "nbformat": 4,
 "nbformat_minor": 2
}
