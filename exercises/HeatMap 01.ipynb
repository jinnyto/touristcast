{
 "cells": [
  {
   "cell_type": "code",
   "execution_count": 1,
   "metadata": {},
   "outputs": [],
   "source": [
    "import gmaps\n",
    "import gmaps.datasets\n",
    "import gmaps.geojson_geometries\n",
    "import json\n",
    "import pandas as pd\n",
    "from sklearn.preprocessing import MinMaxScaler\n",
    "gmaps.configure(api_key=\"AI...\") # Your Google API key\n",
    "with open('region.json') as f:\n",
    "     geometry = json.load(f)"
   ]
  },
  {
   "cell_type": "code",
   "execution_count": 3,
   "metadata": {},
   "outputs": [
    {
     "data": {
      "application/vnd.jupyter.widget-view+json": {
       "model_id": "08f1f0dd37cf4b28b0125816aaba6fdc",
       "version_major": 2,
       "version_minor": 0
      },
      "text/plain": [
       "Figure(layout=FigureLayout(height='420px'))"
      ]
     },
     "metadata": {},
     "output_type": "display_data"
    }
   ],
   "source": [
    "latlong = pd.read_csv('tc.csv')\n",
    "latlong.sort_values(by=['Region'],inplace=True)\n",
    "dn = pd.read_csv('./datasets/nights_2010-2017.csv',parse_dates=['date'], index_col='date',usecols=[*range(1, 15)])\n",
    "dftrain = dn[(dn.index>='2015-01-01')&(dn.index<'2015-02-01')]\n",
    "dftrain = dftrain.T\n",
    "dftrain.sort_index(inplace=True)\n",
    "dftrain.columns = ['Nights']\n",
    "dftrain.index = latlong.Region\n",
    "dftrain= dftrain.reset_index()\n",
    "dftrain.sort_values(by=['Region'],inplace=True)\n",
    "tcdf = pd.merge(latlong, dftrain, on='Region', how='left')\n",
    "x = tcdf['Nights'].values.reshape(-1, 1) #returns a numpy array\n",
    "min_max_scaler = MinMaxScaler(feature_range=(1, 13))\n",
    "x_scaled = min_max_scaler.fit_transform(x)\n",
    "tcdf['Magnitude'] = x_scaled\n",
    "locations = tcdf[['Latitude', 'Longitude']]\n",
    "weights = tcdf['Magnitude']\n",
    "fig = gmaps.figure()\n",
    "geojson_layer = gmaps.geojson_layer(geometry)\n",
    "fig.add_layer(geojson_layer)\n",
    "fig.add_layer(gmaps.heatmap_layer(locations, weights=weights,  point_radius=80))\n",
    "fig"
   ]
  }
 ],
 "metadata": {
  "kernelspec": {
   "display_name": "Python 3",
   "language": "python",
   "name": "python3"
  },
  "language_info": {
   "codemirror_mode": {
    "name": "ipython",
    "version": 3
   },
   "file_extension": ".py",
   "mimetype": "text/x-python",
   "name": "python",
   "nbconvert_exporter": "python",
   "pygments_lexer": "ipython3",
   "version": "3.6.5"
  }
 },
 "nbformat": 4,
 "nbformat_minor": 2
}
