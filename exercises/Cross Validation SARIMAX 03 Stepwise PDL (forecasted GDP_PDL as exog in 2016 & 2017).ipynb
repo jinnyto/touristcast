{
 "cells": [
  {
   "cell_type": "markdown",
   "metadata": {},
   "source": [
    "Cross Validation of SARIMAX Forecasting Nuitees dans l'hôtellerie Pays de La Loire PDL 2016 \n",
    "Set \"stepwise = true\" in auto-arima. \n",
    "Include 3 exogenous variables (meteo,GDP,holidays) in training & test datasets\n",
    "Predict GDP with auto-arima for 2016 & 2017 and include as exogenous in training&test datasets\n",
    "Datasets https://github.com/jinnyto/touristcast/tree/datasets/datasets"
   ]
  },
  {
   "cell_type": "code",
   "execution_count": 1,
   "metadata": {},
   "outputs": [],
   "source": [
    "import pandas as pd\n",
    "import numpy as np\n",
    "import datetime \n",
    "import matplotlib.pyplot as plt\n",
    "import pyramid\n",
    "%matplotlib inline\n",
    "from statsmodels.tsa.seasonal import seasonal_decompose\n",
    "from sklearn.metrics import mean_absolute_error\n",
    "from sklearn.metrics import mean_squared_error\n",
    "from math import sqrt\n",
    "def seasonal_MASE(truth, forecast, seasonality=1):    \n",
    "    period = truth.shape[0] # T\n",
    "    # print(period)\n",
    "    forecast_errors = np.abs(truth - forecast)\n",
    "    # print(forecast_errors)\n",
    "    mean_absolute_forecast_error = np.sum(forecast_errors) / period\n",
    "    # print(mean_absolute_forecast_error)\n",
    "\n",
    "    naive_period = truth.shape[0] - seasonality # T - m\n",
    "    # print(naive_period)\n",
    "    # print(truth[seasonality:])\n",
    "    # print(truth[:period - seasonality])\n",
    "    naive_errors = np.abs(truth[seasonality:] - truth[:period - seasonality])\n",
    "    mean_absolute_naive_error = np.sum(naive_errors) / naive_period\n",
    "    \n",
    "    return mean_absolute_forecast_error / mean_absolute_naive_error"
   ]
  },
  {
   "cell_type": "code",
   "execution_count": 2,
   "metadata": {},
   "outputs": [],
   "source": [
    "dn = pd.read_csv('./datasets/nights_2010-2017.csv',parse_dates=['date'], index_col='date',usecols=[*range(1, 15)])\n",
    "dm = pd.read_csv('./datasets/avgtemp_2010-2017.csv',parse_dates=['date'],index_col='date',usecols=[*range(1, 15)])\n",
    "dh = pd.read_csv('./datasets/daysoff_2010-2017.csv',parse_dates=['date'],index_col='date',usecols=['date','daysoff'])\n",
    "dg = pd.read_csv('./datasets/regionalGDP_2010-2015.csv',parse_dates=['date'],index_col='date',usecols=[*range(1, 15)])\n",
    "dr = pd.concat([dn, dm,dh,dg], axis=1)\n",
    "df = dr.dropna()\n",
    "df = df[['nights_PDL','avgtemp_PDL','gdp_PDL','daysoff']]\n",
    "exogenous= np.array(df[['avgtemp_PDL','gdp_PDL','daysoff']])\n",
    "y = np.array(df.nights_PDL)"
   ]
  },
  {
   "cell_type": "code",
   "execution_count": 3,
   "metadata": {},
   "outputs": [
    {
     "name": "stdout",
     "output_type": "stream",
     "text": [
      "Fit ARIMA: order=(1, 1, 1) seasonal_order=(1, 1, 1, 12); AIC=560.165, BIC=578.863, Fit time=2.610 seconds\n",
      "Fit ARIMA: order=(0, 1, 0) seasonal_order=(0, 1, 0, 12); AIC=598.781, BIC=609.169, Fit time=0.131 seconds\n",
      "Fit ARIMA: order=(1, 1, 0) seasonal_order=(1, 1, 0, 12); AIC=573.443, BIC=587.986, Fit time=1.247 seconds\n",
      "Fit ARIMA: order=(0, 1, 1) seasonal_order=(0, 1, 1, 12); AIC=552.487, BIC=567.030, Fit time=1.755 seconds\n",
      "Fit ARIMA: order=(0, 1, 1) seasonal_order=(1, 1, 1, 12); AIC=554.987, BIC=571.608, Fit time=2.019 seconds\n",
      "Fit ARIMA: order=(0, 1, 1) seasonal_order=(0, 1, 0, 12); AIC=560.782, BIC=573.247, Fit time=0.776 seconds\n",
      "Fit ARIMA: order=(0, 1, 1) seasonal_order=(0, 1, 2, 12); AIC=nan, BIC=nan, Fit time=nan seconds\n",
      "Fit ARIMA: order=(0, 1, 1) seasonal_order=(1, 1, 2, 12); AIC=nan, BIC=nan, Fit time=nan seconds\n",
      "Fit ARIMA: order=(1, 1, 1) seasonal_order=(0, 1, 1, 12); AIC=555.042, BIC=571.662, Fit time=2.132 seconds\n",
      "Fit ARIMA: order=(0, 1, 0) seasonal_order=(0, 1, 1, 12); AIC=581.287, BIC=593.752, Fit time=1.262 seconds\n",
      "Fit ARIMA: order=(0, 1, 2) seasonal_order=(0, 1, 1, 12); AIC=555.548, BIC=572.168, Fit time=1.847 seconds\n",
      "Fit ARIMA: order=(1, 1, 2) seasonal_order=(0, 1, 1, 12); AIC=557.770, BIC=576.468, Fit time=2.140 seconds\n",
      "Total fit time: 16.407 seconds\n"
     ]
    },
    {
     "data": {
      "text/html": [
       "<table class=\"simpletable\">\n",
       "<caption>Statespace Model Results</caption>\n",
       "<tr>\n",
       "  <th>Dep. Variable:</th>                  <td>y</td>               <th>  No. Observations:  </th>    <td>72</td>   \n",
       "</tr>\n",
       "<tr>\n",
       "  <th>Model:</th>           <td>SARIMAX(0, 1, 1)x(0, 1, 1, 12)</td> <th>  Log Likelihood     </th> <td>-269.243</td>\n",
       "</tr>\n",
       "<tr>\n",
       "  <th>Date:</th>                   <td>Wed, 29 Aug 2018</td>        <th>  AIC                </th>  <td>552.487</td>\n",
       "</tr>\n",
       "<tr>\n",
       "  <th>Time:</th>                       <td>12:56:53</td>            <th>  BIC                </th>  <td>567.030</td>\n",
       "</tr>\n",
       "<tr>\n",
       "  <th>Sample:</th>                         <td>0</td>               <th>  HQIC               </th>  <td>558.164</td>\n",
       "</tr>\n",
       "<tr>\n",
       "  <th></th>                              <td> - 72</td>             <th>                     </th>     <td> </td>   \n",
       "</tr>\n",
       "<tr>\n",
       "  <th>Covariance Type:</th>               <td>opg</td>              <th>                     </th>     <td> </td>   \n",
       "</tr>\n",
       "</table>\n",
       "<table class=\"simpletable\">\n",
       "<tr>\n",
       "      <td></td>         <th>coef</th>     <th>std err</th>      <th>z</th>      <th>P>|z|</th>  <th>[0.025</th>    <th>0.975]</th>  \n",
       "</tr>\n",
       "<tr>\n",
       "  <th>intercept</th> <td>    0.3086</td> <td>    0.217</td> <td>    1.423</td> <td> 0.155</td> <td>   -0.116</td> <td>    0.734</td>\n",
       "</tr>\n",
       "<tr>\n",
       "  <th>x1</th>        <td>   -0.7103</td> <td>    1.713</td> <td>   -0.415</td> <td> 0.678</td> <td>   -4.068</td> <td>    2.647</td>\n",
       "</tr>\n",
       "<tr>\n",
       "  <th>x2</th>        <td>    0.0121</td> <td>    0.003</td> <td>    4.452</td> <td> 0.000</td> <td>    0.007</td> <td>    0.017</td>\n",
       "</tr>\n",
       "<tr>\n",
       "  <th>x3</th>        <td>    5.7685</td> <td>    2.848</td> <td>    2.026</td> <td> 0.043</td> <td>    0.187</td> <td>   11.350</td>\n",
       "</tr>\n",
       "<tr>\n",
       "  <th>ma.L1</th>     <td>   -0.9908</td> <td>    0.565</td> <td>   -1.753</td> <td> 0.080</td> <td>   -2.099</td> <td>    0.117</td>\n",
       "</tr>\n",
       "<tr>\n",
       "  <th>ma.S.L12</th>  <td>   -0.5001</td> <td>    0.211</td> <td>   -2.373</td> <td> 0.018</td> <td>   -0.913</td> <td>   -0.087</td>\n",
       "</tr>\n",
       "<tr>\n",
       "  <th>sigma2</th>    <td>  469.8726</td> <td>  244.215</td> <td>    1.924</td> <td> 0.054</td> <td>   -8.780</td> <td>  948.525</td>\n",
       "</tr>\n",
       "</table>\n",
       "<table class=\"simpletable\">\n",
       "<tr>\n",
       "  <th>Ljung-Box (Q):</th>          <td>28.26</td> <th>  Jarque-Bera (JB):  </th> <td>2.40</td>\n",
       "</tr>\n",
       "<tr>\n",
       "  <th>Prob(Q):</th>                <td>0.92</td>  <th>  Prob(JB):          </th> <td>0.30</td>\n",
       "</tr>\n",
       "<tr>\n",
       "  <th>Heteroskedasticity (H):</th> <td>1.08</td>  <th>  Skew:              </th> <td>0.43</td>\n",
       "</tr>\n",
       "<tr>\n",
       "  <th>Prob(H) (two-sided):</th>    <td>0.87</td>  <th>  Kurtosis:          </th> <td>2.53</td>\n",
       "</tr>\n",
       "</table><br/><br/>Warnings:<br/>[1] Covariance matrix calculated using the outer product of gradients (complex-step)."
      ],
      "text/plain": [
       "<class 'statsmodels.iolib.summary.Summary'>\n",
       "\"\"\"\n",
       "                                 Statespace Model Results                                 \n",
       "==========================================================================================\n",
       "Dep. Variable:                                  y   No. Observations:                   72\n",
       "Model:             SARIMAX(0, 1, 1)x(0, 1, 1, 12)   Log Likelihood                -269.243\n",
       "Date:                            Wed, 29 Aug 2018   AIC                            552.487\n",
       "Time:                                    12:56:53   BIC                            567.030\n",
       "Sample:                                         0   HQIC                           558.164\n",
       "                                             - 72                                         \n",
       "Covariance Type:                              opg                                         \n",
       "==============================================================================\n",
       "                 coef    std err          z      P>|z|      [0.025      0.975]\n",
       "------------------------------------------------------------------------------\n",
       "intercept      0.3086      0.217      1.423      0.155      -0.116       0.734\n",
       "x1            -0.7103      1.713     -0.415      0.678      -4.068       2.647\n",
       "x2             0.0121      0.003      4.452      0.000       0.007       0.017\n",
       "x3             5.7685      2.848      2.026      0.043       0.187      11.350\n",
       "ma.L1         -0.9908      0.565     -1.753      0.080      -2.099       0.117\n",
       "ma.S.L12      -0.5001      0.211     -2.373      0.018      -0.913      -0.087\n",
       "sigma2       469.8726    244.215      1.924      0.054      -8.780     948.525\n",
       "===================================================================================\n",
       "Ljung-Box (Q):                       28.26   Jarque-Bera (JB):                 2.40\n",
       "Prob(Q):                              0.92   Prob(JB):                         0.30\n",
       "Heteroskedasticity (H):               1.08   Skew:                             0.43\n",
       "Prob(H) (two-sided):                  0.87   Kurtosis:                         2.53\n",
       "===================================================================================\n",
       "\n",
       "Warnings:\n",
       "[1] Covariance matrix calculated using the outer product of gradients (complex-step).\n",
       "\"\"\""
      ]
     },
     "execution_count": 3,
     "metadata": {},
     "output_type": "execute_result"
    }
   ],
   "source": [
    "from pyramid.arima import auto_arima\n",
    "tc_fit = auto_arima(y=y,exogenous=exogenous,start_p=1, start_q=1, max_p=3, max_q=3, m=12,\n",
    "                    start_P=1, seasonal=True, d=1, D=1, trace=True,\n",
    "                    error_action='ignore',  # don't want to know if an order does not work\n",
    "                    suppress_warnings=True,  # don't want convergence warnings\n",
    "                    stepwise=True)\n",
    "tc_fit.summary()"
   ]
  },
  {
   "cell_type": "code",
   "execution_count": 4,
   "metadata": {},
   "outputs": [
    {
     "name": "stdout",
     "output_type": "stream",
     "text": [
      "Fit ARIMA: order=(0, 1, 0) seasonal_order=(1, 1, 1, 12); AIC=nan, BIC=nan, Fit time=nan seconds\n",
      "Fit ARIMA: order=(0, 1, 0) seasonal_order=(0, 1, 0, 12); AIC=912.518, BIC=916.673, Fit time=0.019 seconds\n",
      "Fit ARIMA: order=(1, 1, 0) seasonal_order=(1, 1, 0, 12); AIC=847.308, BIC=855.618, Fit time=0.532 seconds\n",
      "Fit ARIMA: order=(0, 1, 1) seasonal_order=(0, 1, 1, 12); AIC=nan, BIC=nan, Fit time=nan seconds\n",
      "Fit ARIMA: order=(1, 1, 0) seasonal_order=(0, 1, 0, 12); AIC=914.510, BIC=920.742, Fit time=0.154 seconds\n",
      "Fit ARIMA: order=(1, 1, 0) seasonal_order=(2, 1, 0, 12); AIC=nan, BIC=nan, Fit time=nan seconds\n",
      "Fit ARIMA: order=(1, 1, 0) seasonal_order=(1, 1, 1, 12); AIC=nan, BIC=nan, Fit time=nan seconds\n",
      "Fit ARIMA: order=(1, 1, 0) seasonal_order=(2, 1, 1, 12); AIC=nan, BIC=nan, Fit time=nan seconds\n",
      "Fit ARIMA: order=(0, 1, 0) seasonal_order=(1, 1, 0, 12); AIC=844.689, BIC=850.922, Fit time=0.639 seconds\n",
      "Fit ARIMA: order=(0, 1, 1) seasonal_order=(1, 1, 0, 12); AIC=847.305, BIC=855.615, Fit time=0.613 seconds\n",
      "Fit ARIMA: order=(1, 1, 1) seasonal_order=(1, 1, 0, 12); AIC=849.244, BIC=859.631, Fit time=1.221 seconds\n",
      "Fit ARIMA: order=(0, 1, 0) seasonal_order=(2, 1, 0, 12); AIC=nan, BIC=nan, Fit time=nan seconds\n",
      "Fit ARIMA: order=(0, 1, 0) seasonal_order=(2, 1, 1, 12); AIC=nan, BIC=nan, Fit time=nan seconds\n",
      "Total fit time: 3.217 seconds\n"
     ]
    },
    {
     "data": {
      "text/html": [
       "<table class=\"simpletable\">\n",
       "<caption>Statespace Model Results</caption>\n",
       "<tr>\n",
       "  <th>Dep. Variable:</th>                  <td>y</td>               <th>  No. Observations:  </th>    <td>72</td>   \n",
       "</tr>\n",
       "<tr>\n",
       "  <th>Model:</th>           <td>SARIMAX(0, 1, 0)x(1, 1, 0, 12)</td> <th>  Log Likelihood     </th> <td>-419.345</td>\n",
       "</tr>\n",
       "<tr>\n",
       "  <th>Date:</th>                   <td>Wed, 29 Aug 2018</td>        <th>  AIC                </th>  <td>844.689</td>\n",
       "</tr>\n",
       "<tr>\n",
       "  <th>Time:</th>                       <td>12:57:19</td>            <th>  BIC                </th>  <td>850.922</td>\n",
       "</tr>\n",
       "<tr>\n",
       "  <th>Sample:</th>                         <td>0</td>               <th>  HQIC               </th>  <td>847.122</td>\n",
       "</tr>\n",
       "<tr>\n",
       "  <th></th>                              <td> - 72</td>             <th>                     </th>     <td> </td>   \n",
       "</tr>\n",
       "<tr>\n",
       "  <th>Covariance Type:</th>               <td>opg</td>              <th>                     </th>     <td> </td>   \n",
       "</tr>\n",
       "</table>\n",
       "<table class=\"simpletable\">\n",
       "<tr>\n",
       "      <td></td>         <th>coef</th>     <th>std err</th>      <th>z</th>      <th>P>|z|</th>  <th>[0.025</th>    <th>0.975]</th>  \n",
       "</tr>\n",
       "<tr>\n",
       "  <th>intercept</th> <td>   25.8356</td> <td>  209.046</td> <td>    0.124</td> <td> 0.902</td> <td> -383.887</td> <td>  435.558</td>\n",
       "</tr>\n",
       "<tr>\n",
       "  <th>ar.S.L12</th>  <td>    0.3477</td> <td>    0.043</td> <td>    8.140</td> <td> 0.000</td> <td>    0.264</td> <td>    0.431</td>\n",
       "</tr>\n",
       "<tr>\n",
       "  <th>sigma2</th>    <td>  1.34e+05</td> <td> 1.01e+04</td> <td>   13.281</td> <td> 0.000</td> <td> 1.14e+05</td> <td> 1.54e+05</td>\n",
       "</tr>\n",
       "</table>\n",
       "<table class=\"simpletable\">\n",
       "<tr>\n",
       "  <th>Ljung-Box (Q):</th>          <td>12.07</td> <th>  Jarque-Bera (JB):  </th> <td>2884.52</td>\n",
       "</tr>\n",
       "<tr>\n",
       "  <th>Prob(Q):</th>                <td>1.00</td>  <th>  Prob(JB):          </th>  <td>0.00</td>  \n",
       "</tr>\n",
       "<tr>\n",
       "  <th>Heteroskedasticity (H):</th> <td>0.60</td>  <th>  Skew:              </th>  <td>4.89</td>  \n",
       "</tr>\n",
       "<tr>\n",
       "  <th>Prob(H) (two-sided):</th>    <td>0.26</td>  <th>  Kurtosis:          </th>  <td>35.83</td> \n",
       "</tr>\n",
       "</table><br/><br/>Warnings:<br/>[1] Covariance matrix calculated using the outer product of gradients (complex-step)."
      ],
      "text/plain": [
       "<class 'statsmodels.iolib.summary.Summary'>\n",
       "\"\"\"\n",
       "                                 Statespace Model Results                                 \n",
       "==========================================================================================\n",
       "Dep. Variable:                                  y   No. Observations:                   72\n",
       "Model:             SARIMAX(0, 1, 0)x(1, 1, 0, 12)   Log Likelihood                -419.345\n",
       "Date:                            Wed, 29 Aug 2018   AIC                            844.689\n",
       "Time:                                    12:57:19   BIC                            850.922\n",
       "Sample:                                         0   HQIC                           847.122\n",
       "                                             - 72                                         \n",
       "Covariance Type:                              opg                                         \n",
       "==============================================================================\n",
       "                 coef    std err          z      P>|z|      [0.025      0.975]\n",
       "------------------------------------------------------------------------------\n",
       "intercept     25.8356    209.046      0.124      0.902    -383.887     435.558\n",
       "ar.S.L12       0.3477      0.043      8.140      0.000       0.264       0.431\n",
       "sigma2       1.34e+05   1.01e+04     13.281      0.000    1.14e+05    1.54e+05\n",
       "===================================================================================\n",
       "Ljung-Box (Q):                       12.07   Jarque-Bera (JB):              2884.52\n",
       "Prob(Q):                              1.00   Prob(JB):                         0.00\n",
       "Heteroskedasticity (H):               0.60   Skew:                             4.89\n",
       "Prob(H) (two-sided):                  0.26   Kurtosis:                        35.83\n",
       "===================================================================================\n",
       "\n",
       "Warnings:\n",
       "[1] Covariance matrix calculated using the outer product of gradients (complex-step).\n",
       "\"\"\""
      ]
     },
     "execution_count": 4,
     "metadata": {},
     "output_type": "execute_result"
    }
   ],
   "source": [
    "mc_fit = auto_arima(y=np.array(df.gdp_PDL),start_p=0, start_q=0, max_p=3, max_q=3, m=12,\n",
    "                    start_P=1, seasonal=True, d=1, D=1, trace=True,\n",
    "                    error_action='ignore',  # don't want to know if an order does not work\n",
    "                    suppress_warnings=True,  # don't want convergence warnings\n",
    "                    stepwise=True)\n",
    "mc_fit.summary()"
   ]
  },
  {
   "cell_type": "code",
   "execution_count": 5,
   "metadata": {},
   "outputs": [
    {
     "data": {
      "text/plain": [
       "ARIMA(callback=None, disp=0, maxiter=50, method=None, order=(0, 1, 0),\n",
       "   out_of_sample_size=0, scoring='mse', scoring_args={},\n",
       "   seasonal_order=(1, 1, 0, 12), solver='lbfgs', start_params=None,\n",
       "   suppress_warnings=True, transparams=True, trend='c')"
      ]
     },
     "execution_count": 5,
     "metadata": {},
     "output_type": "execute_result"
    }
   ],
   "source": [
    "mc_fit.fit(df.gdp_PDL)"
   ]
  },
  {
   "cell_type": "code",
   "execution_count": 29,
   "metadata": {},
   "outputs": [],
   "source": [
    "next_12_1 = mc_fit.predict(n_periods=12)\n",
    "updated_data = np.concatenate([df.gdp_PDL, next_12])\n",
    "dr.loc['2016-01-01':'2016-12-01','gdp_PDL'] = next_12_1\n",
    "updated_model = mc_fit.fit(updated_data)\n",
    "next_12_2 = updated_model.predict(n_periods=12)\n",
    "dr.loc['2017-01-01':'2017-12-01','gdp_PDL'] = next_12_2\n"
   ]
  },
  {
   "cell_type": "code",
   "execution_count": 30,
   "metadata": {},
   "outputs": [
    {
     "name": "stdout",
     "output_type": "stream",
     "text": [
      "[1.2844776456958755, 0.9504976564429287, 0.5253877670577137, 0.23390112049851, 0.15301361037334796, 0.41721610207804244, 0.36788317631846057]\n"
     ]
    },
    {
     "data": {
      "text/plain": [
       "0.5617681540664112"
      ]
     },
     "execution_count": 30,
     "metadata": {},
     "output_type": "execute_result"
    }
   ],
   "source": [
    "smase_fold= []\n",
    "startyear = '2010-01-01'\n",
    "for index in range(2011,2018):\n",
    "    nextyear = str(index)+'-01-01'\n",
    "    predictyear = str(index+1)+'-01-01'\n",
    "    dftrain = dr[(dr.index>=startyear)&(dr.index<nextyear)]\n",
    "    train_nights  = np.array(dftrain.nights_PDL)\n",
    "    train_exogenous =  np.array(dftrain[['avgtemp_PDL','gdp_PDL','daysoff']])\n",
    "    dftest = dr[(dr.index>=nextyear)&(dr.index<predictyear)]\n",
    "    test_nights = np.array(dftest.nights_PDL)\n",
    "    test_exogenous =  np.array(dftest[['avgtemp_PDL','gdp_PDL','daysoff']])\n",
    "    tc_future_forecast = tc_fit.predict(n_periods=12,exogenous = test_exogenous)\n",
    "    smase_fold.append(seasonal_MASE(test_nights,tc_future_forecast))\n",
    "\n",
    "print(smase_fold)\n",
    "np.sum(smase_fold) / len(smase_fold)"
   ]
  }
 ],
 "metadata": {
  "kernelspec": {
   "display_name": "Python 3",
   "language": "python",
   "name": "python3"
  },
  "language_info": {
   "codemirror_mode": {
    "name": "ipython",
    "version": 3
   },
   "file_extension": ".py",
   "mimetype": "text/x-python",
   "name": "python",
   "nbconvert_exporter": "python",
   "pygments_lexer": "ipython3",
   "version": "3.6.5"
  }
 },
 "nbformat": 4,
 "nbformat_minor": 2
}
