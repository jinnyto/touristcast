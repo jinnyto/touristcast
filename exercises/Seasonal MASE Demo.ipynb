{
 "cells": [
  {
   "cell_type": "code",
   "execution_count": 1,
   "metadata": {},
   "outputs": [],
   "source": [
    "import pandas as pd\n",
    "import numpy as np\n",
    "from datetime import datetime\n",
    "import matplotlib.pyplot as plt\n",
    "%matplotlib inline\n",
    "import seaborn as sns\n",
    "\n",
    "from statsmodels.tsa.api import VAR, DynamicVAR, VARMAX\n",
    "from statsmodels.tsa.arima_model import ARIMA\n",
    "from statsmodels.tsa.seasonal import seasonal_decompose\n",
    "from statsmodels.tsa.holtwinters import Holt\n",
    "from sklearn.metrics import mean_squared_error, mean_absolute_error\n",
    "from pyramid.arima import auto_arima\n",
    "import pytemperature"
   ]
  },
  {
   "cell_type": "code",
   "execution_count": 2,
   "metadata": {},
   "outputs": [],
   "source": [
    "nights = pd.read_csv('/Users/jinny/Documents/touristcast/datasets/nights_2010-2017.csv', index_col='date', parse_dates=['date'], \n",
    "                          usecols=[*range(1, 15)])\n",
    "nights.index.freq = 'MS'\n",
    "temp = pd.read_csv('/Users/jinny/Documents/touristcast/datasets/avgtemp_2010-2017.csv',parse_dates=['date'],index_col='date',usecols=[*range(1, 15)])\n",
    "temp = pytemperature.c2k(temp)\n",
    "daysoff = pd.read_csv('/Users/jinny/Documents/touristcast/datasets/daysoff_2010-2017.csv',parse_dates=['date'],index_col='date',usecols=['date','daysoff'])\n",
    "gdp = pd.read_csv('/Users/jinny/Documents/touristcast/datasets/regionalGDP_2010-2015.csv',parse_dates=['date'],index_col='date',usecols=[*range(1, 15)])"
   ]
  },
  {
   "cell_type": "markdown",
   "metadata": {},
   "source": [
    "### Corrected Seasonal MASE function\n",
    "- Finally correct this time!! 3rd time's a charm... \n",
    "- Problem with previous Seasonal MASE was that we never used Seaonality=12 argument with proper inputs; the adjusted function below is easier to use and gives accurate results"
   ]
  },
  {
   "cell_type": "code",
   "execution_count": 3,
   "metadata": {},
   "outputs": [],
   "source": [
    "def seasonal_MASE(last_season, this_season, forecast):\n",
    "    '''\n",
    "    Parameters\n",
    "    ----------\n",
    "    last_season: series with dates containing data for last season (size S)\n",
    "    \n",
    "    current_truth: series with dates containing data for current season (size S)\n",
    "    \n",
    "    forecast: series with dates containing data predicting current season (size S)\n",
    "    '''\n",
    "    forecast_errors = np.abs(this_season - forecast)\n",
    "    #print(forecast_errors)\n",
    "    mean_absolute_forecast_error = np.average(forecast_errors)\n",
    "    #print('forecast MAE', mean_absolute_forecast_error)\n",
    "    \n",
    "    naive = last_season\n",
    "    naive.index = this_season.index\n",
    "    naive_errors = np.abs(this_season - naive)\n",
    "    #print(naive_errors)\n",
    "    mean_absolute_naive_error = np.average(naive_errors)\n",
    "    #print('naive MAE', mean_absolute_naive_error)\n",
    "    \n",
    "    return mean_absolute_forecast_error / mean_absolute_naive_error"
   ]
  },
  {
   "cell_type": "code",
   "execution_count": 4,
   "metadata": {},
   "outputs": [],
   "source": [
    "start_year, end_year, predict_year = '2010', '2013', '2014'\n",
    "region = 'IDF'\n",
    "\n",
    "input_data = pd.concat([nights, temp, daysoff, gdp], axis=1).dropna()\n",
    "input_data = input_data[[f'nights_{region}',\n",
    "                         f'avgtemp_{region}',\n",
    "                         f'gdp_{region}',\n",
    "                         'daysoff']]\n",
    "target = nights[[f'nights_{region}']]\n",
    "\n",
    "training_period = (input_data.index>=start_year)&(input_data.index<end_year) \n",
    "testing_period = (target.index>=end_year)&(target.index<predict_year)\n",
    "\n",
    "train_data = input_data[training_period]\n",
    "test_data = np.array(target[testing_period])\n",
    "\n",
    "train_data.drop(f'gdp_{region}', axis=1)\n",
    "\n",
    "# --------Seasonal decompose----------\n",
    "decomposed_data = seasonal_decompose(\n",
    "    train_data, model='multiplicative', extrapolate_trend='freq')  \n",
    "seasonal_data, trend_data, residual_data = (decomposed_data.seasonal,\n",
    "                                            decomposed_data.trend, decomposed_data.resid)\n",
    "\n",
    "# ---------Seasonal prediction (Same as last year of training data)---------\n",
    "seasonal_train = seasonal_data[\n",
    "    (seasonal_data.index>=start_year)&(seasonal_data.index<end_year)]\n",
    "seasonal_forecast = pd.DataFrame(seasonal_train[f'nights_{region}'].values[-12:])\n",
    "\n",
    "# --------Trend prediction (Linear Holt)----------\n",
    "\n",
    "trend = Holt(trend_data[f'nights_{region}']).fit(optimized=True)\n",
    "trend_forecast = pd.DataFrame(trend.predict(start=0, end=11).values)\n",
    "\n",
    "\n",
    "# --------Residual prediction (VAR)----------\n",
    "resid_model = VAR(residual_data, dates=residual_data.index)    \n",
    "resid_results = resid_model.fit(3)\n",
    "lag_order = resid_results.k_ar\n",
    "resid_forecast = pd.DataFrame(\n",
    "    resid_results.forecast(residual_data.values[-lag_order:], 12))\n",
    "\n",
    "# --------Recomposing results----------\n",
    "forecast = seasonal_forecast[0] * trend_forecast[0] * resid_forecast[0]\n",
    "forecast.index = target[f'nights_{region}'][testing_period].index"
   ]
  },
  {
   "cell_type": "code",
   "execution_count": 5,
   "metadata": {},
   "outputs": [
    {
     "data": {
      "text/plain": [
       "date\n",
       "2013-01-01    4320.363257\n",
       "2013-02-01    4147.845855\n",
       "2013-03-01    5265.471470\n",
       "2013-04-01    5603.960663\n",
       "2013-05-01    6070.206396\n",
       "2013-06-01    6229.190156\n",
       "2013-07-01    6380.082489\n",
       "2013-08-01    5752.775653\n",
       "2013-09-01    5965.227291\n",
       "2013-10-01    5982.047781\n",
       "2013-11-01    4880.979447\n",
       "2013-12-01    5225.540863\n",
       "Freq: MS, Name: 0, dtype: float64"
      ]
     },
     "execution_count": 5,
     "metadata": {},
     "output_type": "execute_result"
    }
   ],
   "source": [
    "forecast"
   ]
  },
  {
   "cell_type": "markdown",
   "metadata": {},
   "source": [
    "### Comparing IDF 2013 truth vs. VAR 2013 forecast vs. Naive 2013 forecast (repeat of 2012 values)\n",
    "- The naive forecast which just puts 2012 values onto 2013 as a forecast is still surprisingly accurate!\n",
    "- Seasonal MASE = 1.075 meaning that VAR forecast error is larger than the seasonal naive forecast error: The complicated model isn't better!"
   ]
  },
  {
   "cell_type": "code",
   "execution_count": 6,
   "metadata": {},
   "outputs": [
    {
     "data": {
      "text/plain": [
       "1.0757368530460694"
      ]
     },
     "execution_count": 6,
     "metadata": {},
     "output_type": "execute_result"
    }
   ],
   "source": [
    "seasonal_MASE(nights.nights_IDF['2012'], nights.nights_IDF['2013'], forecast)"
   ]
  },
  {
   "cell_type": "code",
   "execution_count": 7,
   "metadata": {},
   "outputs": [
    {
     "data": {
      "image/png": "[encoded data removed]",
      "text/plain": [
       "<Figure size 432x288 with 1 Axes>"
      ]
     },
     "metadata": {},
     "output_type": "display_data"
    }
   ],
   "source": [
    "sns.set_style('whitegrid')\n",
    "fig, ax = plt.subplots()\n",
    "nights.nights_IDF['2013'].plot(ax=ax, label='Truth')\n",
    "naive = nights.nights_IDF['2012']\n",
    "naive.index = nights.nights_IDF['2013'].index\n",
    "naive.plot(ax=ax, label='Naive (repeat of last year)')\n",
    "forecast.plot(ax=ax, label='VAR')\n",
    "plt.legend();"
   ]
  }
 ],
 "metadata": {
  "kernelspec": {
   "display_name": "Python 3",
   "language": "python",
   "name": "python3"
  },
  "language_info": {
   "codemirror_mode": {
    "name": "ipython",
    "version": 3
   },
   "file_extension": ".py",
   "mimetype": "text/x-python",
   "name": "python",
   "nbconvert_exporter": "python",
   "pygments_lexer": "ipython3",
   "version": "3.6.5"
  }
 },
 "nbformat": 4,
 "nbformat_minor": 2
}
