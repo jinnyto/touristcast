{
 "cells": [
  {
   "cell_type": "markdown",
   "metadata": {},
   "source": [
    "Cross Validation of SARIMAX Forecasting Nuitees dans l'hôtellerie Provence-Alpes-Côte d'Azur PAC \n",
    "Set \"stepwise = true\" in auto-arima.\n",
    "Include 3 exogenous variables (meteo,GDP,holidays) in training & test datasets\n",
    "Predict GDP with auto-arima for 2016 & 2017 and include as exogenous in training&test datasets\n",
    "Datasets https://github.com/jinnyto/touristcast/tree/datasets/datasets"
   ]
  },
  {
   "cell_type": "code",
   "execution_count": 12,
   "metadata": {},
   "outputs": [],
   "source": [
    "import pandas as pd\n",
    "import numpy as np\n",
    "import datetime \n",
    "import matplotlib.pyplot as plt\n",
    "import pyramid\n",
    "%matplotlib inline\n",
    "from statsmodels.tsa.seasonal import seasonal_decompose\n",
    "from sklearn.metrics import mean_absolute_error\n",
    "from sklearn.metrics import mean_squared_error\n",
    "from math import sqrt\n",
    "def seasonal_MASE(truth, forecast, seasonality=1):    \n",
    "    period = truth.shape[0] # T\n",
    "    # print(period)\n",
    "    forecast_errors = np.abs(truth - forecast)\n",
    "    # print(forecast_errors)\n",
    "    mean_absolute_forecast_error = np.sum(forecast_errors) / period\n",
    "    # print(mean_absolute_forecast_error)\n",
    "\n",
    "    naive_period = truth.shape[0] - seasonality # T - m\n",
    "    # print(naive_period)\n",
    "    # print(truth[seasonality:])\n",
    "    # print(truth[:period - seasonality])\n",
    "    naive_errors = np.abs(truth[seasonality:] - truth[:period - seasonality])\n",
    "    mean_absolute_naive_error = np.sum(naive_errors) / naive_period\n",
    "    \n",
    "    return mean_absolute_forecast_error / mean_absolute_naive_error"
   ]
  },
  {
   "cell_type": "code",
   "execution_count": 13,
   "metadata": {},
   "outputs": [],
   "source": [
    "dn = pd.read_csv('./datasets/nights_2010-2017.csv',parse_dates=['date'], index_col='date',usecols=[*range(1, 15)])\n",
    "dm = pd.read_csv('./datasets/avgtemp_2010-2017.csv',parse_dates=['date'],index_col='date',usecols=[*range(1, 15)])\n",
    "dh = pd.read_csv('./datasets/daysoff_2010-2017.csv',parse_dates=['date'],index_col='date',usecols=['date','daysoff'])\n",
    "dg = pd.read_csv('./datasets/regionalGDP_2010-2015.csv',parse_dates=['date'],index_col='date',usecols=[*range(1, 15)])\n",
    "dr = pd.concat([dn, dm,dh,dg], axis=1)\n",
    "df = dr.dropna()\n",
    "df = df[['nights_PAC','avgtemp_PAC','gdp_PAC','daysoff']]\n",
    "exogenous= np.array(df[['avgtemp_PAC','gdp_PAC','daysoff']])\n",
    "y = np.array(df.nights_PAC)"
   ]
  },
  {
   "cell_type": "code",
   "execution_count": 14,
   "metadata": {},
   "outputs": [
    {
     "name": "stdout",
     "output_type": "stream",
     "text": [
      "Fit ARIMA: order=(1, 1, 1) seasonal_order=(1, 1, 1, 12); AIC=687.799, BIC=706.497, Fit time=2.184 seconds\n",
      "Fit ARIMA: order=(0, 1, 0) seasonal_order=(0, 1, 0, 12); AIC=709.629, BIC=720.017, Fit time=0.157 seconds\n",
      "Fit ARIMA: order=(1, 1, 0) seasonal_order=(1, 1, 0, 12); AIC=699.327, BIC=713.870, Fit time=1.448 seconds\n",
      "Fit ARIMA: order=(0, 1, 1) seasonal_order=(0, 1, 1, 12); AIC=687.750, BIC=702.293, Fit time=1.634 seconds\n",
      "Fit ARIMA: order=(0, 1, 1) seasonal_order=(1, 1, 1, 12); AIC=689.214, BIC=705.834, Fit time=1.952 seconds\n",
      "Fit ARIMA: order=(0, 1, 1) seasonal_order=(0, 1, 0, 12); AIC=698.393, BIC=710.858, Fit time=0.670 seconds\n",
      "Fit ARIMA: order=(0, 1, 1) seasonal_order=(0, 1, 2, 12); AIC=nan, BIC=nan, Fit time=nan seconds\n",
      "Fit ARIMA: order=(0, 1, 1) seasonal_order=(1, 1, 2, 12); AIC=nan, BIC=nan, Fit time=nan seconds\n",
      "Fit ARIMA: order=(1, 1, 1) seasonal_order=(0, 1, 1, 12); AIC=686.360, BIC=702.981, Fit time=1.958 seconds\n",
      "Fit ARIMA: order=(1, 1, 0) seasonal_order=(0, 1, 1, 12); AIC=694.763, BIC=709.306, Fit time=1.633 seconds\n",
      "Fit ARIMA: order=(1, 1, 2) seasonal_order=(0, 1, 1, 12); AIC=692.169, BIC=710.867, Fit time=2.068 seconds\n",
      "Fit ARIMA: order=(0, 1, 0) seasonal_order=(0, 1, 1, 12); AIC=702.089, BIC=714.554, Fit time=0.885 seconds\n",
      "Fit ARIMA: order=(2, 1, 2) seasonal_order=(0, 1, 1, 12); AIC=693.249, BIC=714.024, Fit time=2.374 seconds\n",
      "Fit ARIMA: order=(1, 1, 1) seasonal_order=(0, 1, 0, 12); AIC=696.506, BIC=711.049, Fit time=0.872 seconds\n",
      "Fit ARIMA: order=(1, 1, 1) seasonal_order=(0, 1, 2, 12); AIC=nan, BIC=nan, Fit time=nan seconds\n",
      "Fit ARIMA: order=(1, 1, 1) seasonal_order=(1, 1, 2, 12); AIC=nan, BIC=nan, Fit time=nan seconds\n",
      "Fit ARIMA: order=(2, 1, 1) seasonal_order=(0, 1, 1, 12); AIC=688.270, BIC=706.968, Fit time=2.259 seconds\n",
      "Total fit time: 20.128 seconds\n"
     ]
    },
    {
     "data": {
      "text/html": [
       "<table class=\"simpletable\">\n",
       "<caption>Statespace Model Results</caption>\n",
       "<tr>\n",
       "  <th>Dep. Variable:</th>                  <td>y</td>               <th>  No. Observations:  </th>    <td>72</td>   \n",
       "</tr>\n",
       "<tr>\n",
       "  <th>Model:</th>           <td>SARIMAX(1, 1, 1)x(0, 1, 1, 12)</td> <th>  Log Likelihood     </th> <td>-335.180</td>\n",
       "</tr>\n",
       "<tr>\n",
       "  <th>Date:</th>                   <td>Wed, 29 Aug 2018</td>        <th>  AIC                </th>  <td>686.360</td>\n",
       "</tr>\n",
       "<tr>\n",
       "  <th>Time:</th>                       <td>13:34:53</td>            <th>  BIC                </th>  <td>702.981</td>\n",
       "</tr>\n",
       "<tr>\n",
       "  <th>Sample:</th>                         <td>0</td>               <th>  HQIC               </th>  <td>692.848</td>\n",
       "</tr>\n",
       "<tr>\n",
       "  <th></th>                              <td> - 72</td>             <th>                     </th>     <td> </td>   \n",
       "</tr>\n",
       "<tr>\n",
       "  <th>Covariance Type:</th>               <td>opg</td>              <th>                     </th>     <td> </td>   \n",
       "</tr>\n",
       "</table>\n",
       "<table class=\"simpletable\">\n",
       "<tr>\n",
       "      <td></td>         <th>coef</th>     <th>std err</th>      <th>z</th>      <th>P>|z|</th>  <th>[0.025</th>    <th>0.975]</th>  \n",
       "</tr>\n",
       "<tr>\n",
       "  <th>intercept</th> <td>   -0.3731</td> <td>    0.779</td> <td>   -0.479</td> <td> 0.632</td> <td>   -1.900</td> <td>    1.154</td>\n",
       "</tr>\n",
       "<tr>\n",
       "  <th>x1</th>        <td>   -0.2321</td> <td>    6.276</td> <td>   -0.037</td> <td> 0.971</td> <td>  -12.533</td> <td>   12.069</td>\n",
       "</tr>\n",
       "<tr>\n",
       "  <th>x2</th>        <td>    0.0217</td> <td>    0.013</td> <td>    1.650</td> <td> 0.099</td> <td>   -0.004</td> <td>    0.047</td>\n",
       "</tr>\n",
       "<tr>\n",
       "  <th>x3</th>        <td>   25.4305</td> <td>    8.493</td> <td>    2.994</td> <td> 0.003</td> <td>    8.784</td> <td>   42.077</td>\n",
       "</tr>\n",
       "<tr>\n",
       "  <th>ar.L1</th>     <td>    0.3032</td> <td>    0.174</td> <td>    1.744</td> <td> 0.081</td> <td>   -0.038</td> <td>    0.644</td>\n",
       "</tr>\n",
       "<tr>\n",
       "  <th>ma.L1</th>     <td>   -0.9995</td> <td>   15.939</td> <td>   -0.063</td> <td> 0.950</td> <td>  -32.239</td> <td>   30.240</td>\n",
       "</tr>\n",
       "<tr>\n",
       "  <th>ma.S.L12</th>  <td>   -0.6669</td> <td>    0.296</td> <td>   -2.252</td> <td> 0.024</td> <td>   -1.247</td> <td>   -0.087</td>\n",
       "</tr>\n",
       "<tr>\n",
       "  <th>sigma2</th>    <td> 4062.7568</td> <td> 6.49e+04</td> <td>    0.063</td> <td> 0.950</td> <td>-1.23e+05</td> <td> 1.31e+05</td>\n",
       "</tr>\n",
       "</table>\n",
       "<table class=\"simpletable\">\n",
       "<tr>\n",
       "  <th>Ljung-Box (Q):</th>          <td>30.70</td> <th>  Jarque-Bera (JB):  </th> <td>7.14</td> \n",
       "</tr>\n",
       "<tr>\n",
       "  <th>Prob(Q):</th>                <td>0.85</td>  <th>  Prob(JB):          </th> <td>0.03</td> \n",
       "</tr>\n",
       "<tr>\n",
       "  <th>Heteroskedasticity (H):</th> <td>1.37</td>  <th>  Skew:              </th> <td>-0.41</td>\n",
       "</tr>\n",
       "<tr>\n",
       "  <th>Prob(H) (two-sided):</th>    <td>0.49</td>  <th>  Kurtosis:          </th> <td>4.49</td> \n",
       "</tr>\n",
       "</table><br/><br/>Warnings:<br/>[1] Covariance matrix calculated using the outer product of gradients (complex-step)."
      ],
      "text/plain": [
       "<class 'statsmodels.iolib.summary.Summary'>\n",
       "\"\"\"\n",
       "                                 Statespace Model Results                                 \n",
       "==========================================================================================\n",
       "Dep. Variable:                                  y   No. Observations:                   72\n",
       "Model:             SARIMAX(1, 1, 1)x(0, 1, 1, 12)   Log Likelihood                -335.180\n",
       "Date:                            Wed, 29 Aug 2018   AIC                            686.360\n",
       "Time:                                    13:34:53   BIC                            702.981\n",
       "Sample:                                         0   HQIC                           692.848\n",
       "                                             - 72                                         \n",
       "Covariance Type:                              opg                                         \n",
       "==============================================================================\n",
       "                 coef    std err          z      P>|z|      [0.025      0.975]\n",
       "------------------------------------------------------------------------------\n",
       "intercept     -0.3731      0.779     -0.479      0.632      -1.900       1.154\n",
       "x1            -0.2321      6.276     -0.037      0.971     -12.533      12.069\n",
       "x2             0.0217      0.013      1.650      0.099      -0.004       0.047\n",
       "x3            25.4305      8.493      2.994      0.003       8.784      42.077\n",
       "ar.L1          0.3032      0.174      1.744      0.081      -0.038       0.644\n",
       "ma.L1         -0.9995     15.939     -0.063      0.950     -32.239      30.240\n",
       "ma.S.L12      -0.6669      0.296     -2.252      0.024      -1.247      -0.087\n",
       "sigma2      4062.7568   6.49e+04      0.063      0.950   -1.23e+05    1.31e+05\n",
       "===================================================================================\n",
       "Ljung-Box (Q):                       30.70   Jarque-Bera (JB):                 7.14\n",
       "Prob(Q):                              0.85   Prob(JB):                         0.03\n",
       "Heteroskedasticity (H):               1.37   Skew:                            -0.41\n",
       "Prob(H) (two-sided):                  0.49   Kurtosis:                         4.49\n",
       "===================================================================================\n",
       "\n",
       "Warnings:\n",
       "[1] Covariance matrix calculated using the outer product of gradients (complex-step).\n",
       "\"\"\""
      ]
     },
     "execution_count": 14,
     "metadata": {},
     "output_type": "execute_result"
    }
   ],
   "source": [
    "from pyramid.arima import auto_arima\n",
    "tc_fit = auto_arima(y=y,exogenous=exogenous,start_p=1, start_q=1, max_p=3, max_q=3, m=12,\n",
    "                    start_P=1, seasonal=True, d=1, D=1, trace=True,\n",
    "                    error_action='ignore',  # don't want to know if an order does not work\n",
    "                    suppress_warnings=True,  # don't want convergence warnings\n",
    "                    stepwise=True)\n",
    "tc_fit.summary()"
   ]
  },
  {
   "cell_type": "code",
   "execution_count": 20,
   "metadata": {},
   "outputs": [
    {
     "name": "stdout",
     "output_type": "stream",
     "text": [
      "Fit ARIMA: order=(0, 1, 0); AIC=1139.416, BIC=1143.942, Fit time=0.023 seconds\n",
      "Fit ARIMA: order=(1, 1, 0); AIC=1141.212, BIC=1148.000, Fit time=0.162 seconds\n",
      "Fit ARIMA: order=(0, 1, 1); AIC=1141.184, BIC=1147.972, Fit time=0.036 seconds\n",
      "Fit ARIMA: order=(1, 1, 1); AIC=nan, BIC=nan, Fit time=nan seconds\n",
      "Total fit time: 0.249 seconds\n"
     ]
    },
    {
     "data": {
      "text/html": [
       "<table class=\"simpletable\">\n",
       "<caption>ARIMA Model Results</caption>\n",
       "<tr>\n",
       "  <th>Dep. Variable:</th>        <td>D.y</td>       <th>  No. Observations:  </th>    <td>71</td>   \n",
       "</tr>\n",
       "<tr>\n",
       "  <th>Model:</th>          <td>ARIMA(0, 1, 0)</td>  <th>  Log Likelihood     </th> <td>-567.708</td>\n",
       "</tr>\n",
       "<tr>\n",
       "  <th>Method:</th>               <td>css</td>       <th>  S.D. of innovations</th>  <td>718.346</td>\n",
       "</tr>\n",
       "<tr>\n",
       "  <th>Date:</th>          <td>Wed, 29 Aug 2018</td> <th>  AIC                </th> <td>1139.416</td>\n",
       "</tr>\n",
       "<tr>\n",
       "  <th>Time:</th>              <td>13:39:52</td>     <th>  BIC                </th> <td>1143.942</td>\n",
       "</tr>\n",
       "<tr>\n",
       "  <th>Sample:</th>                <td>1</td>        <th>  HQIC               </th> <td>1141.216</td>\n",
       "</tr>\n",
       "<tr>\n",
       "  <th></th>                       <td> </td>        <th>                     </th>     <td> </td>   \n",
       "</tr>\n",
       "</table>\n",
       "<table class=\"simpletable\">\n",
       "<tr>\n",
       "    <td></td>       <th>coef</th>     <th>std err</th>      <th>z</th>      <th>P>|z|</th>  <th>[0.025</th>    <th>0.975]</th>  \n",
       "</tr>\n",
       "<tr>\n",
       "  <th>const</th> <td>  165.7243</td> <td>   85.252</td> <td>    1.944</td> <td> 0.056</td> <td>   -1.367</td> <td>  332.815</td>\n",
       "</tr>\n",
       "</table>"
      ],
      "text/plain": [
       "<class 'statsmodels.iolib.summary.Summary'>\n",
       "\"\"\"\n",
       "                             ARIMA Model Results                              \n",
       "==============================================================================\n",
       "Dep. Variable:                    D.y   No. Observations:                   71\n",
       "Model:                 ARIMA(0, 1, 0)   Log Likelihood                -567.708\n",
       "Method:                           css   S.D. of innovations            718.346\n",
       "Date:                Wed, 29 Aug 2018   AIC                           1139.416\n",
       "Time:                        13:39:52   BIC                           1143.942\n",
       "Sample:                             1   HQIC                          1141.216\n",
       "                                                                              \n",
       "==============================================================================\n",
       "                 coef    std err          z      P>|z|      [0.025      0.975]\n",
       "------------------------------------------------------------------------------\n",
       "const        165.7243     85.252      1.944      0.056      -1.367     332.815\n",
       "==============================================================================\n",
       "\"\"\""
      ]
     },
     "execution_count": 20,
     "metadata": {},
     "output_type": "execute_result"
    }
   ],
   "source": [
    "mc_fit = auto_arima(y=np.array(df.gdp_PAC),start_p=0, start_q=0, max_p=3, max_q=3, m=12,\n",
    "                    start_P=1, seasonal=False, d=1, D=1, trace=True,\n",
    "                    error_action='ignore',  # don't want to know if an order does not work\n",
    "                    suppress_warnings=True,  # don't want convergence warnings\n",
    "                    stepwise=True)\n",
    "mc_fit.summary()"
   ]
  },
  {
   "cell_type": "code",
   "execution_count": 21,
   "metadata": {},
   "outputs": [
    {
     "data": {
      "text/plain": [
       "ARIMA(callback=None, disp=0, maxiter=50, method=None, order=(0, 1, 0),\n",
       "   out_of_sample_size=0, scoring='mse', scoring_args={},\n",
       "   seasonal_order=None, solver='lbfgs', start_params=None,\n",
       "   suppress_warnings=True, transparams=True, trend='c')"
      ]
     },
     "execution_count": 21,
     "metadata": {},
     "output_type": "execute_result"
    }
   ],
   "source": [
    "mc_fit.fit(df.gdp_PAC)"
   ]
  },
  {
   "cell_type": "code",
   "execution_count": 30,
   "metadata": {},
   "outputs": [],
   "source": [
    "next_24 = mc_fit.predict(n_periods=24)\n",
    "dr.loc['2016-01-01':'2017-12-01','gdp_PAC'] = next_24"
   ]
  },
  {
   "cell_type": "code",
   "execution_count": 36,
   "metadata": {},
   "outputs": [
    {
     "name": "stdout",
     "output_type": "stream",
     "text": [
      "[0.5930528923169276, 0.44105396972192534, 0.3757730158741758, 0.21937170795945204, 0.16015441233073952, 0.2103644129115874, 0.14933392615478977]\n"
     ]
    },
    {
     "data": {
      "text/plain": [
       "0.3070149053242282"
      ]
     },
     "execution_count": 36,
     "metadata": {},
     "output_type": "execute_result"
    }
   ],
   "source": [
    "smase_fold= []\n",
    "startyear = '2010-01-01'\n",
    "for index in range(2011,2018):\n",
    "    nextyear = str(index)+'-01-01'\n",
    "    predictyear = str(index+1)+'-01-01'\n",
    "    dftrain = dr[(dr.index>=startyear)&(dr.index<nextyear)]\n",
    "    train_nights  = np.array(dftrain.nights_PAC)\n",
    "    train_exogenous =  np.array(dftrain[['avgtemp_PAC','gdp_PAC','daysoff']])\n",
    "    dftest = dr[(dr.index>=nextyear)&(dr.index<predictyear)]\n",
    "    test_nights = np.array(dftest.nights_PAC)\n",
    "    test_exogenous =  np.array(dftest[['avgtemp_PAC','gdp_PAC','daysoff']])\n",
    "    tc_future_forecast = tc_fit.predict(n_periods=12,exogenous = test_exogenous)\n",
    "    smase_fold.append(seasonal_MASE(test_nights,tc_future_forecast))\n",
    "\n",
    "print(smase_fold)\n",
    "np.sum(smase_fold) / len(smase_fold)"
   ]
  }
 ],
 "metadata": {
  "kernelspec": {
   "display_name": "Python 3",
   "language": "python",
   "name": "python3"
  },
  "language_info": {
   "codemirror_mode": {
    "name": "ipython",
    "version": 3
   },
   "file_extension": ".py",
   "mimetype": "text/x-python",
   "name": "python",
   "nbconvert_exporter": "python",
   "pygments_lexer": "ipython3",
   "version": "3.6.5"
  }
 },
 "nbformat": 4,
 "nbformat_minor": 2
}
