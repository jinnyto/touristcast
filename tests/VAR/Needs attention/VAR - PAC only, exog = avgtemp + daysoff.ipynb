{
 "cells": [
  {
   "cell_type": "markdown",
   "metadata": {},
   "source": [
    "### Importing libraries"
   ]
  },
  {
   "cell_type": "code",
   "execution_count": 1,
   "metadata": {},
   "outputs": [],
   "source": [
    "import pandas as pd\n",
    "import numpy as np\n",
    "import datetime \n",
    "import matplotlib.pyplot as plt\n",
    "%matplotlib inline"
   ]
  },
  {
   "cell_type": "markdown",
   "metadata": {},
   "source": [
    "### Dataset"
   ]
  },
  {
   "cell_type": "code",
   "execution_count": 2,
   "metadata": {},
   "outputs": [
    {
     "data": {
      "text/html": [
       "<div>\n",
       "<style scoped>\n",
       "    .dataframe tbody tr th:only-of-type {\n",
       "        vertical-align: middle;\n",
       "    }\n",
       "\n",
       "    .dataframe tbody tr th {\n",
       "        vertical-align: top;\n",
       "    }\n",
       "\n",
       "    .dataframe thead th {\n",
       "        text-align: right;\n",
       "    }\n",
       "</style>\n",
       "<table border=\"1\" class=\"dataframe\">\n",
       "  <thead>\n",
       "    <tr style=\"text-align: right;\">\n",
       "      <th></th>\n",
       "      <th>nights_PAC</th>\n",
       "    </tr>\n",
       "    <tr>\n",
       "      <th>date</th>\n",
       "      <th></th>\n",
       "    </tr>\n",
       "  </thead>\n",
       "  <tbody>\n",
       "    <tr>\n",
       "      <th>2010-01-01</th>\n",
       "      <td>956.88</td>\n",
       "    </tr>\n",
       "    <tr>\n",
       "      <th>2010-02-01</th>\n",
       "      <td>1114.93</td>\n",
       "    </tr>\n",
       "    <tr>\n",
       "      <th>2010-03-01</th>\n",
       "      <td>1327.84</td>\n",
       "    </tr>\n",
       "    <tr>\n",
       "      <th>2010-04-01</th>\n",
       "      <td>1727.31</td>\n",
       "    </tr>\n",
       "    <tr>\n",
       "      <th>2010-05-01</th>\n",
       "      <td>2066.52</td>\n",
       "    </tr>\n",
       "  </tbody>\n",
       "</table>\n",
       "</div>"
      ],
      "text/plain": [
       "            nights_PAC\n",
       "date                  \n",
       "2010-01-01      956.88\n",
       "2010-02-01     1114.93\n",
       "2010-03-01     1327.84\n",
       "2010-04-01     1727.31\n",
       "2010-05-01     2066.52"
      ]
     },
     "execution_count": 2,
     "metadata": {},
     "output_type": "execute_result"
    }
   ],
   "source": [
    "data_nights = pd.read_csv('/Users/jinny/Documents/touristcast/datasets/nights_2010-2017.csv', index_col='date')\n",
    "data_nights = data_nights.drop('Unnamed: 0', axis=1)\n",
    "data_nights\n",
    "nights_PAC = data_nights[['nights_PAC']]\n",
    "nights_PAC.head()"
   ]
  },
  {
   "cell_type": "code",
   "execution_count": 3,
   "metadata": {},
   "outputs": [
    {
     "data": {
      "text/html": [
       "<div>\n",
       "<style scoped>\n",
       "    .dataframe tbody tr th:only-of-type {\n",
       "        vertical-align: middle;\n",
       "    }\n",
       "\n",
       "    .dataframe tbody tr th {\n",
       "        vertical-align: top;\n",
       "    }\n",
       "\n",
       "    .dataframe thead th {\n",
       "        text-align: right;\n",
       "    }\n",
       "</style>\n",
       "<table border=\"1\" class=\"dataframe\">\n",
       "  <thead>\n",
       "    <tr style=\"text-align: right;\">\n",
       "      <th></th>\n",
       "      <th>avgtemp_PAC</th>\n",
       "    </tr>\n",
       "    <tr>\n",
       "      <th>date</th>\n",
       "      <th></th>\n",
       "    </tr>\n",
       "  </thead>\n",
       "  <tbody>\n",
       "    <tr>\n",
       "      <th>2010-01-01</th>\n",
       "      <td>5.0</td>\n",
       "    </tr>\n",
       "    <tr>\n",
       "      <th>2010-02-01</th>\n",
       "      <td>7.0</td>\n",
       "    </tr>\n",
       "    <tr>\n",
       "      <th>2010-03-01</th>\n",
       "      <td>9.0</td>\n",
       "    </tr>\n",
       "    <tr>\n",
       "      <th>2010-04-01</th>\n",
       "      <td>14.0</td>\n",
       "    </tr>\n",
       "    <tr>\n",
       "      <th>2010-05-01</th>\n",
       "      <td>17.0</td>\n",
       "    </tr>\n",
       "  </tbody>\n",
       "</table>\n",
       "</div>"
      ],
      "text/plain": [
       "            avgtemp_PAC\n",
       "date                   \n",
       "2010-01-01          5.0\n",
       "2010-02-01          7.0\n",
       "2010-03-01          9.0\n",
       "2010-04-01         14.0\n",
       "2010-05-01         17.0"
      ]
     },
     "execution_count": 3,
     "metadata": {},
     "output_type": "execute_result"
    }
   ],
   "source": [
    "data_temp = pd.read_csv('/Users/jinny/Documents/touristcast/datasets/avgtemp_2010-2017.csv', index_col='date')\n",
    "data_temp = data_temp.drop('Unnamed: 0', axis=1)\n",
    "data_temp\n",
    "avgtemp_PAC = data_temp[['avgtemp_PAC']]\n",
    "avgtemp_PAC.head()"
   ]
  },
  {
   "cell_type": "code",
   "execution_count": 4,
   "metadata": {},
   "outputs": [
    {
     "data": {
      "text/html": [
       "<div>\n",
       "<style scoped>\n",
       "    .dataframe tbody tr th:only-of-type {\n",
       "        vertical-align: middle;\n",
       "    }\n",
       "\n",
       "    .dataframe tbody tr th {\n",
       "        vertical-align: top;\n",
       "    }\n",
       "\n",
       "    .dataframe thead th {\n",
       "        text-align: right;\n",
       "    }\n",
       "</style>\n",
       "<table border=\"1\" class=\"dataframe\">\n",
       "  <thead>\n",
       "    <tr style=\"text-align: right;\">\n",
       "      <th></th>\n",
       "      <th>daysoff</th>\n",
       "    </tr>\n",
       "    <tr>\n",
       "      <th>date</th>\n",
       "      <th></th>\n",
       "    </tr>\n",
       "  </thead>\n",
       "  <tbody>\n",
       "    <tr>\n",
       "      <th>2010-01-01</th>\n",
       "      <td>11</td>\n",
       "    </tr>\n",
       "    <tr>\n",
       "      <th>2010-02-01</th>\n",
       "      <td>9</td>\n",
       "    </tr>\n",
       "    <tr>\n",
       "      <th>2010-03-01</th>\n",
       "      <td>9</td>\n",
       "    </tr>\n",
       "    <tr>\n",
       "      <th>2010-04-01</th>\n",
       "      <td>10</td>\n",
       "    </tr>\n",
       "    <tr>\n",
       "      <th>2010-05-01</th>\n",
       "      <td>12</td>\n",
       "    </tr>\n",
       "  </tbody>\n",
       "</table>\n",
       "</div>"
      ],
      "text/plain": [
       "            daysoff\n",
       "date               \n",
       "2010-01-01       11\n",
       "2010-02-01        9\n",
       "2010-03-01        9\n",
       "2010-04-01       10\n",
       "2010-05-01       12"
      ]
     },
     "execution_count": 4,
     "metadata": {},
     "output_type": "execute_result"
    }
   ],
   "source": [
    "data_daysoff = pd.read_csv('/Users/jinny/Documents/touristcast/datasets/daysoff_2010-2017.csv', index_col='date')\n",
    "data_daysoff = data_daysoff.drop('Unnamed: 0', axis=1)\n",
    "data_daysoff.head()"
   ]
  },
  {
   "cell_type": "code",
   "execution_count": 5,
   "metadata": {},
   "outputs": [
    {
     "data": {
      "text/html": [
       "<div>\n",
       "<style scoped>\n",
       "    .dataframe tbody tr th:only-of-type {\n",
       "        vertical-align: middle;\n",
       "    }\n",
       "\n",
       "    .dataframe tbody tr th {\n",
       "        vertical-align: top;\n",
       "    }\n",
       "\n",
       "    .dataframe thead th {\n",
       "        text-align: right;\n",
       "    }\n",
       "</style>\n",
       "<table border=\"1\" class=\"dataframe\">\n",
       "  <thead>\n",
       "    <tr style=\"text-align: right;\">\n",
       "      <th></th>\n",
       "      <th>gdp_PAC</th>\n",
       "    </tr>\n",
       "    <tr>\n",
       "      <th>date</th>\n",
       "      <th></th>\n",
       "    </tr>\n",
       "  </thead>\n",
       "  <tbody>\n",
       "    <tr>\n",
       "      <th>2010-01-01</th>\n",
       "      <td>143112.575866</td>\n",
       "    </tr>\n",
       "    <tr>\n",
       "      <th>2010-02-01</th>\n",
       "      <td>143112.575866</td>\n",
       "    </tr>\n",
       "    <tr>\n",
       "      <th>2010-03-01</th>\n",
       "      <td>143112.575866</td>\n",
       "    </tr>\n",
       "    <tr>\n",
       "      <th>2010-04-01</th>\n",
       "      <td>143112.575866</td>\n",
       "    </tr>\n",
       "    <tr>\n",
       "      <th>2010-05-01</th>\n",
       "      <td>143112.575866</td>\n",
       "    </tr>\n",
       "  </tbody>\n",
       "</table>\n",
       "</div>"
      ],
      "text/plain": [
       "                  gdp_PAC\n",
       "date                     \n",
       "2010-01-01  143112.575866\n",
       "2010-02-01  143112.575866\n",
       "2010-03-01  143112.575866\n",
       "2010-04-01  143112.575866\n",
       "2010-05-01  143112.575866"
      ]
     },
     "execution_count": 5,
     "metadata": {},
     "output_type": "execute_result"
    }
   ],
   "source": [
    "data_gdp = pd.read_csv('/Users/jinny/Documents/touristcast/datasets/regionalGDP_2010-2015.csv', index_col='date')\n",
    "data_gdp = data_gdp.drop('Unnamed: 0', axis=1)\n",
    "data_gdp\n",
    "gdp_PAC = data_gdp[['gdp_PAC']]\n",
    "gdp_PAC.head()"
   ]
  },
  {
   "cell_type": "code",
   "execution_count": 34,
   "metadata": {},
   "outputs": [],
   "source": [
    "exog_df = pd.concat([avgtemp_PAC, data_daysoff], axis=1, sort=False)\n",
    "exog_df.index = pd.to_datetime(exog_df.index)\n",
    "\n",
    "y_df = pd.concat([nights_PAC, gdp_PAC], axis=1, sort=False)\n",
    "y_df.index = pd.to_datetime(y_df.index)\n",
    "\n",
    "y_df_train = y_df.dropna(axis=0, how='any')\n",
    "\n",
    "exog_df_train = exog_df[(exog_df.index>='2010-01-01')&(exog_df.index<'2016-01-01')]\n",
    "\n",
    "exog_future_df = exog_df[(exog_df.index>='2016-01-01')&(exog_df.index<'2017-01-01')]"
   ]
  },
  {
   "cell_type": "markdown",
   "metadata": {},
   "source": [
    "### Stationarity check"
   ]
  },
  {
   "cell_type": "code",
   "execution_count": 7,
   "metadata": {},
   "outputs": [
    {
     "name": "stdout",
     "output_type": "stream",
     "text": [
      "Stationarity test for variable nights_PAC\n",
      "ADF Statistic: -2.225807\n",
      "p-value: 0.197013\n",
      "Critical Values:\n",
      "\t1%: -3.546\n",
      "\t5%: -2.912\n",
      "\t10%: -2.594\n",
      "NON-STATIONARY\n",
      "nights_PAC\n",
      "-------\n",
      "Stationarity test for variable gdp_PAC\n",
      "ADF Statistic: -1.015064\n",
      "p-value: 0.747730\n",
      "Critical Values:\n",
      "\t1%: -3.526\n",
      "\t5%: -2.903\n",
      "\t10%: -2.589\n",
      "NON-STATIONARY\n",
      "gdp_PAC\n",
      "-------\n"
     ]
    }
   ],
   "source": [
    "from statsmodels.tsa.stattools import adfuller\n",
    "\n",
    "for column in y_df_train.columns:\n",
    "    result = adfuller(y_df_train[column])\n",
    "    print(f'Stationarity test for variable {column}')\n",
    "    print('ADF Statistic: %f' % result[0])\n",
    "    print('p-value: %f' % result[1])\n",
    "    print('Critical Values:')\n",
    "\n",
    "    for key, value in result[4].items():\n",
    "        print('\\t%s: %.3f' % (key, value))\n",
    "    \n",
    "    if result[1] < 0.05:\n",
    "        print('STATIONARY')\n",
    "        print(f'{column}')\n",
    "        print('-------')\n",
    "    else:\n",
    "        print('NON-STATIONARY')\n",
    "        print(f'{column}')\n",
    "        print('-------')"
   ]
  },
  {
   "cell_type": "markdown",
   "metadata": {},
   "source": [
    "Result:\n",
    "- Nights and GDP are all non-stationary"
   ]
  },
  {
   "cell_type": "markdown",
   "metadata": {},
   "source": [
    "#### Figure out which series' seasonality is additive or multiplicative"
   ]
  },
  {
   "cell_type": "code",
   "execution_count": 8,
   "metadata": {},
   "outputs": [],
   "source": [
    "from statsmodels.tsa.seasonal import seasonal_decompose\n",
    "\n",
    "# ----- Additive Model below -----\n",
    "\n",
    "add_data = seasonal_decompose(y_df_train, model='additive')  \n",
    "\n",
    "add_trend = add_data.trend.dropna()\n",
    "add_seasonal = add_data.seasonal.dropna()\n",
    "add_residual = add_data.resid.dropna()\n",
    "\n",
    "# stationarity_test(add_residual)\n",
    "\n",
    "# ----- Multiplicative Model below -----\n",
    "\n",
    "mult_data = seasonal_decompose(y_df_train, model='multiplicative')  \n",
    "\n",
    "mult_trend = mult_data.trend.dropna()\n",
    "mult_seasonal = mult_data.seasonal.dropna()\n",
    "mult_residual = mult_data.resid.dropna()\n",
    "\n",
    "# stationarity_test(mult_residual)"
   ]
  },
  {
   "cell_type": "code",
   "execution_count": 9,
   "metadata": {},
   "outputs": [
    {
     "name": "stdout",
     "output_type": "stream",
     "text": [
      "Additive []\n",
      "Multiplicative ['nights_PAC', 'gdp_PAC']\n"
     ]
    }
   ],
   "source": [
    "from statsmodels.tsa.stattools import acf\n",
    "\n",
    "add_acfs = add_residual.apply(acf, axis=0).apply(np.square, axis=0).apply(np.sum)\n",
    "\n",
    "mult_acfs = mult_residual.apply(acf, axis=0).apply(np.square, axis=0).apply(np.sum)\n",
    "\n",
    "additive = add_acfs < mult_acfs\n",
    "add_cols = additive.index[additive].tolist()\n",
    "mult_cols = additive.index[~additive].tolist()\n",
    "print('Additive', add_cols)\n",
    "print('Multiplicative', mult_cols)"
   ]
  },
  {
   "cell_type": "markdown",
   "metadata": {},
   "source": [
    "> Nights PAC is a multiplicative series"
   ]
  },
  {
   "cell_type": "code",
   "execution_count": 10,
   "metadata": {},
   "outputs": [
    {
     "data": {
      "text/html": [
       "<div>\n",
       "<style scoped>\n",
       "    .dataframe tbody tr th:only-of-type {\n",
       "        vertical-align: middle;\n",
       "    }\n",
       "\n",
       "    .dataframe tbody tr th {\n",
       "        vertical-align: top;\n",
       "    }\n",
       "\n",
       "    .dataframe thead th {\n",
       "        text-align: right;\n",
       "    }\n",
       "</style>\n",
       "<table border=\"1\" class=\"dataframe\">\n",
       "  <thead>\n",
       "    <tr style=\"text-align: right;\">\n",
       "      <th></th>\n",
       "      <th>avgtemp_PAC</th>\n",
       "      <th>daysoff</th>\n",
       "    </tr>\n",
       "    <tr>\n",
       "      <th>date</th>\n",
       "      <th></th>\n",
       "      <th></th>\n",
       "    </tr>\n",
       "  </thead>\n",
       "  <tbody>\n",
       "    <tr>\n",
       "      <th>2010-07-01</th>\n",
       "      <td>1.138510</td>\n",
       "      <td>1.085532</td>\n",
       "    </tr>\n",
       "    <tr>\n",
       "      <th>2010-08-01</th>\n",
       "      <td>1.036560</td>\n",
       "      <td>0.873729</td>\n",
       "    </tr>\n",
       "    <tr>\n",
       "      <th>2010-09-01</th>\n",
       "      <td>1.001714</td>\n",
       "      <td>0.986072</td>\n",
       "    </tr>\n",
       "    <tr>\n",
       "      <th>2010-10-01</th>\n",
       "      <td>0.907118</td>\n",
       "      <td>1.150226</td>\n",
       "    </tr>\n",
       "    <tr>\n",
       "      <th>2010-11-01</th>\n",
       "      <td>0.900706</td>\n",
       "      <td>0.994409</td>\n",
       "    </tr>\n",
       "  </tbody>\n",
       "</table>\n",
       "</div>"
      ],
      "text/plain": [
       "            avgtemp_PAC   daysoff\n",
       "date                             \n",
       "2010-07-01     1.138510  1.085532\n",
       "2010-08-01     1.036560  0.873729\n",
       "2010-09-01     1.001714  0.986072\n",
       "2010-10-01     0.907118  1.150226\n",
       "2010-11-01     0.900706  0.994409"
      ]
     },
     "execution_count": 10,
     "metadata": {},
     "output_type": "execute_result"
    }
   ],
   "source": [
    "mult_exog = seasonal_decompose(exog_df_train, model='multiplicative')\n",
    "mult_exog_resid = mult_exog.resid.dropna()\n",
    "mult_exog_resid.head()"
   ]
  },
  {
   "cell_type": "markdown",
   "metadata": {},
   "source": [
    "### Forecasting the 3 parts: Seasonal, Trend, and Residuals"
   ]
  },
  {
   "cell_type": "markdown",
   "metadata": {},
   "source": [
    "#### Seasonal forecasts for 2016 (nights only)\n",
    "- Seasonal naive forecast method: Taking the same seasonal data as 2015"
   ]
  },
  {
   "cell_type": "code",
   "execution_count": 11,
   "metadata": {},
   "outputs": [
    {
     "data": {
      "text/html": [
       "<div>\n",
       "<style scoped>\n",
       "    .dataframe tbody tr th:only-of-type {\n",
       "        vertical-align: middle;\n",
       "    }\n",
       "\n",
       "    .dataframe tbody tr th {\n",
       "        vertical-align: top;\n",
       "    }\n",
       "\n",
       "    .dataframe thead th {\n",
       "        text-align: right;\n",
       "    }\n",
       "</style>\n",
       "<table border=\"1\" class=\"dataframe\">\n",
       "  <thead>\n",
       "    <tr style=\"text-align: right;\">\n",
       "      <th></th>\n",
       "      <th>nights_PAC</th>\n",
       "      <th>gdp_PAC</th>\n",
       "    </tr>\n",
       "  </thead>\n",
       "  <tbody>\n",
       "    <tr>\n",
       "      <th>2015-08-01</th>\n",
       "      <td>1.828675</td>\n",
       "      <td>0.998023</td>\n",
       "    </tr>\n",
       "    <tr>\n",
       "      <th>2015-09-01</th>\n",
       "      <td>1.279591</td>\n",
       "      <td>0.996701</td>\n",
       "    </tr>\n",
       "    <tr>\n",
       "      <th>2015-10-01</th>\n",
       "      <td>0.903177</td>\n",
       "      <td>0.995384</td>\n",
       "    </tr>\n",
       "    <tr>\n",
       "      <th>2015-11-01</th>\n",
       "      <td>0.529655</td>\n",
       "      <td>0.994073</td>\n",
       "    </tr>\n",
       "    <tr>\n",
       "      <th>2015-12-01</th>\n",
       "      <td>0.510644</td>\n",
       "      <td>0.992765</td>\n",
       "    </tr>\n",
       "  </tbody>\n",
       "</table>\n",
       "</div>"
      ],
      "text/plain": [
       "            nights_PAC   gdp_PAC\n",
       "2015-08-01    1.828675  0.998023\n",
       "2015-09-01    1.279591  0.996701\n",
       "2015-10-01    0.903177  0.995384\n",
       "2015-11-01    0.529655  0.994073\n",
       "2015-12-01    0.510644  0.992765"
      ]
     },
     "execution_count": 11,
     "metadata": {},
     "output_type": "execute_result"
    }
   ],
   "source": [
    "mult_seasonal.tail()"
   ]
  },
  {
   "cell_type": "code",
   "execution_count": 12,
   "metadata": {},
   "outputs": [
    {
     "data": {
      "text/html": [
       "<div>\n",
       "<style scoped>\n",
       "    .dataframe tbody tr th:only-of-type {\n",
       "        vertical-align: middle;\n",
       "    }\n",
       "\n",
       "    .dataframe tbody tr th {\n",
       "        vertical-align: top;\n",
       "    }\n",
       "\n",
       "    .dataframe thead th {\n",
       "        text-align: right;\n",
       "    }\n",
       "</style>\n",
       "<table border=\"1\" class=\"dataframe\">\n",
       "  <thead>\n",
       "    <tr style=\"text-align: right;\">\n",
       "      <th></th>\n",
       "      <th>nights_PAC</th>\n",
       "      <th>gdp_PAC</th>\n",
       "    </tr>\n",
       "  </thead>\n",
       "  <tbody>\n",
       "    <tr>\n",
       "      <th>2015-01-01</th>\n",
       "      <td>0.504709</td>\n",
       "      <td>1.007251</td>\n",
       "    </tr>\n",
       "    <tr>\n",
       "      <th>2015-02-01</th>\n",
       "      <td>0.585774</td>\n",
       "      <td>1.005924</td>\n",
       "    </tr>\n",
       "    <tr>\n",
       "      <th>2015-03-01</th>\n",
       "      <td>0.753537</td>\n",
       "      <td>1.004603</td>\n",
       "    </tr>\n",
       "    <tr>\n",
       "      <th>2015-04-01</th>\n",
       "      <td>0.952641</td>\n",
       "      <td>1.003286</td>\n",
       "    </tr>\n",
       "    <tr>\n",
       "      <th>2015-05-01</th>\n",
       "      <td>1.167660</td>\n",
       "      <td>1.001974</td>\n",
       "    </tr>\n",
       "    <tr>\n",
       "      <th>2015-06-01</th>\n",
       "      <td>1.327215</td>\n",
       "      <td>1.000667</td>\n",
       "    </tr>\n",
       "    <tr>\n",
       "      <th>2015-07-01</th>\n",
       "      <td>1.656722</td>\n",
       "      <td>0.999350</td>\n",
       "    </tr>\n",
       "    <tr>\n",
       "      <th>2015-08-01</th>\n",
       "      <td>1.828675</td>\n",
       "      <td>0.998023</td>\n",
       "    </tr>\n",
       "    <tr>\n",
       "      <th>2015-09-01</th>\n",
       "      <td>1.279591</td>\n",
       "      <td>0.996701</td>\n",
       "    </tr>\n",
       "    <tr>\n",
       "      <th>2015-10-01</th>\n",
       "      <td>0.903177</td>\n",
       "      <td>0.995384</td>\n",
       "    </tr>\n",
       "    <tr>\n",
       "      <th>2015-11-01</th>\n",
       "      <td>0.529655</td>\n",
       "      <td>0.994073</td>\n",
       "    </tr>\n",
       "    <tr>\n",
       "      <th>2015-12-01</th>\n",
       "      <td>0.510644</td>\n",
       "      <td>0.992765</td>\n",
       "    </tr>\n",
       "  </tbody>\n",
       "</table>\n",
       "</div>"
      ],
      "text/plain": [
       "            nights_PAC   gdp_PAC\n",
       "2015-01-01    0.504709  1.007251\n",
       "2015-02-01    0.585774  1.005924\n",
       "2015-03-01    0.753537  1.004603\n",
       "2015-04-01    0.952641  1.003286\n",
       "2015-05-01    1.167660  1.001974\n",
       "2015-06-01    1.327215  1.000667\n",
       "2015-07-01    1.656722  0.999350\n",
       "2015-08-01    1.828675  0.998023\n",
       "2015-09-01    1.279591  0.996701\n",
       "2015-10-01    0.903177  0.995384\n",
       "2015-11-01    0.529655  0.994073\n",
       "2015-12-01    0.510644  0.992765"
      ]
     },
     "execution_count": 12,
     "metadata": {},
     "output_type": "execute_result"
    }
   ],
   "source": [
    "mult_seasonal_2016 = mult_seasonal[(mult_seasonal.index>='2015-01-01')&(mult_seasonal.index<'2016-01-01')]\n",
    "mult_seasonal_2016"
   ]
  },
  {
   "cell_type": "markdown",
   "metadata": {},
   "source": [
    "#### Trend forecasts for 2016 (nights only)\n",
    "- non-seasonal forecasting methods ex. ARIMA or Holt's"
   ]
  },
  {
   "cell_type": "code",
   "execution_count": 13,
   "metadata": {},
   "outputs": [
    {
     "data": {
      "text/html": [
       "<div>\n",
       "<style scoped>\n",
       "    .dataframe tbody tr th:only-of-type {\n",
       "        vertical-align: middle;\n",
       "    }\n",
       "\n",
       "    .dataframe tbody tr th {\n",
       "        vertical-align: top;\n",
       "    }\n",
       "\n",
       "    .dataframe thead th {\n",
       "        text-align: right;\n",
       "    }\n",
       "</style>\n",
       "<table border=\"1\" class=\"dataframe\">\n",
       "  <thead>\n",
       "    <tr style=\"text-align: right;\">\n",
       "      <th></th>\n",
       "      <th>nights_PAC</th>\n",
       "      <th>gdp_PAC</th>\n",
       "    </tr>\n",
       "  </thead>\n",
       "  <tbody>\n",
       "    <tr>\n",
       "      <th>2010-07-01</th>\n",
       "      <td>1769.145833</td>\n",
       "      <td>143242.681530</td>\n",
       "    </tr>\n",
       "    <tr>\n",
       "      <th>2010-08-01</th>\n",
       "      <td>1765.466667</td>\n",
       "      <td>143502.892859</td>\n",
       "    </tr>\n",
       "    <tr>\n",
       "      <th>2010-09-01</th>\n",
       "      <td>1764.709167</td>\n",
       "      <td>143763.104187</td>\n",
       "    </tr>\n",
       "    <tr>\n",
       "      <th>2010-10-01</th>\n",
       "      <td>1767.228333</td>\n",
       "      <td>144023.315516</td>\n",
       "    </tr>\n",
       "    <tr>\n",
       "      <th>2010-11-01</th>\n",
       "      <td>1766.691667</td>\n",
       "      <td>144283.526845</td>\n",
       "    </tr>\n",
       "  </tbody>\n",
       "</table>\n",
       "</div>"
      ],
      "text/plain": [
       "             nights_PAC        gdp_PAC\n",
       "2010-07-01  1769.145833  143242.681530\n",
       "2010-08-01  1765.466667  143502.892859\n",
       "2010-09-01  1764.709167  143763.104187\n",
       "2010-10-01  1767.228333  144023.315516\n",
       "2010-11-01  1766.691667  144283.526845"
      ]
     },
     "execution_count": 13,
     "metadata": {},
     "output_type": "execute_result"
    }
   ],
   "source": [
    "mult_trend.head()"
   ]
  },
  {
   "cell_type": "code",
   "execution_count": 14,
   "metadata": {},
   "outputs": [
    {
     "name": "stdout",
     "output_type": "stream",
     "text": [
      "Fit ARIMA: order=(6, 1, 3); AIC=nan, BIC=nan, Fit time=nan seconds\n",
      "Fit ARIMA: order=(8, 1, 2); AIC=nan, BIC=nan, Fit time=nan seconds\n",
      "Fit ARIMA: order=(0, 1, 0); AIC=386.432, BIC=390.587, Fit time=0.007 seconds\n",
      "Fit ARIMA: order=(5, 1, 0); AIC=333.072, BIC=347.615, Fit time=0.175 seconds\n",
      "Fit ARIMA: order=(0, 1, 5); AIC=nan, BIC=nan, Fit time=nan seconds\n",
      "Fit ARIMA: order=(9, 1, 0); AIC=337.305, BIC=360.158, Fit time=0.874 seconds\n",
      "Fit ARIMA: order=(1, 1, 5); AIC=nan, BIC=nan, Fit time=nan seconds\n",
      "Fit ARIMA: order=(1, 1, 1); AIC=327.398, BIC=335.708, Fit time=0.107 seconds\n",
      "Fit ARIMA: order=(10, 1, 0); AIC=nan, BIC=nan, Fit time=nan seconds\n",
      "Fit ARIMA: order=(3, 1, 0); AIC=338.841, BIC=349.229, Fit time=0.071 seconds\n",
      "Total fit time: 1.296 seconds\n"
     ]
    },
    {
     "data": {
      "text/html": [
       "<table class=\"simpletable\">\n",
       "<caption>ARIMA Model Results</caption>\n",
       "<tr>\n",
       "  <th>Dep. Variable:</th>        <td>D.y</td>       <th>  No. Observations:  </th>    <td>59</td>   \n",
       "</tr>\n",
       "<tr>\n",
       "  <th>Model:</th>          <td>ARIMA(1, 1, 1)</td>  <th>  Log Likelihood     </th> <td>-159.699</td>\n",
       "</tr>\n",
       "<tr>\n",
       "  <th>Method:</th>             <td>css-mle</td>     <th>  S.D. of innovations</th>   <td>3.480</td> \n",
       "</tr>\n",
       "<tr>\n",
       "  <th>Date:</th>          <td>Mon, 20 Aug 2018</td> <th>  AIC                </th>  <td>327.398</td>\n",
       "</tr>\n",
       "<tr>\n",
       "  <th>Time:</th>              <td>00:54:48</td>     <th>  BIC                </th>  <td>335.708</td>\n",
       "</tr>\n",
       "<tr>\n",
       "  <th>Sample:</th>                <td>1</td>        <th>  HQIC               </th>  <td>330.642</td>\n",
       "</tr>\n",
       "<tr>\n",
       "  <th></th>                       <td> </td>        <th>                     </th>     <td> </td>   \n",
       "</tr>\n",
       "</table>\n",
       "<table class=\"simpletable\">\n",
       "<tr>\n",
       "      <td></td>         <th>coef</th>     <th>std err</th>      <th>z</th>      <th>P>|z|</th>  <th>[0.025</th>    <th>0.975]</th>  \n",
       "</tr>\n",
       "<tr>\n",
       "  <th>const</th>     <td>    1.1898</td> <td>    1.382</td> <td>    0.861</td> <td> 0.393</td> <td>   -1.518</td> <td>    3.898</td>\n",
       "</tr>\n",
       "<tr>\n",
       "  <th>ar.L1.D.y</th> <td>    0.3554</td> <td>    0.121</td> <td>    2.943</td> <td> 0.005</td> <td>    0.119</td> <td>    0.592</td>\n",
       "</tr>\n",
       "<tr>\n",
       "  <th>ma.L1.D.y</th> <td>    0.9999</td> <td>    0.067</td> <td>   14.886</td> <td> 0.000</td> <td>    0.868</td> <td>    1.132</td>\n",
       "</tr>\n",
       "</table>\n",
       "<table class=\"simpletable\">\n",
       "<caption>Roots</caption>\n",
       "<tr>\n",
       "    <td></td>   <th>            Real</th>  <th>         Imaginary</th> <th>         Modulus</th>  <th>        Frequency</th>\n",
       "</tr>\n",
       "<tr>\n",
       "  <th>AR.1</th> <td>           2.8134</td> <td>          +0.0000j</td> <td>           2.8134</td> <td>           0.0000</td>\n",
       "</tr>\n",
       "<tr>\n",
       "  <th>MA.1</th> <td>          -1.0001</td> <td>          +0.0000j</td> <td>           1.0001</td> <td>           0.5000</td>\n",
       "</tr>\n",
       "</table>"
      ],
      "text/plain": [
       "<class 'statsmodels.iolib.summary.Summary'>\n",
       "\"\"\"\n",
       "                             ARIMA Model Results                              \n",
       "==============================================================================\n",
       "Dep. Variable:                    D.y   No. Observations:                   59\n",
       "Model:                 ARIMA(1, 1, 1)   Log Likelihood                -159.699\n",
       "Method:                       css-mle   S.D. of innovations              3.480\n",
       "Date:                Mon, 20 Aug 2018   AIC                            327.398\n",
       "Time:                        00:54:48   BIC                            335.708\n",
       "Sample:                             1   HQIC                           330.642\n",
       "                                                                              \n",
       "==============================================================================\n",
       "                 coef    std err          z      P>|z|      [0.025      0.975]\n",
       "------------------------------------------------------------------------------\n",
       "const          1.1898      1.382      0.861      0.393      -1.518       3.898\n",
       "ar.L1.D.y      0.3554      0.121      2.943      0.005       0.119       0.592\n",
       "ma.L1.D.y      0.9999      0.067     14.886      0.000       0.868       1.132\n",
       "                                    Roots                                    \n",
       "=============================================================================\n",
       "                  Real          Imaginary           Modulus         Frequency\n",
       "-----------------------------------------------------------------------------\n",
       "AR.1            2.8134           +0.0000j            2.8134            0.0000\n",
       "MA.1           -1.0001           +0.0000j            1.0001            0.5000\n",
       "-----------------------------------------------------------------------------\n",
       "\"\"\""
      ]
     },
     "execution_count": 14,
     "metadata": {},
     "output_type": "execute_result"
    }
   ],
   "source": [
    "from pyramid.arima import auto_arima\n",
    "arima_trend = auto_arima(np.array(mult_trend.nights_PAC), start_p=0, start_q=0, max_p=20, max_q=20, m=12,\n",
    "                    start_P=0, max_P=20, seasonal=False, d=1, D=1, trace=True,\n",
    "                    error_action='ignore', suppress_warnings=True, stepwise=False, random=True, random_state=42) \n",
    "\n",
    "arima_trend.summary()\n"
   ]
  },
  {
   "cell_type": "code",
   "execution_count": 15,
   "metadata": {},
   "outputs": [
    {
     "data": {
      "text/plain": [
       "ARIMA(callback=None, disp=0, maxiter=50, method=None, order=(1, 1, 1),\n",
       "   out_of_sample_size=0, scoring='mse', scoring_args={},\n",
       "   seasonal_order=None, solver='lbfgs', start_params=None,\n",
       "   suppress_warnings=True, transparams=True, trend='c')"
      ]
     },
     "execution_count": 15,
     "metadata": {},
     "output_type": "execute_result"
    }
   ],
   "source": [
    "arima_trend.fit(mult_trend.nights_PAC)\n"
   ]
  },
  {
   "cell_type": "code",
   "execution_count": 16,
   "metadata": {},
   "outputs": [
    {
     "data": {
      "text/plain": [
       "array([1846.45350717, 1846.792287  , 1847.67958289, 1848.76184506,\n",
       "       1849.91340664, 1851.08960023, 1852.2745491 , 1853.46260997,\n",
       "       1854.65177698, 1855.84133717, 1857.0310371 , 1858.2207867 ])"
      ]
     },
     "execution_count": 16,
     "metadata": {},
     "output_type": "execute_result"
    }
   ],
   "source": [
    "arima_trend_forecast_2016 = arima_trend.predict(n_periods=12)\n",
    "arima_trend_forecast_2016"
   ]
  },
  {
   "cell_type": "code",
   "execution_count": 17,
   "metadata": {},
   "outputs": [
    {
     "data": {
      "text/plain": [
       "<matplotlib.axes._subplots.AxesSubplot at 0x1c17d54f60>"
      ]
     },
     "execution_count": 17,
     "metadata": {},
     "output_type": "execute_result"
    },
    {
     "data": {
      "image/png": "[encoded data removed]",
      "text/plain": [
       "<Figure size 432x288 with 1 Axes>"
      ]
     },
     "metadata": {},
     "output_type": "display_data"
    }
   ],
   "source": [
    "arima_trend_forecast_2016_df = pd.DataFrame(arima_trend_forecast_2016)\n",
    "arima_trend_forecast_2016_df.plot()"
   ]
  },
  {
   "cell_type": "markdown",
   "metadata": {},
   "source": [
    "#### Residual forecasts for 2016 (produces forecasts for all but we will use nights forecast only)\n",
    "- VAR model\n",
    "- Takes all variables into account and gives predictions for all\n",
    "- We will be taking the VAR prediction for nights_PAC only"
   ]
  },
  {
   "cell_type": "code",
   "execution_count": 18,
   "metadata": {},
   "outputs": [
    {
     "data": {
      "text/html": [
       "<div>\n",
       "<style scoped>\n",
       "    .dataframe tbody tr th:only-of-type {\n",
       "        vertical-align: middle;\n",
       "    }\n",
       "\n",
       "    .dataframe tbody tr th {\n",
       "        vertical-align: top;\n",
       "    }\n",
       "\n",
       "    .dataframe thead th {\n",
       "        text-align: right;\n",
       "    }\n",
       "</style>\n",
       "<table border=\"1\" class=\"dataframe\">\n",
       "  <thead>\n",
       "    <tr style=\"text-align: right;\">\n",
       "      <th></th>\n",
       "      <th>nights_PAC</th>\n",
       "      <th>gdp_PAC</th>\n",
       "    </tr>\n",
       "  </thead>\n",
       "  <tbody>\n",
       "    <tr>\n",
       "      <th>2010-07-01</th>\n",
       "      <td>1.008754</td>\n",
       "      <td>0.999742</td>\n",
       "    </tr>\n",
       "    <tr>\n",
       "      <th>2010-08-01</th>\n",
       "      <td>1.002161</td>\n",
       "      <td>0.999256</td>\n",
       "    </tr>\n",
       "    <tr>\n",
       "      <th>2010-09-01</th>\n",
       "      <td>0.999191</td>\n",
       "      <td>0.998770</td>\n",
       "    </tr>\n",
       "    <tr>\n",
       "      <th>2010-10-01</th>\n",
       "      <td>0.949383</td>\n",
       "      <td>0.998284</td>\n",
       "    </tr>\n",
       "    <tr>\n",
       "      <th>2010-11-01</th>\n",
       "      <td>0.973639</td>\n",
       "      <td>0.997799</td>\n",
       "    </tr>\n",
       "  </tbody>\n",
       "</table>\n",
       "</div>"
      ],
      "text/plain": [
       "            nights_PAC   gdp_PAC\n",
       "2010-07-01    1.008754  0.999742\n",
       "2010-08-01    1.002161  0.999256\n",
       "2010-09-01    0.999191  0.998770\n",
       "2010-10-01    0.949383  0.998284\n",
       "2010-11-01    0.973639  0.997799"
      ]
     },
     "execution_count": 18,
     "metadata": {},
     "output_type": "execute_result"
    }
   ],
   "source": [
    "mult_residual.head()"
   ]
  },
  {
   "cell_type": "code",
   "execution_count": 49,
   "metadata": {
    "scrolled": true
   },
   "outputs": [
    {
     "name": "stdout",
     "output_type": "stream",
     "text": [
      "  Summary of Regression Results   \n",
      "==================================\n",
      "Model:                         VAR\n",
      "Method:                        OLS\n",
      "Date:           Mon, 20, Aug, 2018\n",
      "Time:                     01:06:28\n",
      "--------------------------------------------------------------------\n",
      "No. of Equations:         2.00000    BIC:                   -18.7119\n",
      "Nobs:                     59.0000    HQIC:                  -18.9266\n",
      "Log likelihood:           404.955    FPE:                5.25948e-09\n",
      "AIC:                     -19.0640    Det(Omega_mle):     4.46979e-09\n",
      "--------------------------------------------------------------------\n",
      "Results for equation nights_PAC\n",
      "========================================================================\n",
      "           coefficient       std. error           t-stat            prob\n",
      "------------------------------------------------------------------------\n",
      "const        -0.931772         1.283162           -0.726           0.468\n",
      "exog0         0.049652         0.039194            1.267           0.205\n",
      "exog1         0.111192         0.046762            2.378           0.017\n",
      "========================================================================\n",
      "\n",
      "Results for equation gdp_PAC\n",
      "========================================================================\n",
      "           coefficient       std. error           t-stat            prob\n",
      "------------------------------------------------------------------------\n",
      "const        -0.127005         0.137249           -0.925           0.355\n",
      "exog0         1.898022         1.321374            1.436           0.151\n",
      "exog1         0.474969         0.117043            4.058           0.000\n",
      "========================================================================\n",
      "\n",
      "Correlation matrix of residuals\n",
      "              nights_PAC   gdp_PAC\n",
      "nights_PAC      1.000000  0.299540\n",
      "gdp_PAC         0.299540  1.000000\n",
      "\n",
      "\n",
      "\n"
     ]
    },
    {
     "name": "stderr",
     "output_type": "stream",
     "text": [
      "/Users/jinny/anaconda3/lib/python3.6/site-packages/statsmodels/tsa/base/tsa_model.py:171: ValueWarning: No frequency information was provided, so inferred frequency MS will be used.\n",
      "  % freq, ValueWarning)\n"
     ]
    }
   ],
   "source": [
    "from statsmodels.tsa.api import VAR, DynamicVAR\n",
    "\n",
    "model = VAR(endog=mult_residual, exog=mult_exog_resid, dates=mult_residual.index)\n",
    "\n",
    "# lagorder_results = model.select_order(30)\n",
    "# print(lagorder_results.summary())\n",
    "\n",
    "results = model.fit(maxlags=10, ic='aic')\n",
    "print(results.summary())"
   ]
  },
  {
   "cell_type": "code",
   "execution_count": 50,
   "metadata": {},
   "outputs": [
    {
     "name": "stdout",
     "output_type": "stream",
     "text": [
      "1\n"
     ]
    },
    {
     "data": {
      "text/plain": [
       "array([[2.56003435, 1.03707412],\n",
       "       [2.25838273, 1.06404187],\n",
       "       [2.50872341, 1.07994405],\n",
       "       [2.70571948, 1.0975993 ],\n",
       "       [2.97435813, 1.11577833],\n",
       "       [2.95096748, 1.13085974],\n",
       "       [3.46509537, 1.15019483],\n",
       "       [3.21411284, 1.159507  ],\n",
       "       [3.05316745, 1.1568498 ],\n",
       "       [2.88184527, 1.14455324],\n",
       "       [2.63200507, 1.12727372],\n",
       "       [2.53163512, 1.11286294]])"
      ]
     },
     "execution_count": 50,
     "metadata": {},
     "output_type": "execute_result"
    }
   ],
   "source": [
    "lag_order = results.k_ar\n",
    "print(lag_order)\n",
    "\n",
    "mult_resid_forecast_2016 = results.forecast(mult_residual.values[-lag_order:], 12, \n",
    "                                           exog_future=exog_future_df)\n",
    "mult_resid_forecast_2016"
   ]
  },
  {
   "cell_type": "code",
   "execution_count": 51,
   "metadata": {},
   "outputs": [
    {
     "data": {
      "text/html": [
       "<div>\n",
       "<style scoped>\n",
       "    .dataframe tbody tr th:only-of-type {\n",
       "        vertical-align: middle;\n",
       "    }\n",
       "\n",
       "    .dataframe tbody tr th {\n",
       "        vertical-align: top;\n",
       "    }\n",
       "\n",
       "    .dataframe thead th {\n",
       "        text-align: right;\n",
       "    }\n",
       "</style>\n",
       "<table border=\"1\" class=\"dataframe\">\n",
       "  <thead>\n",
       "    <tr style=\"text-align: right;\">\n",
       "      <th></th>\n",
       "      <th>0</th>\n",
       "      <th>1</th>\n",
       "    </tr>\n",
       "  </thead>\n",
       "  <tbody>\n",
       "    <tr>\n",
       "      <th>0</th>\n",
       "      <td>2.560034</td>\n",
       "      <td>1.037074</td>\n",
       "    </tr>\n",
       "    <tr>\n",
       "      <th>1</th>\n",
       "      <td>2.258383</td>\n",
       "      <td>1.064042</td>\n",
       "    </tr>\n",
       "    <tr>\n",
       "      <th>2</th>\n",
       "      <td>2.508723</td>\n",
       "      <td>1.079944</td>\n",
       "    </tr>\n",
       "    <tr>\n",
       "      <th>3</th>\n",
       "      <td>2.705719</td>\n",
       "      <td>1.097599</td>\n",
       "    </tr>\n",
       "    <tr>\n",
       "      <th>4</th>\n",
       "      <td>2.974358</td>\n",
       "      <td>1.115778</td>\n",
       "    </tr>\n",
       "    <tr>\n",
       "      <th>5</th>\n",
       "      <td>2.950967</td>\n",
       "      <td>1.130860</td>\n",
       "    </tr>\n",
       "    <tr>\n",
       "      <th>6</th>\n",
       "      <td>3.465095</td>\n",
       "      <td>1.150195</td>\n",
       "    </tr>\n",
       "    <tr>\n",
       "      <th>7</th>\n",
       "      <td>3.214113</td>\n",
       "      <td>1.159507</td>\n",
       "    </tr>\n",
       "    <tr>\n",
       "      <th>8</th>\n",
       "      <td>3.053167</td>\n",
       "      <td>1.156850</td>\n",
       "    </tr>\n",
       "    <tr>\n",
       "      <th>9</th>\n",
       "      <td>2.881845</td>\n",
       "      <td>1.144553</td>\n",
       "    </tr>\n",
       "    <tr>\n",
       "      <th>10</th>\n",
       "      <td>2.632005</td>\n",
       "      <td>1.127274</td>\n",
       "    </tr>\n",
       "    <tr>\n",
       "      <th>11</th>\n",
       "      <td>2.531635</td>\n",
       "      <td>1.112863</td>\n",
       "    </tr>\n",
       "  </tbody>\n",
       "</table>\n",
       "</div>"
      ],
      "text/plain": [
       "           0         1\n",
       "0   2.560034  1.037074\n",
       "1   2.258383  1.064042\n",
       "2   2.508723  1.079944\n",
       "3   2.705719  1.097599\n",
       "4   2.974358  1.115778\n",
       "5   2.950967  1.130860\n",
       "6   3.465095  1.150195\n",
       "7   3.214113  1.159507\n",
       "8   3.053167  1.156850\n",
       "9   2.881845  1.144553\n",
       "10  2.632005  1.127274\n",
       "11  2.531635  1.112863"
      ]
     },
     "execution_count": 51,
     "metadata": {},
     "output_type": "execute_result"
    }
   ],
   "source": [
    "mult_resid_forecast_2016_df = pd.DataFrame(mult_resid_forecast_2016)\n",
    "mult_resid_forecast_2016_df"
   ]
  },
  {
   "cell_type": "markdown",
   "metadata": {},
   "source": [
    "#### Putting the decomposed forecasts back together (multiplicative; nights only)"
   ]
  },
  {
   "cell_type": "code",
   "execution_count": 52,
   "metadata": {},
   "outputs": [
    {
     "data": {
      "text/html": [
       "<div>\n",
       "<style scoped>\n",
       "    .dataframe tbody tr th:only-of-type {\n",
       "        vertical-align: middle;\n",
       "    }\n",
       "\n",
       "    .dataframe tbody tr th {\n",
       "        vertical-align: top;\n",
       "    }\n",
       "\n",
       "    .dataframe thead th {\n",
       "        text-align: right;\n",
       "    }\n",
       "</style>\n",
       "<table border=\"1\" class=\"dataframe\">\n",
       "  <thead>\n",
       "    <tr style=\"text-align: right;\">\n",
       "      <th></th>\n",
       "      <th>0</th>\n",
       "    </tr>\n",
       "  </thead>\n",
       "  <tbody>\n",
       "    <tr>\n",
       "      <th>0</th>\n",
       "      <td>0.504709</td>\n",
       "    </tr>\n",
       "    <tr>\n",
       "      <th>1</th>\n",
       "      <td>0.585774</td>\n",
       "    </tr>\n",
       "  </tbody>\n",
       "</table>\n",
       "</div>"
      ],
      "text/plain": [
       "          0\n",
       "0  0.504709\n",
       "1  0.585774"
      ]
     },
     "execution_count": 52,
     "metadata": {},
     "output_type": "execute_result"
    }
   ],
   "source": [
    "mult_seasonal_2016_array = mult_seasonal_2016.nights_PAC.values\n",
    "mult_seasonal_2016_df = pd.DataFrame(mult_seasonal_2016_array)\n",
    "mult_seasonal_2016_df.head(2)\n"
   ]
  },
  {
   "cell_type": "markdown",
   "metadata": {},
   "source": [
    "### 2016 Nights forecast"
   ]
  },
  {
   "cell_type": "code",
   "execution_count": 53,
   "metadata": {},
   "outputs": [
    {
     "data": {
      "text/plain": [
       "0     0.504709\n",
       "1     0.585774\n",
       "2     0.753537\n",
       "3     0.952641\n",
       "4     1.167660\n",
       "5     1.327215\n",
       "6     1.656722\n",
       "7     1.828675\n",
       "8     1.279591\n",
       "9     0.903177\n",
       "10    0.529655\n",
       "11    0.510644\n",
       "Name: 0, dtype: float64"
      ]
     },
     "execution_count": 53,
     "metadata": {},
     "output_type": "execute_result"
    }
   ],
   "source": [
    "mult_seasonal_2016_df[0]"
   ]
  },
  {
   "cell_type": "code",
   "execution_count": 54,
   "metadata": {},
   "outputs": [
    {
     "data": {
      "text/plain": [
       "0      2385.749473\n",
       "1      2443.126248\n",
       "2      3492.884974\n",
       "3      4765.328151\n",
       "4      6424.823100\n",
       "5      7249.917526\n",
       "6     10633.350473\n",
       "7     10893.851312\n",
       "8      7245.764122\n",
       "9      4830.414936\n",
       "10     2588.802917\n",
       "11     2402.242565\n",
       "Name: 0, dtype: float64"
      ]
     },
     "execution_count": 54,
     "metadata": {},
     "output_type": "execute_result"
    }
   ],
   "source": [
    "forecast_2016 = mult_seasonal_2016_df[0] * arima_trend_forecast_2016_df[0] * mult_resid_forecast_2016_df[0]\n",
    "forecast_2016"
   ]
  },
  {
   "cell_type": "markdown",
   "metadata": {},
   "source": [
    "#### Actual values for 2016"
   ]
  },
  {
   "cell_type": "code",
   "execution_count": 55,
   "metadata": {},
   "outputs": [
    {
     "data": {
      "text/html": [
       "<div>\n",
       "<style scoped>\n",
       "    .dataframe tbody tr th:only-of-type {\n",
       "        vertical-align: middle;\n",
       "    }\n",
       "\n",
       "    .dataframe tbody tr th {\n",
       "        vertical-align: top;\n",
       "    }\n",
       "\n",
       "    .dataframe thead th {\n",
       "        text-align: right;\n",
       "    }\n",
       "</style>\n",
       "<table border=\"1\" class=\"dataframe\">\n",
       "  <thead>\n",
       "    <tr style=\"text-align: right;\">\n",
       "      <th></th>\n",
       "      <th>0</th>\n",
       "    </tr>\n",
       "  </thead>\n",
       "  <tbody>\n",
       "    <tr>\n",
       "      <th>0</th>\n",
       "      <td>956.28</td>\n",
       "    </tr>\n",
       "    <tr>\n",
       "      <th>1</th>\n",
       "      <td>1141.47</td>\n",
       "    </tr>\n",
       "  </tbody>\n",
       "</table>\n",
       "</div>"
      ],
      "text/plain": [
       "         0\n",
       "0   956.28\n",
       "1  1141.47"
      ]
     },
     "execution_count": 55,
     "metadata": {},
     "output_type": "execute_result"
    }
   ],
   "source": [
    "nights_PAC_2016 = nights_PAC[(nights_PAC.index>='2016-01-01')&(nights_PAC.index<'2017-01-01')]\n",
    "nights_PAC_2016 = np.array(nights_PAC_2016.nights_PAC)\n",
    "nights_PAC_2016_df = pd.DataFrame(nights_PAC_2016)\n",
    "nights_PAC_2016_df.head(2)\n"
   ]
  },
  {
   "cell_type": "markdown",
   "metadata": {},
   "source": [
    "### Compare with real number of nights in 2016"
   ]
  },
  {
   "cell_type": "markdown",
   "metadata": {},
   "source": [
    "#### AIC for 2016 forecast"
   ]
  },
  {
   "cell_type": "code",
   "execution_count": 56,
   "metadata": {},
   "outputs": [
    {
     "data": {
      "text/plain": [
       "-19.064048460689115"
      ]
     },
     "execution_count": 56,
     "metadata": {},
     "output_type": "execute_result"
    }
   ],
   "source": [
    "results.aic"
   ]
  },
  {
   "cell_type": "markdown",
   "metadata": {},
   "source": [
    "#### MASE for 2016 forecast"
   ]
  },
  {
   "cell_type": "markdown",
   "metadata": {},
   "source": [
    "#### Function to calculate seasonal MASE\n",
    "- Doesn't work properly in this specific case as forecast includes only 12 months of data into the future"
   ]
  },
  {
   "cell_type": "code",
   "execution_count": 57,
   "metadata": {},
   "outputs": [],
   "source": [
    "# Define seasonality as 12 (monthly data) in argument when ground truth data includes at least 24 months\n",
    "\n",
    "def seasonal_MASE(truth, forecast, seasonality=1):    \n",
    "    period = truth.shape[0] # T\n",
    "    # print(period)\n",
    "    forecast_errors = np.abs(truth - forecast)\n",
    "    # print(forecast_errors)\n",
    "    mean_absolute_forecast_error = np.sum(forecast_errors) / period\n",
    "    # print(mean_absolute_forecast_error)\n",
    "\n",
    "    naive_period = truth.shape[0] - seasonality # T - m\n",
    "    # print(naive_period)\n",
    "    # print(truth[seasonality:])\n",
    "    # print(truth[:period - seasonality])\n",
    "    naive_errors = np.abs(truth[seasonality:] - truth[:period - seasonality])\n",
    "    mean_absolute_naive_error = np.sum(naive_errors) / naive_period\n",
    "    \n",
    "    return mean_absolute_forecast_error / mean_absolute_naive_error"
   ]
  },
  {
   "cell_type": "markdown",
   "metadata": {},
   "source": [
    "#### MASE for 2016 forecast"
   ]
  },
  {
   "cell_type": "code",
   "execution_count": 58,
   "metadata": {},
   "outputs": [
    {
     "name": "stdout",
     "output_type": "stream",
     "text": [
      "MASE: 9.488829\n"
     ]
    }
   ],
   "source": [
    "MASE_2016 = seasonal_MASE(nights_PAC_2016, forecast_2016)\n",
    "print('MASE: %f' % MASE_2016)"
   ]
  },
  {
   "cell_type": "markdown",
   "metadata": {},
   "source": [
    "#### RMSE and MAE for 2016 forecast"
   ]
  },
  {
   "cell_type": "code",
   "execution_count": 59,
   "metadata": {},
   "outputs": [
    {
     "data": {
      "text/plain": [
       "(4274.685848077745, 3630.2363164460367)"
      ]
     },
     "execution_count": 59,
     "metadata": {},
     "output_type": "execute_result"
    }
   ],
   "source": [
    "from sklearn.metrics import mean_squared_error, mean_absolute_error\n",
    "\n",
    "rmse_2016 = np.sqrt(mean_squared_error(nights_PAC_2016, forecast_2016))\n",
    "mae_2016 = mean_absolute_error(nights_PAC_2016, forecast_2016)\n",
    "rmse_2016, mae_2016"
   ]
  },
  {
   "cell_type": "markdown",
   "metadata": {},
   "source": [
    "#### Predictions vs. Ground truth for Hotel nights PAC 2016"
   ]
  },
  {
   "cell_type": "code",
   "execution_count": 60,
   "metadata": {},
   "outputs": [
    {
     "data": {
      "text/plain": [
       "<matplotlib.legend.Legend at 0x1c1b556f98>"
      ]
     },
     "execution_count": 60,
     "metadata": {},
     "output_type": "execute_result"
    },
    {
     "data": {
      "image/png": "[encoded data removed]",
      "text/plain": [
       "<Figure size 432x288 with 1 Axes>"
      ]
     },
     "metadata": {},
     "output_type": "display_data"
    }
   ],
   "source": [
    "nights_PAC_2016_df.plot(label='Real')\n",
    "forecast_2016.plot(label='Forecast')\n",
    "plt.legend()"
   ]
  }
 ],
 "metadata": {
  "kernelspec": {
   "display_name": "Python 3",
   "language": "python",
   "name": "python3"
  },
  "language_info": {
   "codemirror_mode": {
    "name": "ipython",
    "version": 3
   },
   "file_extension": ".py",
   "mimetype": "text/x-python",
   "name": "python",
   "nbconvert_exporter": "python",
   "pygments_lexer": "ipython3",
   "version": "3.6.5"
  }
 },
 "nbformat": 4,
 "nbformat_minor": 2
}
