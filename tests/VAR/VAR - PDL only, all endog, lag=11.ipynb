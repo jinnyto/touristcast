{
 "cells": [
  {
   "cell_type": "markdown",
   "metadata": {},
   "source": [
    "### Importing libraries"
   ]
  },
  {
   "cell_type": "code",
   "execution_count": 1,
   "metadata": {},
   "outputs": [],
   "source": [
    "import pandas as pd\n",
    "import numpy as np\n",
    "import datetime \n",
    "import matplotlib.pyplot as plt\n",
    "%matplotlib inline"
   ]
  },
  {
   "cell_type": "markdown",
   "metadata": {},
   "source": [
    "### Dataset"
   ]
  },
  {
   "cell_type": "code",
   "execution_count": 2,
   "metadata": {},
   "outputs": [
    {
     "data": {
      "text/html": [
       "<div>\n",
       "<style scoped>\n",
       "    .dataframe tbody tr th:only-of-type {\n",
       "        vertical-align: middle;\n",
       "    }\n",
       "\n",
       "    .dataframe tbody tr th {\n",
       "        vertical-align: top;\n",
       "    }\n",
       "\n",
       "    .dataframe thead th {\n",
       "        text-align: right;\n",
       "    }\n",
       "</style>\n",
       "<table border=\"1\" class=\"dataframe\">\n",
       "  <thead>\n",
       "    <tr style=\"text-align: right;\">\n",
       "      <th></th>\n",
       "      <th>nights_PDL</th>\n",
       "    </tr>\n",
       "    <tr>\n",
       "      <th>date</th>\n",
       "      <th></th>\n",
       "    </tr>\n",
       "  </thead>\n",
       "  <tbody>\n",
       "    <tr>\n",
       "      <th>2010-01-01</th>\n",
       "      <td>333.33</td>\n",
       "    </tr>\n",
       "    <tr>\n",
       "      <th>2010-02-01</th>\n",
       "      <td>343.87</td>\n",
       "    </tr>\n",
       "    <tr>\n",
       "      <th>2010-03-01</th>\n",
       "      <td>446.19</td>\n",
       "    </tr>\n",
       "    <tr>\n",
       "      <th>2010-04-01</th>\n",
       "      <td>500.07</td>\n",
       "    </tr>\n",
       "    <tr>\n",
       "      <th>2010-05-01</th>\n",
       "      <td>548.92</td>\n",
       "    </tr>\n",
       "  </tbody>\n",
       "</table>\n",
       "</div>"
      ],
      "text/plain": [
       "            nights_PDL\n",
       "date                  \n",
       "2010-01-01      333.33\n",
       "2010-02-01      343.87\n",
       "2010-03-01      446.19\n",
       "2010-04-01      500.07\n",
       "2010-05-01      548.92"
      ]
     },
     "execution_count": 2,
     "metadata": {},
     "output_type": "execute_result"
    }
   ],
   "source": [
    "data_nights = pd.read_csv('/Users/jinny/Documents/touristcast/datasets/nights_2010-2017.csv', index_col='date')\n",
    "data_nights = data_nights.drop('Unnamed: 0', axis=1)\n",
    "data_nights\n",
    "nights_PDL = data_nights[['nights_PDL']]\n",
    "nights_PDL.head()"
   ]
  },
  {
   "cell_type": "code",
   "execution_count": 3,
   "metadata": {},
   "outputs": [
    {
     "data": {
      "text/html": [
       "<div>\n",
       "<style scoped>\n",
       "    .dataframe tbody tr th:only-of-type {\n",
       "        vertical-align: middle;\n",
       "    }\n",
       "\n",
       "    .dataframe tbody tr th {\n",
       "        vertical-align: top;\n",
       "    }\n",
       "\n",
       "    .dataframe thead th {\n",
       "        text-align: right;\n",
       "    }\n",
       "</style>\n",
       "<table border=\"1\" class=\"dataframe\">\n",
       "  <thead>\n",
       "    <tr style=\"text-align: right;\">\n",
       "      <th></th>\n",
       "      <th>avgtemp_PDL</th>\n",
       "    </tr>\n",
       "    <tr>\n",
       "      <th>date</th>\n",
       "      <th></th>\n",
       "    </tr>\n",
       "  </thead>\n",
       "  <tbody>\n",
       "    <tr>\n",
       "      <th>2010-01-01</th>\n",
       "      <td>4.0</td>\n",
       "    </tr>\n",
       "    <tr>\n",
       "      <th>2010-02-01</th>\n",
       "      <td>7.0</td>\n",
       "    </tr>\n",
       "    <tr>\n",
       "      <th>2010-03-01</th>\n",
       "      <td>8.0</td>\n",
       "    </tr>\n",
       "    <tr>\n",
       "      <th>2010-04-01</th>\n",
       "      <td>13.0</td>\n",
       "    </tr>\n",
       "    <tr>\n",
       "      <th>2010-05-01</th>\n",
       "      <td>14.0</td>\n",
       "    </tr>\n",
       "  </tbody>\n",
       "</table>\n",
       "</div>"
      ],
      "text/plain": [
       "            avgtemp_PDL\n",
       "date                   \n",
       "2010-01-01          4.0\n",
       "2010-02-01          7.0\n",
       "2010-03-01          8.0\n",
       "2010-04-01         13.0\n",
       "2010-05-01         14.0"
      ]
     },
     "execution_count": 3,
     "metadata": {},
     "output_type": "execute_result"
    }
   ],
   "source": [
    "data_temp = pd.read_csv('/Users/jinny/Documents/touristcast/datasets/avgtemp_2010-2017.csv', index_col='date')\n",
    "data_temp = data_temp.drop('Unnamed: 0', axis=1)\n",
    "data_temp\n",
    "avgtemp_PDL = data_temp[['avgtemp_PDL']]\n",
    "avgtemp_PDL.head()"
   ]
  },
  {
   "cell_type": "code",
   "execution_count": 4,
   "metadata": {},
   "outputs": [
    {
     "data": {
      "text/html": [
       "<div>\n",
       "<style scoped>\n",
       "    .dataframe tbody tr th:only-of-type {\n",
       "        vertical-align: middle;\n",
       "    }\n",
       "\n",
       "    .dataframe tbody tr th {\n",
       "        vertical-align: top;\n",
       "    }\n",
       "\n",
       "    .dataframe thead th {\n",
       "        text-align: right;\n",
       "    }\n",
       "</style>\n",
       "<table border=\"1\" class=\"dataframe\">\n",
       "  <thead>\n",
       "    <tr style=\"text-align: right;\">\n",
       "      <th></th>\n",
       "      <th>daysoff</th>\n",
       "    </tr>\n",
       "    <tr>\n",
       "      <th>date</th>\n",
       "      <th></th>\n",
       "    </tr>\n",
       "  </thead>\n",
       "  <tbody>\n",
       "    <tr>\n",
       "      <th>2010-01-01</th>\n",
       "      <td>11</td>\n",
       "    </tr>\n",
       "    <tr>\n",
       "      <th>2010-02-01</th>\n",
       "      <td>9</td>\n",
       "    </tr>\n",
       "    <tr>\n",
       "      <th>2010-03-01</th>\n",
       "      <td>9</td>\n",
       "    </tr>\n",
       "    <tr>\n",
       "      <th>2010-04-01</th>\n",
       "      <td>10</td>\n",
       "    </tr>\n",
       "    <tr>\n",
       "      <th>2010-05-01</th>\n",
       "      <td>12</td>\n",
       "    </tr>\n",
       "  </tbody>\n",
       "</table>\n",
       "</div>"
      ],
      "text/plain": [
       "            daysoff\n",
       "date               \n",
       "2010-01-01       11\n",
       "2010-02-01        9\n",
       "2010-03-01        9\n",
       "2010-04-01       10\n",
       "2010-05-01       12"
      ]
     },
     "execution_count": 4,
     "metadata": {},
     "output_type": "execute_result"
    }
   ],
   "source": [
    "data_daysoff = pd.read_csv('/Users/jinny/Documents/touristcast/datasets/daysoff_2010-2017.csv', index_col='date')\n",
    "data_daysoff = data_daysoff.drop('Unnamed: 0', axis=1)\n",
    "data_daysoff.head()"
   ]
  },
  {
   "cell_type": "code",
   "execution_count": 5,
   "metadata": {},
   "outputs": [
    {
     "data": {
      "text/html": [
       "<div>\n",
       "<style scoped>\n",
       "    .dataframe tbody tr th:only-of-type {\n",
       "        vertical-align: middle;\n",
       "    }\n",
       "\n",
       "    .dataframe tbody tr th {\n",
       "        vertical-align: top;\n",
       "    }\n",
       "\n",
       "    .dataframe thead th {\n",
       "        text-align: right;\n",
       "    }\n",
       "</style>\n",
       "<table border=\"1\" class=\"dataframe\">\n",
       "  <thead>\n",
       "    <tr style=\"text-align: right;\">\n",
       "      <th></th>\n",
       "      <th>gdp_PDL</th>\n",
       "    </tr>\n",
       "    <tr>\n",
       "      <th>date</th>\n",
       "      <th></th>\n",
       "    </tr>\n",
       "  </thead>\n",
       "  <tbody>\n",
       "    <tr>\n",
       "      <th>2010-01-01</th>\n",
       "      <td>96709.073745</td>\n",
       "    </tr>\n",
       "    <tr>\n",
       "      <th>2010-02-01</th>\n",
       "      <td>96709.073745</td>\n",
       "    </tr>\n",
       "    <tr>\n",
       "      <th>2010-03-01</th>\n",
       "      <td>96709.073745</td>\n",
       "    </tr>\n",
       "    <tr>\n",
       "      <th>2010-04-01</th>\n",
       "      <td>96709.073745</td>\n",
       "    </tr>\n",
       "    <tr>\n",
       "      <th>2010-05-01</th>\n",
       "      <td>96709.073745</td>\n",
       "    </tr>\n",
       "  </tbody>\n",
       "</table>\n",
       "</div>"
      ],
      "text/plain": [
       "                 gdp_PDL\n",
       "date                    \n",
       "2010-01-01  96709.073745\n",
       "2010-02-01  96709.073745\n",
       "2010-03-01  96709.073745\n",
       "2010-04-01  96709.073745\n",
       "2010-05-01  96709.073745"
      ]
     },
     "execution_count": 5,
     "metadata": {},
     "output_type": "execute_result"
    }
   ],
   "source": [
    "data_gdp = pd.read_csv('/Users/jinny/Documents/touristcast/datasets/regionalGDP_2010-2015.csv', index_col='date')\n",
    "data_gdp = data_gdp.drop('Unnamed: 0', axis=1)\n",
    "data_gdp\n",
    "gdp_PDL = data_gdp[['gdp_PDL']]\n",
    "gdp_PDL.head()"
   ]
  },
  {
   "cell_type": "code",
   "execution_count": 6,
   "metadata": {},
   "outputs": [
    {
     "name": "stdout",
     "output_type": "stream",
     "text": [
      "<class 'pandas.core.frame.DataFrame'>\n",
      "DatetimeIndex: 72 entries, 2010-01-01 to 2015-12-01\n",
      "Data columns (total 4 columns):\n",
      "nights_PDL     72 non-null float64\n",
      "avgtemp_PDL    72 non-null float64\n",
      "daysoff        72 non-null int64\n",
      "gdp_PDL        72 non-null float64\n",
      "dtypes: float64(3), int64(1)\n",
      "memory usage: 2.8 KB\n",
      "None\n"
     ]
    }
   ],
   "source": [
    "data_PDL = pd.concat([nights_PDL, avgtemp_PDL, data_daysoff, gdp_PDL], axis=1, sort=False)\n",
    "data_PDL.index = pd.to_datetime(data_PDL.index)\n",
    "data_PDL_train = data_PDL.dropna(axis=0, how='any')\n",
    "print(data_PDL_train.info())"
   ]
  },
  {
   "cell_type": "markdown",
   "metadata": {},
   "source": [
    "### Stationarity check"
   ]
  },
  {
   "cell_type": "code",
   "execution_count": 7,
   "metadata": {},
   "outputs": [
    {
     "name": "stdout",
     "output_type": "stream",
     "text": [
      "NON-STATIONARY\n",
      "nights_PDL\n",
      "-------\n",
      "NON-STATIONARY\n",
      "avgtemp_PDL\n",
      "-------\n",
      "STATIONARY\n",
      "daysoff\n",
      "-------\n",
      "NON-STATIONARY\n",
      "gdp_PDL\n",
      "-------\n"
     ]
    }
   ],
   "source": [
    "from statsmodels.tsa.stattools import adfuller\n",
    "\n",
    "for column in data_PDL_train.columns:\n",
    "    result = adfuller(data_PDL_train[column])\n",
    "#     print(f'Stationarity test for variable {column}')\n",
    "#     print('ADF Statistic: %f' % result[0])\n",
    "#     print('p-value: %f' % result[1])\n",
    "#     print('Critical Values:')\n",
    "\n",
    "#     for key, value in result[4].items():\n",
    "#         print('\\t%s: %.3f' % (key, value))\n",
    "    \n",
    "    if result[1] < 0.05:\n",
    "        print('STATIONARY')\n",
    "        print(f'{column}')\n",
    "        print('-------')\n",
    "    else:\n",
    "        print('NON-STATIONARY')\n",
    "        print(f'{column}')\n",
    "        print('-------')"
   ]
  },
  {
   "cell_type": "markdown",
   "metadata": {},
   "source": [
    "Result:\n",
    "- Nights, AvgTemp, GDP are all non-stationary\n",
    "- Daysoff is stationary"
   ]
  },
  {
   "cell_type": "markdown",
   "metadata": {},
   "source": [
    "#### Figure out which series' seasonality is additive or multiplicative"
   ]
  },
  {
   "cell_type": "code",
   "execution_count": 8,
   "metadata": {},
   "outputs": [],
   "source": [
    "from statsmodels.tsa.seasonal import seasonal_decompose\n",
    "\n",
    "# ----- Additive Model below -----\n",
    "\n",
    "add_data = seasonal_decompose(data_PDL_train, model='additive')  \n",
    "\n",
    "add_trend = add_data.trend.dropna()\n",
    "add_seasonal = add_data.seasonal.dropna()\n",
    "add_residual = add_data.resid.dropna()\n",
    "\n",
    "# stationarity_test(add_residual)\n",
    "\n",
    "# ----- Multiplicative Model below -----\n",
    "\n",
    "mult_data = seasonal_decompose(data_PDL_train, model='multiplicative')  \n",
    "\n",
    "mult_trend = mult_data.trend.dropna()\n",
    "mult_seasonal = mult_data.seasonal.dropna()\n",
    "mult_residual = mult_data.resid.dropna()\n",
    "\n",
    "# stationarity_test(mult_residual)"
   ]
  },
  {
   "cell_type": "code",
   "execution_count": 9,
   "metadata": {},
   "outputs": [
    {
     "name": "stdout",
     "output_type": "stream",
     "text": [
      "Additive: ['nights_PDL', 'daysoff']\n",
      "Multiplicative ['avgtemp_PDL', 'gdp_PDL']\n"
     ]
    }
   ],
   "source": [
    "from statsmodels.tsa.stattools import acf\n",
    "\n",
    "add_acfs = add_residual.apply(acf, axis=0).apply(np.square, axis=0).apply(np.sum)\n",
    "\n",
    "mult_acfs = mult_residual.apply(acf, axis=0).apply(np.square, axis=0).apply(np.sum)\n",
    "\n",
    "additive = add_acfs < mult_acfs\n",
    "add_cols = additive.index[additive].tolist()\n",
    "mult_cols = additive.index[~additive].tolist()\n",
    "print('Additive:', add_cols)\n",
    "print('Multiplicative', mult_cols)"
   ]
  },
  {
   "cell_type": "markdown",
   "metadata": {},
   "source": [
    "- Nights in PDL is an additive time series"
   ]
  },
  {
   "cell_type": "markdown",
   "metadata": {},
   "source": [
    "### Forecasting the 3 parts: Seasonal, Trend, and Residuals"
   ]
  },
  {
   "cell_type": "markdown",
   "metadata": {},
   "source": [
    "#### Seasonal forecasts for 2016 (nights only)\n",
    "- Seasonal naive forecast method: Taking the same seasonal data as 2015"
   ]
  },
  {
   "cell_type": "code",
   "execution_count": 10,
   "metadata": {},
   "outputs": [
    {
     "data": {
      "text/html": [
       "<div>\n",
       "<style scoped>\n",
       "    .dataframe tbody tr th:only-of-type {\n",
       "        vertical-align: middle;\n",
       "    }\n",
       "\n",
       "    .dataframe tbody tr th {\n",
       "        vertical-align: top;\n",
       "    }\n",
       "\n",
       "    .dataframe thead th {\n",
       "        text-align: right;\n",
       "    }\n",
       "</style>\n",
       "<table border=\"1\" class=\"dataframe\">\n",
       "  <thead>\n",
       "    <tr style=\"text-align: right;\">\n",
       "      <th></th>\n",
       "      <th>nights_PDL</th>\n",
       "      <th>avgtemp_PDL</th>\n",
       "      <th>daysoff</th>\n",
       "      <th>gdp_PDL</th>\n",
       "    </tr>\n",
       "  </thead>\n",
       "  <tbody>\n",
       "    <tr>\n",
       "      <th>2015-08-01</th>\n",
       "      <td>250.886396</td>\n",
       "      <td>6.559028</td>\n",
       "      <td>0.477778</td>\n",
       "      <td>-326.448156</td>\n",
       "    </tr>\n",
       "    <tr>\n",
       "      <th>2015-09-01</th>\n",
       "      <td>90.760729</td>\n",
       "      <td>5.134028</td>\n",
       "      <td>-0.713889</td>\n",
       "      <td>-544.080261</td>\n",
       "    </tr>\n",
       "    <tr>\n",
       "      <th>2015-10-01</th>\n",
       "      <td>-21.386437</td>\n",
       "      <td>2.292361</td>\n",
       "      <td>-0.313889</td>\n",
       "      <td>-761.712365</td>\n",
       "    </tr>\n",
       "    <tr>\n",
       "      <th>2015-11-01</th>\n",
       "      <td>-112.081854</td>\n",
       "      <td>-2.349306</td>\n",
       "      <td>0.269444</td>\n",
       "      <td>-979.344469</td>\n",
       "    </tr>\n",
       "    <tr>\n",
       "      <th>2015-12-01</th>\n",
       "      <td>-169.870854</td>\n",
       "      <td>-5.790972</td>\n",
       "      <td>0.052778</td>\n",
       "      <td>-1196.976573</td>\n",
       "    </tr>\n",
       "  </tbody>\n",
       "</table>\n",
       "</div>"
      ],
      "text/plain": [
       "            nights_PDL  avgtemp_PDL   daysoff      gdp_PDL\n",
       "2015-08-01  250.886396     6.559028  0.477778  -326.448156\n",
       "2015-09-01   90.760729     5.134028 -0.713889  -544.080261\n",
       "2015-10-01  -21.386437     2.292361 -0.313889  -761.712365\n",
       "2015-11-01 -112.081854    -2.349306  0.269444  -979.344469\n",
       "2015-12-01 -169.870854    -5.790972  0.052778 -1196.976573"
      ]
     },
     "execution_count": 10,
     "metadata": {},
     "output_type": "execute_result"
    }
   ],
   "source": [
    "add_seasonal.tail()"
   ]
  },
  {
   "cell_type": "code",
   "execution_count": 45,
   "metadata": {},
   "outputs": [
    {
     "data": {
      "text/html": [
       "<div>\n",
       "<style scoped>\n",
       "    .dataframe tbody tr th:only-of-type {\n",
       "        vertical-align: middle;\n",
       "    }\n",
       "\n",
       "    .dataframe tbody tr th {\n",
       "        vertical-align: top;\n",
       "    }\n",
       "\n",
       "    .dataframe thead th {\n",
       "        text-align: right;\n",
       "    }\n",
       "</style>\n",
       "<table border=\"1\" class=\"dataframe\">\n",
       "  <thead>\n",
       "    <tr style=\"text-align: right;\">\n",
       "      <th></th>\n",
       "      <th>nights_PDL</th>\n",
       "      <th>avgtemp_PDL</th>\n",
       "      <th>daysoff</th>\n",
       "      <th>gdp_PDL</th>\n",
       "    </tr>\n",
       "  </thead>\n",
       "  <tbody>\n",
       "    <tr>\n",
       "      <th>2015-01-01</th>\n",
       "      <td>-169.663271</td>\n",
       "      <td>-6.015972</td>\n",
       "      <td>-0.538889</td>\n",
       "      <td>1196.976573</td>\n",
       "    </tr>\n",
       "    <tr>\n",
       "      <th>2015-02-01</th>\n",
       "      <td>-153.071438</td>\n",
       "      <td>-7.049306</td>\n",
       "      <td>-1.338889</td>\n",
       "      <td>979.344469</td>\n",
       "    </tr>\n",
       "    <tr>\n",
       "      <th>2015-03-01</th>\n",
       "      <td>-83.517437</td>\n",
       "      <td>-3.674306</td>\n",
       "      <td>-0.147222</td>\n",
       "      <td>761.712365</td>\n",
       "    </tr>\n",
       "    <tr>\n",
       "      <th>2015-04-01</th>\n",
       "      <td>-10.023021</td>\n",
       "      <td>-1.490972</td>\n",
       "      <td>0.061111</td>\n",
       "      <td>544.080261</td>\n",
       "    </tr>\n",
       "    <tr>\n",
       "      <th>2015-05-01</th>\n",
       "      <td>48.813063</td>\n",
       "      <td>1.050694</td>\n",
       "      <td>1.869444</td>\n",
       "      <td>326.448156</td>\n",
       "    </tr>\n",
       "  </tbody>\n",
       "</table>\n",
       "</div>"
      ],
      "text/plain": [
       "            nights_PDL  avgtemp_PDL   daysoff      gdp_PDL\n",
       "2015-01-01 -169.663271    -6.015972 -0.538889  1196.976573\n",
       "2015-02-01 -153.071438    -7.049306 -1.338889   979.344469\n",
       "2015-03-01  -83.517437    -3.674306 -0.147222   761.712365\n",
       "2015-04-01  -10.023021    -1.490972  0.061111   544.080261\n",
       "2015-05-01   48.813063     1.050694  1.869444   326.448156"
      ]
     },
     "execution_count": 45,
     "metadata": {},
     "output_type": "execute_result"
    }
   ],
   "source": [
    "add_seasonal_2016 = add_seasonal[(add_seasonal.index>='2015-01-01')&(add_seasonal.index<'2016-01-01')]\n",
    "add_seasonal_2016.head()"
   ]
  },
  {
   "cell_type": "markdown",
   "metadata": {},
   "source": [
    "#### Trend forecasts for 2016 (nights only)\n",
    "- non-seasonal forecasting methods ex. ARIMA or Holt's"
   ]
  },
  {
   "cell_type": "code",
   "execution_count": 12,
   "metadata": {},
   "outputs": [
    {
     "data": {
      "text/html": [
       "<div>\n",
       "<style scoped>\n",
       "    .dataframe tbody tr th:only-of-type {\n",
       "        vertical-align: middle;\n",
       "    }\n",
       "\n",
       "    .dataframe tbody tr th {\n",
       "        vertical-align: top;\n",
       "    }\n",
       "\n",
       "    .dataframe thead th {\n",
       "        text-align: right;\n",
       "    }\n",
       "</style>\n",
       "<table border=\"1\" class=\"dataframe\">\n",
       "  <thead>\n",
       "    <tr style=\"text-align: right;\">\n",
       "      <th></th>\n",
       "      <th>nights_PDL</th>\n",
       "      <th>avgtemp_PDL</th>\n",
       "      <th>daysoff</th>\n",
       "      <th>gdp_PDL</th>\n",
       "    </tr>\n",
       "  </thead>\n",
       "  <tbody>\n",
       "    <tr>\n",
       "      <th>2010-07-01</th>\n",
       "      <td>504.730833</td>\n",
       "      <td>12.875000</td>\n",
       "      <td>9.875000</td>\n",
       "      <td>96928.545025</td>\n",
       "    </tr>\n",
       "    <tr>\n",
       "      <th>2010-08-01</th>\n",
       "      <td>507.301667</td>\n",
       "      <td>13.125000</td>\n",
       "      <td>9.833333</td>\n",
       "      <td>97367.487585</td>\n",
       "    </tr>\n",
       "    <tr>\n",
       "      <th>2010-09-01</th>\n",
       "      <td>508.576667</td>\n",
       "      <td>13.375000</td>\n",
       "      <td>9.833333</td>\n",
       "      <td>97806.430145</td>\n",
       "    </tr>\n",
       "    <tr>\n",
       "      <th>2010-10-01</th>\n",
       "      <td>510.222917</td>\n",
       "      <td>13.583333</td>\n",
       "      <td>9.875000</td>\n",
       "      <td>98245.372705</td>\n",
       "    </tr>\n",
       "    <tr>\n",
       "      <th>2010-11-01</th>\n",
       "      <td>512.534167</td>\n",
       "      <td>13.750000</td>\n",
       "      <td>9.791667</td>\n",
       "      <td>98684.315265</td>\n",
       "    </tr>\n",
       "  </tbody>\n",
       "</table>\n",
       "</div>"
      ],
      "text/plain": [
       "            nights_PDL  avgtemp_PDL   daysoff       gdp_PDL\n",
       "2010-07-01  504.730833    12.875000  9.875000  96928.545025\n",
       "2010-08-01  507.301667    13.125000  9.833333  97367.487585\n",
       "2010-09-01  508.576667    13.375000  9.833333  97806.430145\n",
       "2010-10-01  510.222917    13.583333  9.875000  98245.372705\n",
       "2010-11-01  512.534167    13.750000  9.791667  98684.315265"
      ]
     },
     "execution_count": 12,
     "metadata": {},
     "output_type": "execute_result"
    }
   ],
   "source": [
    "add_trend.head()"
   ]
  },
  {
   "cell_type": "code",
   "execution_count": 13,
   "metadata": {},
   "outputs": [
    {
     "name": "stdout",
     "output_type": "stream",
     "text": [
      "Fit ARIMA: order=(6, 1, 3); AIC=189.030, BIC=211.883, Fit time=0.739 seconds\n",
      "Fit ARIMA: order=(8, 1, 2); AIC=nan, BIC=nan, Fit time=nan seconds\n",
      "Fit ARIMA: order=(0, 1, 0); AIC=242.666, BIC=246.821, Fit time=0.003 seconds\n",
      "Fit ARIMA: order=(5, 1, 0); AIC=197.106, BIC=211.649, Fit time=0.133 seconds\n",
      "Fit ARIMA: order=(0, 1, 5); AIC=nan, BIC=nan, Fit time=nan seconds\n",
      "Fit ARIMA: order=(9, 1, 0); AIC=194.071, BIC=216.924, Fit time=0.849 seconds\n",
      "Fit ARIMA: order=(1, 1, 5); AIC=nan, BIC=nan, Fit time=nan seconds\n",
      "Fit ARIMA: order=(1, 1, 1); AIC=204.095, BIC=212.405, Fit time=0.047 seconds\n",
      "Fit ARIMA: order=(10, 1, 0); AIC=195.575, BIC=220.505, Fit time=1.330 seconds\n",
      "Fit ARIMA: order=(3, 1, 0); AIC=199.633, BIC=210.020, Fit time=0.063 seconds\n",
      "Total fit time: 3.200 seconds\n"
     ]
    },
    {
     "data": {
      "text/html": [
       "<table class=\"simpletable\">\n",
       "<caption>ARIMA Model Results</caption>\n",
       "<tr>\n",
       "  <th>Dep. Variable:</th>        <td>D.y</td>       <th>  No. Observations:  </th>   <td>59</td>   \n",
       "</tr>\n",
       "<tr>\n",
       "  <th>Model:</th>          <td>ARIMA(6, 1, 3)</td>  <th>  Log Likelihood     </th> <td>-83.515</td>\n",
       "</tr>\n",
       "<tr>\n",
       "  <th>Method:</th>             <td>css-mle</td>     <th>  S.D. of innovations</th>  <td>0.916</td> \n",
       "</tr>\n",
       "<tr>\n",
       "  <th>Date:</th>          <td>Sun, 19 Aug 2018</td> <th>  AIC                </th> <td>189.030</td>\n",
       "</tr>\n",
       "<tr>\n",
       "  <th>Time:</th>              <td>16:34:02</td>     <th>  BIC                </th> <td>211.883</td>\n",
       "</tr>\n",
       "<tr>\n",
       "  <th>Sample:</th>                <td>1</td>        <th>  HQIC               </th> <td>197.951</td>\n",
       "</tr>\n",
       "<tr>\n",
       "  <th></th>                       <td> </td>        <th>                     </th>    <td> </td>   \n",
       "</tr>\n",
       "</table>\n",
       "<table class=\"simpletable\">\n",
       "<tr>\n",
       "      <td></td>         <th>coef</th>     <th>std err</th>      <th>z</th>      <th>P>|z|</th>  <th>[0.025</th>    <th>0.975]</th>  \n",
       "</tr>\n",
       "<tr>\n",
       "  <th>const</th>     <td>    0.8525</td> <td>    0.590</td> <td>    1.445</td> <td> 0.155</td> <td>   -0.304</td> <td>    2.009</td>\n",
       "</tr>\n",
       "<tr>\n",
       "  <th>ar.L1.D.y</th> <td>    0.6516</td> <td>    0.147</td> <td>    4.442</td> <td> 0.000</td> <td>    0.364</td> <td>    0.939</td>\n",
       "</tr>\n",
       "<tr>\n",
       "  <th>ar.L2.D.y</th> <td>   -0.3874</td> <td>    0.155</td> <td>   -2.496</td> <td> 0.016</td> <td>   -0.692</td> <td>   -0.083</td>\n",
       "</tr>\n",
       "<tr>\n",
       "  <th>ar.L3.D.y</th> <td>    0.1351</td> <td>    0.162</td> <td>    0.834</td> <td> 0.408</td> <td>   -0.182</td> <td>    0.453</td>\n",
       "</tr>\n",
       "<tr>\n",
       "  <th>ar.L4.D.y</th> <td>    0.0977</td> <td>    0.167</td> <td>    0.587</td> <td> 0.560</td> <td>   -0.229</td> <td>    0.424</td>\n",
       "</tr>\n",
       "<tr>\n",
       "  <th>ar.L5.D.y</th> <td>    0.2156</td> <td>    0.166</td> <td>    1.300</td> <td> 0.200</td> <td>   -0.109</td> <td>    0.540</td>\n",
       "</tr>\n",
       "<tr>\n",
       "  <th>ar.L6.D.y</th> <td>   -0.1601</td> <td>    0.134</td> <td>   -1.192</td> <td> 0.239</td> <td>   -0.423</td> <td>    0.103</td>\n",
       "</tr>\n",
       "<tr>\n",
       "  <th>ma.L1.D.y</th> <td>    0.1595</td> <td>    0.125</td> <td>    1.277</td> <td> 0.208</td> <td>   -0.085</td> <td>    0.404</td>\n",
       "</tr>\n",
       "<tr>\n",
       "  <th>ma.L2.D.y</th> <td>    0.1595</td> <td>    0.129</td> <td>    1.234</td> <td> 0.223</td> <td>   -0.094</td> <td>    0.413</td>\n",
       "</tr>\n",
       "<tr>\n",
       "  <th>ma.L3.D.y</th> <td>    1.0000</td> <td>    0.136</td> <td>    7.356</td> <td> 0.000</td> <td>    0.734</td> <td>    1.266</td>\n",
       "</tr>\n",
       "</table>\n",
       "<table class=\"simpletable\">\n",
       "<caption>Roots</caption>\n",
       "<tr>\n",
       "    <td></td>   <th>            Real</th>  <th>         Imaginary</th> <th>         Modulus</th>  <th>        Frequency</th>\n",
       "</tr>\n",
       "<tr>\n",
       "  <th>AR.1</th> <td>          -1.1143</td> <td>          -0.9141j</td> <td>           1.4413</td> <td>          -0.3907</td>\n",
       "</tr>\n",
       "<tr>\n",
       "  <th>AR.2</th> <td>          -1.1143</td> <td>          +0.9141j</td> <td>           1.4413</td> <td>           0.3907</td>\n",
       "</tr>\n",
       "<tr>\n",
       "  <th>AR.3</th> <td>           0.2743</td> <td>          -1.1027j</td> <td>           1.1363</td> <td>          -0.2112</td>\n",
       "</tr>\n",
       "<tr>\n",
       "  <th>AR.4</th> <td>           0.2743</td> <td>          +1.1027j</td> <td>           1.1363</td> <td>           0.2112</td>\n",
       "</tr>\n",
       "<tr>\n",
       "  <th>AR.5</th> <td>           1.5132</td> <td>          -0.1972j</td> <td>           1.5260</td> <td>          -0.0206</td>\n",
       "</tr>\n",
       "<tr>\n",
       "  <th>AR.6</th> <td>           1.5132</td> <td>          +0.1972j</td> <td>           1.5260</td> <td>           0.0206</td>\n",
       "</tr>\n",
       "<tr>\n",
       "  <th>MA.1</th> <td>          -1.0000</td> <td>          -0.0000j</td> <td>           1.0000</td> <td>          -0.5000</td>\n",
       "</tr>\n",
       "<tr>\n",
       "  <th>MA.2</th> <td>           0.4202</td> <td>          -0.9074j</td> <td>           1.0000</td> <td>          -0.1810</td>\n",
       "</tr>\n",
       "<tr>\n",
       "  <th>MA.3</th> <td>           0.4202</td> <td>          +0.9074j</td> <td>           1.0000</td> <td>           0.1810</td>\n",
       "</tr>\n",
       "</table>"
      ],
      "text/plain": [
       "<class 'statsmodels.iolib.summary.Summary'>\n",
       "\"\"\"\n",
       "                             ARIMA Model Results                              \n",
       "==============================================================================\n",
       "Dep. Variable:                    D.y   No. Observations:                   59\n",
       "Model:                 ARIMA(6, 1, 3)   Log Likelihood                 -83.515\n",
       "Method:                       css-mle   S.D. of innovations              0.916\n",
       "Date:                Sun, 19 Aug 2018   AIC                            189.030\n",
       "Time:                        16:34:02   BIC                            211.883\n",
       "Sample:                             1   HQIC                           197.951\n",
       "                                                                              \n",
       "==============================================================================\n",
       "                 coef    std err          z      P>|z|      [0.025      0.975]\n",
       "------------------------------------------------------------------------------\n",
       "const          0.8525      0.590      1.445      0.155      -0.304       2.009\n",
       "ar.L1.D.y      0.6516      0.147      4.442      0.000       0.364       0.939\n",
       "ar.L2.D.y     -0.3874      0.155     -2.496      0.016      -0.692      -0.083\n",
       "ar.L3.D.y      0.1351      0.162      0.834      0.408      -0.182       0.453\n",
       "ar.L4.D.y      0.0977      0.167      0.587      0.560      -0.229       0.424\n",
       "ar.L5.D.y      0.2156      0.166      1.300      0.200      -0.109       0.540\n",
       "ar.L6.D.y     -0.1601      0.134     -1.192      0.239      -0.423       0.103\n",
       "ma.L1.D.y      0.1595      0.125      1.277      0.208      -0.085       0.404\n",
       "ma.L2.D.y      0.1595      0.129      1.234      0.223      -0.094       0.413\n",
       "ma.L3.D.y      1.0000      0.136      7.356      0.000       0.734       1.266\n",
       "                                    Roots                                    \n",
       "=============================================================================\n",
       "                  Real          Imaginary           Modulus         Frequency\n",
       "-----------------------------------------------------------------------------\n",
       "AR.1           -1.1143           -0.9141j            1.4413           -0.3907\n",
       "AR.2           -1.1143           +0.9141j            1.4413            0.3907\n",
       "AR.3            0.2743           -1.1027j            1.1363           -0.2112\n",
       "AR.4            0.2743           +1.1027j            1.1363            0.2112\n",
       "AR.5            1.5132           -0.1972j            1.5260           -0.0206\n",
       "AR.6            1.5132           +0.1972j            1.5260            0.0206\n",
       "MA.1           -1.0000           -0.0000j            1.0000           -0.5000\n",
       "MA.2            0.4202           -0.9074j            1.0000           -0.1810\n",
       "MA.3            0.4202           +0.9074j            1.0000            0.1810\n",
       "-----------------------------------------------------------------------------\n",
       "\"\"\""
      ]
     },
     "execution_count": 13,
     "metadata": {},
     "output_type": "execute_result"
    }
   ],
   "source": [
    "from pyramid.arima import auto_arima\n",
    "arima_trend = auto_arima(np.array(add_trend.nights_PDL), start_p=0, start_q=0, max_p=20, max_q=20, m=12,\n",
    "                    start_P=0, max_P=20, seasonal=False, d=1, D=1, trace=True,\n",
    "                    error_action='ignore', suppress_warnings=True, stepwise=False, random=True, random_state=42) \n",
    "\n",
    "arima_trend.summary()"
   ]
  },
  {
   "cell_type": "code",
   "execution_count": 14,
   "metadata": {},
   "outputs": [
    {
     "data": {
      "text/plain": [
       "ARIMA(callback=None, disp=0, maxiter=50, method=None, order=(6, 1, 3),\n",
       "   out_of_sample_size=0, scoring='mse', scoring_args={},\n",
       "   seasonal_order=None, solver='lbfgs', start_params=None,\n",
       "   suppress_warnings=True, transparams=True, trend='c')"
      ]
     },
     "execution_count": 14,
     "metadata": {},
     "output_type": "execute_result"
    }
   ],
   "source": [
    "arima_trend.fit(add_trend.nights_PDL)"
   ]
  },
  {
   "cell_type": "code",
   "execution_count": 15,
   "metadata": {},
   "outputs": [
    {
     "data": {
      "text/plain": [
       "array([552.93234163, 554.07130367, 555.28330746, 556.43649955,\n",
       "       557.45387436, 558.416607  , 559.29496733, 560.20489308,\n",
       "       561.12304384, 561.99772609, 562.84688727, 563.69101429])"
      ]
     },
     "execution_count": 15,
     "metadata": {},
     "output_type": "execute_result"
    }
   ],
   "source": [
    "arima_trend_forecast_2016 = arima_trend.predict(n_periods=12)\n",
    "arima_trend_forecast_2016"
   ]
  },
  {
   "cell_type": "code",
   "execution_count": 16,
   "metadata": {},
   "outputs": [
    {
     "data": {
      "text/plain": [
       "<matplotlib.axes._subplots.AxesSubplot at 0x1c18884fd0>"
      ]
     },
     "execution_count": 16,
     "metadata": {},
     "output_type": "execute_result"
    },
    {
     "data": {
      "image/png": "[encoded data removed]",
      "text/plain": [
       "<Figure size 432x288 with 1 Axes>"
      ]
     },
     "metadata": {},
     "output_type": "display_data"
    }
   ],
   "source": [
    "arima_trend_forecast_2016_df = pd.DataFrame(arima_trend_forecast_2016)\n",
    "arima_trend_forecast_2016_df.plot()"
   ]
  },
  {
   "cell_type": "markdown",
   "metadata": {},
   "source": [
    "#### Residual forecasts for 2016 (produces forecasts for all but we will use nights forecast only)\n",
    "- VAR model\n",
    "- Takes all variables into account and gives predictions for all\n",
    "- We will be taking the VAR prediction for nights_PDL only"
   ]
  },
  {
   "cell_type": "code",
   "execution_count": 18,
   "metadata": {},
   "outputs": [
    {
     "data": {
      "text/html": [
       "<div>\n",
       "<style scoped>\n",
       "    .dataframe tbody tr th:only-of-type {\n",
       "        vertical-align: middle;\n",
       "    }\n",
       "\n",
       "    .dataframe tbody tr th {\n",
       "        vertical-align: top;\n",
       "    }\n",
       "\n",
       "    .dataframe thead th {\n",
       "        text-align: right;\n",
       "    }\n",
       "</style>\n",
       "<table border=\"1\" class=\"dataframe\">\n",
       "  <thead>\n",
       "    <tr style=\"text-align: right;\">\n",
       "      <th></th>\n",
       "      <th>nights_PDL</th>\n",
       "      <th>avgtemp_PDL</th>\n",
       "      <th>daysoff</th>\n",
       "      <th>gdp_PDL</th>\n",
       "    </tr>\n",
       "  </thead>\n",
       "  <tbody>\n",
       "    <tr>\n",
       "      <th>2010-07-01</th>\n",
       "      <td>-2.689646</td>\n",
       "      <td>2.324306</td>\n",
       "      <td>0.863889</td>\n",
       "      <td>-110.655228</td>\n",
       "    </tr>\n",
       "    <tr>\n",
       "      <th>2010-08-01</th>\n",
       "      <td>-21.918062</td>\n",
       "      <td>0.315972</td>\n",
       "      <td>-1.311111</td>\n",
       "      <td>-331.965683</td>\n",
       "    </tr>\n",
       "    <tr>\n",
       "      <th>2010-09-01</th>\n",
       "      <td>-4.777396</td>\n",
       "      <td>-0.509028</td>\n",
       "      <td>-0.119444</td>\n",
       "      <td>-553.276139</td>\n",
       "    </tr>\n",
       "    <tr>\n",
       "      <th>2010-10-01</th>\n",
       "      <td>-12.196479</td>\n",
       "      <td>-1.875694</td>\n",
       "      <td>1.438889</td>\n",
       "      <td>-774.586595</td>\n",
       "    </tr>\n",
       "    <tr>\n",
       "      <th>2010-11-01</th>\n",
       "      <td>-2.692312</td>\n",
       "      <td>-1.400694</td>\n",
       "      <td>-0.061111</td>\n",
       "      <td>-995.897050</td>\n",
       "    </tr>\n",
       "  </tbody>\n",
       "</table>\n",
       "</div>"
      ],
      "text/plain": [
       "            nights_PDL  avgtemp_PDL   daysoff     gdp_PDL\n",
       "2010-07-01   -2.689646     2.324306  0.863889 -110.655228\n",
       "2010-08-01  -21.918062     0.315972 -1.311111 -331.965683\n",
       "2010-09-01   -4.777396    -0.509028 -0.119444 -553.276139\n",
       "2010-10-01  -12.196479    -1.875694  1.438889 -774.586595\n",
       "2010-11-01   -2.692312    -1.400694 -0.061111 -995.897050"
      ]
     },
     "execution_count": 18,
     "metadata": {},
     "output_type": "execute_result"
    }
   ],
   "source": [
    "add_residual.head()"
   ]
  },
  {
   "cell_type": "code",
   "execution_count": 46,
   "metadata": {},
   "outputs": [
    {
     "name": "stdout",
     "output_type": "stream",
     "text": [
      "  Summary of Regression Results   \n",
      "==================================\n",
      "Model:                         VAR\n",
      "Method:                        OLS\n",
      "Date:           Sun, 19, Aug, 2018\n",
      "Time:                     20:39:34\n",
      "--------------------------------------------------------------------\n",
      "No. of Equations:         4.00000    BIC:                    15.8131\n",
      "Nobs:                     49.0000    HQIC:                   11.5002\n",
      "Log likelihood:          -315.268    FPE:                1.38967e+06\n",
      "AIC:                      8.86352    Det(Omega_mle):         102609.\n",
      "--------------------------------------------------------------------\n",
      "Results for equation nights_PDL\n",
      "==================================================================================\n",
      "                     coefficient       std. error           t-stat            prob\n",
      "----------------------------------------------------------------------------------\n",
      "const                  -1.107250         1.447653           -0.765           0.444\n",
      "L1.nights_PDL          -0.247908         0.232093           -1.068           0.285\n",
      "L1.avgtemp_PDL         -5.859544         3.116220           -1.880           0.060\n",
      "L1.daysoff            -10.947468         6.360786           -1.721           0.085\n",
      "L1.gdp_PDL              0.027181         0.013787            1.971           0.049\n",
      "L2.nights_PDL          -0.052010         0.246451           -0.211           0.833\n",
      "L2.avgtemp_PDL         -4.245069         3.166280           -1.341           0.180\n",
      "L2.daysoff            -18.176108         8.390851           -2.166           0.030\n",
      "L2.gdp_PDL             -0.005493         0.013682           -0.401           0.688\n",
      "L3.nights_PDL           0.419603         0.262346            1.599           0.110\n",
      "L3.avgtemp_PDL         -2.246283         3.013981           -0.745           0.456\n",
      "L3.daysoff            -16.314073         9.063905           -1.800           0.072\n",
      "L3.gdp_PDL              0.038399         0.014011            2.741           0.006\n",
      "L4.nights_PDL           0.178652         0.184808            0.967           0.334\n",
      "L4.avgtemp_PDL         -0.314275         3.320658           -0.095           0.925\n",
      "L4.daysoff            -15.502882         8.861329           -1.749           0.080\n",
      "L4.gdp_PDL             -0.027482         0.015412           -1.783           0.075\n",
      "L5.nights_PDL          -0.639249         0.191040           -3.346           0.001\n",
      "L5.avgtemp_PDL          0.855680         3.411835            0.251           0.802\n",
      "L5.daysoff             -0.752698         8.033247           -0.094           0.925\n",
      "L5.gdp_PDL              0.024967         0.012537            1.991           0.046\n",
      "L6.nights_PDL          -0.356415         0.229599           -1.552           0.121\n",
      "L6.avgtemp_PDL          1.957445         2.849912            0.687           0.492\n",
      "L6.daysoff             -0.129482         7.472216           -0.017           0.986\n",
      "L6.gdp_PDL             -0.017497         0.013342           -1.311           0.190\n",
      "L7.nights_PDL          -0.826819         0.346221           -2.388           0.017\n",
      "L7.avgtemp_PDL         -0.778327         2.768405           -0.281           0.779\n",
      "L7.daysoff             -1.137985         8.105365           -0.140           0.888\n",
      "L7.gdp_PDL             -0.000626         0.015165           -0.041           0.967\n",
      "L8.nights_PDL          -0.153365         0.385327           -0.398           0.691\n",
      "L8.avgtemp_PDL          4.936778         2.998308            1.647           0.100\n",
      "L8.daysoff             -6.175675         8.220119           -0.751           0.452\n",
      "L8.gdp_PDL              0.004429         0.016717            0.265           0.791\n",
      "L9.nights_PDL           0.085299         0.367073            0.232           0.816\n",
      "L9.avgtemp_PDL         -8.709443         2.990772           -2.912           0.004\n",
      "L9.daysoff            -21.736923         7.143953           -3.043           0.002\n",
      "L9.gdp_PDL              0.003593         0.013159            0.273           0.785\n",
      "L10.nights_PDL         -0.136640         0.338927           -0.403           0.687\n",
      "L10.avgtemp_PDL        -3.969274         2.904432           -1.367           0.172\n",
      "L10.daysoff           -16.508091         5.661639           -2.916           0.004\n",
      "L10.gdp_PDL             0.035985         0.015024            2.395           0.017\n",
      "L11.nights_PDL          0.213025         0.201744            1.056           0.291\n",
      "L11.avgtemp_PDL        -0.718472         2.697857           -0.266           0.790\n",
      "L11.daysoff           -22.958708         5.838435           -3.932           0.000\n",
      "L11.gdp_PDL            -0.007341         0.012809           -0.573           0.567\n",
      "==================================================================================\n",
      "\n",
      "Results for equation avgtemp_PDL\n",
      "==================================================================================\n",
      "                     coefficient       std. error           t-stat            prob\n",
      "----------------------------------------------------------------------------------\n",
      "const                  -0.009673         0.175249           -0.055           0.956\n",
      "L1.nights_PDL          -0.011924         0.028096           -0.424           0.671\n",
      "L1.avgtemp_PDL         -0.183868         0.377240           -0.487           0.626\n",
      "L1.daysoff             -0.136906         0.770018           -0.178           0.859\n",
      "L1.gdp_PDL              0.000172         0.001669            0.103           0.918\n",
      "L2.nights_PDL           0.028492         0.029835            0.955           0.340\n",
      "L2.avgtemp_PDL         -0.003645         0.383301           -0.010           0.992\n",
      "L2.daysoff              1.351573         1.015772            1.331           0.183\n",
      "L2.gdp_PDL             -0.001413         0.001656           -0.853           0.394\n",
      "L3.nights_PDL           0.017424         0.031759            0.549           0.583\n",
      "L3.avgtemp_PDL          0.003403         0.364864            0.009           0.993\n",
      "L3.daysoff              1.954510         1.097250            1.781           0.075\n",
      "L3.gdp_PDL              0.001078         0.001696            0.636           0.525\n",
      "L4.nights_PDL          -0.002990         0.022372           -0.134           0.894\n",
      "L4.avgtemp_PDL          0.153978         0.401989            0.383           0.702\n",
      "L4.daysoff              2.189248         1.072726            2.041           0.041\n",
      "L4.gdp_PDL              0.001303         0.001866            0.698           0.485\n",
      "L5.nights_PDL          -0.001812         0.023127           -0.078           0.938\n",
      "L5.avgtemp_PDL          0.009483         0.413027            0.023           0.982\n",
      "L5.daysoff              1.705908         0.972481            1.754           0.079\n",
      "L5.gdp_PDL             -0.001791         0.001518           -1.180           0.238\n",
      "L6.nights_PDL          -0.017325         0.027795           -0.623           0.533\n",
      "L6.avgtemp_PDL         -0.025148         0.345002           -0.073           0.942\n",
      "L6.daysoff              0.848703         0.904565            0.938           0.348\n",
      "L6.gdp_PDL              0.001425         0.001615            0.882           0.378\n",
      "L7.nights_PDL           0.002079         0.041913            0.050           0.960\n",
      "L7.avgtemp_PDL          0.662883         0.335135            1.978           0.048\n",
      "L7.daysoff             -0.452357         0.981212           -0.461           0.645\n",
      "L7.gdp_PDL             -0.001372         0.001836           -0.748           0.455\n",
      "L8.nights_PDL           0.031052         0.046647            0.666           0.506\n",
      "L8.avgtemp_PDL         -0.131093         0.362966           -0.361           0.718\n",
      "L8.daysoff             -1.201826         0.995104           -1.208           0.227\n",
      "L8.gdp_PDL             -0.002757         0.002024           -1.362           0.173\n",
      "L9.nights_PDL           0.077916         0.044437            1.753           0.080\n",
      "L9.avgtemp_PDL         -0.210687         0.362054           -0.582           0.561\n",
      "L9.daysoff             -1.045093         0.864826           -1.208           0.227\n",
      "L9.gdp_PDL              0.001107         0.001593            0.695           0.487\n",
      "L10.nights_PDL          0.099462         0.041029            2.424           0.015\n",
      "L10.avgtemp_PDL        -0.134655         0.351602           -0.383           0.702\n",
      "L10.daysoff            -0.582802         0.685381           -0.850           0.395\n",
      "L10.gdp_PDL            -0.000217         0.001819           -0.119           0.905\n",
      "L11.nights_PDL          0.075210         0.024423            3.080           0.002\n",
      "L11.avgtemp_PDL         0.137768         0.326595            0.422           0.673\n",
      "L11.daysoff             0.127176         0.706784            0.180           0.857\n",
      "L11.gdp_PDL            -0.001176         0.001551           -0.758           0.448\n",
      "==================================================================================\n",
      "\n",
      "Results for equation daysoff\n",
      "==================================================================================\n",
      "                     coefficient       std. error           t-stat            prob\n",
      "----------------------------------------------------------------------------------\n",
      "const                   0.024728         0.146987            0.168           0.866\n",
      "L1.nights_PDL          -0.007768         0.023565           -0.330           0.742\n",
      "L1.avgtemp_PDL          0.137448         0.316404            0.434           0.664\n",
      "L1.daysoff             -0.672231         0.645839           -1.041           0.298\n",
      "L1.gdp_PDL             -0.000004         0.001400           -0.003           0.998\n",
      "L2.nights_PDL           0.012040         0.025023            0.481           0.630\n",
      "L2.avgtemp_PDL         -0.199652         0.321487           -0.621           0.535\n",
      "L2.daysoff             -0.973892         0.851961           -1.143           0.253\n",
      "L2.gdp_PDL             -0.000243         0.001389           -0.175           0.861\n",
      "L3.nights_PDL          -0.002093         0.026637           -0.079           0.937\n",
      "L3.avgtemp_PDL         -0.192540         0.306023           -0.629           0.529\n",
      "L3.daysoff             -1.081993         0.920299           -1.176           0.240\n",
      "L3.gdp_PDL              0.000289         0.001423            0.203           0.839\n",
      "L4.nights_PDL           0.009229         0.018764            0.492           0.623\n",
      "L4.avgtemp_PDL         -0.014553         0.337161           -0.043           0.966\n",
      "L4.daysoff             -0.804812         0.899731           -0.895           0.371\n",
      "L4.gdp_PDL             -0.000127         0.001565           -0.081           0.935\n",
      "L5.nights_PDL           0.005705         0.019397            0.294           0.769\n",
      "L5.avgtemp_PDL         -0.049724         0.346419           -0.144           0.886\n",
      "L5.daysoff             -0.474833         0.815652           -0.582           0.560\n",
      "L5.gdp_PDL              0.000375         0.001273            0.295           0.768\n",
      "L6.nights_PDL          -0.026128         0.023312           -1.121           0.262\n",
      "L6.avgtemp_PDL          0.200870         0.289364            0.694           0.488\n",
      "L6.daysoff              0.245082         0.758688            0.323           0.747\n",
      "L6.gdp_PDL              0.001033         0.001355            0.763           0.446\n",
      "L7.nights_PDL          -0.015354         0.035153           -0.437           0.662\n",
      "L7.avgtemp_PDL          0.015406         0.281089            0.055           0.956\n",
      "L7.daysoff              0.003941         0.822974            0.005           0.996\n",
      "L7.gdp_PDL             -0.001063         0.001540           -0.690           0.490\n",
      "L8.nights_PDL          -0.021171         0.039124           -0.541           0.588\n",
      "L8.avgtemp_PDL         -0.116549         0.304432           -0.383           0.702\n",
      "L8.daysoff              0.375053         0.834626            0.449           0.653\n",
      "L8.gdp_PDL              0.000985         0.001697            0.580           0.562\n",
      "L9.nights_PDL          -0.021853         0.037271           -0.586           0.558\n",
      "L9.avgtemp_PDL          0.289548         0.303667            0.954           0.340\n",
      "L9.daysoff              0.417071         0.725358            0.575           0.565\n",
      "L9.gdp_PDL              0.000665         0.001336            0.498           0.619\n",
      "L10.nights_PDL         -0.025818         0.034413           -0.750           0.453\n",
      "L10.avgtemp_PDL         0.073130         0.294900            0.248           0.804\n",
      "L10.daysoff             0.207299         0.574852            0.361           0.718\n",
      "L10.gdp_PDL            -0.000220         0.001525           -0.144           0.885\n",
      "L11.nights_PDL         -0.024757         0.020484           -1.209           0.227\n",
      "L11.avgtemp_PDL         0.143442         0.273926            0.524           0.601\n",
      "L11.daysoff             0.193527         0.592803            0.326           0.744\n",
      "L11.gdp_PDL            -0.000028         0.001301           -0.022           0.983\n",
      "==================================================================================\n",
      "\n",
      "Results for equation gdp_PDL\n",
      "==================================================================================\n",
      "                     coefficient       std. error           t-stat            prob\n",
      "----------------------------------------------------------------------------------\n",
      "const                  11.740547        35.205255            0.333           0.739\n",
      "L1.nights_PDL           6.890959         5.644232            1.221           0.222\n",
      "L1.avgtemp_PDL        -13.362481        75.782875           -0.176           0.860\n",
      "L1.daysoff             36.096552       154.686982            0.233           0.815\n",
      "L1.gdp_PDL              0.446870         0.335296            1.333           0.183\n",
      "L2.nights_PDL          11.841845         5.993415            1.976           0.048\n",
      "L2.avgtemp_PDL          9.821514        77.000284            0.128           0.899\n",
      "L2.daysoff             74.457306       204.055813            0.365           0.715\n",
      "L2.gdp_PDL             -0.191361         0.332720           -0.575           0.565\n",
      "L3.nights_PDL          -2.106150         6.379954           -0.330           0.741\n",
      "L3.avgtemp_PDL         21.231377        73.296543            0.290           0.772\n",
      "L3.daysoff             80.591700       220.423705            0.366           0.715\n",
      "L3.gdp_PDL              0.003391         0.340732            0.010           0.992\n",
      "L4.nights_PDL           7.011506         4.494317            1.560           0.119\n",
      "L4.avgtemp_PDL        -70.500433        80.754572           -0.873           0.383\n",
      "L4.daysoff            -81.843415       215.497286           -0.380           0.704\n",
      "L4.gdp_PDL             -0.066525         0.374791           -0.177           0.859\n",
      "L5.nights_PDL           4.423643         4.645879            0.952           0.341\n",
      "L5.avgtemp_PDL        -45.628927        82.971892           -0.550           0.582\n",
      "L5.daysoff           -225.902996       195.359295           -1.156           0.248\n",
      "L5.gdp_PDL             -0.055174         0.304880           -0.181           0.856\n",
      "L6.nights_PDL           8.380123         5.583571            1.501           0.133\n",
      "L6.avgtemp_PDL         82.388533        69.306577            1.189           0.235\n",
      "L6.daysoff            -83.156982       181.715677           -0.458           0.647\n",
      "L6.gdp_PDL              0.015951         0.324461            0.049           0.961\n",
      "L7.nights_PDL          12.722964         8.419702            1.511           0.131\n",
      "L7.avgtemp_PDL        -12.059810        67.324414           -0.179           0.858\n",
      "L7.daysoff           -192.635945       197.113123           -0.977           0.328\n",
      "L7.gdp_PDL             -0.270720         0.368806           -0.734           0.463\n",
      "L8.nights_PDL           7.207969         9.370713            0.769           0.442\n",
      "L8.avgtemp_PDL         55.935138        72.915399            0.767           0.443\n",
      "L8.daysoff            313.320028       199.903819            1.567           0.117\n",
      "L8.gdp_PDL              0.251283         0.406535            0.618           0.537\n",
      "L9.nights_PDL           8.435463         8.926799            0.945           0.345\n",
      "L9.avgtemp_PDL         95.900855        72.732125            1.319           0.187\n",
      "L9.daysoff            144.222614       173.732702            0.830           0.406\n",
      "L9.gdp_PDL             -0.374553         0.320011           -1.170           0.242\n",
      "L10.nights_PDL         -2.679019         8.242303           -0.325           0.745\n",
      "L10.avgtemp_PDL        50.146965        70.632442            0.710           0.478\n",
      "L10.daysoff           259.224667       137.684534            1.883           0.060\n",
      "L10.gdp_PDL             0.075980         0.365368            0.208           0.835\n",
      "L11.nights_PDL         -6.946768         4.906188           -1.416           0.157\n",
      "L11.avgtemp_PDL       141.353421        65.608766            2.154           0.031\n",
      "L11.daysoff           106.054018       141.984010            0.747           0.455\n",
      "L11.gdp_PDL            -0.284006         0.311501           -0.912           0.362\n",
      "==================================================================================\n",
      "\n",
      "Correlation matrix of residuals\n",
      "               nights_PDL  avgtemp_PDL   daysoff   gdp_PDL\n",
      "nights_PDL       1.000000    -0.280922  0.697178 -0.406411\n",
      "avgtemp_PDL     -0.280922     1.000000 -0.712990  0.205637\n",
      "daysoff          0.697178    -0.712990  1.000000  0.062499\n",
      "gdp_PDL         -0.406411     0.205637  0.062499  1.000000\n",
      "\n",
      "\n",
      "\n"
     ]
    },
    {
     "name": "stderr",
     "output_type": "stream",
     "text": [
      "/Users/jinny/anaconda3/lib/python3.6/site-packages/statsmodels/tsa/base/tsa_model.py:171: ValueWarning: No frequency information was provided, so inferred frequency MS will be used.\n",
      "  % freq, ValueWarning)\n"
     ]
    }
   ],
   "source": [
    "from statsmodels.tsa.api import VAR\n",
    "\n",
    "model = VAR(add_residual, dates=add_residual.index)\n",
    "\n",
    "# lagorder_results = model.select_order(11)\n",
    "# print(lagorder_results.summary())\n",
    "\n",
    "results = model.fit(maxlags=11, ic='aic')\n",
    "print(results.summary())"
   ]
  },
  {
   "cell_type": "code",
   "execution_count": 49,
   "metadata": {},
   "outputs": [
    {
     "name": "stdout",
     "output_type": "stream",
     "text": [
      "11\n"
     ]
    },
    {
     "data": {
      "text/plain": [
       "array([[-2.13527003e+01,  3.46653587e+00, -1.78726382e-01,\n",
       "         2.05638642e+00],\n",
       "       [-4.94076522e+00, -6.91558965e-01,  7.44802827e-01,\n",
       "        -7.69857825e+02],\n",
       "       [-2.85962325e+01, -3.95207986e+00, -1.06008602e-01,\n",
       "        -6.90531052e+02],\n",
       "       [-1.90055702e+01, -7.00543567e-02,  5.06168512e-01,\n",
       "        -8.15876215e+02],\n",
       "       [-2.89229431e+01, -1.35111436e+00,  2.30521789e-01,\n",
       "        -1.44445250e+03],\n",
       "       [-1.61726214e+01, -3.86609628e+00, -8.74181223e-01,\n",
       "        -1.41104960e+03],\n",
       "       [-1.25425143e+01,  7.87975738e-02,  7.69174357e-01,\n",
       "         3.33911608e+02],\n",
       "       [-1.76106545e+01,  2.25287265e+00,  1.07700992e-01,\n",
       "        -1.43781131e+02],\n",
       "       [-3.09715399e+01, -9.41289575e-01, -5.16862712e-01,\n",
       "        -7.42360019e+02],\n",
       "       [-8.82348710e+00, -2.14896270e-01,  9.29687178e-01,\n",
       "        -5.92652501e+02],\n",
       "       [-4.45704471e+01, -1.12806696e+00, -3.52084002e-01,\n",
       "        -8.76922593e+02],\n",
       "       [ 4.32571973e+00, -2.95928177e+00, -2.58205743e-01,\n",
       "        -1.38180368e+03]])"
      ]
     },
     "execution_count": 49,
     "metadata": {},
     "output_type": "execute_result"
    }
   ],
   "source": [
    "lag_order = results.k_ar\n",
    "print(lag_order)\n",
    "\n",
    "add_resid_forecast_2016 = results.forecast(add_residual.values[-lag_order:], 12)\n",
    "add_resid_forecast_2016"
   ]
  },
  {
   "cell_type": "code",
   "execution_count": 47,
   "metadata": {},
   "outputs": [
    {
     "data": {
      "text/html": [
       "<div>\n",
       "<style scoped>\n",
       "    .dataframe tbody tr th:only-of-type {\n",
       "        vertical-align: middle;\n",
       "    }\n",
       "\n",
       "    .dataframe tbody tr th {\n",
       "        vertical-align: top;\n",
       "    }\n",
       "\n",
       "    .dataframe thead th {\n",
       "        text-align: right;\n",
       "    }\n",
       "</style>\n",
       "<table border=\"1\" class=\"dataframe\">\n",
       "  <thead>\n",
       "    <tr style=\"text-align: right;\">\n",
       "      <th></th>\n",
       "      <th>0</th>\n",
       "      <th>1</th>\n",
       "      <th>2</th>\n",
       "      <th>3</th>\n",
       "    </tr>\n",
       "  </thead>\n",
       "  <tbody>\n",
       "    <tr>\n",
       "      <th>0</th>\n",
       "      <td>-21.352700</td>\n",
       "      <td>3.466536</td>\n",
       "      <td>-0.178726</td>\n",
       "      <td>2.056386</td>\n",
       "    </tr>\n",
       "    <tr>\n",
       "      <th>1</th>\n",
       "      <td>-4.940765</td>\n",
       "      <td>-0.691559</td>\n",
       "      <td>0.744803</td>\n",
       "      <td>-769.857825</td>\n",
       "    </tr>\n",
       "    <tr>\n",
       "      <th>2</th>\n",
       "      <td>-28.596232</td>\n",
       "      <td>-3.952080</td>\n",
       "      <td>-0.106009</td>\n",
       "      <td>-690.531052</td>\n",
       "    </tr>\n",
       "    <tr>\n",
       "      <th>3</th>\n",
       "      <td>-19.005570</td>\n",
       "      <td>-0.070054</td>\n",
       "      <td>0.506169</td>\n",
       "      <td>-815.876215</td>\n",
       "    </tr>\n",
       "    <tr>\n",
       "      <th>4</th>\n",
       "      <td>-28.922943</td>\n",
       "      <td>-1.351114</td>\n",
       "      <td>0.230522</td>\n",
       "      <td>-1444.452503</td>\n",
       "    </tr>\n",
       "  </tbody>\n",
       "</table>\n",
       "</div>"
      ],
      "text/plain": [
       "           0         1         2            3\n",
       "0 -21.352700  3.466536 -0.178726     2.056386\n",
       "1  -4.940765 -0.691559  0.744803  -769.857825\n",
       "2 -28.596232 -3.952080 -0.106009  -690.531052\n",
       "3 -19.005570 -0.070054  0.506169  -815.876215\n",
       "4 -28.922943 -1.351114  0.230522 -1444.452503"
      ]
     },
     "execution_count": 47,
     "metadata": {},
     "output_type": "execute_result"
    }
   ],
   "source": [
    "add_resid_forecast_2016_df = pd.DataFrame(add_resid_forecast_2016)\n",
    "add_resid_forecast_2016_df.head()"
   ]
  },
  {
   "cell_type": "markdown",
   "metadata": {},
   "source": [
    "#### Putting the decomposed forecasts back together (additive; nights only)\n"
   ]
  },
  {
   "cell_type": "code",
   "execution_count": 48,
   "metadata": {},
   "outputs": [
    {
     "data": {
      "text/html": [
       "<div>\n",
       "<style scoped>\n",
       "    .dataframe tbody tr th:only-of-type {\n",
       "        vertical-align: middle;\n",
       "    }\n",
       "\n",
       "    .dataframe tbody tr th {\n",
       "        vertical-align: top;\n",
       "    }\n",
       "\n",
       "    .dataframe thead th {\n",
       "        text-align: right;\n",
       "    }\n",
       "</style>\n",
       "<table border=\"1\" class=\"dataframe\">\n",
       "  <thead>\n",
       "    <tr style=\"text-align: right;\">\n",
       "      <th></th>\n",
       "      <th>0</th>\n",
       "    </tr>\n",
       "  </thead>\n",
       "  <tbody>\n",
       "    <tr>\n",
       "      <th>0</th>\n",
       "      <td>-169.663271</td>\n",
       "    </tr>\n",
       "    <tr>\n",
       "      <th>1</th>\n",
       "      <td>-153.071438</td>\n",
       "    </tr>\n",
       "  </tbody>\n",
       "</table>\n",
       "</div>"
      ],
      "text/plain": [
       "            0\n",
       "0 -169.663271\n",
       "1 -153.071438"
      ]
     },
     "execution_count": 48,
     "metadata": {},
     "output_type": "execute_result"
    }
   ],
   "source": [
    "add_seasonal_2016_array = add_seasonal_2016.nights_PDL.values\n",
    "add_seasonal_2016_df = pd.DataFrame(add_seasonal_2016_array)\n",
    "add_seasonal_2016_df.head(2)\n"
   ]
  },
  {
   "cell_type": "markdown",
   "metadata": {},
   "source": [
    "### 2016 Nights forecast\n"
   ]
  },
  {
   "cell_type": "code",
   "execution_count": 23,
   "metadata": {},
   "outputs": [
    {
     "data": {
      "text/plain": [
       "0     361.916371\n",
       "1     396.059101\n",
       "2     443.169637\n",
       "3     527.407909\n",
       "4     577.343994\n",
       "5     699.659298\n",
       "6     718.491266\n",
       "7     793.480634\n",
       "8     620.912233\n",
       "9     531.787801\n",
       "10    406.194586\n",
       "11    398.145880\n",
       "Name: 0, dtype: float64"
      ]
     },
     "execution_count": 23,
     "metadata": {},
     "output_type": "execute_result"
    }
   ],
   "source": [
    "forecast_2016 = add_seasonal_2016_df[0] + (arima_trend_forecast_2016_df[0] + add_resid_forecast_2016_df[0])\n",
    "forecast_2016"
   ]
  },
  {
   "cell_type": "markdown",
   "metadata": {},
   "source": [
    "#### Actual values for 2016"
   ]
  },
  {
   "cell_type": "code",
   "execution_count": 24,
   "metadata": {},
   "outputs": [
    {
     "data": {
      "text/html": [
       "<div>\n",
       "<style scoped>\n",
       "    .dataframe tbody tr th:only-of-type {\n",
       "        vertical-align: middle;\n",
       "    }\n",
       "\n",
       "    .dataframe tbody tr th {\n",
       "        vertical-align: top;\n",
       "    }\n",
       "\n",
       "    .dataframe thead th {\n",
       "        text-align: right;\n",
       "    }\n",
       "</style>\n",
       "<table border=\"1\" class=\"dataframe\">\n",
       "  <thead>\n",
       "    <tr style=\"text-align: right;\">\n",
       "      <th></th>\n",
       "      <th>0</th>\n",
       "    </tr>\n",
       "  </thead>\n",
       "  <tbody>\n",
       "    <tr>\n",
       "      <th>0</th>\n",
       "      <td>369.21</td>\n",
       "    </tr>\n",
       "    <tr>\n",
       "      <th>1</th>\n",
       "      <td>411.32</td>\n",
       "    </tr>\n",
       "    <tr>\n",
       "      <th>2</th>\n",
       "      <td>509.15</td>\n",
       "    </tr>\n",
       "    <tr>\n",
       "      <th>3</th>\n",
       "      <td>580.11</td>\n",
       "    </tr>\n",
       "    <tr>\n",
       "      <th>4</th>\n",
       "      <td>645.10</td>\n",
       "    </tr>\n",
       "    <tr>\n",
       "      <th>5</th>\n",
       "      <td>715.97</td>\n",
       "    </tr>\n",
       "    <tr>\n",
       "      <th>6</th>\n",
       "      <td>825.06</td>\n",
       "    </tr>\n",
       "    <tr>\n",
       "      <th>7</th>\n",
       "      <td>872.86</td>\n",
       "    </tr>\n",
       "    <tr>\n",
       "      <th>8</th>\n",
       "      <td>677.11</td>\n",
       "    </tr>\n",
       "    <tr>\n",
       "      <th>9</th>\n",
       "      <td>575.70</td>\n",
       "    </tr>\n",
       "    <tr>\n",
       "      <th>10</th>\n",
       "      <td>463.79</td>\n",
       "    </tr>\n",
       "    <tr>\n",
       "      <th>11</th>\n",
       "      <td>407.55</td>\n",
       "    </tr>\n",
       "  </tbody>\n",
       "</table>\n",
       "</div>"
      ],
      "text/plain": [
       "         0\n",
       "0   369.21\n",
       "1   411.32\n",
       "2   509.15\n",
       "3   580.11\n",
       "4   645.10\n",
       "5   715.97\n",
       "6   825.06\n",
       "7   872.86\n",
       "8   677.11\n",
       "9   575.70\n",
       "10  463.79\n",
       "11  407.55"
      ]
     },
     "execution_count": 24,
     "metadata": {},
     "output_type": "execute_result"
    }
   ],
   "source": [
    "nights_PDL_2016 = data_PDL[(data_PDL.index>='2016-01-01')&(data_PDL.index<'2017-01-01')]\n",
    "nights_PDL_2016 = np.array(nights_PDL_2016.nights_PDL)\n",
    "nights_PDL_2016_df = pd.DataFrame(nights_PDL_2016)\n",
    "nights_PDL_2016_df"
   ]
  },
  {
   "cell_type": "markdown",
   "metadata": {},
   "source": [
    "### Compare with real number of nights in 2016"
   ]
  },
  {
   "cell_type": "markdown",
   "metadata": {},
   "source": [
    "#### AIC for 2016 forecast"
   ]
  },
  {
   "cell_type": "code",
   "execution_count": 25,
   "metadata": {},
   "outputs": [
    {
     "data": {
      "text/plain": [
       "8.863517342459701"
      ]
     },
     "execution_count": 25,
     "metadata": {},
     "output_type": "execute_result"
    }
   ],
   "source": [
    "results.aic"
   ]
  },
  {
   "cell_type": "markdown",
   "metadata": {},
   "source": [
    "#### MASE for 2016 forecast"
   ]
  },
  {
   "cell_type": "code",
   "execution_count": 26,
   "metadata": {},
   "outputs": [],
   "source": [
    "# Define seasonality as 12 (monthly data) in argument when ground truth data includes at least 24 months\n",
    "\n",
    "def seasonal_MASE(truth, forecast, seasonality=1):    \n",
    "    period = truth.shape[0] # T\n",
    "    # print(period)\n",
    "    forecast_errors = np.abs(truth - forecast)\n",
    "    # print(forecast_errors)\n",
    "    mean_absolute_forecast_error = np.sum(forecast_errors) / period\n",
    "    # print(mean_absolute_forecast_error)\n",
    "\n",
    "    naive_period = truth.shape[0] - seasonality # T - m\n",
    "    # print(naive_period)\n",
    "    # print(truth[seasonality:])\n",
    "    # print(truth[:period - seasonality])\n",
    "    naive_errors = np.abs(truth[seasonality:] - truth[:period - seasonality])\n",
    "    mean_absolute_naive_error = np.sum(naive_errors) / naive_period\n",
    "    \n",
    "    return mean_absolute_forecast_error / mean_absolute_naive_error"
   ]
  },
  {
   "cell_type": "markdown",
   "metadata": {},
   "source": [
    "**MASE for our 2016 forecast** tells us that the error of our model is 54% of the seasonal naive model's error\n",
    "> This means more than half of the seasonal naive model's error"
   ]
  },
  {
   "cell_type": "code",
   "execution_count": 27,
   "metadata": {},
   "outputs": [
    {
     "name": "stdout",
     "output_type": "stream",
     "text": [
      "MASE: 0.547148\n"
     ]
    }
   ],
   "source": [
    "MASE_2016 = seasonal_MASE(nights_PDL_2016, forecast_2016)\n",
    "print('MASE: %f' % MASE_2016)"
   ]
  },
  {
   "cell_type": "code",
   "execution_count": 40,
   "metadata": {},
   "outputs": [
    {
     "name": "stdout",
     "output_type": "stream",
     "text": [
      "RMSE: 56.58625005500477\n",
      "MAE: 48.196774183177716\n"
     ]
    }
   ],
   "source": [
    "from sklearn.metrics import mean_squared_error, mean_absolute_error\n",
    "\n",
    "rmse_2016 = np.sqrt(mean_squared_error(nights_PDL_2016, forecast_2016))\n",
    "mae_2016 = mean_absolute_error(nights_PDL_2016, forecast_2016)\n",
    "print('RMSE:', rmse_2016)\n",
    "print('MAE:', mae_2016)\n"
   ]
  },
  {
   "cell_type": "markdown",
   "metadata": {},
   "source": [
    "#### Predictions vs. Ground truth for Hotel nights PAC 2016"
   ]
  },
  {
   "cell_type": "code",
   "execution_count": 29,
   "metadata": {},
   "outputs": [
    {
     "data": {
      "text/plain": [
       "<matplotlib.legend.Legend at 0x10ba88b00>"
      ]
     },
     "execution_count": 29,
     "metadata": {},
     "output_type": "execute_result"
    },
    {
     "data": {
      "image/png": "[encoded data removed]",
      "text/plain": [
       "<Figure size 432x288 with 1 Axes>"
      ]
     },
     "metadata": {},
     "output_type": "display_data"
    }
   ],
   "source": [
    "nights_PDL_2016_df.plot(label='Real')\n",
    "forecast_2016.plot(label='Forecast')\n",
    "plt.legend()"
   ]
  },
  {
   "cell_type": "markdown",
   "metadata": {},
   "source": [
    "### Extra - 2017 forecast comparison"
   ]
  },
  {
   "cell_type": "code",
   "execution_count": 30,
   "metadata": {},
   "outputs": [
    {
     "data": {
      "text/html": [
       "<div>\n",
       "<style scoped>\n",
       "    .dataframe tbody tr th:only-of-type {\n",
       "        vertical-align: middle;\n",
       "    }\n",
       "\n",
       "    .dataframe tbody tr th {\n",
       "        vertical-align: top;\n",
       "    }\n",
       "\n",
       "    .dataframe thead th {\n",
       "        text-align: right;\n",
       "    }\n",
       "</style>\n",
       "<table border=\"1\" class=\"dataframe\">\n",
       "  <thead>\n",
       "    <tr style=\"text-align: right;\">\n",
       "      <th></th>\n",
       "      <th>0</th>\n",
       "      <th>1</th>\n",
       "      <th>2</th>\n",
       "      <th>3</th>\n",
       "    </tr>\n",
       "  </thead>\n",
       "  <tbody>\n",
       "    <tr>\n",
       "      <th>0</th>\n",
       "      <td>-21.352700</td>\n",
       "      <td>3.466536</td>\n",
       "      <td>-0.178726</td>\n",
       "      <td>2.056386</td>\n",
       "    </tr>\n",
       "    <tr>\n",
       "      <th>1</th>\n",
       "      <td>-4.940765</td>\n",
       "      <td>-0.691559</td>\n",
       "      <td>0.744803</td>\n",
       "      <td>-769.857825</td>\n",
       "    </tr>\n",
       "    <tr>\n",
       "      <th>2</th>\n",
       "      <td>-28.596232</td>\n",
       "      <td>-3.952080</td>\n",
       "      <td>-0.106009</td>\n",
       "      <td>-690.531052</td>\n",
       "    </tr>\n",
       "    <tr>\n",
       "      <th>3</th>\n",
       "      <td>-19.005570</td>\n",
       "      <td>-0.070054</td>\n",
       "      <td>0.506169</td>\n",
       "      <td>-815.876215</td>\n",
       "    </tr>\n",
       "    <tr>\n",
       "      <th>4</th>\n",
       "      <td>-28.922943</td>\n",
       "      <td>-1.351114</td>\n",
       "      <td>0.230522</td>\n",
       "      <td>-1444.452503</td>\n",
       "    </tr>\n",
       "  </tbody>\n",
       "</table>\n",
       "</div>"
      ],
      "text/plain": [
       "           0         1         2            3\n",
       "0 -21.352700  3.466536 -0.178726     2.056386\n",
       "1  -4.940765 -0.691559  0.744803  -769.857825\n",
       "2 -28.596232 -3.952080 -0.106009  -690.531052\n",
       "3 -19.005570 -0.070054  0.506169  -815.876215\n",
       "4 -28.922943 -1.351114  0.230522 -1444.452503"
      ]
     },
     "execution_count": 30,
     "metadata": {},
     "output_type": "execute_result"
    }
   ],
   "source": [
    "add_resid_forecast_2017 = results.forecast(add_residual.values[-lag_order:], 24)\n",
    "add_resid_forecast_2017_df = pd.DataFrame(add_resid_forecast_2017)\n",
    "add_resid_forecast_2017_df.head()"
   ]
  },
  {
   "cell_type": "code",
   "execution_count": 31,
   "metadata": {},
   "outputs": [
    {
     "data": {
      "text/html": [
       "<div>\n",
       "<style scoped>\n",
       "    .dataframe tbody tr th:only-of-type {\n",
       "        vertical-align: middle;\n",
       "    }\n",
       "\n",
       "    .dataframe tbody tr th {\n",
       "        vertical-align: top;\n",
       "    }\n",
       "\n",
       "    .dataframe thead th {\n",
       "        text-align: right;\n",
       "    }\n",
       "</style>\n",
       "<table border=\"1\" class=\"dataframe\">\n",
       "  <thead>\n",
       "    <tr style=\"text-align: right;\">\n",
       "      <th></th>\n",
       "      <th>0</th>\n",
       "    </tr>\n",
       "  </thead>\n",
       "  <tbody>\n",
       "    <tr>\n",
       "      <th>0</th>\n",
       "      <td>552.932342</td>\n",
       "    </tr>\n",
       "    <tr>\n",
       "      <th>1</th>\n",
       "      <td>554.071304</td>\n",
       "    </tr>\n",
       "    <tr>\n",
       "      <th>2</th>\n",
       "      <td>555.283307</td>\n",
       "    </tr>\n",
       "    <tr>\n",
       "      <th>3</th>\n",
       "      <td>556.436500</td>\n",
       "    </tr>\n",
       "    <tr>\n",
       "      <th>4</th>\n",
       "      <td>557.453874</td>\n",
       "    </tr>\n",
       "  </tbody>\n",
       "</table>\n",
       "</div>"
      ],
      "text/plain": [
       "            0\n",
       "0  552.932342\n",
       "1  554.071304\n",
       "2  555.283307\n",
       "3  556.436500\n",
       "4  557.453874"
      ]
     },
     "execution_count": 31,
     "metadata": {},
     "output_type": "execute_result"
    }
   ],
   "source": [
    "arima_trend_forecast_2017 = arima_trend.predict(n_periods=24)\n",
    "arima_trend_forecast_2017_df = pd.DataFrame(arima_trend_forecast_2017)\n",
    "arima_trend_forecast_2017_df.head()"
   ]
  },
  {
   "cell_type": "code",
   "execution_count": 32,
   "metadata": {},
   "outputs": [
    {
     "data": {
      "text/html": [
       "<div>\n",
       "<style scoped>\n",
       "    .dataframe tbody tr th:only-of-type {\n",
       "        vertical-align: middle;\n",
       "    }\n",
       "\n",
       "    .dataframe tbody tr th {\n",
       "        vertical-align: top;\n",
       "    }\n",
       "\n",
       "    .dataframe thead th {\n",
       "        text-align: right;\n",
       "    }\n",
       "</style>\n",
       "<table border=\"1\" class=\"dataframe\">\n",
       "  <thead>\n",
       "    <tr style=\"text-align: right;\">\n",
       "      <th></th>\n",
       "      <th>0</th>\n",
       "    </tr>\n",
       "  </thead>\n",
       "  <tbody>\n",
       "    <tr>\n",
       "      <th>0</th>\n",
       "      <td>388.64</td>\n",
       "    </tr>\n",
       "    <tr>\n",
       "      <th>1</th>\n",
       "      <td>401.30</td>\n",
       "    </tr>\n",
       "    <tr>\n",
       "      <th>2</th>\n",
       "      <td>491.17</td>\n",
       "    </tr>\n",
       "    <tr>\n",
       "      <th>3</th>\n",
       "      <td>636.35</td>\n",
       "    </tr>\n",
       "    <tr>\n",
       "      <th>4</th>\n",
       "      <td>634.84</td>\n",
       "    </tr>\n",
       "  </tbody>\n",
       "</table>\n",
       "</div>"
      ],
      "text/plain": [
       "        0\n",
       "0  388.64\n",
       "1  401.30\n",
       "2  491.17\n",
       "3  636.35\n",
       "4  634.84"
      ]
     },
     "execution_count": 32,
     "metadata": {},
     "output_type": "execute_result"
    }
   ],
   "source": [
    "nights_PDL_2017 = data_PDL[(data_PDL.index>='2017-01-01')&(data_PDL.index<'2017-12-02')]\n",
    "nights_PDL_2017 = np.array(nights_PDL_2017.nights_PDL)\n",
    "nights_PDL_2017_df = pd.DataFrame(nights_PDL_2017)\n",
    "nights_PDL_2017_df.head()"
   ]
  },
  {
   "cell_type": "code",
   "execution_count": 36,
   "metadata": {},
   "outputs": [
    {
     "data": {
      "text/plain": [
       "0     361.624719\n",
       "1     331.289824\n",
       "2     453.458678\n",
       "3     546.215745\n",
       "4     527.160342\n",
       "5     687.770321\n",
       "6     714.282713\n",
       "7     774.472929\n",
       "8     624.272981\n",
       "9     499.451549\n",
       "10    362.895845\n",
       "11    335.066479\n",
       "dtype: float64"
      ]
     },
     "execution_count": 36,
     "metadata": {},
     "output_type": "execute_result"
    }
   ],
   "source": [
    "nights_resid_2017 = add_resid_forecast_2017_df[0][12:24]\n",
    "forecast_2017 = add_seasonal_2016_df[0].values + arima_trend_forecast_2017_df[12:24].values.transpose()[0] + nights_resid_2017.values.transpose()\n",
    "forecast_2017_df = pd.Series(forecast_2017.transpose())\n",
    "forecast_2017_df"
   ]
  },
  {
   "cell_type": "code",
   "execution_count": 37,
   "metadata": {},
   "outputs": [
    {
     "data": {
      "text/plain": [
       "<matplotlib.legend.Legend at 0x10bb45a58>"
      ]
     },
     "execution_count": 37,
     "metadata": {},
     "output_type": "execute_result"
    },
    {
     "data": {
      "image/png": "[encoded data removed]",
      "text/plain": [
       "<Figure size 432x288 with 1 Axes>"
      ]
     },
     "metadata": {},
     "output_type": "display_data"
    }
   ],
   "source": [
    "nights_PDL_2017_df.plot(label='Real')\n",
    "forecast_2017_df.plot(label='Forecast')\n",
    "plt.legend()"
   ]
  },
  {
   "cell_type": "code",
   "execution_count": 44,
   "metadata": {},
   "outputs": [
    {
     "name": "stdout",
     "output_type": "stream",
     "text": [
      "MASE: 0.9113186799658684\n"
     ]
    }
   ],
   "source": [
    "MASE_2017 = seasonal_MASE(nights_PDL_2017, forecast_2017)\n",
    "print('MASE:', MASE_2017)"
   ]
  },
  {
   "cell_type": "code",
   "execution_count": 41,
   "metadata": {},
   "outputs": [
    {
     "name": "stdout",
     "output_type": "stream",
     "text": [
      "RMSE: 81.34349328382083\n",
      "MAE: 76.85398969610338\n"
     ]
    }
   ],
   "source": [
    "rmse_2017 = np.sqrt(mean_squared_error(nights_PDL_2017, forecast_2017))\n",
    "mae_2017 = mean_absolute_error(nights_PDL_2017, forecast_2017)\n",
    "print('RMSE:', rmse_2017)\n",
    "print('MAE:', mae_2017)"
   ]
  }
 ],
 "metadata": {
  "kernelspec": {
   "display_name": "Python 3",
   "language": "python",
   "name": "python3"
  },
  "language_info": {
   "codemirror_mode": {
    "name": "ipython",
    "version": 3
   },
   "file_extension": ".py",
   "mimetype": "text/x-python",
   "name": "python",
   "nbconvert_exporter": "python",
   "pygments_lexer": "ipython3",
   "version": "3.6.5"
  }
 },
 "nbformat": 4,
 "nbformat_minor": 2
}
