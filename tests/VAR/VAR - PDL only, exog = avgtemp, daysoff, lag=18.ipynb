{
 "cells": [
  {
   "cell_type": "code",
   "execution_count": 1,
   "metadata": {},
   "outputs": [],
   "source": [
    "import pandas as pd\n",
    "import numpy as np\n",
    "import datetime \n",
    "import matplotlib.pyplot as plt\n",
    "import pyramid\n",
    "%matplotlib inline\n",
    "from statsmodels.tsa.seasonal import seasonal_decompose"
   ]
  },
  {
   "cell_type": "code",
   "execution_count": 2,
   "metadata": {},
   "outputs": [],
   "source": [
    "dn = pd.read_csv('/Users/jinny/Documents/touristcast/datasets/nights_2010-2017.csv',parse_dates=['date'], index_col='date',usecols=[*range(1, 15)])\n",
    "dm = pd.read_csv('/Users/jinny/Documents/touristcast/datasets/avgtemp_2010-2017.csv',parse_dates=['date'],index_col='date',usecols=[*range(1, 15)])\n",
    "dh = pd.read_csv('/Users/jinny/Documents/touristcast/datasets/daysoff_2010-2017.csv',parse_dates=['date'],index_col='date',usecols=['date','daysoff'])\n",
    "dg = pd.read_csv('/Users/jinny/Documents/touristcast/datasets/regionalGDP_2010-2015.csv',parse_dates=['date'],index_col='date',usecols=[*range(1, 15)])\n",
    "dr = pd.concat([dn, dm, dh, dg], axis=1)\n",
    "df = dr.dropna()\n",
    "df = df[['nights_PDL','avgtemp_PDL','gdp_PDL','daysoff']]\n",
    "exog_df = df[['avgtemp_PDL','daysoff']]\n",
    "exogenous= np.array(df[['avgtemp_PDL','daysoff']])\n",
    "y = np.array(df[['nights_PDL','gdp_PDL']])\n",
    "df_y = df[['nights_PDL','gdp_PDL']]"
   ]
  },
  {
   "cell_type": "code",
   "execution_count": 3,
   "metadata": {},
   "outputs": [
    {
     "name": "stdout",
     "output_type": "stream",
     "text": [
      "NON-STATIONARY\n",
      "nights_PDL\n",
      "-------\n",
      "NON-STATIONARY\n",
      "gdp_PDL\n",
      "-------\n"
     ]
    }
   ],
   "source": [
    "from statsmodels.tsa.stattools import adfuller\n",
    "\n",
    "for column in df_y.columns:\n",
    "    result = adfuller(df_y[column])\n",
    "#     print(f'Stationarity test for variable {column}')\n",
    "#     print('ADF Statistic: %f' % result[0])\n",
    "#     print('p-value: %f' % result[1])\n",
    "#     print('Critical Values:')\n",
    "\n",
    "#     for key, value in result[4].items():\n",
    "#         print('\\t%s: %.3f' % (key, value))\n",
    "    \n",
    "    if result[1] < 0.05:\n",
    "        print('STATIONARY')\n",
    "        print(f'{column}')\n",
    "        print('-------')\n",
    "    else:\n",
    "        print('NON-STATIONARY')\n",
    "        print(f'{column}')\n",
    "        print('-------')"
   ]
  },
  {
   "cell_type": "code",
   "execution_count": 4,
   "metadata": {},
   "outputs": [],
   "source": [
    "from statsmodels.tsa.seasonal import seasonal_decompose\n",
    "\n",
    "# ----- Additive Model below -----\n",
    "\n",
    "add_data = seasonal_decompose(df_y, model='additive')  \n",
    "\n",
    "add_trend = add_data.trend.dropna()\n",
    "add_seasonal = add_data.seasonal.dropna()\n",
    "add_residual = add_data.resid.dropna()\n",
    "\n",
    "# stationarity_test(add_residual)\n",
    "\n",
    "# ----- Multiplicative Model below -----\n",
    "\n",
    "mult_data = seasonal_decompose(df_y, model='multiplicative')  \n",
    "\n",
    "mult_trend = mult_data.trend.dropna()\n",
    "mult_seasonal = mult_data.seasonal.dropna()\n",
    "mult_residual = mult_data.resid.dropna()\n",
    "\n",
    "# stationarity_test(mult_residual)"
   ]
  },
  {
   "cell_type": "code",
   "execution_count": 5,
   "metadata": {},
   "outputs": [
    {
     "name": "stdout",
     "output_type": "stream",
     "text": [
      "Additive: ['nights_PDL']\n",
      "Multiplicative ['gdp_PDL']\n"
     ]
    }
   ],
   "source": [
    "from statsmodels.tsa.stattools import acf\n",
    "\n",
    "add_acfs = add_residual.apply(acf, axis=0).apply(np.square, axis=0).apply(np.sum)\n",
    "\n",
    "mult_acfs = mult_residual.apply(acf, axis=0).apply(np.square, axis=0).apply(np.sum)\n",
    "\n",
    "additive = add_acfs < mult_acfs\n",
    "add_cols = additive.index[additive].tolist()\n",
    "mult_cols = additive.index[~additive].tolist()\n",
    "print('Additive:', add_cols)\n",
    "print('Multiplicative', mult_cols)"
   ]
  },
  {
   "cell_type": "markdown",
   "metadata": {},
   "source": [
    "Nights PDL is additive"
   ]
  },
  {
   "cell_type": "code",
   "execution_count": 6,
   "metadata": {},
   "outputs": [
    {
     "data": {
      "text/html": [
       "<div>\n",
       "<style scoped>\n",
       "    .dataframe tbody tr th:only-of-type {\n",
       "        vertical-align: middle;\n",
       "    }\n",
       "\n",
       "    .dataframe tbody tr th {\n",
       "        vertical-align: top;\n",
       "    }\n",
       "\n",
       "    .dataframe thead th {\n",
       "        text-align: right;\n",
       "    }\n",
       "</style>\n",
       "<table border=\"1\" class=\"dataframe\">\n",
       "  <thead>\n",
       "    <tr style=\"text-align: right;\">\n",
       "      <th></th>\n",
       "      <th>avgtemp_PDL</th>\n",
       "      <th>daysoff</th>\n",
       "    </tr>\n",
       "    <tr>\n",
       "      <th>date</th>\n",
       "      <th></th>\n",
       "      <th></th>\n",
       "    </tr>\n",
       "  </thead>\n",
       "  <tbody>\n",
       "    <tr>\n",
       "      <th>2010-07-01</th>\n",
       "      <td>2.324306</td>\n",
       "      <td>0.863889</td>\n",
       "    </tr>\n",
       "    <tr>\n",
       "      <th>2010-08-01</th>\n",
       "      <td>0.315972</td>\n",
       "      <td>-1.311111</td>\n",
       "    </tr>\n",
       "    <tr>\n",
       "      <th>2010-09-01</th>\n",
       "      <td>-0.509028</td>\n",
       "      <td>-0.119444</td>\n",
       "    </tr>\n",
       "    <tr>\n",
       "      <th>2010-10-01</th>\n",
       "      <td>-1.875694</td>\n",
       "      <td>1.438889</td>\n",
       "    </tr>\n",
       "    <tr>\n",
       "      <th>2010-11-01</th>\n",
       "      <td>-1.400694</td>\n",
       "      <td>-0.061111</td>\n",
       "    </tr>\n",
       "  </tbody>\n",
       "</table>\n",
       "</div>"
      ],
      "text/plain": [
       "            avgtemp_PDL   daysoff\n",
       "date                             \n",
       "2010-07-01     2.324306  0.863889\n",
       "2010-08-01     0.315972 -1.311111\n",
       "2010-09-01    -0.509028 -0.119444\n",
       "2010-10-01    -1.875694  1.438889\n",
       "2010-11-01    -1.400694 -0.061111"
      ]
     },
     "execution_count": 6,
     "metadata": {},
     "output_type": "execute_result"
    }
   ],
   "source": [
    "add_exog = seasonal_decompose(exog_df, model='additive')\n",
    "add_exog_resid = add_exog.resid.dropna()\n",
    "add_exog_resid.head()\n",
    "# print(np.size(add_exog_resid, axis=0))\n",
    "# print(np.size(add_residual, axis=0))"
   ]
  },
  {
   "cell_type": "code",
   "execution_count": 7,
   "metadata": {},
   "outputs": [
    {
     "data": {
      "text/html": [
       "<div>\n",
       "<style scoped>\n",
       "    .dataframe tbody tr th:only-of-type {\n",
       "        vertical-align: middle;\n",
       "    }\n",
       "\n",
       "    .dataframe tbody tr th {\n",
       "        vertical-align: top;\n",
       "    }\n",
       "\n",
       "    .dataframe thead th {\n",
       "        text-align: right;\n",
       "    }\n",
       "</style>\n",
       "<table border=\"1\" class=\"dataframe\">\n",
       "  <thead>\n",
       "    <tr style=\"text-align: right;\">\n",
       "      <th></th>\n",
       "      <th>nights_PDL</th>\n",
       "      <th>gdp_PDL</th>\n",
       "    </tr>\n",
       "    <tr>\n",
       "      <th>date</th>\n",
       "      <th></th>\n",
       "      <th></th>\n",
       "    </tr>\n",
       "  </thead>\n",
       "  <tbody>\n",
       "    <tr>\n",
       "      <th>2015-01-01</th>\n",
       "      <td>-169.663271</td>\n",
       "      <td>1196.976573</td>\n",
       "    </tr>\n",
       "  </tbody>\n",
       "</table>\n",
       "</div>"
      ],
      "text/plain": [
       "            nights_PDL      gdp_PDL\n",
       "date                               \n",
       "2015-01-01 -169.663271  1196.976573"
      ]
     },
     "execution_count": 7,
     "metadata": {},
     "output_type": "execute_result"
    }
   ],
   "source": [
    "add_seasonal_2016 = add_seasonal[(add_seasonal.index>='2015-01-01')&(add_seasonal.index<'2016-01-01')]\n",
    "add_seasonal_2016.head(1)"
   ]
  },
  {
   "cell_type": "code",
   "execution_count": 8,
   "metadata": {},
   "outputs": [
    {
     "name": "stdout",
     "output_type": "stream",
     "text": [
      "Fit ARIMA: order=(6, 1, 3); AIC=189.030, BIC=211.883, Fit time=0.831 seconds\n",
      "Fit ARIMA: order=(8, 1, 2); AIC=nan, BIC=nan, Fit time=nan seconds\n",
      "Fit ARIMA: order=(0, 1, 0); AIC=242.666, BIC=246.821, Fit time=0.004 seconds\n",
      "Fit ARIMA: order=(5, 1, 0); AIC=197.106, BIC=211.649, Fit time=0.137 seconds\n",
      "Fit ARIMA: order=(0, 1, 5); AIC=nan, BIC=nan, Fit time=nan seconds\n",
      "Fit ARIMA: order=(9, 1, 0); AIC=194.071, BIC=216.924, Fit time=1.017 seconds\n",
      "Fit ARIMA: order=(1, 1, 5); AIC=nan, BIC=nan, Fit time=nan seconds\n",
      "Fit ARIMA: order=(1, 1, 1); AIC=204.095, BIC=212.405, Fit time=0.065 seconds\n",
      "Fit ARIMA: order=(10, 1, 0); AIC=195.575, BIC=220.505, Fit time=1.296 seconds\n",
      "Fit ARIMA: order=(3, 1, 0); AIC=199.633, BIC=210.020, Fit time=0.074 seconds\n",
      "Total fit time: 3.461 seconds\n"
     ]
    },
    {
     "data": {
      "text/html": [
       "<table class=\"simpletable\">\n",
       "<caption>ARIMA Model Results</caption>\n",
       "<tr>\n",
       "  <th>Dep. Variable:</th>        <td>D.y</td>       <th>  No. Observations:  </th>   <td>59</td>   \n",
       "</tr>\n",
       "<tr>\n",
       "  <th>Model:</th>          <td>ARIMA(6, 1, 3)</td>  <th>  Log Likelihood     </th> <td>-83.515</td>\n",
       "</tr>\n",
       "<tr>\n",
       "  <th>Method:</th>             <td>css-mle</td>     <th>  S.D. of innovations</th>  <td>0.916</td> \n",
       "</tr>\n",
       "<tr>\n",
       "  <th>Date:</th>          <td>Thu, 23 Aug 2018</td> <th>  AIC                </th> <td>189.030</td>\n",
       "</tr>\n",
       "<tr>\n",
       "  <th>Time:</th>              <td>11:35:51</td>     <th>  BIC                </th> <td>211.883</td>\n",
       "</tr>\n",
       "<tr>\n",
       "  <th>Sample:</th>                <td>1</td>        <th>  HQIC               </th> <td>197.951</td>\n",
       "</tr>\n",
       "<tr>\n",
       "  <th></th>                       <td> </td>        <th>                     </th>    <td> </td>   \n",
       "</tr>\n",
       "</table>\n",
       "<table class=\"simpletable\">\n",
       "<tr>\n",
       "      <td></td>         <th>coef</th>     <th>std err</th>      <th>z</th>      <th>P>|z|</th>  <th>[0.025</th>    <th>0.975]</th>  \n",
       "</tr>\n",
       "<tr>\n",
       "  <th>const</th>     <td>    0.8525</td> <td>    0.590</td> <td>    1.445</td> <td> 0.155</td> <td>   -0.304</td> <td>    2.009</td>\n",
       "</tr>\n",
       "<tr>\n",
       "  <th>ar.L1.D.y</th> <td>    0.6516</td> <td>    0.147</td> <td>    4.442</td> <td> 0.000</td> <td>    0.364</td> <td>    0.939</td>\n",
       "</tr>\n",
       "<tr>\n",
       "  <th>ar.L2.D.y</th> <td>   -0.3874</td> <td>    0.155</td> <td>   -2.496</td> <td> 0.016</td> <td>   -0.692</td> <td>   -0.083</td>\n",
       "</tr>\n",
       "<tr>\n",
       "  <th>ar.L3.D.y</th> <td>    0.1351</td> <td>    0.162</td> <td>    0.834</td> <td> 0.408</td> <td>   -0.182</td> <td>    0.453</td>\n",
       "</tr>\n",
       "<tr>\n",
       "  <th>ar.L4.D.y</th> <td>    0.0977</td> <td>    0.167</td> <td>    0.587</td> <td> 0.560</td> <td>   -0.229</td> <td>    0.424</td>\n",
       "</tr>\n",
       "<tr>\n",
       "  <th>ar.L5.D.y</th> <td>    0.2156</td> <td>    0.166</td> <td>    1.300</td> <td> 0.200</td> <td>   -0.109</td> <td>    0.540</td>\n",
       "</tr>\n",
       "<tr>\n",
       "  <th>ar.L6.D.y</th> <td>   -0.1601</td> <td>    0.134</td> <td>   -1.192</td> <td> 0.239</td> <td>   -0.423</td> <td>    0.103</td>\n",
       "</tr>\n",
       "<tr>\n",
       "  <th>ma.L1.D.y</th> <td>    0.1595</td> <td>    0.125</td> <td>    1.277</td> <td> 0.208</td> <td>   -0.085</td> <td>    0.404</td>\n",
       "</tr>\n",
       "<tr>\n",
       "  <th>ma.L2.D.y</th> <td>    0.1595</td> <td>    0.129</td> <td>    1.234</td> <td> 0.223</td> <td>   -0.094</td> <td>    0.413</td>\n",
       "</tr>\n",
       "<tr>\n",
       "  <th>ma.L3.D.y</th> <td>    1.0000</td> <td>    0.136</td> <td>    7.356</td> <td> 0.000</td> <td>    0.734</td> <td>    1.266</td>\n",
       "</tr>\n",
       "</table>\n",
       "<table class=\"simpletable\">\n",
       "<caption>Roots</caption>\n",
       "<tr>\n",
       "    <td></td>   <th>            Real</th>  <th>         Imaginary</th> <th>         Modulus</th>  <th>        Frequency</th>\n",
       "</tr>\n",
       "<tr>\n",
       "  <th>AR.1</th> <td>          -1.1143</td> <td>          -0.9141j</td> <td>           1.4413</td> <td>          -0.3907</td>\n",
       "</tr>\n",
       "<tr>\n",
       "  <th>AR.2</th> <td>          -1.1143</td> <td>          +0.9141j</td> <td>           1.4413</td> <td>           0.3907</td>\n",
       "</tr>\n",
       "<tr>\n",
       "  <th>AR.3</th> <td>           0.2743</td> <td>          -1.1027j</td> <td>           1.1363</td> <td>          -0.2112</td>\n",
       "</tr>\n",
       "<tr>\n",
       "  <th>AR.4</th> <td>           0.2743</td> <td>          +1.1027j</td> <td>           1.1363</td> <td>           0.2112</td>\n",
       "</tr>\n",
       "<tr>\n",
       "  <th>AR.5</th> <td>           1.5132</td> <td>          -0.1972j</td> <td>           1.5260</td> <td>          -0.0206</td>\n",
       "</tr>\n",
       "<tr>\n",
       "  <th>AR.6</th> <td>           1.5132</td> <td>          +0.1972j</td> <td>           1.5260</td> <td>           0.0206</td>\n",
       "</tr>\n",
       "<tr>\n",
       "  <th>MA.1</th> <td>          -1.0000</td> <td>          -0.0000j</td> <td>           1.0000</td> <td>          -0.5000</td>\n",
       "</tr>\n",
       "<tr>\n",
       "  <th>MA.2</th> <td>           0.4202</td> <td>          -0.9074j</td> <td>           1.0000</td> <td>          -0.1810</td>\n",
       "</tr>\n",
       "<tr>\n",
       "  <th>MA.3</th> <td>           0.4202</td> <td>          +0.9074j</td> <td>           1.0000</td> <td>           0.1810</td>\n",
       "</tr>\n",
       "</table>"
      ],
      "text/plain": [
       "<class 'statsmodels.iolib.summary.Summary'>\n",
       "\"\"\"\n",
       "                             ARIMA Model Results                              \n",
       "==============================================================================\n",
       "Dep. Variable:                    D.y   No. Observations:                   59\n",
       "Model:                 ARIMA(6, 1, 3)   Log Likelihood                 -83.515\n",
       "Method:                       css-mle   S.D. of innovations              0.916\n",
       "Date:                Thu, 23 Aug 2018   AIC                            189.030\n",
       "Time:                        11:35:51   BIC                            211.883\n",
       "Sample:                             1   HQIC                           197.951\n",
       "                                                                              \n",
       "==============================================================================\n",
       "                 coef    std err          z      P>|z|      [0.025      0.975]\n",
       "------------------------------------------------------------------------------\n",
       "const          0.8525      0.590      1.445      0.155      -0.304       2.009\n",
       "ar.L1.D.y      0.6516      0.147      4.442      0.000       0.364       0.939\n",
       "ar.L2.D.y     -0.3874      0.155     -2.496      0.016      -0.692      -0.083\n",
       "ar.L3.D.y      0.1351      0.162      0.834      0.408      -0.182       0.453\n",
       "ar.L4.D.y      0.0977      0.167      0.587      0.560      -0.229       0.424\n",
       "ar.L5.D.y      0.2156      0.166      1.300      0.200      -0.109       0.540\n",
       "ar.L6.D.y     -0.1601      0.134     -1.192      0.239      -0.423       0.103\n",
       "ma.L1.D.y      0.1595      0.125      1.277      0.208      -0.085       0.404\n",
       "ma.L2.D.y      0.1595      0.129      1.234      0.223      -0.094       0.413\n",
       "ma.L3.D.y      1.0000      0.136      7.356      0.000       0.734       1.266\n",
       "                                    Roots                                    \n",
       "=============================================================================\n",
       "                  Real          Imaginary           Modulus         Frequency\n",
       "-----------------------------------------------------------------------------\n",
       "AR.1           -1.1143           -0.9141j            1.4413           -0.3907\n",
       "AR.2           -1.1143           +0.9141j            1.4413            0.3907\n",
       "AR.3            0.2743           -1.1027j            1.1363           -0.2112\n",
       "AR.4            0.2743           +1.1027j            1.1363            0.2112\n",
       "AR.5            1.5132           -0.1972j            1.5260           -0.0206\n",
       "AR.6            1.5132           +0.1972j            1.5260            0.0206\n",
       "MA.1           -1.0000           -0.0000j            1.0000           -0.5000\n",
       "MA.2            0.4202           -0.9074j            1.0000           -0.1810\n",
       "MA.3            0.4202           +0.9074j            1.0000            0.1810\n",
       "-----------------------------------------------------------------------------\n",
       "\"\"\""
      ]
     },
     "execution_count": 8,
     "metadata": {},
     "output_type": "execute_result"
    }
   ],
   "source": [
    "from pyramid.arima import auto_arima\n",
    "arima_trend = auto_arima(np.array(add_trend.nights_PDL), start_p=0, start_q=0, max_p=20, max_q=20, m=12,\n",
    "                    start_P=0, max_P=20, seasonal=False, d=1, D=1, trace=True,\n",
    "                    error_action='ignore', suppress_warnings=True, stepwise=False, random=True, random_state=42) \n",
    "\n",
    "arima_trend.summary()\n"
   ]
  },
  {
   "cell_type": "code",
   "execution_count": 9,
   "metadata": {},
   "outputs": [
    {
     "data": {
      "text/plain": [
       "<matplotlib.axes._subplots.AxesSubplot at 0x1c1d7c4be0>"
      ]
     },
     "execution_count": 9,
     "metadata": {},
     "output_type": "execute_result"
    },
    {
     "data": {
      "image/png": "[encoded data removed]",
      "text/plain": [
       "<Figure size 432x288 with 1 Axes>"
      ]
     },
     "metadata": {},
     "output_type": "display_data"
    }
   ],
   "source": [
    "arima_trend.fit(add_trend.nights_PDL)\n",
    "arima_trend_forecast_2016 = arima_trend.predict(n_periods=12)\n",
    "arima_trend_forecast_2016\n",
    "arima_trend_forecast_2016_df = pd.DataFrame(arima_trend_forecast_2016)\n",
    "arima_trend_forecast_2016_df.plot()"
   ]
  },
  {
   "cell_type": "code",
   "execution_count": 24,
   "metadata": {
    "scrolled": true
   },
   "outputs": [
    {
     "name": "stdout",
     "output_type": "stream",
     "text": [
      " VAR Order Selection (* highlights the minimums)  \n",
      "==================================================\n",
      "       AIC         BIC         FPE         HQIC   \n",
      "--------------------------------------------------\n",
      "0        16.19       16.45   1.071e+07       16.28\n",
      "1        15.96       16.40   8.574e+06       16.11\n",
      "2        15.97       16.59   8.752e+06       16.19\n",
      "3        16.15       16.94   1.057e+07       16.43\n",
      "4        16.28       17.25   1.223e+07       16.62\n",
      "5        16.30       17.45   1.287e+07       16.70\n",
      "6        16.23       17.55   1.250e+07       16.69\n",
      "7        15.94       17.44   9.848e+06       16.46\n",
      "8        15.90       17.58   1.024e+07       16.49\n",
      "9        15.52       17.36   7.669e+06       16.16\n",
      "10       15.44       17.46   8.123e+06       16.15\n",
      "11       15.27       17.47   8.194e+06       16.04\n",
      "12       14.12       16.50   3.308e+06       14.95\n",
      "13       13.76       16.32   3.267e+06       14.66\n",
      "14       13.75       16.47   5.347e+06       14.70\n",
      "15       12.55       15.46   3.822e+06       13.57\n",
      "16      -28.95      -25.87   2.766e-11      -27.87\n",
      "17      -98.72      -95.46   1.172e-41      -97.58\n",
      "18      -108.2      -104.8   8.071e-47      -107.0\n",
      "19      -110.4      -106.8   2.825e-48      -109.1\n",
      "20     -111.8*     -108.1*   2.854e-49     -110.5*\n",
      "21      -110.8      -106.8   4.137e-49      -109.4\n",
      "22      -110.6      -106.4   2.914e-49      -109.1\n",
      "23      -111.4      -107.1  7.934e-50*      -109.9\n",
      "24      -110.3      -105.9   1.402e-49      -108.8\n",
      "--------------------------------------------------\n",
      "  Summary of Regression Results   \n",
      "==================================\n",
      "Model:                         VAR\n",
      "Method:                        OLS\n",
      "Date:           Thu, 23, Aug, 2018\n",
      "Time:                     11:39:23\n",
      "--------------------------------------------------------------------\n",
      "No. of Equations:         2.00000    BIC:                    14.5750\n",
      "Nobs:                     42.0000    HQIC:                   12.5308\n",
      "Log likelihood:          -279.498    FPE:                1.50655e+06\n",
      "AIC:                      11.3479    Det(Omega_mle):         405054.\n",
      "--------------------------------------------------------------------\n",
      "Results for equation nights_PDL\n",
      "=================================================================================\n",
      "                    coefficient       std. error           t-stat            prob\n",
      "---------------------------------------------------------------------------------\n",
      "const                 -0.793068         3.812691           -0.208           0.835\n",
      "exog0                  2.010256        11.481412            0.175           0.861\n",
      "exog1                  1.250128        19.080276            0.066           0.948\n",
      "L1.nights_PDL         -0.464498         0.673745           -0.689           0.491\n",
      "L1.gdp_PDL             0.009909         0.033744            0.294           0.769\n",
      "L2.nights_PDL          0.172451         0.718079            0.240           0.810\n",
      "L2.gdp_PDL             0.001559         0.036579            0.043           0.966\n",
      "L3.nights_PDL          0.308914         0.436023            0.708           0.479\n",
      "L3.gdp_PDL             0.011834         0.034805            0.340           0.734\n",
      "L4.nights_PDL         -0.075745         0.476789           -0.159           0.874\n",
      "L4.gdp_PDL            -0.014929         0.041565           -0.359           0.719\n",
      "L5.nights_PDL         -0.566962         0.438116           -1.294           0.196\n",
      "L5.gdp_PDL             0.012749         0.043752            0.291           0.771\n",
      "L6.nights_PDL         -0.525954         0.799802           -0.658           0.511\n",
      "L6.gdp_PDL             0.011001         0.038419            0.286           0.775\n",
      "L7.nights_PDL         -0.161111         0.680097           -0.237           0.813\n",
      "L7.gdp_PDL            -0.021053         0.035709           -0.590           0.555\n",
      "L8.nights_PDL          0.563599         0.817250            0.690           0.490\n",
      "L8.gdp_PDL             0.012799         0.028162            0.454           0.649\n",
      "L9.nights_PDL          0.216808         0.831528            0.261           0.794\n",
      "L9.gdp_PDL             0.029886         0.030811            0.970           0.332\n",
      "L10.nights_PDL        -0.466921         0.810576           -0.576           0.565\n",
      "L10.gdp_PDL            0.003149         0.027919            0.113           0.910\n",
      "L11.nights_PDL        -0.281877         0.668835           -0.421           0.673\n",
      "L11.gdp_PDL           -0.008427         0.033820           -0.249           0.803\n",
      "L12.nights_PDL         0.102027         0.586171            0.174           0.862\n",
      "L12.gdp_PDL           -0.012330         0.028946           -0.426           0.670\n",
      "L13.nights_PDL         0.445275         0.658295            0.676           0.499\n",
      "L13.gdp_PDL            0.006831         0.032435            0.211           0.833\n",
      "L14.nights_PDL        -0.034516         0.890681           -0.039           0.969\n",
      "L14.gdp_PDL            0.009073         0.017794            0.510           0.610\n",
      "L15.nights_PDL        -0.257240         1.336913           -0.192           0.847\n",
      "L15.gdp_PDL            0.014994         0.017943            0.836           0.403\n",
      "L16.nights_PDL        -0.330440         0.540693           -0.611           0.541\n",
      "L16.gdp_PDL           -0.030098         0.024398           -1.234           0.217\n",
      "L17.nights_PDL        -0.054918         0.417802           -0.131           0.895\n",
      "L17.gdp_PDL           -0.005764         0.032548           -0.177           0.859\n",
      "=================================================================================\n",
      "\n",
      "Results for equation gdp_PDL\n",
      "=================================================================================\n",
      "                    coefficient       std. error           t-stat            prob\n",
      "---------------------------------------------------------------------------------\n",
      "const                 -0.046102         0.507975           -0.091           0.928\n",
      "exog0                  0.019814         0.037211            0.532           0.594\n",
      "exog1                -60.335053         6.841221           -8.819           0.000\n",
      "L1.nights_PDL         25.567664        20.601425            1.241           0.215\n",
      "L1.gdp_PDL           -22.235287        34.236284           -0.649           0.516\n",
      "L2.nights_PDL          4.637618         1.208919            3.836           0.000\n",
      "L2.gdp_PDL            -0.216992         0.060548           -3.584           0.000\n",
      "L3.nights_PDL          1.191367         1.288470            0.925           0.355\n",
      "L3.gdp_PDL            -0.289268         0.065634           -4.407           0.000\n",
      "L4.nights_PDL         -0.905033         0.782369           -1.157           0.247\n",
      "L4.gdp_PDL            -0.285971         0.062451           -4.579           0.000\n",
      "L5.nights_PDL         -0.686724         0.855516           -0.803           0.422\n",
      "L5.gdp_PDL            -0.360562         0.074581           -4.834           0.000\n",
      "L6.nights_PDL          3.685545         0.786124            4.688           0.000\n",
      "L6.gdp_PDL            -0.067783         0.078505           -0.863           0.388\n",
      "L7.nights_PDL          5.443456         1.435107            3.793           0.000\n",
      "L7.gdp_PDL            -0.165976         0.068936           -2.408           0.016\n",
      "L8.nights_PDL          5.277156         1.220317            4.324           0.000\n",
      "L8.gdp_PDL            -0.200989         0.064075           -3.137           0.002\n",
      "L9.nights_PDL          2.710296         1.466415            1.848           0.065\n",
      "L9.gdp_PDL            -0.146106         0.050532           -2.891           0.004\n",
      "L10.nights_PDL        -1.093050         1.492034           -0.733           0.464\n",
      "L10.gdp_PDL           -0.241979         0.055286           -4.377           0.000\n",
      "L11.nights_PDL        -0.079410         1.454439           -0.055           0.956\n",
      "L11.gdp_PDL           -0.357646         0.050097           -7.139           0.000\n",
      "L12.nights_PDL         3.153227         1.200110            2.627           0.009\n",
      "L12.gdp_PDL           -0.187375         0.060684           -3.088           0.002\n",
      "L13.nights_PDL         3.929223         1.051783            3.736           0.000\n",
      "L13.gdp_PDL            0.369952         0.051938            7.123           0.000\n",
      "L14.nights_PDL        -0.318117         1.181197           -0.269           0.788\n",
      "L14.gdp_PDL            0.019162         0.058200            0.329           0.742\n",
      "L15.nights_PDL        -6.285780         1.598175           -3.933           0.000\n",
      "L15.gdp_PDL           -0.054173         0.031928           -1.697           0.090\n",
      "L16.nights_PDL        -5.185660         2.398861           -2.162           0.031\n",
      "L16.gdp_PDL           -0.019644         0.032195           -0.610           0.542\n",
      "L17.nights_PDL        -4.234192         0.970180           -4.364           0.000\n",
      "L17.gdp_PDL           -0.068716         0.043778           -1.570           0.116\n",
      "=================================================================================\n",
      "\n",
      "Correlation matrix of residuals\n",
      "              nights_PDL   gdp_PDL\n",
      "nights_PDL      1.000000  0.430384\n",
      "gdp_PDL         0.430384  1.000000\n",
      "\n",
      "\n",
      "\n"
     ]
    }
   ],
   "source": [
    "from statsmodels.tsa.api import VAR, DynamicVAR\n",
    "\n",
    "model = VAR(endog=add_residual, exog=add_exog_resid, dates=add_residual.index)\n",
    "\n",
    "lagorder_results = model.select_order(24)\n",
    "print(lagorder_results.summary())\n",
    "\n",
    "# Need to test and see if 20 lags with NaN gives good results\n",
    "results = model.fit(maxlags=18, ic='aic')\n",
    "print(results.summary())"
   ]
  },
  {
   "cell_type": "code",
   "execution_count": 11,
   "metadata": {},
   "outputs": [
    {
     "data": {
      "text/html": [
       "<div>\n",
       "<style scoped>\n",
       "    .dataframe tbody tr th:only-of-type {\n",
       "        vertical-align: middle;\n",
       "    }\n",
       "\n",
       "    .dataframe tbody tr th {\n",
       "        vertical-align: top;\n",
       "    }\n",
       "\n",
       "    .dataframe thead th {\n",
       "        text-align: right;\n",
       "    }\n",
       "</style>\n",
       "<table border=\"1\" class=\"dataframe\">\n",
       "  <thead>\n",
       "    <tr style=\"text-align: right;\">\n",
       "      <th></th>\n",
       "      <th>avgtemp_PDL</th>\n",
       "      <th>daysoff</th>\n",
       "    </tr>\n",
       "    <tr>\n",
       "      <th>date</th>\n",
       "      <th></th>\n",
       "      <th></th>\n",
       "    </tr>\n",
       "  </thead>\n",
       "  <tbody>\n",
       "    <tr>\n",
       "      <th>2016-01-01</th>\n",
       "      <td>9.0</td>\n",
       "      <td>11</td>\n",
       "    </tr>\n",
       "    <tr>\n",
       "      <th>2016-02-01</th>\n",
       "      <td>9.0</td>\n",
       "      <td>9</td>\n",
       "    </tr>\n",
       "    <tr>\n",
       "      <th>2016-03-01</th>\n",
       "      <td>10.0</td>\n",
       "      <td>10</td>\n",
       "    </tr>\n",
       "    <tr>\n",
       "      <th>2016-04-01</th>\n",
       "      <td>12.0</td>\n",
       "      <td>10</td>\n",
       "    </tr>\n",
       "    <tr>\n",
       "      <th>2016-05-01</th>\n",
       "      <td>16.0</td>\n",
       "      <td>11</td>\n",
       "    </tr>\n",
       "    <tr>\n",
       "      <th>2016-06-01</th>\n",
       "      <td>19.0</td>\n",
       "      <td>9</td>\n",
       "    </tr>\n",
       "    <tr>\n",
       "      <th>2016-07-01</th>\n",
       "      <td>21.0</td>\n",
       "      <td>12</td>\n",
       "    </tr>\n",
       "    <tr>\n",
       "      <th>2016-08-01</th>\n",
       "      <td>23.0</td>\n",
       "      <td>10</td>\n",
       "    </tr>\n",
       "    <tr>\n",
       "      <th>2016-09-01</th>\n",
       "      <td>21.0</td>\n",
       "      <td>9</td>\n",
       "    </tr>\n",
       "    <tr>\n",
       "      <th>2016-10-01</th>\n",
       "      <td>14.0</td>\n",
       "      <td>10</td>\n",
       "    </tr>\n",
       "    <tr>\n",
       "      <th>2016-11-01</th>\n",
       "      <td>11.0</td>\n",
       "      <td>10</td>\n",
       "    </tr>\n",
       "    <tr>\n",
       "      <th>2016-12-01</th>\n",
       "      <td>9.0</td>\n",
       "      <td>10</td>\n",
       "    </tr>\n",
       "  </tbody>\n",
       "</table>\n",
       "</div>"
      ],
      "text/plain": [
       "            avgtemp_PDL  daysoff\n",
       "date                            \n",
       "2016-01-01          9.0       11\n",
       "2016-02-01          9.0        9\n",
       "2016-03-01         10.0       10\n",
       "2016-04-01         12.0       10\n",
       "2016-05-01         16.0       11\n",
       "2016-06-01         19.0        9\n",
       "2016-07-01         21.0       12\n",
       "2016-08-01         23.0       10\n",
       "2016-09-01         21.0        9\n",
       "2016-10-01         14.0       10\n",
       "2016-11-01         11.0       10\n",
       "2016-12-01          9.0       10"
      ]
     },
     "execution_count": 11,
     "metadata": {},
     "output_type": "execute_result"
    }
   ],
   "source": [
    "temp = pd.read_csv('/Users/jinny/Documents/touristcast/datasets/avgtemp_2010-2017.csv',parse_dates=['date'],index_col='date')\n",
    "daysoff = pd.read_csv('/Users/jinny/Documents/touristcast/datasets/daysoff_2010-2017.csv',parse_dates=['date'],index_col='date',usecols=['date','daysoff'])\n",
    "temp_PDL = temp[['avgtemp_PDL']]\n",
    "temp_PDL_2016 = temp[(temp.index>='2016-01-01')&(temp.index<'2017-01-01')]\n",
    "temp_PDL_2016 = temp_PDL_2016[['avgtemp_PDL']]\n",
    "\n",
    "daysoff_2016 = daysoff[(daysoff.index>='2016-01-01')&(daysoff.index<'2017-01-01')]\n",
    "\n",
    "exog_future_df = pd.concat([temp_PDL_2016, daysoff_2016], axis=1, sort=False)\n",
    "exog_future_df"
   ]
  },
  {
   "cell_type": "code",
   "execution_count": 12,
   "metadata": {},
   "outputs": [
    {
     "name": "stdout",
     "output_type": "stream",
     "text": [
      "18\n"
     ]
    },
    {
     "data": {
      "text/plain": [
       "array([[ 4.55068098e+01, -1.97032740e+02],\n",
       "       [ 2.34484813e+01, -3.59003977e+00],\n",
       "       [ 4.41045283e+01,  1.34210968e+01],\n",
       "       [ 1.09924139e+01, -2.94412436e+01],\n",
       "       [ 2.50658229e+01,  1.24309706e+01],\n",
       "       [ 1.84830778e+01,  3.36091621e+02],\n",
       "       [ 3.81499702e+01,  5.89913414e+02],\n",
       "       [ 1.41139267e+01,  8.15086914e+02],\n",
       "       [ 4.08105471e+01,  6.62734108e+02],\n",
       "       [ 3.40426137e+01,  4.11634705e+02],\n",
       "       [ 4.22009866e+01,  2.09888863e+02],\n",
       "       [ 1.54285296e+01,  5.22024965e-01]])"
      ]
     },
     "execution_count": 12,
     "metadata": {},
     "output_type": "execute_result"
    }
   ],
   "source": [
    "lag_order = results.k_ar\n",
    "print(lag_order)\n",
    "\n",
    "# exog_future: Future values of exog variables. \n",
    "    # Length must be the same length as the number of steps you want to predict\n",
    "    # In this case; 12 months into the future\n",
    "\n",
    "add_resid_forecast_2016 = results.forecast(add_residual.values[-lag_order:], 12, \n",
    "                                           exog_future=exog_future_df)\n",
    "add_resid_forecast_2016"
   ]
  },
  {
   "cell_type": "code",
   "execution_count": 13,
   "metadata": {},
   "outputs": [
    {
     "data": {
      "text/html": [
       "<div>\n",
       "<style scoped>\n",
       "    .dataframe tbody tr th:only-of-type {\n",
       "        vertical-align: middle;\n",
       "    }\n",
       "\n",
       "    .dataframe tbody tr th {\n",
       "        vertical-align: top;\n",
       "    }\n",
       "\n",
       "    .dataframe thead th {\n",
       "        text-align: right;\n",
       "    }\n",
       "</style>\n",
       "<table border=\"1\" class=\"dataframe\">\n",
       "  <thead>\n",
       "    <tr style=\"text-align: right;\">\n",
       "      <th></th>\n",
       "      <th>0</th>\n",
       "      <th>1</th>\n",
       "    </tr>\n",
       "  </thead>\n",
       "  <tbody>\n",
       "    <tr>\n",
       "      <th>0</th>\n",
       "      <td>45.506810</td>\n",
       "      <td>-197.032740</td>\n",
       "    </tr>\n",
       "    <tr>\n",
       "      <th>1</th>\n",
       "      <td>23.448481</td>\n",
       "      <td>-3.590040</td>\n",
       "    </tr>\n",
       "    <tr>\n",
       "      <th>2</th>\n",
       "      <td>44.104528</td>\n",
       "      <td>13.421097</td>\n",
       "    </tr>\n",
       "    <tr>\n",
       "      <th>3</th>\n",
       "      <td>10.992414</td>\n",
       "      <td>-29.441244</td>\n",
       "    </tr>\n",
       "    <tr>\n",
       "      <th>4</th>\n",
       "      <td>25.065823</td>\n",
       "      <td>12.430971</td>\n",
       "    </tr>\n",
       "  </tbody>\n",
       "</table>\n",
       "</div>"
      ],
      "text/plain": [
       "           0           1\n",
       "0  45.506810 -197.032740\n",
       "1  23.448481   -3.590040\n",
       "2  44.104528   13.421097\n",
       "3  10.992414  -29.441244\n",
       "4  25.065823   12.430971"
      ]
     },
     "execution_count": 13,
     "metadata": {},
     "output_type": "execute_result"
    }
   ],
   "source": [
    "add_resid_forecast_2016_df = pd.DataFrame(add_resid_forecast_2016)\n",
    "add_resid_forecast_2016_df.head()"
   ]
  },
  {
   "cell_type": "code",
   "execution_count": 14,
   "metadata": {},
   "outputs": [
    {
     "data": {
      "text/html": [
       "<div>\n",
       "<style scoped>\n",
       "    .dataframe tbody tr th:only-of-type {\n",
       "        vertical-align: middle;\n",
       "    }\n",
       "\n",
       "    .dataframe tbody tr th {\n",
       "        vertical-align: top;\n",
       "    }\n",
       "\n",
       "    .dataframe thead th {\n",
       "        text-align: right;\n",
       "    }\n",
       "</style>\n",
       "<table border=\"1\" class=\"dataframe\">\n",
       "  <thead>\n",
       "    <tr style=\"text-align: right;\">\n",
       "      <th></th>\n",
       "      <th>0</th>\n",
       "    </tr>\n",
       "  </thead>\n",
       "  <tbody>\n",
       "    <tr>\n",
       "      <th>0</th>\n",
       "      <td>-169.663271</td>\n",
       "    </tr>\n",
       "    <tr>\n",
       "      <th>1</th>\n",
       "      <td>-153.071438</td>\n",
       "    </tr>\n",
       "  </tbody>\n",
       "</table>\n",
       "</div>"
      ],
      "text/plain": [
       "            0\n",
       "0 -169.663271\n",
       "1 -153.071438"
      ]
     },
     "execution_count": 14,
     "metadata": {},
     "output_type": "execute_result"
    }
   ],
   "source": [
    "add_seasonal_2016_array = add_seasonal_2016.nights_PDL.values\n",
    "add_seasonal_2016_df = pd.DataFrame(add_seasonal_2016_array)\n",
    "add_seasonal_2016_df.head(2)"
   ]
  },
  {
   "cell_type": "code",
   "execution_count": 15,
   "metadata": {},
   "outputs": [
    {
     "data": {
      "text/plain": [
       "0     428.775881\n",
       "1     424.448348\n",
       "2     515.870398\n",
       "3     557.405893\n",
       "4     631.332760\n",
       "5     734.314997\n",
       "6     769.183750\n",
       "7     825.205216\n",
       "8     692.694320\n",
       "9     574.653902\n",
       "10    492.966020\n",
       "11    409.248690\n",
       "Name: 0, dtype: float64"
      ]
     },
     "execution_count": 15,
     "metadata": {},
     "output_type": "execute_result"
    }
   ],
   "source": [
    "forecast_2016 = add_seasonal_2016_df[0] + arima_trend_forecast_2016_df[0] + add_resid_forecast_2016_df[0]\n",
    "forecast_2016"
   ]
  },
  {
   "cell_type": "code",
   "execution_count": 16,
   "metadata": {},
   "outputs": [],
   "source": [
    "nights_PDL_2016 = pd.read_csv('/Users/jinny/Documents/touristcast/datasets/nights_2010-2017.csv')\n",
    "nights_PDL_2016 = nights_PDL_2016.drop('Unnamed: 0', axis=1)\n",
    "nights_PDL_2016\n",
    "\n",
    "nights_PDL_2016 = nights_PDL_2016[['date', 'nights_PDL']]\n",
    "nights_PDL_2016['date'].apply(pd.to_datetime)\n",
    "nights_PDL_2016 = nights_PDL_2016.set_index('date')\n",
    "\n",
    "nights_PDL_2016 = nights_PDL_2016[(nights_PDL_2016.index>='2016-01-01')&(nights_PDL_2016.index<'2017-01-01')]\n",
    "nights_PDL_2016 = np.array(nights_PDL_2016.nights_PDL)\n",
    "nights_PDL_2016_df = pd.DataFrame(nights_PDL_2016)"
   ]
  },
  {
   "cell_type": "code",
   "execution_count": 17,
   "metadata": {},
   "outputs": [
    {
     "data": {
      "text/plain": [
       "11.34794767191956"
      ]
     },
     "execution_count": 17,
     "metadata": {},
     "output_type": "execute_result"
    }
   ],
   "source": [
    "results.aic"
   ]
  },
  {
   "cell_type": "code",
   "execution_count": 18,
   "metadata": {},
   "outputs": [],
   "source": [
    "# Define seasonality as 12 (monthly data) in argument when ground truth data includes at least 24 months\n",
    "\n",
    "def seasonal_MASE(truth, forecast, seasonality=1):    \n",
    "    period = truth.shape[0] # T\n",
    "    # print(period)\n",
    "    forecast_errors = np.abs(truth - forecast)\n",
    "    # print(forecast_errors)\n",
    "    mean_absolute_forecast_error = np.sum(forecast_errors) / period\n",
    "    # print(mean_absolute_forecast_error)\n",
    "\n",
    "    naive_period = truth.shape[0] - seasonality # T - m\n",
    "    # print(naive_period)\n",
    "    # print(truth[seasonality:])\n",
    "    # print(truth[:period - seasonality])\n",
    "    naive_errors = np.abs(truth[seasonality:] - truth[:period - seasonality])\n",
    "    mean_absolute_naive_error = np.sum(naive_errors) / naive_period\n",
    "    \n",
    "    return mean_absolute_forecast_error / mean_absolute_naive_error"
   ]
  },
  {
   "cell_type": "code",
   "execution_count": 19,
   "metadata": {},
   "outputs": [
    {
     "name": "stdout",
     "output_type": "stream",
     "text": [
      "Jinny's MASE measure: 0.26987168890403457\n"
     ]
    }
   ],
   "source": [
    "MASE_2016 = seasonal_MASE(nights_PDL_2016, forecast_2016)\n",
    "print(\"Jinny's MASE measure:\", MASE_2016)"
   ]
  },
  {
   "cell_type": "code",
   "execution_count": 20,
   "metadata": {},
   "outputs": [
    {
     "name": "stdout",
     "output_type": "stream",
     "text": [
      "Aysun's MASE measure: 0.17881872489203857\n"
     ]
    }
   ],
   "source": [
    "from math import sqrt\n",
    "def MASE(testing_series, prediction_series):\n",
    "    n = testing_series.shape[0]\n",
    "    scalingFactor = prediction_series.mean()\n",
    "    forecast_errors = testing_series - prediction_series\n",
    "    scaledErrors = forecast_errors/(np.sum(np.abs(testing_series - scalingFactor)) / n)\n",
    "    return np.abs(scaledErrors).mean()\n",
    "\n",
    "mase_alt = MASE(nights_PDL_2016, forecast_2016)\n",
    "print(\"Aysun's MASE measure:\", mase_alt)"
   ]
  },
  {
   "cell_type": "code",
   "execution_count": 21,
   "metadata": {},
   "outputs": [
    {
     "name": "stdout",
     "output_type": "stream",
     "text": [
      "RMSE: 30.68439956399531\n",
      "MAE: 23.772261061859396\n"
     ]
    }
   ],
   "source": [
    "from sklearn.metrics import mean_squared_error, mean_absolute_error\n",
    "\n",
    "rmse_2016 = np.sqrt(mean_squared_error(nights_PDL_2016, forecast_2016))\n",
    "mae_2016 = mean_absolute_error(nights_PDL_2016, forecast_2016)\n",
    "print('RMSE:', rmse_2016)\n",
    "print('MAE:', mae_2016)"
   ]
  },
  {
   "cell_type": "code",
   "execution_count": 22,
   "metadata": {},
   "outputs": [
    {
     "data": {
      "text/plain": [
       "<matplotlib.legend.Legend at 0x10cf406d8>"
      ]
     },
     "execution_count": 22,
     "metadata": {},
     "output_type": "execute_result"
    },
    {
     "data": {
      "image/png": "[encoded data removed]",
      "text/plain": [
       "<Figure size 432x288 with 1 Axes>"
      ]
     },
     "metadata": {},
     "output_type": "display_data"
    }
   ],
   "source": [
    "nights_PDL_2016_df.plot(label='Real')\n",
    "forecast_2016.plot(label='Forecast')\n",
    "plt.legend()"
   ]
  }
 ],
 "metadata": {
  "kernelspec": {
   "display_name": "Python 3",
   "language": "python",
   "name": "python3"
  },
  "language_info": {
   "codemirror_mode": {
    "name": "ipython",
    "version": 3
   },
   "file_extension": ".py",
   "mimetype": "text/x-python",
   "name": "python",
   "nbconvert_exporter": "python",
   "pygments_lexer": "ipython3",
   "version": "3.6.5"
  }
 },
 "nbformat": 4,
 "nbformat_minor": 2
}
