{
 "cells": [
  {
   "cell_type": "markdown",
   "metadata": {},
   "source": [
    "Cross Validation of Prophet Forecasting Nuitees dans l'hôtellerie Provence-Alpes-Côte d'Azur PAC  \n",
    "Datasets https://github.com/jinnyto/touristcast/tree/datasets/datasets"
   ]
  },
  {
   "cell_type": "code",
   "execution_count": 11,
   "metadata": {},
   "outputs": [],
   "source": [
    "import pandas as pd\n",
    "import numpy as np\n",
    "import datetime \n",
    "import holidays\n",
    "from sklearn.metrics import mean_absolute_error\n",
    "from sklearn.metrics import mean_squared_error\n",
    "from math import sqrt\n",
    "import fbprophet\n",
    "def seasonal_MASE(truth, forecast, seasonality=1):    \n",
    "    period = truth.shape[0] # T\n",
    "    # print(period)\n",
    "    forecast_errors = np.abs(truth - forecast)\n",
    "    # print(forecast_errors)\n",
    "    mean_absolute_forecast_error = np.sum(forecast_errors) / period\n",
    "    # print(mean_absolute_forecast_error)\n",
    "\n",
    "    naive_period = truth.shape[0] - seasonality # T - m\n",
    "    # print(naive_period)\n",
    "    # print(truth[seasonality:])\n",
    "    # print(truth[:period - seasonality])\n",
    "    naive_errors = np.abs(truth[seasonality:] - truth[:period - seasonality])\n",
    "    mean_absolute_naive_error = np.sum(naive_errors) / naive_period\n",
    "    \n",
    "    return mean_absolute_forecast_error / mean_absolute_naive_error"
   ]
  },
  {
   "cell_type": "code",
   "execution_count": 12,
   "metadata": {},
   "outputs": [],
   "source": [
    "dn = pd.read_csv('./datasets/nights_2010-2017.csv',parse_dates=['date'], index_col='date',usecols=[*range(1, 15)])"
   ]
  },
  {
   "cell_type": "code",
   "execution_count": 14,
   "metadata": {},
   "outputs": [
    {
     "name": "stderr",
     "output_type": "stream",
     "text": [
      "INFO:fbprophet.forecaster:Disabling weekly seasonality. Run prophet with weekly_seasonality=True to override this.\n",
      "INFO:fbprophet.forecaster:Disabling daily seasonality. Run prophet with daily_seasonality=True to override this.\n",
      "INFO:fbprophet.forecaster:n_changepoints greater than number of observations.Using 8.0.\n",
      "/home/aa/anaconda3/lib/python3.6/site-packages/fbprophet/forecaster.py:353: DeprecationWarning: object of type <class 'numpy.float64'> cannot be safely interpreted as an integer.\n",
      "  np.linspace(0, hist_size - 1, self.n_changepoints + 1)\n",
      "/home/aa/anaconda3/lib/python3.6/site-packages/pystan/misc.py:399: FutureWarning: Conversion of the second argument of issubdtype from `float` to `np.floating` is deprecated. In future, it will be treated as `np.float64 == np.dtype(float).type`.\n",
      "  elif np.issubdtype(np.asarray(v).dtype, float):\n",
      "INFO:fbprophet.forecaster:Disabling weekly seasonality. Run prophet with weekly_seasonality=True to override this.\n",
      "INFO:fbprophet.forecaster:Disabling daily seasonality. Run prophet with daily_seasonality=True to override this.\n",
      "INFO:fbprophet.forecaster:n_changepoints greater than number of observations.Using 18.0.\n",
      "INFO:fbprophet.forecaster:Disabling weekly seasonality. Run prophet with weekly_seasonality=True to override this.\n",
      "INFO:fbprophet.forecaster:Disabling daily seasonality. Run prophet with daily_seasonality=True to override this.\n",
      "INFO:fbprophet.forecaster:Disabling weekly seasonality. Run prophet with weekly_seasonality=True to override this.\n",
      "INFO:fbprophet.forecaster:Disabling daily seasonality. Run prophet with daily_seasonality=True to override this.\n",
      "INFO:fbprophet.forecaster:Disabling weekly seasonality. Run prophet with weekly_seasonality=True to override this.\n",
      "INFO:fbprophet.forecaster:Disabling daily seasonality. Run prophet with daily_seasonality=True to override this.\n",
      "INFO:fbprophet.forecaster:Disabling weekly seasonality. Run prophet with weekly_seasonality=True to override this.\n",
      "INFO:fbprophet.forecaster:Disabling daily seasonality. Run prophet with daily_seasonality=True to override this.\n",
      "INFO:fbprophet.forecaster:Disabling weekly seasonality. Run prophet with weekly_seasonality=True to override this.\n",
      "INFO:fbprophet.forecaster:Disabling daily seasonality. Run prophet with daily_seasonality=True to override this.\n"
     ]
    },
    {
     "name": "stdout",
     "output_type": "stream",
     "text": [
      "MAE:\n",
      "[704.3286530616903, 621.1484832152131, 595.2575340632526, 448.34352402914755, 102.78737772761463, 97.56061033846079, 132.3259284809285]\n",
      "MSE:\n",
      "[653722.032639123, 512455.82594952337, 445645.74393986724, 287575.6868296174, 15527.299492703727, 16735.767767921476, 25502.153895003965]\n",
      "RMSE:\n",
      "[808.5307864510312, 715.86020000383, 667.5670332931871, 536.2608384262433, 124.60858514847092, 129.36679546128317, 159.69393819116607]\n",
      "SMASE:\n",
      "[1.6168587356401898, 1.3858003746845817, 1.3113473846875614, 1.01505543009462, 0.23328089061268742, 0.2550070843704867, 0.3102085155383339]\n"
     ]
    }
   ],
   "source": [
    "mae_fold = []\n",
    "mse_fold = []\n",
    "rmse_fold = []\n",
    "smase_fold= []\n",
    "startyear = '2010-01-01'\n",
    "for index in range(2011,2018):\n",
    "    ld = []\n",
    "    for year in range(2010,index):\n",
    "        for date, name in sorted(holidays.FRA(years=year).items()):\n",
    "            ld.append(date.strftime('%Y-%m-%d'))\n",
    "    nextyear = str(index)+'-01-01'\n",
    "    predictyear = str(index+1)+'-01-01'\n",
    "    dftrain = dn[(dn.index>=startyear)&(dn.index<nextyear)]\n",
    "    train_nights = np.array(dftrain.nights_PAC)\n",
    "    dftest = dn[(dn.index>=nextyear)&(dn.index<predictyear)]\n",
    "    test_nights = np.array(dftest.nights_PAC)\n",
    "    fb = pd.DataFrame()\n",
    "    fb['ds'] = dftrain.index\n",
    "    fb['y'] = train_nights\n",
    "    holidays_exo = pd.DataFrame({  \n",
    "       'holiday': 'france',\n",
    "       'ds': pd.to_datetime(ld),\n",
    "    })\n",
    "    fb_prophet = fbprophet.Prophet(yearly_seasonality = True, seasonality_mode='multiplicative', seasonality_prior_scale=0.04, changepoint_prior_scale=0.1, holidays=holidays_exo, holidays_prior_scale=0.01)\n",
    "    fb_prophet.fit(fb)\n",
    "    fb_forecast = fb_prophet.make_future_dataframe(periods=12, freq='M')\n",
    "    fb_forecast = fb_prophet.predict(fb_forecast)\n",
    "    tc_future_forecast= np.array(fb_forecast.tail(12).yhat)\n",
    "    mae_fold.append(mean_absolute_error(test_nights, tc_future_forecast))\n",
    "    mse = mean_squared_error(test_nights, tc_future_forecast)\n",
    "    mse_fold.append(mse)\n",
    "    rmse_fold.append(sqrt(mse))\n",
    "    smase_fold.append(seasonal_MASE(test_nights,tc_future_forecast))\n",
    "\n",
    "print('MAE:')\n",
    "print(mae_fold)    \n",
    "print('MSE:')\n",
    "print(mse_fold)\n",
    "print('RMSE:')\n",
    "print(rmse_fold)\n",
    "print('SMASE:')\n",
    "print(smase_fold)\n"
   ]
  }
 ],
 "metadata": {
  "kernelspec": {
   "display_name": "Python 3",
   "language": "python",
   "name": "python3"
  },
  "language_info": {
   "codemirror_mode": {
    "name": "ipython",
    "version": 3
   },
   "file_extension": ".py",
   "mimetype": "text/x-python",
   "name": "python",
   "nbconvert_exporter": "python",
   "pygments_lexer": "ipython3",
   "version": "3.6.5"
  }
 },
 "nbformat": 4,
 "nbformat_minor": 2
}
