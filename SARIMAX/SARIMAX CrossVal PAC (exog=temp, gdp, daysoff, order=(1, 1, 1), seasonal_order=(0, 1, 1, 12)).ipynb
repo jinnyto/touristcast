{
 "cells": [
  {
   "cell_type": "code",
   "execution_count": 1,
   "metadata": {},
   "outputs": [],
   "source": [
    "import pandas as pd\n",
    "import numpy as np\n",
    "import datetime \n",
    "import matplotlib.pyplot as plt\n",
    "import pyramid as pm\n",
    "%matplotlib inline\n",
    "from statsmodels.tsa.seasonal import seasonal_decompose\n",
    "from sklearn.metrics import mean_absolute_error\n",
    "from sklearn.metrics import mean_squared_error\n",
    "from math import sqrt\n",
    "from pyramid.arima import auto_arima"
   ]
  },
  {
   "cell_type": "code",
   "execution_count": 2,
   "metadata": {},
   "outputs": [],
   "source": [
    "nights = pd.read_csv('/Users/jinny/Documents/touristcast/datasets/nights_2010-2017.csv', index_col='date', parse_dates=['date'], \n",
    "                          usecols=[*range(1, 15)])\n",
    "temp = pd.read_csv('/Users/jinny/Documents/touristcast/datasets/avgtemp_2010-2017.csv',parse_dates=['date'],index_col='date',usecols=[*range(1, 15)])\n",
    "daysoff = pd.read_csv('/Users/jinny/Documents/touristcast/datasets/daysoff_2010-2017.csv',parse_dates=['date'],index_col='date',usecols=['date','daysoff'])\n",
    "gdp = pd.read_csv('/Users/jinny/Documents/touristcast/datasets/regionalGDP_2010-2015.csv',parse_dates=['date'],index_col='date',usecols=[*range(1, 15)])\n",
    "\n",
    "# df exog\n",
    "exog_PAC = pd.concat([nights, temp, daysoff, gdp], axis=1)\n",
    "exog_PAC = exog_PAC.dropna()\n",
    "exog_PAC = exog_PAC[['avgtemp_PAC','gdp_PAC','daysoff']]\n",
    "\n",
    "# df with training nights  \n",
    "nights_PAC = nights[['nights_PAC']][('2010-01-01' <= nights.index) & (nights.index < '2016-01-01')]\n",
    "\n",
    "# df with testing nights\n",
    "truth = nights[['nights_PAC']][('2016-01-01' <= nights.index) & (nights.index < '2018-01-01')]"
   ]
  },
  {
   "cell_type": "code",
   "execution_count": 3,
   "metadata": {},
   "outputs": [
    {
     "name": "stdout",
     "output_type": "stream",
     "text": [
      "Fit ARIMA: order=(0, 1, 0) seasonal_order=(1, 1, 1, 12); AIC=701.745, BIC=716.287, Fit time=0.834 seconds\n",
      "Fit ARIMA: order=(0, 1, 0) seasonal_order=(0, 1, 0, 12); AIC=709.629, BIC=720.017, Fit time=0.077 seconds\n",
      "Fit ARIMA: order=(1, 1, 0) seasonal_order=(1, 1, 0, 12); AIC=699.323, BIC=713.865, Fit time=0.645 seconds\n",
      "Fit ARIMA: order=(0, 1, 1) seasonal_order=(0, 1, 1, 12); AIC=687.749, BIC=702.292, Fit time=1.096 seconds\n",
      "Fit ARIMA: order=(0, 1, 1) seasonal_order=(1, 1, 1, 12); AIC=689.126, BIC=705.746, Fit time=1.083 seconds\n",
      "Fit ARIMA: order=(0, 1, 1) seasonal_order=(0, 1, 0, 12); AIC=698.393, BIC=710.858, Fit time=0.340 seconds\n",
      "Fit ARIMA: order=(0, 1, 1) seasonal_order=(0, 1, 2, 12); AIC=nan, BIC=nan, Fit time=nan seconds\n",
      "Fit ARIMA: order=(0, 1, 1) seasonal_order=(1, 1, 2, 12); AIC=nan, BIC=nan, Fit time=nan seconds\n",
      "Fit ARIMA: order=(1, 1, 1) seasonal_order=(0, 1, 1, 12); AIC=686.361, BIC=702.982, Fit time=1.330 seconds\n",
      "Fit ARIMA: order=(1, 1, 0) seasonal_order=(0, 1, 1, 12); AIC=694.767, BIC=709.310, Fit time=0.661 seconds\n",
      "Fit ARIMA: order=(1, 1, 2) seasonal_order=(0, 1, 1, 12); AIC=691.830, BIC=710.527, Fit time=0.897 seconds\n",
      "Fit ARIMA: order=(0, 1, 0) seasonal_order=(0, 1, 1, 12); AIC=702.089, BIC=714.554, Fit time=0.426 seconds\n",
      "Fit ARIMA: order=(2, 1, 2) seasonal_order=(0, 1, 1, 12); AIC=694.270, BIC=715.046, Fit time=1.014 seconds\n",
      "Fit ARIMA: order=(1, 1, 1) seasonal_order=(1, 1, 1, 12); AIC=687.842, BIC=706.540, Fit time=1.373 seconds\n",
      "Fit ARIMA: order=(1, 1, 1) seasonal_order=(0, 1, 0, 12); AIC=696.505, BIC=711.048, Fit time=0.572 seconds\n",
      "Fit ARIMA: order=(1, 1, 1) seasonal_order=(0, 1, 2, 12); AIC=nan, BIC=nan, Fit time=nan seconds\n",
      "Fit ARIMA: order=(1, 1, 1) seasonal_order=(1, 1, 2, 12); AIC=nan, BIC=nan, Fit time=nan seconds\n",
      "Fit ARIMA: order=(2, 1, 1) seasonal_order=(0, 1, 1, 12); AIC=688.043, BIC=706.741, Fit time=0.980 seconds\n",
      "Total fit time: 11.752 seconds\n"
     ]
    }
   ],
   "source": [
    "best_sarimax_PAC = auto_arima(y=nights_PAC, exogenous=exog_PAC, start_p=0, start_q=0, max_p=3, max_q=3, m=12,\n",
    "                    start_P=1, seasonal=True, d=1, D=1, trace=True,\n",
    "                    error_action='ignore', \n",
    "                    suppress_warnings=True,  \n",
    "                    stepwise=True)"
   ]
  },
  {
   "cell_type": "code",
   "execution_count": 4,
   "metadata": {},
   "outputs": [
    {
     "data": {
      "text/plain": [
       "array([-3.72584990e-01, -1.85617590e-01,  2.16878419e-02,  2.54127102e+01,\n",
       "        3.03973865e-01, -9.99496301e-01, -6.66313816e-01,  4.06224335e+03])"
      ]
     },
     "execution_count": 4,
     "metadata": {},
     "output_type": "execute_result"
    }
   ],
   "source": [
    "best_sarimax_PAC.params()"
   ]
  },
  {
   "cell_type": "code",
   "execution_count": 5,
   "metadata": {},
   "outputs": [
    {
     "data": {
      "text/html": [
       "<table class=\"simpletable\">\n",
       "<caption>Statespace Model Results</caption>\n",
       "<tr>\n",
       "  <th>Dep. Variable:</th>                  <td>y</td>               <th>  No. Observations:  </th>    <td>72</td>   \n",
       "</tr>\n",
       "<tr>\n",
       "  <th>Model:</th>           <td>SARIMAX(1, 1, 1)x(0, 1, 1, 12)</td> <th>  Log Likelihood     </th> <td>-335.181</td>\n",
       "</tr>\n",
       "<tr>\n",
       "  <th>Date:</th>                   <td>Wed, 05 Sep 2018</td>        <th>  AIC                </th>  <td>686.361</td>\n",
       "</tr>\n",
       "<tr>\n",
       "  <th>Time:</th>                       <td>12:38:42</td>            <th>  BIC                </th>  <td>702.982</td>\n",
       "</tr>\n",
       "<tr>\n",
       "  <th>Sample:</th>                         <td>0</td>               <th>  HQIC               </th>  <td>692.849</td>\n",
       "</tr>\n",
       "<tr>\n",
       "  <th></th>                              <td> - 72</td>             <th>                     </th>     <td> </td>   \n",
       "</tr>\n",
       "<tr>\n",
       "  <th>Covariance Type:</th>               <td>opg</td>              <th>                     </th>     <td> </td>   \n",
       "</tr>\n",
       "</table>\n",
       "<table class=\"simpletable\">\n",
       "<tr>\n",
       "      <td></td>         <th>coef</th>     <th>std err</th>      <th>z</th>      <th>P>|z|</th>  <th>[0.025</th>    <th>0.975]</th>  \n",
       "</tr>\n",
       "<tr>\n",
       "  <th>intercept</th> <td>   -0.3726</td> <td>    0.779</td> <td>   -0.479</td> <td> 0.632</td> <td>   -1.899</td> <td>    1.154</td>\n",
       "</tr>\n",
       "<tr>\n",
       "  <th>x1</th>        <td>   -0.1856</td> <td>    6.272</td> <td>   -0.030</td> <td> 0.976</td> <td>  -12.479</td> <td>   12.107</td>\n",
       "</tr>\n",
       "<tr>\n",
       "  <th>x2</th>        <td>    0.0217</td> <td>    0.013</td> <td>    1.650</td> <td> 0.099</td> <td>   -0.004</td> <td>    0.047</td>\n",
       "</tr>\n",
       "<tr>\n",
       "  <th>x3</th>        <td>   25.4127</td> <td>    8.487</td> <td>    2.994</td> <td> 0.003</td> <td>    8.778</td> <td>   42.047</td>\n",
       "</tr>\n",
       "<tr>\n",
       "  <th>ar.L1</th>     <td>    0.3040</td> <td>    0.174</td> <td>    1.750</td> <td> 0.080</td> <td>   -0.037</td> <td>    0.644</td>\n",
       "</tr>\n",
       "<tr>\n",
       "  <th>ma.L1</th>     <td>   -0.9995</td> <td>   16.065</td> <td>   -0.062</td> <td> 0.950</td> <td>  -32.487</td> <td>   30.488</td>\n",
       "</tr>\n",
       "<tr>\n",
       "  <th>ma.S.L12</th>  <td>   -0.6663</td> <td>    0.296</td> <td>   -2.255</td> <td> 0.024</td> <td>   -1.245</td> <td>   -0.087</td>\n",
       "</tr>\n",
       "<tr>\n",
       "  <th>sigma2</th>    <td> 4062.2433</td> <td> 6.54e+04</td> <td>    0.062</td> <td> 0.950</td> <td>-1.24e+05</td> <td> 1.32e+05</td>\n",
       "</tr>\n",
       "</table>\n",
       "<table class=\"simpletable\">\n",
       "<tr>\n",
       "  <th>Ljung-Box (Q):</th>          <td>30.68</td> <th>  Jarque-Bera (JB):  </th> <td>7.10</td> \n",
       "</tr>\n",
       "<tr>\n",
       "  <th>Prob(Q):</th>                <td>0.86</td>  <th>  Prob(JB):          </th> <td>0.03</td> \n",
       "</tr>\n",
       "<tr>\n",
       "  <th>Heteroskedasticity (H):</th> <td>1.37</td>  <th>  Skew:              </th> <td>-0.41</td>\n",
       "</tr>\n",
       "<tr>\n",
       "  <th>Prob(H) (two-sided):</th>    <td>0.49</td>  <th>  Kurtosis:          </th> <td>4.49</td> \n",
       "</tr>\n",
       "</table><br/><br/>Warnings:<br/>[1] Covariance matrix calculated using the outer product of gradients (complex-step)."
      ],
      "text/plain": [
       "<class 'statsmodels.iolib.summary.Summary'>\n",
       "\"\"\"\n",
       "                                 Statespace Model Results                                 \n",
       "==========================================================================================\n",
       "Dep. Variable:                                  y   No. Observations:                   72\n",
       "Model:             SARIMAX(1, 1, 1)x(0, 1, 1, 12)   Log Likelihood                -335.181\n",
       "Date:                            Wed, 05 Sep 2018   AIC                            686.361\n",
       "Time:                                    12:38:42   BIC                            702.982\n",
       "Sample:                                         0   HQIC                           692.849\n",
       "                                             - 72                                         \n",
       "Covariance Type:                              opg                                         \n",
       "==============================================================================\n",
       "                 coef    std err          z      P>|z|      [0.025      0.975]\n",
       "------------------------------------------------------------------------------\n",
       "intercept     -0.3726      0.779     -0.479      0.632      -1.899       1.154\n",
       "x1            -0.1856      6.272     -0.030      0.976     -12.479      12.107\n",
       "x2             0.0217      0.013      1.650      0.099      -0.004       0.047\n",
       "x3            25.4127      8.487      2.994      0.003       8.778      42.047\n",
       "ar.L1          0.3040      0.174      1.750      0.080      -0.037       0.644\n",
       "ma.L1         -0.9995     16.065     -0.062      0.950     -32.487      30.488\n",
       "ma.S.L12      -0.6663      0.296     -2.255      0.024      -1.245      -0.087\n",
       "sigma2      4062.2433   6.54e+04      0.062      0.950   -1.24e+05    1.32e+05\n",
       "===================================================================================\n",
       "Ljung-Box (Q):                       30.68   Jarque-Bera (JB):                 7.10\n",
       "Prob(Q):                              0.86   Prob(JB):                         0.03\n",
       "Heteroskedasticity (H):               1.37   Skew:                            -0.41\n",
       "Prob(H) (two-sided):                  0.49   Kurtosis:                         4.49\n",
       "===================================================================================\n",
       "\n",
       "Warnings:\n",
       "[1] Covariance matrix calculated using the outer product of gradients (complex-step).\n",
       "\"\"\""
      ]
     },
     "execution_count": 5,
     "metadata": {},
     "output_type": "execute_result"
    }
   ],
   "source": [
    "best_sarimax_PAC.summary()"
   ]
  },
  {
   "cell_type": "markdown",
   "metadata": {},
   "source": [
    "#### Calculating the minimum amount of observations for a set of orders/seasonal orders to work"
   ]
  },
  {
   "cell_type": "code",
   "execution_count": 6,
   "metadata": {},
   "outputs": [
    {
     "data": {
      "text/plain": [
       "4"
      ]
     },
     "execution_count": 6,
     "metadata": {},
     "output_type": "execute_result"
    }
   ],
   "source": [
    "# https://github.com/statsmodels/statsmodels/issues/4465#issuecomment-381004987\n",
    "p,d,q,P,D,Q,s = 1,1,1,0,1,1,12\n",
    "min_observations = d + D*s + max([3*q + 1, 3*Q*s + 1, p, P*s]) + 1\n",
    "min_observations // 12"
   ]
  },
  {
   "cell_type": "markdown",
   "metadata": {},
   "source": [
    "#### SARIMAX Cross Val "
   ]
  },
  {
   "cell_type": "code",
   "execution_count": 20,
   "metadata": {},
   "outputs": [
    {
     "name": "stdout",
     "output_type": "stream",
     "text": [
      "Years of training data: ['2010']\n",
      "Predicted year: 2011-01-01\n",
      "RMSE test: 328.5735703340593\n",
      "MAE test: 312.7678991626963\n",
      "-------\n"
     ]
    },
    {
     "name": "stderr",
     "output_type": "stream",
     "text": [
      "/Users/jinny/anaconda3/lib/python3.6/site-packages/statsmodels-0.10.0-py3.6-macosx-10.7-x86_64.egg/statsmodels/base/model.py:508: ConvergenceWarning: Maximum Likelihood optimization failed to converge. Check mle_retvals\n",
      "  \"Check mle_retvals\", ConvergenceWarning)\n"
     ]
    },
    {
     "name": "stdout",
     "output_type": "stream",
     "text": [
      "Years of training data: ['2010', '2011']\n",
      "Predicted year: 2012-01-01\n",
      "RMSE test: 245.76761197358402\n",
      "MAE test: 221.80481859114775\n",
      "-------\n",
      "Years of training data: ['2010', '2011', '2012']\n",
      "Predicted year: 2013-01-01\n",
      "RMSE test: 123.01759900340302\n",
      "MAE test: 103.16789011722273\n",
      "-------\n",
      "Years of training data: ['2010', '2011', '2012', '2013']\n",
      "Predicted year: 2014-01-01\n",
      "RMSE test: 89.73044647039566\n",
      "MAE test: 70.91650482137509\n",
      "-------\n",
      "Years of training data: ['2010', '2011', '2012', '2013', '2014']\n",
      "Predicted year: 2015-01-01\n",
      "RMSE test: 118.3617376260508\n",
      "MAE test: 111.6513724827369\n",
      "-------\n",
      "Years of training data: ['2010', '2011', '2012', '2013', '2014', '2015']\n",
      "Predicted year: 2016-01-01\n",
      "RMSE test: 105.1027466509721\n",
      "MAE test: 82.3526590341266\n",
      "-------\n",
      "Years of training data: ['2010', '2011', '2012', '2013', '2014', '2015', '2016']\n",
      "Predicted year: 2017-01-01\n",
      "RMSE test: 144.49859293423174\n",
      "MAE test: 118.04633366285445\n",
      "-------\n",
      "Avg MAE for SARIMAX CrossVal: 118.04633366285445\n",
      "Avg RMSE for SARIMAX CrossVal: 144.49859293423174\n"
     ]
    }
   ],
   "source": [
    "data = nights[['nights_PAC']] # dataframe-type dataset\n",
    "exog = exog_PAC\n",
    "\n",
    "all_mae = []\n",
    "all_rmse = []\n",
    "\n",
    "for index in range(2011,2018):\n",
    "    start = '2010-01-01'     # date as string\n",
    "    end = str(index)+'-01-01'\n",
    "    predict = str(index+1)+'-01-01'\n",
    "\n",
    "    train = (start <= data.index) & (data.index < end) \n",
    "    test = (end <= data.index) & (data.index < predict)\n",
    "\n",
    "    sarimax_model = pm.arima.ARIMA(order=(1, 1, 1), seasonal_order=(0, 1, 1, 12)\n",
    "                                   #,start_params=[0,0,0,0,0,0]\n",
    "                                   #,start_params=best_sarimax_PAC.params()\n",
    "                                   ,start_params=[-2.13823161e+00, 2.16036632e-01, -9.99103160e-01, -3.82650803e-01,6.38041336e+03]\n",
    "                                  )\n",
    "    \n",
    "        \n",
    "    res = sarimax_model.fit(y=data[train],\n",
    "                       exog=exog[(start <= exog.index) & (exog.index < end)])\n",
    "    \n",
    "    #print('params', sarimax_model.params())\n",
    "    \n",
    "#     start_str = data[train].index[0].strftime('%Y-%m-%d')\n",
    "#     end_str = data[train].index[-1].strftime('%Y-%m-%d')  \n",
    "#     print(start_str, end_str)\n",
    "    \n",
    "    forecast = sarimax_model.predict(n_periods=12, exogenous=exog[(end <= exog.index) & (exog.index < predict)])\n",
    "    \n",
    "    # --------Calculated error measures for each CV step----------\n",
    "    rmse_test = np.sqrt(mean_squared_error(data[test], forecast))\n",
    "    mae_test = mean_absolute_error(data[test], forecast)\n",
    "    \n",
    "    all_rmse.append(rmse_test)\n",
    "    all_mae.append(mae_test)\n",
    "    \n",
    "    print('Years of training data:', data[train].index.strftime('%Y').unique().tolist())\n",
    "    print('Predicted year:', end)\n",
    "    print('RMSE test:', rmse_test)\n",
    "    print('MAE test:', mae_test)\n",
    "    print('-------')\n",
    "\n",
    "print('Avg MAE for SARIMAX CrossVal:', np.mean(mae_test))\n",
    "print('Avg RMSE for SARIMAX CrossVal:', np.mean(rmse_test))"
   ]
  },
  {
   "cell_type": "code",
   "execution_count": null,
   "metadata": {},
   "outputs": [],
   "source": []
  }
 ],
 "metadata": {
  "kernelspec": {
   "display_name": "Python 3",
   "language": "python",
   "name": "python3"
  },
  "language_info": {
   "codemirror_mode": {
    "name": "ipython",
    "version": 3
   },
   "file_extension": ".py",
   "mimetype": "text/x-python",
   "name": "python",
   "nbconvert_exporter": "python",
   "pygments_lexer": "ipython3",
   "version": "3.6.5"
  }
 },
 "nbformat": 4,
 "nbformat_minor": 2
}
