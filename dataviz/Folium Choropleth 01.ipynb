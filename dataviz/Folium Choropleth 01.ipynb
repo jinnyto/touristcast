{
 "cells": [
  {
   "cell_type": "code",
   "execution_count": 7,
   "metadata": {},
   "outputs": [],
   "source": [
    "#Data access, data processing\n",
    "import json\n",
    "import pandas as pd\n",
    "import numpy as np\n",
    "import os\n",
    "from sklearn.preprocessing import MinMaxScaler\n",
    "from datetime import datetime, timedelta\n",
    "#Choropleth\n",
    "from folium import FeatureGroup, LayerControl, Map, Marker\n",
    "from folium.plugins import HeatMap\n",
    "from folium import plugins\n",
    "with open('region.json') as f:\n",
    "     regions = json.load(f)"
   ]
  },
  {
   "cell_type": "code",
   "execution_count": 8,
   "metadata": {},
   "outputs": [],
   "source": [
    "ll = pd.read_csv('tc.csv')\n",
    "ll.sort_values(by=['Region'],inplace=True)\n",
    "dn = pd.read_csv('../datasets/nights_2010-2017.csv',parse_dates=['date'], index_col='date',usecols=[*range(1, 15)])\n",
    "start_date,end_date='2017-01-01','2018-01-01'\n",
    "years = dn[(dn.index>=start_date)&(dn.index<end_date)]\n",
    "years = years.T\n",
    "min_max_scaler = MinMaxScaler(feature_range=(0, 1))\n",
    "years = pd.DataFrame(min_max_scaler.fit_transform(years),columns=years.columns, index=years.index) \n",
    "years.sort_index(inplace=True)\n",
    "years.index = ll.Region\n",
    "years.reset_index()\n",
    "years = years.T\n",
    "years.columns = [str(col) + '_M' for col in years.columns]\n",
    "for cols in years.columns:\n",
    "    region = cols.replace('_M', '')\n",
    "    years[region+'_La'] = ll.loc[ll['Region'] == region, 'Latitude'].iloc[0]\n",
    "    years[region+'_Lo'] = ll.loc[ll['Region'] == region, 'Longitude'].iloc[0]\n",
    "years = years.reindex(sorted(years.columns), axis=1)\n",
    "time_index = years.index.to_series().apply(lambda x: datetime.strftime(x, '%Y-%m-%d')).tolist()\n",
    "data = (np.array(years).reshape(-1,3))"
   ]
  },
  {
   "cell_type": "code",
   "execution_count": 9,
   "metadata": {
    "scrolled": true
   },
   "outputs": [],
   "source": [
    "region_geo = os.path.join('.', 'region.json')\n",
    "for idx,month  in  enumerate(time_index):\n",
    "    df = pd.DataFrame(data[13*idx:(13*idx)+13],index=ll.Region, columns=['Latitude','Longitude','Magnitude'])\n",
    "    df['Code'] = ll['Code'].values\n",
    "    df['Code'] = df['Code'].astype(str)\n",
    "    m = Map(location=[46.9, 2.], zoom_start=6)\n",
    "    m.choropleth(\n",
    "     name='choropleth',\n",
    "     geo_data=region_geo,\n",
    "     data=df,\n",
    "     columns=['Code', 'Magnitude'],\n",
    "     key_on='feature.properties.code',\n",
    "     fill_color='YlOrRd',\n",
    "     fill_opacity=0.7,\n",
    "     line_opacity=0.2,\n",
    "     reset = True,\n",
    "     legend_name='Demande Touristique'\n",
    "    ) \n",
    "    LayerControl().add_to(m)\n",
    "    m.save('choropleth-'+str(month)+'.html')\n"
   ]
  },
  {
   "cell_type": "code",
   "execution_count": null,
   "metadata": {
    "scrolled": false
   },
   "outputs": [],
   "source": [
    "import os\n",
    "import time\n",
    "from selenium import webdriver\n",
    "\n",
    "delay=5\n",
    "for idx, month  in  enumerate(time_index):\n",
    "    fn = 'choropleth-'+month+'.html'\n",
    "    tmpurl ='file://{path}/{mapfile}'.format(path=os.getcwd(),mapfile=fn)\n",
    "    browser = webdriver.Firefox()\n",
    "    browser.get(tmpurl)\n",
    "    time.sleep(delay)\n",
    "    browser.save_screenshot(month+'.png')\n",
    "    browser.quit()"
   ]
  }
 ],
 "metadata": {
  "kernelspec": {
   "display_name": "Python 3",
   "language": "python",
   "name": "python3"
  },
  "language_info": {
   "codemirror_mode": {
    "name": "ipython",
    "version": 3
   },
   "file_extension": ".py",
   "mimetype": "text/x-python",
   "name": "python",
   "nbconvert_exporter": "python",
   "pygments_lexer": "ipython3",
   "version": "3.6.5"
  }
 },
 "nbformat": 4,
 "nbformat_minor": 2
}
